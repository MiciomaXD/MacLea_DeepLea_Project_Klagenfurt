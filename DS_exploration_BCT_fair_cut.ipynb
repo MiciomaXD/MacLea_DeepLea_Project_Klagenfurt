{
 "cells": [
  {
   "cell_type": "markdown",
   "metadata": {},
   "source": [
    "# Exploring the datasets"
   ]
  },
  {
   "cell_type": "code",
   "execution_count": 1,
   "metadata": {},
   "outputs": [],
   "source": [
    "import pandas as pd\n",
    "import matplotlib.pyplot as plt\n",
    "import os\n",
    "os.environ[\"KMP_DUPLICATE_LIB_OK\"]=\"TRUE\"\n",
    "import torch\n",
    "import numpy as np"
   ]
  },
  {
   "attachments": {},
   "cell_type": "markdown",
   "metadata": {},
   "source": [
    "## Fix data and unify"
   ]
  },
  {
   "cell_type": "code",
   "execution_count": 2,
   "metadata": {},
   "outputs": [],
   "source": [
    "dataset_folder = ['.\\\\datasets\\\\kaggle DDoS Dataset\\\\ddos_balanced']\n",
    "mem_limit = 1_000_000"
   ]
  },
  {
   "cell_type": "code",
   "execution_count": 3,
   "metadata": {},
   "outputs": [],
   "source": [
    "def serch_csvs_in_folder(paths: list):\n",
    "    csv_files = []\n",
    "    for p in paths:\n",
    "        for dirname, _, filenames in os.walk(p):\n",
    "            for filename in filenames:\n",
    "                csv_file = os.path.join(dirname, filename)\n",
    "                csv_files.append(csv_file)\n",
    "    \n",
    "    return csv_files"
   ]
  },
  {
   "cell_type": "code",
   "execution_count": 4,
   "metadata": {},
   "outputs": [
    {
     "name": "stdout",
     "output_type": "stream",
     "text": [
      "Found 1 files!\n"
     ]
    },
    {
     "data": {
      "text/plain": [
       "['.\\\\datasets\\\\kaggle DDoS Dataset\\\\ddos_balanced\\\\final_dataset.csv']"
      ]
     },
     "execution_count": 4,
     "metadata": {},
     "output_type": "execute_result"
    }
   ],
   "source": [
    "csv_files=serch_csvs_in_folder(dataset_folder)\n",
    "print('Found', len(csv_files), 'files!')\n",
    "csv_files"
   ]
  },
  {
   "cell_type": "code",
   "execution_count": 5,
   "metadata": {},
   "outputs": [
    {
     "name": "stdout",
     "output_type": "stream",
     "text": [
      "['6.328099204227328 GB']\n"
     ]
    }
   ],
   "source": [
    "sizes = [str(os.path.getsize(file)/(2.0**30)) + \" GB\" for file in csv_files]\n",
    "print(sizes)"
   ]
  },
  {
   "cell_type": "code",
   "execution_count": 19,
   "metadata": {},
   "outputs": [],
   "source": [
    "def fix_data(chunk):\n",
    "    c = chunk.copy() #duplicate chunk to edit it\n",
    "\n",
    "    c.columns = c.columns.str.strip() #strip spaces from col names\n",
    "\n",
    "    #drop na and +-inf values\n",
    "    c.replace([np.inf, -np.inf], np.nan, inplace=True)\n",
    "    c.dropna(inplace=True)\n",
    "\n",
    "    #c = c[c['Label'] != 'WebDDoS'] #drop webddos class\n",
    "    #c = c[c['Label'] != 'Portmap'] #drop portmap class\n",
    "\n",
    "    #drop useless cols\n",
    "    c.drop(['Unnamed: 0','Timestamp','Src IP',\n",
    "            'Flow ID','Dst IP'], axis=1, inplace=True)\n",
    "\n",
    "    #beautify labels (cut and rename some stuff)\n",
    "    #c['Label']=c['Label'].str.replace('DrDoS_', '')\n",
    "    #c['Label']=c['Label'].str.replace('UDP-lag', 'UDPLag')\n",
    "\n",
    "    return c"
   ]
  },
  {
   "cell_type": "code",
   "execution_count": 22,
   "metadata": {},
   "outputs": [],
   "source": [
    "only_header = pd.read_csv(csv_files[0], nrows=0)\n",
    "only_header.columns=only_header.columns.str.strip()\n",
    "only_header.drop(['Unnamed: 0','Timestamp','Src IP',\n",
    "            'Flow ID','Dst IP'], axis=1, inplace=True)\n",
    "only_header.to_csv('.\\\\datasets\\\\kaggle DDoS Dataset\\\\CORRECT_CUT\\\\unified_jumbo.csv', mode='w', index=False, header=True) #copy only header to final jumbo csv\n",
    "\n",
    "for ds in csv_files: #for every dataset file\n",
    "    with pd.read_csv(ds, chunksize=mem_limit) as reader: #that has to be processed in chunks\n",
    "        for chunk in reader: #for every chunk\n",
    "            c = fix_data(chunk) #tidy up the dataset\n",
    "            c.to_csv('.\\\\datasets\\\\kaggle DDoS Dataset\\\\CORRECT_CUT\\\\unified_jumbo.csv', mode='a', index=False, header=False)\n"
   ]
  },
  {
   "attachments": {},
   "cell_type": "markdown",
   "metadata": {},
   "source": [
    "___\n",
    "\n",
    "## Fair balance"
   ]
  },
  {
   "cell_type": "code",
   "execution_count": 6,
   "metadata": {},
   "outputs": [],
   "source": [
    "def get_class_distrib(datasets):\n",
    "    classes_distr = {}\n",
    "    for ds in datasets:\n",
    "        with pd.read_csv(ds, chunksize=mem_limit) as reader: #that has to be processed in chunks\n",
    "            for c in reader:\n",
    "                labels_count = c['Label'].value_counts()\n",
    "\n",
    "                for class_, count in labels_count.items():\n",
    "                    if class_ in classes_distr.keys():\n",
    "                        classes_distr[class_] += count\n",
    "                    else:\n",
    "                        classes_distr[class_] = count\n",
    "\n",
    "    return classes_distr"
   ]
  },
  {
   "cell_type": "code",
   "execution_count": 24,
   "metadata": {},
   "outputs": [
    {
     "name": "stdout",
     "output_type": "stream",
     "text": [
      "{'ddos': 6472617, 'Benign': 6274230}\n",
      "Stored 'classes_distr_precut2' (dict)\n"
     ]
    }
   ],
   "source": [
    "classes_distr_precut2 = get_class_distrib(['.\\\\datasets\\\\kaggle DDoS Dataset\\\\CORRECT_CUT\\\\unified_jumbo.csv'])\n",
    "print(classes_distr_precut2)\n",
    "%store classes_distr_precut2"
   ]
  },
  {
   "cell_type": "code",
   "execution_count": 7,
   "metadata": {},
   "outputs": [
    {
     "data": {
      "image/png": "[encoded data removed]",
      "text/plain": [
       "<Figure size 640x480 with 1 Axes>"
      ]
     },
     "metadata": {},
     "output_type": "display_data"
    }
   ],
   "source": [
    "%store -r classes_distr_precut2\n",
    "plt.bar(classes_distr_precut2.keys(), classes_distr_precut2.values())\n",
    "plt.show()"
   ]
  },
  {
   "cell_type": "code",
   "execution_count": 26,
   "metadata": {},
   "outputs": [
    {
     "name": "stdout",
     "output_type": "stream",
     "text": [
      "The class that has less items is Benign with 6274230 items.\n"
     ]
    }
   ],
   "source": [
    "min_val = min(classes_distr_precut2.values())\n",
    "smallest_class = [k for k, v in classes_distr_precut2.items() if v == min_val][0]\n",
    "print('The class that has less items is', smallest_class, 'with', min_val, 'items.')"
   ]
  },
  {
   "cell_type": "code",
   "execution_count": 27,
   "metadata": {},
   "outputs": [],
   "source": [
    "def init_one_class_dataset_storage(where, class_, cols):\n",
    "    class_dir = os.path.join(where, class_)\n",
    "    os.mkdir(class_dir)\n",
    "\n",
    "    only_header=pd.DataFrame(columns=cols)\n",
    "    only_header.to_csv(os.path.join(class_dir, class_+'.csv'), mode='w', index=False, header=True)\n",
    "\n",
    "    return os.path.join(class_dir, class_+'.csv')"
   ]
  },
  {
   "cell_type": "code",
   "execution_count": 28,
   "metadata": {},
   "outputs": [],
   "source": [
    "def check_if_class_exists(classes_folder, class_):\n",
    "    class_dir = os.path.join(classes_folder, class_)\n",
    "    if os.path.exists(class_dir):\n",
    "        return True, os.path.join(class_dir, class_+'.csv')\n",
    "    else:\n",
    "        return False, ''"
   ]
  },
  {
   "cell_type": "code",
   "execution_count": 29,
   "metadata": {},
   "outputs": [],
   "source": [
    "def extract_class_from_chunk(chunk, class_):\n",
    "    return chunk[chunk['Label'] == class_]"
   ]
  },
  {
   "cell_type": "code",
   "execution_count": 30,
   "metadata": {},
   "outputs": [],
   "source": [
    "def separate_classes(datasets):\n",
    "    for ds in datasets:\n",
    "        with pd.read_csv(ds, chunksize=mem_limit) as reader:\n",
    "            for c in reader:\n",
    "                classes_in_this_chunk = c['Label'].unique()\n",
    "\n",
    "                for unique_label in classes_in_this_chunk:\n",
    "                    to_save = extract_class_from_chunk(c, unique_label)\n",
    "\n",
    "                    response, csv_path = check_if_class_exists('.\\\\datasets\\\\kaggle DDoS Dataset\\\\CORRECT_CUT\\\\classes', unique_label)\n",
    "                    if not response:\n",
    "                        csv_path = init_one_class_dataset_storage('.\\\\datasets\\\\kaggle DDoS Dataset\\\\CORRECT_CUT\\\\classes', unique_label, to_save.columns.tolist()) \n",
    "\n",
    "                    to_save.to_csv(csv_path, mode='a', index=False, header=False)"
   ]
  },
  {
   "cell_type": "code",
   "execution_count": 31,
   "metadata": {},
   "outputs": [],
   "source": [
    "separate_classes(['.\\\\datasets\\\\kaggle DDoS Dataset\\\\CORRECT_CUT\\\\unified_jumbo.csv'])"
   ]
  },
  {
   "cell_type": "code",
   "execution_count": 32,
   "metadata": {},
   "outputs": [],
   "source": [
    "import random\n",
    "\n",
    "def fair_cut(cut_to, one_class_csvs, classes_distr):\n",
    "\n",
    "    only_header = pd.read_csv(one_class_csvs[0], nrows=0)\n",
    "    only_header.to_csv('.\\\\datasets\\\\kaggle DDoS Dataset\\\\CORRECT_CUT\\\\fair_cut.csv', mode='w', index=False, header=True)\n",
    "\n",
    "    for path in one_class_csvs:\n",
    "        class_name = os.path.dirname(path).split('\\\\')[-1]\n",
    "\n",
    "        rows_to_keep = random.sample(range(classes_distr[class_name]), cut_to)\n",
    "        rows_to_keep.sort()\n",
    "    \n",
    "        with pd.read_csv(path, chunksize=mem_limit) as reader:\n",
    "            for c in reader:\n",
    "                    to_save = c.copy()\n",
    "                    to_save = to_save[to_save.index.isin(rows_to_keep)]\n",
    "\n",
    "                    to_save.to_csv('.\\\\datasets\\\\kaggle DDoS Dataset\\\\CORRECT_CUT\\\\fair_cut.csv', mode='a', index=False, header=False)"
   ]
  },
  {
   "cell_type": "code",
   "execution_count": 33,
   "metadata": {},
   "outputs": [],
   "source": [
    "fair_cut(min_val, serch_csvs_in_folder(['.\\\\datasets\\\\kaggle DDoS Dataset\\\\CORRECT_CUT\\\\classes']), classes_distr_precut2)"
   ]
  },
  {
   "cell_type": "code",
   "execution_count": 34,
   "metadata": {},
   "outputs": [
    {
     "name": "stdout",
     "output_type": "stream",
     "text": [
      "{'Benign': 6274230, 'ddos': 6274230}\n",
      "Stored 'classes_distr_postcut2' (dict)\n"
     ]
    }
   ],
   "source": [
    "classes_distr_postcut2 = get_class_distrib(['.\\\\datasets\\\\kaggle DDoS Dataset\\\\CORRECT_CUT\\\\fair_cut.csv'])\n",
    "print(classes_distr_postcut2)\n",
    "%store classes_distr_postcut2"
   ]
  },
  {
   "cell_type": "code",
   "execution_count": 35,
   "metadata": {},
   "outputs": [
    {
     "data": {
      "image/png": "[encoded data removed]",
      "text/plain": [
       "<Figure size 640x480 with 1 Axes>"
      ]
     },
     "metadata": {},
     "output_type": "display_data"
    }
   ],
   "source": [
    "%store -r classes_distr_postcut2\n",
    "plt.bar(classes_distr_postcut2.keys(), classes_distr_postcut2.values())\n",
    "plt.show()"
   ]
  },
  {
   "cell_type": "code",
   "execution_count": 36,
   "metadata": {},
   "outputs": [
    {
     "name": "stdout",
     "output_type": "stream",
     "text": [
      "Resulting balanced dataset: 5.124122348614037 GB\n"
     ]
    }
   ],
   "source": [
    "sizes = str(os.path.getsize('.\\\\datasets\\\\kaggle DDoS Dataset\\\\CORRECT_CUT\\\\fair_cut.csv')/(2.0**30)) + \" GB\"\n",
    "print('Resulting balanced dataset:', sizes)"
   ]
  },
  {
   "attachments": {},
   "cell_type": "markdown",
   "metadata": {},
   "source": [
    "___\n",
    "## Subset of BCT"
   ]
  },
  {
   "cell_type": "code",
   "execution_count": 8,
   "metadata": {},
   "outputs": [],
   "source": [
    "import random\n",
    "\n",
    "def fair_cut_bis(cut_to, one_class_csvs, classes_distr):\n",
    "\n",
    "    only_header = pd.read_csv(one_class_csvs[0], nrows=0)\n",
    "    only_header.to_csv('.\\\\datasets\\\\kaggle DDoS Dataset\\\\CORRECT_CUT\\\\fair_cut_subset_halved.csv', mode='w', index=False, header=True)\n",
    "\n",
    "    for path in one_class_csvs:\n",
    "        class_name = os.path.dirname(path).split('\\\\')[-1]\n",
    "\n",
    "        rows_to_keep = random.sample(range(classes_distr[class_name]), cut_to)\n",
    "        rows_to_keep.sort()\n",
    "    \n",
    "        with pd.read_csv(path, chunksize=mem_limit) as reader:\n",
    "            for c in reader:\n",
    "                    to_save = c.copy()\n",
    "                    to_save = to_save[to_save.index.isin(rows_to_keep)]\n",
    "\n",
    "                    to_save.to_csv('.\\\\datasets\\\\kaggle DDoS Dataset\\\\CORRECT_CUT\\\\fair_cut_subset_halved.csv', mode='a', index=False, header=False)"
   ]
  },
  {
   "cell_type": "code",
   "execution_count": 9,
   "metadata": {},
   "outputs": [],
   "source": [
    "fair_cut_bis(2_000_000, serch_csvs_in_folder(['.\\\\datasets\\\\kaggle DDoS Dataset\\\\CORRECT_CUT\\\\classes']), classes_distr_precut2)"
   ]
  },
  {
   "cell_type": "code",
   "execution_count": 10,
   "metadata": {},
   "outputs": [
    {
     "name": "stdout",
     "output_type": "stream",
     "text": [
      "Resulting balanced dataset: 1.6334192147478461 GB\n"
     ]
    }
   ],
   "source": [
    "sizes = str(os.path.getsize('.\\\\datasets\\\\kaggle DDoS Dataset\\\\CORRECT_CUT\\\\fair_cut_subset_halved.csv')/(2.0**30)) + \" GB\"\n",
    "print('Resulting balanced dataset:', sizes)"
   ]
  },
  {
   "cell_type": "code",
   "execution_count": 11,
   "metadata": {},
   "outputs": [],
   "source": [
    "whole_df=pd.read_csv('.\\\\datasets\\\\kaggle DDoS Dataset\\\\CORRECT_CUT\\\\fair_cut_subset_halved.csv')"
   ]
  }
 ],
 "metadata": {
  "kernelspec": {
   "display_name": "Python 3.9.12 ('dl')",
   "language": "python",
   "name": "python3"
  },
  "language_info": {
   "codemirror_mode": {
    "name": "ipython",
    "version": 3
   },
   "file_extension": ".py",
   "mimetype": "text/x-python",
   "name": "python",
   "nbconvert_exporter": "python",
   "pygments_lexer": "ipython3",
   "version": "3.9.15"
  },
  "vscode": {
   "interpreter": {
    "hash": "a41f043e3f504d40bb31377d42299aba33beec9c14fb34c08aef092f76f6f6b0"
   }
  }
 },
 "nbformat": 4,
 "nbformat_minor": 2
}
