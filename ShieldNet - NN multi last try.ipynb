{
 "cells": [
  {
   "cell_type": "markdown",
   "id": "e7cbd7dd",
   "metadata": {},
   "source": [
    "# Internet traffic attack recognition (ShieldNet - multiclass)"
   ]
  },
  {
   "cell_type": "code",
   "execution_count": 1,
   "id": "84bdc1ab",
   "metadata": {},
   "outputs": [
    {
     "name": "stdout",
     "output_type": "stream",
     "text": [
      "Cuda capable device found!\n"
     ]
    }
   ],
   "source": [
    "import os\n",
    "import matplotlib.pyplot as plt\n",
    "import pandas as pd\n",
    "import numpy as np\n",
    "os.environ[\"KMP_DUPLICATE_LIB_OK\"]=\"TRUE\"\n",
    "import torch\n",
    "if not torch.cuda.is_available():\n",
    "    quit()\n",
    "else:\n",
    "    print(\"Cuda capable device found!\")"
   ]
  },
  {
   "cell_type": "markdown",
   "id": "643da8c1",
   "metadata": {},
   "source": [
    "# Get the datasets from memory\n",
    "\n",
    "Assumption: dataset has its colums' names stripped from white spaces, no NaNs or +-Inf"
   ]
  },
  {
   "cell_type": "code",
   "execution_count": 2,
   "id": "f8821c86",
   "metadata": {},
   "outputs": [],
   "source": [
    "ds_selector='.\\\\datasets\\\\CICDDoS2019\\\\cut'"
   ]
  },
  {
   "cell_type": "code",
   "execution_count": 3,
   "id": "ef0e7b3b",
   "metadata": {},
   "outputs": [
    {
     "data": {
      "text/plain": [
       "['.\\\\datasets\\\\CICDDoS2019\\\\cut\\\\dataset.csv']"
      ]
     },
     "execution_count": 3,
     "metadata": {},
     "output_type": "execute_result"
    }
   ],
   "source": [
    "csv_files = []\n",
    "for dirname, _, filenames in os.walk(ds_selector):\n",
    "    for filename in filenames:\n",
    "        csv_file = os.path.join(dirname, filename)\n",
    "        csv_files.append(csv_file)\n",
    "csv_files"
   ]
  },
  {
   "cell_type": "code",
   "execution_count": 4,
   "id": "8dcbd6d7",
   "metadata": {},
   "outputs": [
    {
     "name": "stdout",
     "output_type": "stream",
     "text": [
      "Original length of df: 1364839\n"
     ]
    }
   ],
   "source": [
    "if len(csv_files) > 1:\n",
    "    df = pd.concat([pd.read_csv(file) for file in csv_files], ignore_index=True)\n",
    "else:\n",
    "    df = pd.read_csv(csv_files[0])\n",
    "    \n",
    "df.columns = df.columns.str.strip()\n",
    "print(\"Original length of df:\", len(df))"
   ]
  },
  {
   "cell_type": "markdown",
   "id": "e909ba72",
   "metadata": {},
   "source": [
    "## Tidy up the dataset"
   ]
  },
  {
   "cell_type": "code",
   "execution_count": 5,
   "id": "b0530064",
   "metadata": {},
   "outputs": [
    {
     "name": "stdout",
     "output_type": "stream",
     "text": [
      "<class 'pandas.core.frame.DataFrame'>\n",
      "RangeIndex: 1364839 entries, 0 to 1364838\n",
      "Data columns (total 80 columns):\n",
      " #   Column                       Non-Null Count    Dtype  \n",
      "---  ------                       --------------    -----  \n",
      " 0   Destination Port             1364839 non-null  int64  \n",
      " 1   Flow Duration                1364839 non-null  int64  \n",
      " 2   Total Fwd Packets            1364839 non-null  int64  \n",
      " 3   Total Backward Packets       1364839 non-null  int64  \n",
      " 4   Total Length of Fwd Packets  1364839 non-null  float64\n",
      " 5   Total Length of Bwd Packets  1364839 non-null  float64\n",
      " 6   Fwd Packet Length Max        1364839 non-null  float64\n",
      " 7   Fwd Packet Length Min        1364839 non-null  float64\n",
      " 8   Fwd Packet Length Mean       1364839 non-null  float64\n",
      " 9   Fwd Packet Length Std        1364839 non-null  float64\n",
      " 10  Bwd Packet Length Max        1364839 non-null  float64\n",
      " 11  Bwd Packet Length Min        1364839 non-null  float64\n",
      " 12  Bwd Packet Length Mean       1364839 non-null  float64\n",
      " 13  Bwd Packet Length Std        1364839 non-null  float64\n",
      " 14  Flow Bytes/s                 1364839 non-null  float64\n",
      " 15  Flow Packets/s               1364839 non-null  float64\n",
      " 16  Flow IAT Mean                1364839 non-null  float64\n",
      " 17  Flow IAT Std                 1364839 non-null  float64\n",
      " 18  Flow IAT Max                 1364839 non-null  float64\n",
      " 19  Flow IAT Min                 1364839 non-null  float64\n",
      " 20  Fwd IAT Total                1364839 non-null  float64\n",
      " 21  Fwd IAT Mean                 1364839 non-null  float64\n",
      " 22  Fwd IAT Std                  1364839 non-null  float64\n",
      " 23  Fwd IAT Max                  1364839 non-null  float64\n",
      " 24  Fwd IAT Min                  1364839 non-null  float64\n",
      " 25  Bwd IAT Total                1364839 non-null  float64\n",
      " 26  Bwd IAT Mean                 1364839 non-null  float64\n",
      " 27  Bwd IAT Std                  1364839 non-null  float64\n",
      " 28  Bwd IAT Max                  1364839 non-null  float64\n",
      " 29  Bwd IAT Min                  1364839 non-null  float64\n",
      " 30  Fwd PSH Flags                1364839 non-null  int64  \n",
      " 31  Bwd PSH Flags                1364839 non-null  int64  \n",
      " 32  Fwd URG Flags                1364839 non-null  int64  \n",
      " 33  Bwd URG Flags                1364839 non-null  int64  \n",
      " 34  Fwd Header Length            1364839 non-null  int64  \n",
      " 35  Bwd Header Length            1364839 non-null  int64  \n",
      " 36  Fwd Packets/s                1364839 non-null  float64\n",
      " 37  Bwd Packets/s                1364839 non-null  float64\n",
      " 38  Min Packet Length            1364839 non-null  float64\n",
      " 39  Max Packet Length            1364839 non-null  float64\n",
      " 40  Packet Length Mean           1364839 non-null  float64\n",
      " 41  Packet Length Std            1364839 non-null  float64\n",
      " 42  Packet Length Variance       1364839 non-null  float64\n",
      " 43  FIN Flag Count               1364839 non-null  int64  \n",
      " 44  SYN Flag Count               1364839 non-null  int64  \n",
      " 45  RST Flag Count               1364839 non-null  int64  \n",
      " 46  PSH Flag Count               1364839 non-null  int64  \n",
      " 47  ACK Flag Count               1364839 non-null  int64  \n",
      " 48  URG Flag Count               1364839 non-null  int64  \n",
      " 49  CWE Flag Count               1364839 non-null  int64  \n",
      " 50  ECE Flag Count               1364839 non-null  int64  \n",
      " 51  Down/Up Ratio                1364839 non-null  float64\n",
      " 52  Average Packet Size          1364839 non-null  float64\n",
      " 53  Avg Fwd Segment Size         1364839 non-null  float64\n",
      " 54  Avg Bwd Segment Size         1364839 non-null  float64\n",
      " 55  Fwd Header Length.1          1364839 non-null  int64  \n",
      " 56  Fwd Avg Bytes/Bulk           1364839 non-null  int64  \n",
      " 57  Fwd Avg Packets/Bulk         1364839 non-null  int64  \n",
      " 58  Fwd Avg Bulk Rate            1364839 non-null  int64  \n",
      " 59  Bwd Avg Bytes/Bulk           1364839 non-null  int64  \n",
      " 60  Bwd Avg Packets/Bulk         1364839 non-null  int64  \n",
      " 61  Bwd Avg Bulk Rate            1364839 non-null  int64  \n",
      " 62  Subflow Fwd Packets          1364839 non-null  int64  \n",
      " 63  Subflow Fwd Bytes            1364839 non-null  int64  \n",
      " 64  Subflow Bwd Packets          1364839 non-null  int64  \n",
      " 65  Subflow Bwd Bytes            1364839 non-null  int64  \n",
      " 66  Init_Win_bytes_forward       1364839 non-null  int64  \n",
      " 67  Init_Win_bytes_backward      1364839 non-null  int64  \n",
      " 68  act_data_pkt_fwd             1364839 non-null  int64  \n",
      " 69  min_seg_size_forward         1364839 non-null  int64  \n",
      " 70  Active Mean                  1364839 non-null  float64\n",
      " 71  Active Std                   1364839 non-null  float64\n",
      " 72  Active Max                   1364839 non-null  float64\n",
      " 73  Active Min                   1364839 non-null  float64\n",
      " 74  Idle Mean                    1364839 non-null  float64\n",
      " 75  Idle Std                     1364839 non-null  float64\n",
      " 76  Idle Max                     1364839 non-null  float64\n",
      " 77  Idle Min                     1364839 non-null  float64\n",
      " 78  Inbound                      1364839 non-null  int64  \n",
      " 79  Label                        1364839 non-null  object \n",
      "dtypes: float64(45), int64(34), object(1)\n",
      "memory usage: 833.0+ MB\n"
     ]
    }
   ],
   "source": [
    "#df.describe()\n",
    "df.info()"
   ]
  },
  {
   "cell_type": "code",
   "execution_count": 6,
   "id": "11f50ed1",
   "metadata": {},
   "outputs": [
    {
     "name": "stdout",
     "output_type": "stream",
     "text": [
      "After dropping NaNs, the length of df: 1364839\n"
     ]
    }
   ],
   "source": [
    "df.replace([np.inf, -np.inf], np.nan, inplace=True)\n",
    "df.dropna(inplace=True)\n",
    "print(\"After dropping NaNs, the length of df:\", len(df))\n",
    "df.drop_duplicates(keep='first', inplace=True)"
   ]
  },
  {
   "cell_type": "code",
   "execution_count": 7,
   "id": "fb415b08",
   "metadata": {},
   "outputs": [
    {
     "name": "stdout",
     "output_type": "stream",
     "text": [
      "Removing column Bwd PSH Flags\n",
      "Removing column Fwd URG Flags\n",
      "Removing column Bwd URG Flags\n",
      "Removing column FIN Flag Count\n",
      "Removing column PSH Flag Count\n",
      "Removing column ECE Flag Count\n",
      "Removing column Fwd Avg Bytes/Bulk\n",
      "Removing column Fwd Avg Packets/Bulk\n",
      "Removing column Fwd Avg Bulk Rate\n",
      "Removing column Bwd Avg Bytes/Bulk\n",
      "Removing column Bwd Avg Packets/Bulk\n",
      "Removing column Bwd Avg Bulk Rate\n"
     ]
    }
   ],
   "source": [
    "for col in df.columns:\n",
    "    if len(df[col].unique()) == 1:\n",
    "        print('Removing column', str(col))\n",
    "        df.drop(col,inplace=True,axis=1)"
   ]
  },
  {
   "cell_type": "code",
   "execution_count": 8,
   "id": "b50753f6",
   "metadata": {},
   "outputs": [
    {
     "data": {
      "text/plain": [
       "NTP        113588\n",
       "MSSQL      113456\n",
       "SSDP       112877\n",
       "UDP        112564\n",
       "NetBIOS    110473\n",
       "DNS        110194\n",
       "UDPLag     109388\n",
       "LDAP       107334\n",
       "BENIGN      99814\n",
       "SNMP        99489\n",
       "Syn         96117\n",
       "TFTP        79740\n",
       "Name: Label, dtype: int64"
      ]
     },
     "execution_count": 8,
     "metadata": {},
     "output_type": "execute_result"
    }
   ],
   "source": [
    "df.Label.value_counts()"
   ]
  },
  {
   "cell_type": "code",
   "execution_count": 9,
   "id": "22f381d2",
   "metadata": {},
   "outputs": [
    {
     "name": "stderr",
     "output_type": "stream",
     "text": [
      "C:\\Users\\MAX\\AppData\\Local\\Temp\\ipykernel_24136\\2263113112.py:1: FutureWarning: The default value of numeric_only in DataFrame.corr is deprecated. In a future version, it will default to False. Select only valid columns or specify the value of numeric_only to silence this warning.\n",
      "  corr_mat=df.corr()\n"
     ]
    },
    {
     "data": {
      "image/png": "[encoded data removed]",
      "text/plain": [
       "<Figure size 480x480 with 1 Axes>"
      ]
     },
     "metadata": {},
     "output_type": "display_data"
    }
   ],
   "source": [
    "corr_mat=df.corr()\n",
    "plt.matshow(corr_mat)\n",
    "plt.show()"
   ]
  },
  {
   "cell_type": "markdown",
   "id": "f90ea19d",
   "metadata": {},
   "source": [
    "## Getting ready for learning"
   ]
  },
  {
   "cell_type": "code",
   "execution_count": 10,
   "id": "b7d12144",
   "metadata": {},
   "outputs": [
    {
     "name": "stdout",
     "output_type": "stream",
     "text": [
      "['Destination Port', 'Flow Duration', 'Total Fwd Packets', 'Total Backward Packets', 'Total Length of Fwd Packets', 'Total Length of Bwd Packets', 'Fwd Packet Length Max', 'Fwd Packet Length Min', 'Fwd Packet Length Mean', 'Fwd Packet Length Std', 'Bwd Packet Length Max', 'Bwd Packet Length Min', 'Bwd Packet Length Mean', 'Bwd Packet Length Std', 'Flow Bytes/s', 'Flow Packets/s', 'Flow IAT Mean', 'Flow IAT Std', 'Flow IAT Max', 'Flow IAT Min', 'Fwd IAT Total', 'Fwd IAT Mean', 'Fwd IAT Std', 'Fwd IAT Max', 'Fwd IAT Min', 'Bwd IAT Total', 'Bwd IAT Mean', 'Bwd IAT Std', 'Bwd IAT Max', 'Bwd IAT Min', 'Fwd PSH Flags', 'Fwd Header Length', 'Bwd Header Length', 'Fwd Packets/s', 'Bwd Packets/s', 'Min Packet Length', 'Max Packet Length', 'Packet Length Mean', 'Packet Length Std', 'Packet Length Variance', 'SYN Flag Count', 'RST Flag Count', 'ACK Flag Count', 'URG Flag Count', 'CWE Flag Count', 'Down/Up Ratio', 'Average Packet Size', 'Avg Fwd Segment Size', 'Avg Bwd Segment Size', 'Fwd Header Length.1', 'Subflow Fwd Packets', 'Subflow Fwd Bytes', 'Subflow Bwd Packets', 'Subflow Bwd Bytes', 'Init_Win_bytes_forward', 'Init_Win_bytes_backward', 'act_data_pkt_fwd', 'min_seg_size_forward', 'Active Mean', 'Active Std', 'Active Max', 'Active Min', 'Idle Mean', 'Idle Std', 'Idle Max', 'Idle Min', 'Inbound', 'Label']\n",
      "68\n"
     ]
    }
   ],
   "source": [
    "cols=df.columns.to_list()\n",
    "print(cols)\n",
    "print(len(cols))"
   ]
  },
  {
   "cell_type": "code",
   "execution_count": 11,
   "id": "a3f65585",
   "metadata": {},
   "outputs": [
    {
     "name": "stdout",
     "output_type": "stream",
     "text": [
      "0 Destination Port , Std: 20065.44386798694 , Avg: 31134.598961767035\n",
      "1 Flow Duration , Std: 22057683.372563638 , Avg: 5809564.848787463\n",
      "2 Total Fwd Packets , Std: 251.1930606911631 , Avg: 12.11037568950716\n",
      "3 Total Backward Packets , Std: 32.96114848157505 , Avg: 0.8502316933774112\n",
      "4 Total Length of Fwd Packets , Std: 21888.284298032868 , Avg: 4687.674991344106\n",
      "5 Total Length of Bwd Packets , Std: 62141.41778267717 , Avg: 560.2030577834272\n",
      "6 Fwd Packet Length Max , Std: 533.0267527314651 , Avg: 528.9548099102475\n",
      "7 Fwd Packet Length Min , Std: 532.3150149505611 , Avg: 505.214396609103\n",
      "8 Fwd Packet Length Mean , Std: 527.713553006793 , Avg: 515.5258337699454\n",
      "9 Fwd Packet Length Std , Std: 43.239394972436 , Avg: 8.51644969755063\n",
      "10 Bwd Packet Length Max , Std: 291.09252194812854 , Avg: 28.036039347559036\n",
      "11 Bwd Packet Length Min , Std: 20.38602379864074 , Avg: 2.884123272576073\n",
      "12 Bwd Packet Length Mean , Std: 75.46092255627795 , Avg: 9.037367239607836\n",
      "13 Bwd Packet Length Std , Std: 77.01609624471945 , Avg: 7.590818768817118\n",
      "14 Flow Bytes/s , Std: 960475214.8057342 , Avg: 663846726.8947699\n",
      "15 Flow Packets/s , Std: 915345.626698893 , Avg: 1006060.6194082876\n",
      "16 Flow IAT Mean , Std: 1871056.0285117652 , Avg: 519597.7366947308\n",
      "17 Flow IAT Std , Std: 2811837.344960533 , Avg: 794387.8324514161\n",
      "18 Flow IAT Max , Std: 7721443.702458677 , Avg: 2100357.981869262\n",
      "19 Flow IAT Min , Std: 178995.24214748867 , Avg: 1909.6779588532797\n",
      "20 Fwd IAT Total , Std: 22052348.32800111 , Avg: 5781954.288446003\n",
      "21 Fwd IAT Mean , Std: 2027612.4917429918 , Avg: 574792.5790903859\n",
      "22 Fwd IAT Std , Std: 2957941.5127061 , Avg: 832873.0961446285\n",
      "23 Fwd IAT Max , Std: 7712175.999723056 , Avg: 2084588.1693290458\n",
      "24 Fwd IAT Min , Std: 179220.9827577462 , Avg: 1800.8159828115292\n",
      "25 Bwd IAT Total , Std: 9610556.878337234 , Avg: 1045571.2349193777\n",
      "26 Bwd IAT Mean , Std: 1357918.8193845616 , Avg: 122625.82549198916\n",
      "27 Bwd IAT Std , Std: 2452923.7301434427 , Avg: 237528.9110116949\n",
      "28 Bwd IAT Max , Std: 5555029.219766438 , Avg: 583761.3166855595\n",
      "29 Bwd IAT Min , Std: 3.429662146314572 , Avg: 0.3896891308850197\n",
      "30 Fwd PSH Flags , Std: 0.09489838419724048 , Avg: 0.009088293279073923\n",
      "31 Fwd Header Length , Std: 5135900974.648141 , Avg: -233041903.7711856\n",
      "32 Bwd Header Length , Std: 34855521.999073215 , Avg: -400399.79786472145\n",
      "33 Fwd Packets/s , Std: 915873.7233508042 , Avg: 1005068.2570226492\n",
      "34 Bwd Packets/s , Std: 21994.522943892614 , Avg: 992.362385638119\n",
      "35 Min Packet Length , Std: 532.1193674240717 , Avg: 504.90035129490593\n",
      "36 Max Packet Length , Std: 583.1330310533544 , Avg: 546.424333259027\n",
      "37 Packet Length Mean , Std: 526.5387667537879 , Avg: 517.9436360185571\n",
      "38 Packet Length Std , Std: 71.82423334098249 , Avg: 12.6862336777193\n",
      "39 Packet Length Variance , Std: 120111.60303962705 , Avg: 5319.65694198966\n",
      "40 SYN Flag Count , Std: 0.01804375609607287 , Avg: 0.0003256829460710147\n",
      "41 RST Flag Count , Std: 0.09489838419724048 , Avg: 0.009088293279073923\n",
      "42 ACK Flag Count , Std: 0.403119487396915 , Avg: 0.20420478817170132\n",
      "43 URG Flag Count , Std: 0.18625625386824307 , Avg: 0.03598638455567202\n",
      "44 CWE Flag Count , Std: 0.13887669770044453 , Avg: 0.01967377951896945\n",
      "45 Down/Up Ratio , Std: 0.40835431700950275 , Avg: 0.09797681327142195\n",
      "46 Average Packet Size , Std: 798.2764051424101 , Avg: 746.1456841747286\n",
      "47 Avg Fwd Segment Size , Std: 527.713553006793 , Avg: 515.5258337699454\n",
      "48 Avg Bwd Segment Size , Std: 75.46092255627795 , Avg: 9.037367239607836\n",
      "49 Fwd Header Length.1 , Std: 5135900974.648141 , Avg: -233041903.7711856\n",
      "50 Subflow Fwd Packets , Std: 251.1930606911631 , Avg: 12.11037568950716\n",
      "51 Subflow Fwd Bytes , Std: 21888.284298032868 , Avg: 4687.674991344106\n",
      "52 Subflow Bwd Packets , Std: 32.96114848157505 , Avg: 0.8502316933774112\n",
      "53 Subflow Bwd Bytes , Std: 62141.41778267717 , Avg: 560.2030577834272\n",
      "54 Init_Win_bytes_forward , Std: 5303.849194339381 , Avg: 1693.2181941354936\n",
      "55 Init_Win_bytes_backward , Std: 3180.0139969390702 , Avg: 278.78724287252356\n",
      "56 act_data_pkt_fwd , Std: 37.6821274730197 , Avg: 9.308979047203474\n",
      "57 min_seg_size_forward , Std: 186528154.86446863 , Avg: -33813346.23677071\n",
      "58 Active Mean , Std: 199110.2752592613 , Avg: 9912.95553563921\n",
      "59 Active Std , Std: 119030.61480654757 , Avg: 5836.638748055928\n",
      "60 Active Max , Std: 301207.3724903422 , Avg: 18210.0882158108\n",
      "61 Active Min , Std: 176077.2203958375 , Avg: 6573.8599871624\n",
      "62 Idle Mean , Std: 6079226.783763123 , Avg: 1585527.3908112634\n",
      "63 Idle Std , Std: 1799150.1221435263 , Avg: 369256.4824964759\n",
      "64 Idle Max , Std: 7683572.818692444 , Avg: 2053353.164556842\n",
      "65 Idle Min , Std: 5241209.948044716 , Avg: 1244644.560156486\n",
      "66 Inbound , Std: 0.24915862204425707 , Avg: 0.9334974395945089\n"
     ]
    }
   ],
   "source": [
    "for i in range(len(df.columns)):\n",
    "    if cols[i] != 'Label':\n",
    "        print(i, cols[i], ', Std:', df.iloc[:,i].std(), ', Avg:', df.iloc[:,i].mean())"
   ]
  },
  {
   "cell_type": "code",
   "execution_count": 12,
   "id": "2adebac1",
   "metadata": {},
   "outputs": [
    {
     "data": {
      "text/plain": [
       "{'DNS': (0, tensor([1, 0, 0, 0, 0, 0, 0, 0, 0, 0, 0, 0])),\n",
       " 'BENIGN': (1, tensor([0, 1, 0, 0, 0, 0, 0, 0, 0, 0, 0, 0])),\n",
       " 'LDAP': (2, tensor([0, 0, 1, 0, 0, 0, 0, 0, 0, 0, 0, 0])),\n",
       " 'MSSQL': (3, tensor([0, 0, 0, 1, 0, 0, 0, 0, 0, 0, 0, 0])),\n",
       " 'NetBIOS': (4, tensor([0, 0, 0, 0, 1, 0, 0, 0, 0, 0, 0, 0])),\n",
       " 'NTP': (5, tensor([0, 0, 0, 0, 0, 1, 0, 0, 0, 0, 0, 0])),\n",
       " 'SNMP': (6, tensor([0, 0, 0, 0, 0, 0, 1, 0, 0, 0, 0, 0])),\n",
       " 'SSDP': (7, tensor([0, 0, 0, 0, 0, 0, 0, 1, 0, 0, 0, 0])),\n",
       " 'UDP': (8, tensor([0, 0, 0, 0, 0, 0, 0, 0, 1, 0, 0, 0])),\n",
       " 'Syn': (9, tensor([0, 0, 0, 0, 0, 0, 0, 0, 0, 1, 0, 0])),\n",
       " 'TFTP': (10, tensor([0, 0, 0, 0, 0, 0, 0, 0, 0, 0, 1, 0])),\n",
       " 'UDPLag': (11, tensor([0, 0, 0, 0, 0, 0, 0, 0, 0, 0, 0, 1]))}"
      ]
     },
     "execution_count": 12,
     "metadata": {},
     "output_type": "execute_result"
    }
   ],
   "source": [
    "%store -r classes_distribution_cut\n",
    "classes_ids={}\n",
    "classes_ids=classes_ids.fromkeys(classes_distribution_cut)\n",
    "\n",
    "one_hot_encoding=torch.nn.functional.one_hot(torch.arange(0,len(classes_distribution_cut)),num_classes=len(classes_distribution_cut))\n",
    "one_hot_encoding\n",
    "\n",
    "for idx,(k,_) in enumerate(classes_ids.items()):\n",
    "    classes_ids[k]=(idx,one_hot_encoding[idx])\n",
    "\n",
    "classes_ids"
   ]
  },
  {
   "cell_type": "code",
   "execution_count": 13,
   "id": "0a2f1b3e",
   "metadata": {},
   "outputs": [
    {
     "data": {
      "text/plain": [
       "{0: tensor([1, 0, 0, 0, 0, 0, 0, 0, 0, 0, 0, 0]),\n",
       " 1: tensor([0, 1, 0, 0, 0, 0, 0, 0, 0, 0, 0, 0]),\n",
       " 2: tensor([0, 0, 1, 0, 0, 0, 0, 0, 0, 0, 0, 0]),\n",
       " 3: tensor([0, 0, 0, 1, 0, 0, 0, 0, 0, 0, 0, 0]),\n",
       " 4: tensor([0, 0, 0, 0, 1, 0, 0, 0, 0, 0, 0, 0]),\n",
       " 5: tensor([0, 0, 0, 0, 0, 1, 0, 0, 0, 0, 0, 0]),\n",
       " 6: tensor([0, 0, 0, 0, 0, 0, 1, 0, 0, 0, 0, 0]),\n",
       " 7: tensor([0, 0, 0, 0, 0, 0, 0, 1, 0, 0, 0, 0]),\n",
       " 8: tensor([0, 0, 0, 0, 0, 0, 0, 0, 1, 0, 0, 0]),\n",
       " 9: tensor([0, 0, 0, 0, 0, 0, 0, 0, 0, 1, 0, 0]),\n",
       " 10: tensor([0, 0, 0, 0, 0, 0, 0, 0, 0, 0, 1, 0]),\n",
       " 11: tensor([0, 0, 0, 0, 0, 0, 0, 0, 0, 0, 0, 1])}"
      ]
     },
     "execution_count": 13,
     "metadata": {},
     "output_type": "execute_result"
    }
   ],
   "source": [
    "replacement_dict={}\n",
    "replacement_dict_cass_to_id={}\n",
    "replacement_dict.fromkeys(classes_ids)\n",
    "for k,(idx, tensor) in classes_ids.items():\n",
    "    replacement_dict[idx]=tensor\n",
    "    replacement_dict_cass_to_id[k]=idx\n",
    "\n",
    "replacement_dict"
   ]
  },
  {
   "cell_type": "code",
   "execution_count": 14,
   "id": "38e7c1af",
   "metadata": {},
   "outputs": [
    {
     "data": {
      "text/plain": [
       "{'DNS': 0,\n",
       " 'BENIGN': 1,\n",
       " 'LDAP': 2,\n",
       " 'MSSQL': 3,\n",
       " 'NetBIOS': 4,\n",
       " 'NTP': 5,\n",
       " 'SNMP': 6,\n",
       " 'SSDP': 7,\n",
       " 'UDP': 8,\n",
       " 'Syn': 9,\n",
       " 'TFTP': 10,\n",
       " 'UDPLag': 11}"
      ]
     },
     "execution_count": 14,
     "metadata": {},
     "output_type": "execute_result"
    }
   ],
   "source": [
    "replacement_dict_cass_to_id"
   ]
  },
  {
   "cell_type": "code",
   "execution_count": 15,
   "id": "9fb2f9bb",
   "metadata": {},
   "outputs": [],
   "source": [
    "df.replace({'Label':replacement_dict_cass_to_id}, inplace=True)\n",
    "X=df.iloc[:,:67]\n",
    "Y=df.iloc[:,67]"
   ]
  },
  {
   "cell_type": "code",
   "execution_count": 16,
   "id": "f1e2528e",
   "metadata": {},
   "outputs": [
    {
     "data": {
      "text/plain": [
       "[(0, 'Destination Port'),\n",
       " (1, 'Flow Duration'),\n",
       " (2, 'Total Fwd Packets'),\n",
       " (3, 'Total Backward Packets'),\n",
       " (4, 'Total Length of Fwd Packets'),\n",
       " (5, 'Total Length of Bwd Packets'),\n",
       " (6, 'Fwd Packet Length Max'),\n",
       " (7, 'Fwd Packet Length Min'),\n",
       " (8, 'Fwd Packet Length Mean'),\n",
       " (9, 'Fwd Packet Length Std'),\n",
       " (10, 'Bwd Packet Length Max'),\n",
       " (11, 'Bwd Packet Length Min'),\n",
       " (12, 'Bwd Packet Length Mean'),\n",
       " (13, 'Bwd Packet Length Std'),\n",
       " (14, 'Flow Bytes/s'),\n",
       " (15, 'Flow Packets/s'),\n",
       " (16, 'Flow IAT Mean'),\n",
       " (17, 'Flow IAT Std'),\n",
       " (18, 'Flow IAT Max'),\n",
       " (19, 'Flow IAT Min'),\n",
       " (20, 'Fwd IAT Total'),\n",
       " (21, 'Fwd IAT Mean'),\n",
       " (22, 'Fwd IAT Std'),\n",
       " (23, 'Fwd IAT Max'),\n",
       " (24, 'Fwd IAT Min'),\n",
       " (25, 'Bwd IAT Total'),\n",
       " (26, 'Bwd IAT Mean'),\n",
       " (27, 'Bwd IAT Std'),\n",
       " (28, 'Bwd IAT Max'),\n",
       " (29, 'Bwd IAT Min'),\n",
       " (30, 'Fwd PSH Flags'),\n",
       " (31, 'Fwd Header Length'),\n",
       " (32, 'Bwd Header Length'),\n",
       " (33, 'Fwd Packets/s'),\n",
       " (34, 'Bwd Packets/s'),\n",
       " (35, 'Min Packet Length'),\n",
       " (36, 'Max Packet Length'),\n",
       " (37, 'Packet Length Mean'),\n",
       " (38, 'Packet Length Std'),\n",
       " (39, 'Packet Length Variance'),\n",
       " (40, 'SYN Flag Count'),\n",
       " (41, 'RST Flag Count'),\n",
       " (42, 'ACK Flag Count'),\n",
       " (43, 'URG Flag Count'),\n",
       " (44, 'CWE Flag Count'),\n",
       " (45, 'Down/Up Ratio'),\n",
       " (46, 'Average Packet Size'),\n",
       " (47, 'Avg Fwd Segment Size'),\n",
       " (48, 'Avg Bwd Segment Size'),\n",
       " (49, 'Fwd Header Length.1'),\n",
       " (50, 'Subflow Fwd Packets'),\n",
       " (51, 'Subflow Fwd Bytes'),\n",
       " (52, 'Subflow Bwd Packets'),\n",
       " (53, 'Subflow Bwd Bytes'),\n",
       " (54, 'Init_Win_bytes_forward'),\n",
       " (55, 'Init_Win_bytes_backward'),\n",
       " (56, 'act_data_pkt_fwd'),\n",
       " (57, 'min_seg_size_forward'),\n",
       " (58, 'Active Mean'),\n",
       " (59, 'Active Std'),\n",
       " (60, 'Active Max'),\n",
       " (61, 'Active Min'),\n",
       " (62, 'Idle Mean'),\n",
       " (63, 'Idle Std'),\n",
       " (64, 'Idle Max'),\n",
       " (65, 'Idle Min'),\n",
       " (66, 'Inbound'),\n",
       " (67, 'Label')]"
      ]
     },
     "execution_count": 16,
     "metadata": {},
     "output_type": "execute_result"
    }
   ],
   "source": [
    "tot_col=df.columns.tolist()\n",
    "tot_col=[(idx,x) for idx,x in enumerate(tot_col)]\n",
    "tot_col"
   ]
  },
  {
   "cell_type": "code",
   "execution_count": 17,
   "id": "787933b7",
   "metadata": {},
   "outputs": [
    {
     "name": "stderr",
     "output_type": "stream",
     "text": [
      "f:\\miniconda\\envs\\dl\\lib\\site-packages\\scipy\\__init__.py:146: UserWarning: A NumPy version >=1.16.5 and <1.23.0 is required for this version of SciPy (detected version 1.24.0\n",
      "  warnings.warn(f\"A NumPy version >={np_minversion} and <{np_maxversion}\"\n"
     ]
    }
   ],
   "source": [
    "from sklearn.model_selection import train_test_split\n",
    "trainX, testX, trainY, testY = train_test_split(X, Y, shuffle=True, train_size=0.75)\n",
    "trainX, valX, trainY, valY = train_test_split(trainX, trainY, shuffle=True, train_size=0.75)\n",
    "del X,Y\n",
    "\n",
    "trainY=pd.Series(trainY)\n",
    "valY=pd.Series(valY)"
   ]
  },
  {
   "cell_type": "code",
   "execution_count": 18,
   "id": "2390bdd6",
   "metadata": {},
   "outputs": [],
   "source": [
    "from sklearn.preprocessing import StandardScaler\n",
    "scalerX_train = StandardScaler()\n",
    "X_scaled_train=scalerX_train.fit_transform(trainX)"
   ]
  },
  {
   "cell_type": "code",
   "execution_count": 19,
   "id": "4c423603",
   "metadata": {},
   "outputs": [],
   "source": [
    "from torch import tensor\n",
    "from torch.utils.data import Dataset, DataLoader\n",
    "\n",
    "class NetMetrics(Dataset):\n",
    "    def __init__(self, X, y, one_hot):\n",
    "        self.x, self.y, self.one_hot = X, y, one_hot\n",
    "        self.len=self.x.shape[0]\n",
    "\n",
    "    def __getitem__(self,index):\n",
    "        tensor_label=one_hot_encoding[self.y.iloc[index]]\n",
    "        return tensor(self.x[index,:], dtype=torch.float32), tensor_label.float()\n",
    "        \n",
    "    def __len__(self):\n",
    "        return self.len\n",
    "\n",
    "ds=NetMetrics(X_scaled_train, trainY, replacement_dict)"
   ]
  },
  {
   "cell_type": "markdown",
   "id": "64da0fee",
   "metadata": {},
   "source": [
    "## The model"
   ]
  },
  {
   "cell_type": "code",
   "execution_count": 20,
   "id": "7a1a9ca2",
   "metadata": {},
   "outputs": [
    {
     "data": {
      "text/plain": [
       "AttackNet(\n",
       "  (model): Sequential(\n",
       "    (0): Linear(in_features=67, out_features=512, bias=True)\n",
       "    (1): ReLU()\n",
       "    (2): Linear(in_features=512, out_features=256, bias=True)\n",
       "    (3): ReLU()\n",
       "    (4): Linear(in_features=256, out_features=128, bias=True)\n",
       "    (5): Tanh()\n",
       "    (6): Linear(in_features=128, out_features=64, bias=True)\n",
       "    (7): Tanh()\n",
       "    (8): Linear(in_features=64, out_features=12, bias=True)\n",
       "    (9): LogSoftmax(dim=1)\n",
       "  )\n",
       ")"
      ]
     },
     "execution_count": 20,
     "metadata": {},
     "output_type": "execute_result"
    }
   ],
   "source": [
    "class AttackNet(torch.nn.Module):\n",
    "\n",
    "    def __init__(self):\n",
    "        super(AttackNet, self).__init__()\n",
    "        self.model=torch.nn.Sequential(\n",
    "            torch.nn.Linear(67, 512),\n",
    "            torch.nn.ReLU(),\n",
    "            torch.nn.Linear(512, 256),\n",
    "            torch.nn.ReLU(),\n",
    "            torch.nn.Linear(256, 128),\n",
    "            torch.nn.Tanh(),\n",
    "            torch.nn.Linear(128, 64),\n",
    "            torch.nn.Tanh(),\n",
    "            torch.nn.Linear(64, 12),\n",
    "            torch.nn.LogSoftmax(dim=1)\n",
    "            )\n",
    "\n",
    "    def forward(self, x):\n",
    "        return self.model(x)\n",
    "\n",
    "def init_weights(module):\n",
    "        if isinstance(module, torch.nn.Linear):\n",
    "            torch.nn.init.xavier_uniform_(module.weight)\n",
    "            if module.bias is not None:\n",
    "                module.bias.data.fill_(0.0001)\n",
    "\n",
    "\n",
    "model = AttackNet()\n",
    "model.apply(init_weights)"
   ]
  },
  {
   "cell_type": "code",
   "execution_count": 21,
   "id": "807c0453",
   "metadata": {},
   "outputs": [
    {
     "data": {
      "text/plain": [
       "'cuda:0'"
      ]
     },
     "execution_count": 21,
     "metadata": {},
     "output_type": "execute_result"
    }
   ],
   "source": [
    "device = 'cuda:0' if torch.cuda.is_available() else 'cpu'\n",
    "device"
   ]
  },
  {
   "cell_type": "markdown",
   "id": "81d2b3fc",
   "metadata": {},
   "source": [
    "## Training"
   ]
  },
  {
   "cell_type": "code",
   "execution_count": 22,
   "id": "65674e7d",
   "metadata": {},
   "outputs": [],
   "source": [
    "from matplotlib import pyplot as plt\n",
    "from torch.utils.tensorboard import SummaryWriter\n",
    "\n",
    "writer = SummaryWriter()\n",
    "\n",
    "epochs=50\n",
    "learning_rate = .001\n",
    "model=model.to(device)\n",
    "criterion = torch.nn.CrossEntropyLoss().to(device)\n",
    "opt = torch.optim.Adam(model.parameters(), lr=learning_rate)\n",
    "scheduler = torch.optim.lr_scheduler.StepLR(opt, step_size=10, gamma=0.1)\n",
    "loader = DataLoader(dataset=ds, batch_size=100, shuffle=True)\n",
    "\n",
    "# Early stopping\n",
    "last_loss = np.inf\n",
    "patience = 3\n",
    "trigger_times = 0"
   ]
  },
  {
   "cell_type": "code",
   "execution_count": 23,
   "id": "ce24b190",
   "metadata": {},
   "outputs": [],
   "source": [
    "def model_validation(criterion):\n",
    "\n",
    "    #val_tar=[]\n",
    "    #val_pred=[]\n",
    "    cumulative_L_val=0.\n",
    "\n",
    "    val_ds = NetMetrics(scalerX_train.transform(testX), testY, replacement_dict)\n",
    "    val_loader=DataLoader(val_ds, batch_size=100, shuffle=False)\n",
    "\n",
    "    model.eval()\n",
    "\n",
    "    with torch.no_grad():\n",
    "        for inputs, ground_truth in val_loader:\n",
    "            y_tilde = model(inputs.to(device))\n",
    "            y=ground_truth\n",
    "\n",
    "            loss_val=criterion(y_tilde, y.to(device))\n",
    "            cumulative_L_val+=loss_val.item()\n",
    "           \n",
    "            #val_tar.append(y)\n",
    "            #val_pred.append(y_tilde.clone().detach())\n",
    "    \n",
    "        #f1=BinaryF1Score()\n",
    "        #f1_val=f1(tensor(val_pred), tensor(val_tar))\n",
    "\n",
    "        #print('F1-score Val: ', f1_val)\n",
    "    \n",
    "    #return f1_val\n",
    "    return cumulative_L_val"
   ]
  },
  {
   "cell_type": "code",
   "execution_count": 25,
   "id": "d5f44da6",
   "metadata": {},
   "outputs": [],
   "source": [
    "def model_train(epoch, optimizer, model):\n",
    "    model.train()\n",
    "    \n",
    "    print(\"Epoch begin: \", epoch)\n",
    "    cumulative_L_train = 0.\n",
    "    for x,y in loader:\n",
    "        # reset optimizer\n",
    "        opt.zero_grad()\n",
    "        loss = criterion(model(x.to(device)), y.to(device))\n",
    "        loss.backward()\n",
    "        opt.step()\n",
    "        cumulative_L_train+=loss.item()\n",
    "\n",
    "    return cumulative_L_train"
   ]
  },
  {
   "cell_type": "code",
   "execution_count": 26,
   "id": "3750941b",
   "metadata": {},
   "outputs": [
    {
     "name": "stdout",
     "output_type": "stream",
     "text": [
      "Epoch begin:  0\n",
      "Epoch begin:  1\n",
      "Epoch begin:  2\n",
      "Epoch begin:  3\n",
      "No improvement detected\n",
      "Epoch begin:  4\n",
      "Epoch begin:  5\n",
      "Epoch begin:  6\n",
      "No improvement detected\n",
      "Epoch begin:  7\n",
      "Epoch begin:  8\n",
      "No improvement detected\n",
      "Epoch begin:  9\n",
      "Epoch begin:  10\n",
      "Epoch begin:  11\n",
      "Epoch begin:  12\n",
      "No improvement detected\n",
      "Epoch begin:  13\n",
      "No improvement detected\n",
      "Epoch begin:  14\n",
      "Epoch begin:  15\n",
      "No improvement detected\n",
      "Epoch begin:  16\n",
      "Epoch begin:  17\n",
      "No improvement detected\n",
      "Epoch begin:  18\n",
      "Epoch begin:  19\n",
      "Epoch begin:  20\n",
      "Epoch begin:  21\n",
      "Epoch begin:  22\n",
      "Epoch begin:  23\n",
      "Epoch begin:  24\n",
      "No improvement detected\n",
      "Epoch begin:  25\n",
      "Epoch begin:  26\n",
      "Epoch begin:  27\n",
      "No improvement detected\n",
      "Epoch begin:  28\n",
      "Epoch begin:  29\n",
      "Epoch begin:  30\n",
      "Epoch begin:  31\n",
      "Epoch begin:  32\n",
      "Epoch begin:  33\n",
      "Epoch begin:  34\n",
      "Epoch begin:  35\n",
      "No improvement detected\n",
      "Epoch begin:  36\n",
      "Epoch begin:  37\n",
      "Epoch begin:  38\n",
      "No improvement detected\n",
      "Epoch begin:  39\n",
      "Epoch begin:  40\n",
      "Epoch begin:  41\n",
      "Epoch begin:  42\n",
      "No improvement detected\n",
      "Epoch begin:  43\n",
      "Epoch begin:  44\n",
      "Epoch begin:  45\n",
      "Epoch begin:  46\n",
      "No improvement detected\n",
      "Epoch begin:  47\n",
      "Epoch begin:  48\n",
      "No improvement detected\n",
      "Epoch begin:  49\n"
     ]
    }
   ],
   "source": [
    "#out=[]\n",
    "for epoch in range(epochs):\n",
    "\n",
    "    \n",
    "    loss_train=model_train(epoch, opt, model)\n",
    "    writer.add_scalar(\"Loss/Train\", loss_train , epoch)\n",
    "    \n",
    "    loss_val=model_validation(criterion)\n",
    "    scheduler.step()\n",
    "\n",
    "    writer.add_scalar(\"Loss/Val\", loss_val , epoch)\n",
    "\n",
    "    writer.add_scalars(\"Loss/General\", {\"Train\": loss_val, \"Val\": loss_train}, epoch)\n",
    "\n",
    "    #EarlyStopping\n",
    "    if loss_val > last_loss:\n",
    "        trigger_times += 1\n",
    "        print('No improvement detected')\n",
    "\n",
    "    if trigger_times >= patience:\n",
    "        print('Early stopping triggered')\n",
    "        continue #exit now\n",
    "    else:\n",
    "        trigger_times = 0\n",
    "\n",
    "    last_loss = loss_val\n",
    "\n",
    "    #out.append(cumulative_L)\n",
    "\n",
    "writer.close()\n",
    "\n",
    "#plt.plot(out)"
   ]
  },
  {
   "cell_type": "code",
   "execution_count": 27,
   "id": "65a2dd59",
   "metadata": {},
   "outputs": [],
   "source": [
    "from datetime import datetime\n",
    "model_name='.\\\\models\\\\' + datetime.now().strftime(\"%m-%d-%Y_%H-%M-%S\")+'__multi_opt_sched.model'\n",
    "torch.save(model.state_dict(), model_name)"
   ]
  },
  {
   "cell_type": "markdown",
   "id": "1dc60c67",
   "metadata": {},
   "source": [
    "## Test"
   ]
  },
  {
   "cell_type": "code",
   "execution_count": 28,
   "id": "420cdd03",
   "metadata": {},
   "outputs": [
    {
     "name": "stdout",
     "output_type": "stream",
     "text": [
      "316259\n"
     ]
    }
   ],
   "source": [
    "test_ds = NetMetrics(scalerX_train.transform(testX), testY, replacement_dict)\n",
    "print(len(test_ds))\n",
    "test_loader=DataLoader(test_ds, batch_size=100, shuffle=False)"
   ]
  },
  {
   "cell_type": "code",
   "execution_count": 29,
   "id": "77b2b1e2",
   "metadata": {},
   "outputs": [
    {
     "data": {
      "text/plain": [
       "[9197,\n",
       " 24796,\n",
       " 23656,\n",
       " 21171,\n",
       " 1515,\n",
       " 27574,\n",
       " 24470,\n",
       " 7720,\n",
       " 25192,\n",
       " 11430,\n",
       " 19819,\n",
       " 10070]"
      ]
     },
     "execution_count": 29,
     "metadata": {},
     "output_type": "execute_result"
    }
   ],
   "source": [
    "#model=AttackNet()\n",
    "#model.load_state_dict(torch.load('.\\\\models\\\\12-19-2022_21-02-10__anova_binary_opt.model'))\n",
    "model=model.to('cpu')\n",
    "model.eval()\n",
    "\n",
    "acc = [0]*12\n",
    "translator=replacement_dict\n",
    "targets=[]\n",
    "preds=[]\n",
    "\n",
    "model.eval()\n",
    "\n",
    "with torch.no_grad():\n",
    "    for inputs, ground_truth in test_loader:\n",
    "        prediction = torch.argmax(model(inputs), dim=1)\n",
    "        targ = torch.argmax(ground_truth, dim=1)\n",
    "\n",
    "        targets.extend(targ.tolist())\n",
    "        preds.extend(prediction.clone().detach().tolist())\n",
    "\n",
    "    for p,t in zip(preds, targets):\n",
    "        if p == t:\n",
    "            acc[p]+=1\n",
    "\n",
    "acc"
   ]
  },
  {
   "cell_type": "code",
   "execution_count": 30,
   "id": "9fe5c0c3",
   "metadata": {},
   "outputs": [
    {
     "data": {
      "text/plain": [
       "5     28281\n",
       "3     28243\n",
       "7     28199\n",
       "8     28169\n",
       "0     27826\n",
       "4     27558\n",
       "11    27463\n",
       "2     26888\n",
       "6     24967\n",
       "1     24812\n",
       "9     23971\n",
       "10    19882\n",
       "Name: Label, dtype: int64"
      ]
     },
     "execution_count": 30,
     "metadata": {},
     "output_type": "execute_result"
    }
   ],
   "source": [
    "val_count_test=testY.value_counts()\n",
    "val_count_test"
   ]
  },
  {
   "cell_type": "code",
   "execution_count": 32,
   "id": "4308d92e",
   "metadata": {},
   "outputs": [
    {
     "name": "stdout",
     "output_type": "stream",
     "text": [
      "Per class accuracy:  [0.3305182203694387, 0.999355150733516, 0.8797976792621244, 0.7496016712105654, 0.05497496189854126, 0.9750008839857148, 0.9800937237153042, 0.273768573353665, 0.8943164471582236, 0.47682616494931374, 0.9968313046977165, 0.36667516294650987]\n"
     ]
    }
   ],
   "source": [
    "acc_final=[a/val_count_test[idx] for idx, a in enumerate(acc)]\n",
    "print('Per class accuracy: ', acc_final)"
   ]
  },
  {
   "cell_type": "code",
   "execution_count": 35,
   "id": "a71eb283",
   "metadata": {},
   "outputs": [
    {
     "name": "stderr",
     "output_type": "stream",
     "text": [
      "C:\\Users\\MAX\\AppData\\Local\\Temp\\ipykernel_24136\\393865247.py:4: UserWarning: To copy construct from a tensor, it is recommended to use sourceTensor.clone().detach() or sourceTensor.clone().detach().requires_grad_(True), rather than torch.tensor(sourceTensor).\n",
      "  preds = torch.tensor(preds)\n"
     ]
    },
    {
     "name": "stdout",
     "output_type": "stream",
     "text": [
      "Precision:  tensor(0.7203)\n",
      "Recall:  tensor(0.6648)\n",
      "F1-score:  tensor(0.6208)\n",
      "Overall Accuracy:  tensor(0.6648)\n"
     ]
    },
    {
     "data": {
      "text/plain": [
       "<AxesSubplot: >"
      ]
     },
     "execution_count": 35,
     "metadata": {},
     "output_type": "execute_result"
    },
    {
     "data": {
      "image/png": "[encoded data removed]",
      "text/plain": [
       "<Figure size 640x480 with 2 Axes>"
      ]
     },
     "metadata": {},
     "output_type": "display_data"
    }
   ],
   "source": [
    "from torchmetrics.classification import MulticlassConfusionMatrix, MulticlassPrecision, MulticlassRecall, MulticlassF1Score, MulticlassAccuracy\n",
    "\n",
    "target = torch.tensor(targets)\n",
    "preds = torch.tensor(preds)\n",
    "metric = MulticlassConfusionMatrix(12, normalize='true')\n",
    "res=metric(preds, target)\n",
    "\n",
    "prec = MulticlassPrecision(12)\n",
    "print('Precision: ',prec(preds, target))\n",
    "\n",
    "rec=MulticlassRecall(12)\n",
    "print('Recall: ', rec(preds, target))\n",
    "\n",
    "f1=MulticlassF1Score(12)\n",
    "print('F1-score: ', f1(preds, target))\n",
    "\n",
    "acc2=MulticlassAccuracy(12)\n",
    "print('Overall Accuracy: ', acc2(preds, target))\n",
    "\n",
    "import seaborn as sn\n",
    "sn.heatmap(res, annot=True)"
   ]
  },
  {
   "cell_type": "markdown",
   "id": "6d88126a",
   "metadata": {},
   "source": [
    "___"
   ]
  }
 ],
 "metadata": {
  "kernelspec": {
   "display_name": "Python 3.9.12 ('dl')",
   "language": "python",
   "name": "python3"
  },
  "language_info": {
   "codemirror_mode": {
    "name": "ipython",
    "version": 3
   },
   "file_extension": ".py",
   "mimetype": "text/x-python",
   "name": "python",
   "nbconvert_exporter": "python",
   "pygments_lexer": "ipython3",
   "version": "3.9.15"
  },
  "vscode": {
   "interpreter": {
    "hash": "a41f043e3f504d40bb31377d42299aba33beec9c14fb34c08aef092f76f6f6b0"
   }
  }
 },
 "nbformat": 4,
 "nbformat_minor": 5
}
