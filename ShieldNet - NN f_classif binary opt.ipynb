{
 "cells": [
  {
   "cell_type": "markdown",
   "id": "e7cbd7dd",
   "metadata": {},
   "source": [
    "# Internet traffic attack recognition (ShieldNet - multiclass)"
   ]
  },
  {
   "cell_type": "code",
   "execution_count": 1,
   "id": "84bdc1ab",
   "metadata": {},
   "outputs": [
    {
     "name": "stdout",
     "output_type": "stream",
     "text": [
      "Cuda capable device found!\n"
     ]
    }
   ],
   "source": [
    "import gc\n",
    "import os\n",
    "os.environ[\"KMP_DUPLICATE_LIB_OK\"]=\"TRUE\"\n",
    "import pandas as pd\n",
    "import numpy as np\n",
    "import torch\n",
    "if not torch.cuda.is_available():\n",
    "    quit()\n",
    "else:\n",
    "    print(\"Cuda capable device found!\")\n",
    "import matplotlib.pyplot as plt"
   ]
  },
  {
   "cell_type": "markdown",
   "id": "643da8c1",
   "metadata": {},
   "source": [
    "# Get the datasets from memory\n",
    "\n",
    "Assumption: dataset has its colums' names stripped from white spaces, no NaNs or +-Inf"
   ]
  },
  {
   "cell_type": "code",
   "execution_count": 2,
   "id": "f8821c86",
   "metadata": {},
   "outputs": [],
   "source": [
    "ds_selector='.\\\\datasets\\\\kaggle DDoS Dataset\\\\CORRECT_CUT'"
   ]
  },
  {
   "cell_type": "code",
   "execution_count": 3,
   "id": "ef0e7b3b",
   "metadata": {},
   "outputs": [
    {
     "data": {
      "text/plain": [
       "['.\\\\datasets\\\\kaggle DDoS Dataset\\\\CORRECT_CUT\\\\fair_cut.csv',\n",
       " '.\\\\datasets\\\\kaggle DDoS Dataset\\\\CORRECT_CUT\\\\fair_cut_subset.csv',\n",
       " '.\\\\datasets\\\\kaggle DDoS Dataset\\\\CORRECT_CUT\\\\fair_cut_subset_halved.csv',\n",
       " '.\\\\datasets\\\\kaggle DDoS Dataset\\\\CORRECT_CUT\\\\unified_jumbo.csv',\n",
       " '.\\\\datasets\\\\kaggle DDoS Dataset\\\\CORRECT_CUT\\\\classes\\\\Benign\\\\Benign.csv',\n",
       " '.\\\\datasets\\\\kaggle DDoS Dataset\\\\CORRECT_CUT\\\\classes\\\\ddos\\\\ddos.csv']"
      ]
     },
     "execution_count": 3,
     "metadata": {},
     "output_type": "execute_result"
    }
   ],
   "source": [
    "csv_files = []\n",
    "for dirname, _, filenames in os.walk(ds_selector):\n",
    "    for filename in filenames:\n",
    "        csv_file = os.path.join(dirname, filename)\n",
    "        csv_files.append(csv_file)\n",
    "csv_files"
   ]
  },
  {
   "cell_type": "code",
   "execution_count": 4,
   "id": "9235cbb7",
   "metadata": {},
   "outputs": [],
   "source": [
    "csv_files = ['.\\\\datasets\\\\kaggle DDoS Dataset\\\\CORRECT_CUT\\\\fair_cut_subset_halved.csv']"
   ]
  },
  {
   "cell_type": "code",
   "execution_count": 5,
   "id": "8dcbd6d7",
   "metadata": {},
   "outputs": [
    {
     "name": "stdout",
     "output_type": "stream",
     "text": [
      "Original length of df: 4000000\n"
     ]
    }
   ],
   "source": [
    "if len(csv_files) > 1:\n",
    "    df = pd.concat([pd.read_csv(file) for file in csv_files], ignore_index=True)\n",
    "else:\n",
    "    df=pd.read_csv(csv_files[0])\n",
    "    \n",
    "df.columns = df.columns.str.strip()\n",
    "print(\"Original length of df:\", len(df))"
   ]
  },
  {
   "cell_type": "markdown",
   "id": "e909ba72",
   "metadata": {},
   "source": [
    "## Tidy up the dataset"
   ]
  },
  {
   "cell_type": "code",
   "execution_count": 7,
   "id": "b0530064",
   "metadata": {},
   "outputs": [
    {
     "name": "stdout",
     "output_type": "stream",
     "text": [
      "<class 'pandas.core.frame.DataFrame'>\n",
      "RangeIndex: 4000000 entries, 0 to 3999999\n",
      "Data columns (total 80 columns):\n",
      " #   Column             Dtype  \n",
      "---  ------             -----  \n",
      " 0   Src Port           int64  \n",
      " 1   Dst Port           int64  \n",
      " 2   Protocol           int64  \n",
      " 3   Flow Duration      int64  \n",
      " 4   Tot Fwd Pkts       int64  \n",
      " 5   Tot Bwd Pkts       int64  \n",
      " 6   TotLen Fwd Pkts    float64\n",
      " 7   TotLen Bwd Pkts    float64\n",
      " 8   Fwd Pkt Len Max    float64\n",
      " 9   Fwd Pkt Len Min    float64\n",
      " 10  Fwd Pkt Len Mean   float64\n",
      " 11  Fwd Pkt Len Std    float64\n",
      " 12  Bwd Pkt Len Max    float64\n",
      " 13  Bwd Pkt Len Min    float64\n",
      " 14  Bwd Pkt Len Mean   float64\n",
      " 15  Bwd Pkt Len Std    float64\n",
      " 16  Flow Byts/s        float64\n",
      " 17  Flow Pkts/s        float64\n",
      " 18  Flow IAT Mean      float64\n",
      " 19  Flow IAT Std       float64\n",
      " 20  Flow IAT Max       float64\n",
      " 21  Flow IAT Min       float64\n",
      " 22  Fwd IAT Tot        float64\n",
      " 23  Fwd IAT Mean       float64\n",
      " 24  Fwd IAT Std        float64\n",
      " 25  Fwd IAT Max        float64\n",
      " 26  Fwd IAT Min        float64\n",
      " 27  Bwd IAT Tot        float64\n",
      " 28  Bwd IAT Mean       float64\n",
      " 29  Bwd IAT Std        float64\n",
      " 30  Bwd IAT Max        float64\n",
      " 31  Bwd IAT Min        float64\n",
      " 32  Fwd PSH Flags      int64  \n",
      " 33  Bwd PSH Flags      int64  \n",
      " 34  Fwd URG Flags      int64  \n",
      " 35  Bwd URG Flags      int64  \n",
      " 36  Fwd Header Len     int64  \n",
      " 37  Bwd Header Len     int64  \n",
      " 38  Fwd Pkts/s         float64\n",
      " 39  Bwd Pkts/s         float64\n",
      " 40  Pkt Len Min        float64\n",
      " 41  Pkt Len Max        float64\n",
      " 42  Pkt Len Mean       float64\n",
      " 43  Pkt Len Std        float64\n",
      " 44  Pkt Len Var        float64\n",
      " 45  FIN Flag Cnt       int64  \n",
      " 46  SYN Flag Cnt       int64  \n",
      " 47  RST Flag Cnt       int64  \n",
      " 48  PSH Flag Cnt       int64  \n",
      " 49  ACK Flag Cnt       int64  \n",
      " 50  URG Flag Cnt       int64  \n",
      " 51  CWE Flag Count     int64  \n",
      " 52  ECE Flag Cnt       int64  \n",
      " 53  Down/Up Ratio      float64\n",
      " 54  Pkt Size Avg       float64\n",
      " 55  Fwd Seg Size Avg   float64\n",
      " 56  Bwd Seg Size Avg   float64\n",
      " 57  Fwd Byts/b Avg     int64  \n",
      " 58  Fwd Pkts/b Avg     int64  \n",
      " 59  Fwd Blk Rate Avg   int64  \n",
      " 60  Bwd Byts/b Avg     int64  \n",
      " 61  Bwd Pkts/b Avg     int64  \n",
      " 62  Bwd Blk Rate Avg   int64  \n",
      " 63  Subflow Fwd Pkts   int64  \n",
      " 64  Subflow Fwd Byts   int64  \n",
      " 65  Subflow Bwd Pkts   int64  \n",
      " 66  Subflow Bwd Byts   int64  \n",
      " 67  Init Fwd Win Byts  int64  \n",
      " 68  Init Bwd Win Byts  int64  \n",
      " 69  Fwd Act Data Pkts  int64  \n",
      " 70  Fwd Seg Size Min   int64  \n",
      " 71  Active Mean        float64\n",
      " 72  Active Std         float64\n",
      " 73  Active Max         float64\n",
      " 74  Active Min         float64\n",
      " 75  Idle Mean          float64\n",
      " 76  Idle Std           float64\n",
      " 77  Idle Max           float64\n",
      " 78  Idle Min           float64\n",
      " 79  Label              object \n",
      "dtypes: float64(45), int64(34), object(1)\n",
      "memory usage: 2.4+ GB\n"
     ]
    }
   ],
   "source": [
    "#df.describe()\n",
    "df.info()"
   ]
  },
  {
   "cell_type": "code",
   "execution_count": 8,
   "id": "11f50ed1",
   "metadata": {},
   "outputs": [
    {
     "name": "stdout",
     "output_type": "stream",
     "text": [
      "After dropping NaNs, the length of df: 4000000\n"
     ]
    }
   ],
   "source": [
    "df.replace([np.inf, -np.inf], np.nan, inplace=True)\n",
    "df.dropna(inplace=True)\n",
    "print(\"After dropping NaNs, the length of df:\", len(df))"
   ]
  },
  {
   "cell_type": "code",
   "execution_count": 9,
   "id": "b50753f6",
   "metadata": {},
   "outputs": [
    {
     "data": {
      "text/plain": [
       "Benign    2000000\n",
       "ddos      2000000\n",
       "Name: Label, dtype: int64"
      ]
     },
     "execution_count": 9,
     "metadata": {},
     "output_type": "execute_result"
    }
   ],
   "source": [
    "#df_copy=df.copy()\n",
    "\n",
    "df.Label.value_counts()"
   ]
  },
  {
   "cell_type": "code",
   "execution_count": 14,
   "id": "22f381d2",
   "metadata": {},
   "outputs": [
    {
     "name": "stderr",
     "output_type": "stream",
     "text": [
      "C:\\Users\\MAX\\AppData\\Local\\Temp\\ipykernel_8240\\3788501913.py:1: FutureWarning: The default value of numeric_only in DataFrame.corr is deprecated. In a future version, it will default to False. Select only valid columns or specify the value of numeric_only to silence this warning.\n",
      "  corr_mat=df_copy.corr()\n"
     ]
    },
    {
     "data": {
      "image/png": "[encoded data removed]",
      "text/plain": [
       "<Figure size 480x480 with 1 Axes>"
      ]
     },
     "metadata": {},
     "output_type": "display_data"
    }
   ],
   "source": [
    "corr_mat=df.corr()\n",
    "plt.matshow(corr_mat)\n",
    "plt.show()"
   ]
  },
  {
   "cell_type": "markdown",
   "id": "f90ea19d",
   "metadata": {},
   "source": [
    "## Getting ready for learning"
   ]
  },
  {
   "cell_type": "code",
   "execution_count": 10,
   "id": "b7d12144",
   "metadata": {},
   "outputs": [
    {
     "data": {
      "text/plain": [
       "['Src Port',\n",
       " 'Dst Port',\n",
       " 'Protocol',\n",
       " 'Flow Duration',\n",
       " 'Tot Fwd Pkts',\n",
       " 'Tot Bwd Pkts',\n",
       " 'TotLen Fwd Pkts',\n",
       " 'TotLen Bwd Pkts',\n",
       " 'Fwd Pkt Len Max',\n",
       " 'Fwd Pkt Len Min',\n",
       " 'Fwd Pkt Len Mean',\n",
       " 'Fwd Pkt Len Std',\n",
       " 'Bwd Pkt Len Max',\n",
       " 'Bwd Pkt Len Min',\n",
       " 'Bwd Pkt Len Mean',\n",
       " 'Bwd Pkt Len Std',\n",
       " 'Flow Byts/s',\n",
       " 'Flow Pkts/s',\n",
       " 'Flow IAT Mean',\n",
       " 'Flow IAT Std',\n",
       " 'Flow IAT Max',\n",
       " 'Flow IAT Min',\n",
       " 'Fwd IAT Tot',\n",
       " 'Fwd IAT Mean',\n",
       " 'Fwd IAT Std',\n",
       " 'Fwd IAT Max',\n",
       " 'Fwd IAT Min',\n",
       " 'Bwd IAT Tot',\n",
       " 'Bwd IAT Mean',\n",
       " 'Bwd IAT Std',\n",
       " 'Bwd IAT Max',\n",
       " 'Bwd IAT Min',\n",
       " 'Fwd PSH Flags',\n",
       " 'Bwd PSH Flags',\n",
       " 'Fwd URG Flags',\n",
       " 'Bwd URG Flags',\n",
       " 'Fwd Header Len',\n",
       " 'Bwd Header Len',\n",
       " 'Fwd Pkts/s',\n",
       " 'Bwd Pkts/s',\n",
       " 'Pkt Len Min',\n",
       " 'Pkt Len Max',\n",
       " 'Pkt Len Mean',\n",
       " 'Pkt Len Std',\n",
       " 'Pkt Len Var',\n",
       " 'FIN Flag Cnt',\n",
       " 'SYN Flag Cnt',\n",
       " 'RST Flag Cnt',\n",
       " 'PSH Flag Cnt',\n",
       " 'ACK Flag Cnt',\n",
       " 'URG Flag Cnt',\n",
       " 'CWE Flag Count',\n",
       " 'ECE Flag Cnt',\n",
       " 'Down/Up Ratio',\n",
       " 'Pkt Size Avg',\n",
       " 'Fwd Seg Size Avg',\n",
       " 'Bwd Seg Size Avg',\n",
       " 'Fwd Byts/b Avg',\n",
       " 'Fwd Pkts/b Avg',\n",
       " 'Fwd Blk Rate Avg',\n",
       " 'Bwd Byts/b Avg',\n",
       " 'Bwd Pkts/b Avg',\n",
       " 'Bwd Blk Rate Avg',\n",
       " 'Subflow Fwd Pkts',\n",
       " 'Subflow Fwd Byts',\n",
       " 'Subflow Bwd Pkts',\n",
       " 'Subflow Bwd Byts',\n",
       " 'Init Fwd Win Byts',\n",
       " 'Init Bwd Win Byts',\n",
       " 'Fwd Act Data Pkts',\n",
       " 'Fwd Seg Size Min',\n",
       " 'Active Mean',\n",
       " 'Active Std',\n",
       " 'Active Max',\n",
       " 'Active Min',\n",
       " 'Idle Mean',\n",
       " 'Idle Std',\n",
       " 'Idle Max',\n",
       " 'Idle Min',\n",
       " 'Label']"
      ]
     },
     "execution_count": 10,
     "metadata": {},
     "output_type": "execute_result"
    }
   ],
   "source": [
    "cols=df.columns.to_list()\n",
    "#cols.sort()\n",
    "cols"
   ]
  },
  {
   "cell_type": "code",
   "execution_count": 11,
   "id": "2390bdd6",
   "metadata": {},
   "outputs": [
    {
     "name": "stderr",
     "output_type": "stream",
     "text": [
      "f:\\miniconda\\envs\\dl\\lib\\site-packages\\scipy\\__init__.py:146: UserWarning: A NumPy version >=1.16.5 and <1.23.0 is required for this version of SciPy (detected version 1.24.0\n",
      "  warnings.warn(f\"A NumPy version >={np_minversion} and <{np_maxversion}\"\n"
     ]
    }
   ],
   "source": [
    "from sklearn.preprocessing import StandardScaler\n",
    "\n",
    "scaler = StandardScaler()"
   ]
  },
  {
   "cell_type": "code",
   "execution_count": 13,
   "id": "6b6514ec",
   "metadata": {},
   "outputs": [
    {
     "data": {
      "text/html": [
       "<div>\n",
       "<style scoped>\n",
       "    .dataframe tbody tr th:only-of-type {\n",
       "        vertical-align: middle;\n",
       "    }\n",
       "\n",
       "    .dataframe tbody tr th {\n",
       "        vertical-align: top;\n",
       "    }\n",
       "\n",
       "    .dataframe thead th {\n",
       "        text-align: right;\n",
       "    }\n",
       "</style>\n",
       "<table border=\"1\" class=\"dataframe\">\n",
       "  <thead>\n",
       "    <tr style=\"text-align: right;\">\n",
       "      <th></th>\n",
       "      <th>Src Port</th>\n",
       "      <th>Dst Port</th>\n",
       "      <th>Flow Duration</th>\n",
       "      <th>Tot Fwd Pkts</th>\n",
       "      <th>Tot Bwd Pkts</th>\n",
       "      <th>TotLen Fwd Pkts</th>\n",
       "      <th>TotLen Bwd Pkts</th>\n",
       "      <th>Fwd Pkt Len Max</th>\n",
       "      <th>Fwd Pkt Len Min</th>\n",
       "      <th>Fwd Pkt Len Mean</th>\n",
       "      <th>...</th>\n",
       "      <th>Fwd Seg Size Min</th>\n",
       "      <th>Active Mean</th>\n",
       "      <th>Active Std</th>\n",
       "      <th>Active Max</th>\n",
       "      <th>Active Min</th>\n",
       "      <th>Idle Mean</th>\n",
       "      <th>Idle Std</th>\n",
       "      <th>Idle Max</th>\n",
       "      <th>Idle Min</th>\n",
       "      <th>Label</th>\n",
       "    </tr>\n",
       "  </thead>\n",
       "  <tbody>\n",
       "    <tr>\n",
       "      <th>0</th>\n",
       "      <td>51263</td>\n",
       "      <td>443</td>\n",
       "      <td>105120546</td>\n",
       "      <td>16</td>\n",
       "      <td>24</td>\n",
       "      <td>1789.0</td>\n",
       "      <td>3492.0</td>\n",
       "      <td>270.0</td>\n",
       "      <td>0.0</td>\n",
       "      <td>111.812500</td>\n",
       "      <td>...</td>\n",
       "      <td>20</td>\n",
       "      <td>137708.714286</td>\n",
       "      <td>11188.587008</td>\n",
       "      <td>158091.0</td>\n",
       "      <td>126951.0</td>\n",
       "      <td>1.486128e+07</td>\n",
       "      <td>31810.084689</td>\n",
       "      <td>14914967.0</td>\n",
       "      <td>14824695.0</td>\n",
       "      <td>Benign</td>\n",
       "    </tr>\n",
       "    <tr>\n",
       "      <th>1</th>\n",
       "      <td>65507</td>\n",
       "      <td>53</td>\n",
       "      <td>599</td>\n",
       "      <td>1</td>\n",
       "      <td>1</td>\n",
       "      <td>30.0</td>\n",
       "      <td>94.0</td>\n",
       "      <td>30.0</td>\n",
       "      <td>30.0</td>\n",
       "      <td>30.000000</td>\n",
       "      <td>...</td>\n",
       "      <td>8</td>\n",
       "      <td>0.000000</td>\n",
       "      <td>0.000000</td>\n",
       "      <td>0.0</td>\n",
       "      <td>0.0</td>\n",
       "      <td>0.000000e+00</td>\n",
       "      <td>0.000000</td>\n",
       "      <td>0.0</td>\n",
       "      <td>0.0</td>\n",
       "      <td>Benign</td>\n",
       "    </tr>\n",
       "    <tr>\n",
       "      <th>2</th>\n",
       "      <td>53552</td>\n",
       "      <td>443</td>\n",
       "      <td>131782</td>\n",
       "      <td>5</td>\n",
       "      <td>7</td>\n",
       "      <td>334.0</td>\n",
       "      <td>3776.0</td>\n",
       "      <td>208.0</td>\n",
       "      <td>0.0</td>\n",
       "      <td>66.800000</td>\n",
       "      <td>...</td>\n",
       "      <td>0</td>\n",
       "      <td>0.000000</td>\n",
       "      <td>0.000000</td>\n",
       "      <td>0.0</td>\n",
       "      <td>0.0</td>\n",
       "      <td>0.000000e+00</td>\n",
       "      <td>0.000000</td>\n",
       "      <td>0.0</td>\n",
       "      <td>0.0</td>\n",
       "      <td>Benign</td>\n",
       "    </tr>\n",
       "    <tr>\n",
       "      <th>3</th>\n",
       "      <td>443</td>\n",
       "      <td>57803</td>\n",
       "      <td>3</td>\n",
       "      <td>1</td>\n",
       "      <td>1</td>\n",
       "      <td>0.0</td>\n",
       "      <td>31.0</td>\n",
       "      <td>0.0</td>\n",
       "      <td>0.0</td>\n",
       "      <td>0.000000</td>\n",
       "      <td>...</td>\n",
       "      <td>0</td>\n",
       "      <td>0.000000</td>\n",
       "      <td>0.000000</td>\n",
       "      <td>0.0</td>\n",
       "      <td>0.0</td>\n",
       "      <td>0.000000e+00</td>\n",
       "      <td>0.000000</td>\n",
       "      <td>0.0</td>\n",
       "      <td>0.0</td>\n",
       "      <td>Benign</td>\n",
       "    </tr>\n",
       "    <tr>\n",
       "      <th>4</th>\n",
       "      <td>39733</td>\n",
       "      <td>80</td>\n",
       "      <td>8864563</td>\n",
       "      <td>13</td>\n",
       "      <td>16</td>\n",
       "      <td>333.0</td>\n",
       "      <td>19111.0</td>\n",
       "      <td>333.0</td>\n",
       "      <td>0.0</td>\n",
       "      <td>25.615385</td>\n",
       "      <td>...</td>\n",
       "      <td>0</td>\n",
       "      <td>0.000000</td>\n",
       "      <td>0.000000</td>\n",
       "      <td>0.0</td>\n",
       "      <td>0.0</td>\n",
       "      <td>0.000000e+00</td>\n",
       "      <td>0.000000</td>\n",
       "      <td>0.0</td>\n",
       "      <td>0.0</td>\n",
       "      <td>Benign</td>\n",
       "    </tr>\n",
       "    <tr>\n",
       "      <th>...</th>\n",
       "      <td>...</td>\n",
       "      <td>...</td>\n",
       "      <td>...</td>\n",
       "      <td>...</td>\n",
       "      <td>...</td>\n",
       "      <td>...</td>\n",
       "      <td>...</td>\n",
       "      <td>...</td>\n",
       "      <td>...</td>\n",
       "      <td>...</td>\n",
       "      <td>...</td>\n",
       "      <td>...</td>\n",
       "      <td>...</td>\n",
       "      <td>...</td>\n",
       "      <td>...</td>\n",
       "      <td>...</td>\n",
       "      <td>...</td>\n",
       "      <td>...</td>\n",
       "      <td>...</td>\n",
       "      <td>...</td>\n",
       "      <td>...</td>\n",
       "    </tr>\n",
       "    <tr>\n",
       "      <th>3999995</th>\n",
       "      <td>80</td>\n",
       "      <td>54296</td>\n",
       "      <td>37757</td>\n",
       "      <td>0</td>\n",
       "      <td>2</td>\n",
       "      <td>0.0</td>\n",
       "      <td>0.0</td>\n",
       "      <td>0.0</td>\n",
       "      <td>0.0</td>\n",
       "      <td>0.000000</td>\n",
       "      <td>...</td>\n",
       "      <td>0</td>\n",
       "      <td>0.000000</td>\n",
       "      <td>0.000000</td>\n",
       "      <td>0.0</td>\n",
       "      <td>0.0</td>\n",
       "      <td>0.000000e+00</td>\n",
       "      <td>0.000000</td>\n",
       "      <td>0.0</td>\n",
       "      <td>0.0</td>\n",
       "      <td>ddos</td>\n",
       "    </tr>\n",
       "    <tr>\n",
       "      <th>3999996</th>\n",
       "      <td>80</td>\n",
       "      <td>33246</td>\n",
       "      <td>28356</td>\n",
       "      <td>0</td>\n",
       "      <td>2</td>\n",
       "      <td>0.0</td>\n",
       "      <td>0.0</td>\n",
       "      <td>0.0</td>\n",
       "      <td>0.0</td>\n",
       "      <td>0.000000</td>\n",
       "      <td>...</td>\n",
       "      <td>0</td>\n",
       "      <td>0.000000</td>\n",
       "      <td>0.000000</td>\n",
       "      <td>0.0</td>\n",
       "      <td>0.0</td>\n",
       "      <td>0.000000e+00</td>\n",
       "      <td>0.000000</td>\n",
       "      <td>0.0</td>\n",
       "      <td>0.0</td>\n",
       "      <td>ddos</td>\n",
       "    </tr>\n",
       "    <tr>\n",
       "      <th>3999997</th>\n",
       "      <td>80</td>\n",
       "      <td>38806</td>\n",
       "      <td>40263</td>\n",
       "      <td>0</td>\n",
       "      <td>2</td>\n",
       "      <td>0.0</td>\n",
       "      <td>0.0</td>\n",
       "      <td>0.0</td>\n",
       "      <td>0.0</td>\n",
       "      <td>0.000000</td>\n",
       "      <td>...</td>\n",
       "      <td>0</td>\n",
       "      <td>0.000000</td>\n",
       "      <td>0.000000</td>\n",
       "      <td>0.0</td>\n",
       "      <td>0.0</td>\n",
       "      <td>0.000000e+00</td>\n",
       "      <td>0.000000</td>\n",
       "      <td>0.0</td>\n",
       "      <td>0.0</td>\n",
       "      <td>ddos</td>\n",
       "    </tr>\n",
       "    <tr>\n",
       "      <th>3999998</th>\n",
       "      <td>80</td>\n",
       "      <td>38796</td>\n",
       "      <td>273</td>\n",
       "      <td>0</td>\n",
       "      <td>2</td>\n",
       "      <td>0.0</td>\n",
       "      <td>0.0</td>\n",
       "      <td>0.0</td>\n",
       "      <td>0.0</td>\n",
       "      <td>0.000000</td>\n",
       "      <td>...</td>\n",
       "      <td>0</td>\n",
       "      <td>0.000000</td>\n",
       "      <td>0.000000</td>\n",
       "      <td>0.0</td>\n",
       "      <td>0.0</td>\n",
       "      <td>0.000000e+00</td>\n",
       "      <td>0.000000</td>\n",
       "      <td>0.0</td>\n",
       "      <td>0.0</td>\n",
       "      <td>ddos</td>\n",
       "    </tr>\n",
       "    <tr>\n",
       "      <th>3999999</th>\n",
       "      <td>80</td>\n",
       "      <td>38410</td>\n",
       "      <td>254</td>\n",
       "      <td>0</td>\n",
       "      <td>2</td>\n",
       "      <td>0.0</td>\n",
       "      <td>0.0</td>\n",
       "      <td>0.0</td>\n",
       "      <td>0.0</td>\n",
       "      <td>0.000000</td>\n",
       "      <td>...</td>\n",
       "      <td>0</td>\n",
       "      <td>0.000000</td>\n",
       "      <td>0.000000</td>\n",
       "      <td>0.0</td>\n",
       "      <td>0.0</td>\n",
       "      <td>0.000000e+00</td>\n",
       "      <td>0.000000</td>\n",
       "      <td>0.0</td>\n",
       "      <td>0.0</td>\n",
       "      <td>ddos</td>\n",
       "    </tr>\n",
       "  </tbody>\n",
       "</table>\n",
       "<p>4000000 rows × 79 columns</p>\n",
       "</div>"
      ],
      "text/plain": [
       "         Src Port  Dst Port  Flow Duration  Tot Fwd Pkts  Tot Bwd Pkts  \\\n",
       "0           51263       443      105120546            16            24   \n",
       "1           65507        53            599             1             1   \n",
       "2           53552       443         131782             5             7   \n",
       "3             443     57803              3             1             1   \n",
       "4           39733        80        8864563            13            16   \n",
       "...           ...       ...            ...           ...           ...   \n",
       "3999995        80     54296          37757             0             2   \n",
       "3999996        80     33246          28356             0             2   \n",
       "3999997        80     38806          40263             0             2   \n",
       "3999998        80     38796            273             0             2   \n",
       "3999999        80     38410            254             0             2   \n",
       "\n",
       "         TotLen Fwd Pkts  TotLen Bwd Pkts  Fwd Pkt Len Max  Fwd Pkt Len Min  \\\n",
       "0                 1789.0           3492.0            270.0              0.0   \n",
       "1                   30.0             94.0             30.0             30.0   \n",
       "2                  334.0           3776.0            208.0              0.0   \n",
       "3                    0.0             31.0              0.0              0.0   \n",
       "4                  333.0          19111.0            333.0              0.0   \n",
       "...                  ...              ...              ...              ...   \n",
       "3999995              0.0              0.0              0.0              0.0   \n",
       "3999996              0.0              0.0              0.0              0.0   \n",
       "3999997              0.0              0.0              0.0              0.0   \n",
       "3999998              0.0              0.0              0.0              0.0   \n",
       "3999999              0.0              0.0              0.0              0.0   \n",
       "\n",
       "         Fwd Pkt Len Mean  ...  Fwd Seg Size Min    Active Mean    Active Std  \\\n",
       "0              111.812500  ...                20  137708.714286  11188.587008   \n",
       "1               30.000000  ...                 8       0.000000      0.000000   \n",
       "2               66.800000  ...                 0       0.000000      0.000000   \n",
       "3                0.000000  ...                 0       0.000000      0.000000   \n",
       "4               25.615385  ...                 0       0.000000      0.000000   \n",
       "...                   ...  ...               ...            ...           ...   \n",
       "3999995          0.000000  ...                 0       0.000000      0.000000   \n",
       "3999996          0.000000  ...                 0       0.000000      0.000000   \n",
       "3999997          0.000000  ...                 0       0.000000      0.000000   \n",
       "3999998          0.000000  ...                 0       0.000000      0.000000   \n",
       "3999999          0.000000  ...                 0       0.000000      0.000000   \n",
       "\n",
       "         Active Max  Active Min     Idle Mean      Idle Std    Idle Max  \\\n",
       "0          158091.0    126951.0  1.486128e+07  31810.084689  14914967.0   \n",
       "1               0.0         0.0  0.000000e+00      0.000000         0.0   \n",
       "2               0.0         0.0  0.000000e+00      0.000000         0.0   \n",
       "3               0.0         0.0  0.000000e+00      0.000000         0.0   \n",
       "4               0.0         0.0  0.000000e+00      0.000000         0.0   \n",
       "...             ...         ...           ...           ...         ...   \n",
       "3999995         0.0         0.0  0.000000e+00      0.000000         0.0   \n",
       "3999996         0.0         0.0  0.000000e+00      0.000000         0.0   \n",
       "3999997         0.0         0.0  0.000000e+00      0.000000         0.0   \n",
       "3999998         0.0         0.0  0.000000e+00      0.000000         0.0   \n",
       "3999999         0.0         0.0  0.000000e+00      0.000000         0.0   \n",
       "\n",
       "           Idle Min   Label  \n",
       "0        14824695.0  Benign  \n",
       "1               0.0  Benign  \n",
       "2               0.0  Benign  \n",
       "3               0.0  Benign  \n",
       "4               0.0  Benign  \n",
       "...             ...     ...  \n",
       "3999995         0.0    ddos  \n",
       "3999996         0.0    ddos  \n",
       "3999997         0.0    ddos  \n",
       "3999998         0.0    ddos  \n",
       "3999999         0.0    ddos  \n",
       "\n",
       "[4000000 rows x 79 columns]"
      ]
     },
     "execution_count": 13,
     "metadata": {},
     "output_type": "execute_result"
    }
   ],
   "source": [
    "df.drop(['Protocol'], axis=1)\n",
    "#df.drop(['Unnamed: 0','Timestamp','Protocol','Flow ID','Src IP','Dst IP'], axis=1, inplace=True)"
   ]
  },
  {
   "cell_type": "code",
   "execution_count": 14,
   "id": "8cb74670",
   "metadata": {},
   "outputs": [
    {
     "data": {
      "text/plain": [
       "80"
      ]
     },
     "execution_count": 14,
     "metadata": {},
     "output_type": "execute_result"
    }
   ],
   "source": [
    "cols=df.columns.to_list()\n",
    "len(cols)"
   ]
  },
  {
   "cell_type": "code",
   "execution_count": 15,
   "id": "0fb54d12",
   "metadata": {},
   "outputs": [
    {
     "name": "stderr",
     "output_type": "stream",
     "text": [
      "f:\\miniconda\\envs\\dl\\lib\\site-packages\\sklearn\\feature_selection\\_univariate_selection.py:110: UserWarning: Features [34 35 57 58 59 60 61 62] are constant.\n",
      "  warnings.warn(\"Features %s are constant.\" % constant_features_idx, UserWarning)\n",
      "f:\\miniconda\\envs\\dl\\lib\\site-packages\\sklearn\\feature_selection\\_univariate_selection.py:111: RuntimeWarning: invalid value encountered in divide\n",
      "  f = msb / msw\n"
     ]
    },
    {
     "name": "stdout",
     "output_type": "stream",
     "text": [
      "Remaining columns:\n",
      "Src Port\n",
      "Dst Port\n",
      "Protocol\n",
      "Flow Duration\n",
      "Fwd Pkt Len Max\n",
      "Fwd Pkt Len Min\n",
      "Fwd Pkt Len Mean\n",
      "Fwd Pkt Len Std\n",
      "Bwd Pkt Len Min\n",
      "Bwd Pkt Len Mean\n",
      "Fwd IAT Tot\n",
      "Pkt Len Min\n",
      "RST Flag Cnt\n",
      "PSH Flag Cnt\n",
      "ACK Flag Cnt\n",
      "CWE Flag Count\n",
      "Fwd Seg Size Avg\n",
      "Bwd Seg Size Avg\n",
      "Init Fwd Win Byts\n",
      "Fwd Seg Size Min\n"
     ]
    }
   ],
   "source": [
    "from sklearn.feature_selection import SelectKBest, mutual_info_classif, f_classif\n",
    "\n",
    "X=df.drop(['Label'], axis=1)\n",
    "Y=df['Label']\n",
    "\n",
    "del df\n",
    "gc.collect()\n",
    "\n",
    "fvalue_Best = SelectKBest(f_classif, k=20)\n",
    "X_kbest = fvalue_Best.fit_transform(X, Y)\n",
    "mask=fvalue_Best.get_support()\n",
    "\n",
    "print('Remaining columns:')\n",
    "for m,c in zip(mask, cols):\n",
    "    if m:\n",
    "        print(c)\n",
    "\n",
    "X=X_kbest"
   ]
  },
  {
   "cell_type": "code",
   "execution_count": 16,
   "id": "d6e0b5ca",
   "metadata": {},
   "outputs": [],
   "source": [
    "from sklearn.model_selection import train_test_split\n",
    "trainX, testX, trainY, testY = train_test_split(X, Y, shuffle=True, train_size=0.75)\n",
    "trainX, valX, trainY, valY = train_test_split(trainX, trainY, shuffle=True, train_size=0.75)\n",
    "\n",
    "del X,Y\n",
    "gc.collect()\n",
    "\n",
    "trainY=pd.Series(trainY)\n",
    "valY=pd.Series(valY)"
   ]
  },
  {
   "cell_type": "code",
   "execution_count": 17,
   "id": "4c423603",
   "metadata": {},
   "outputs": [],
   "source": [
    "from torch import tensor\n",
    "from torch.utils.data import Dataset, DataLoader\n",
    "\n",
    "class NetMetrics(Dataset):\n",
    "    def __init__(self, X, y, onehot):\n",
    "        self.x, self.y, self.onehot = X, y, onehot\n",
    "        self.len=self.x.shape[0]\n",
    "\n",
    "    def __getitem__(self,index):\n",
    "        tensor_label=self.onehot[self.y.iloc[index]]\n",
    "        return tensor(self.x[index], dtype=torch.float32), tensor_label\n",
    "        \n",
    "    def __len__(self):\n",
    "        return self.len\n",
    "\n",
    "dict_={'ddos' : torch.tensor([1,0], dtype=torch.float32),'Benign': torch.tensor([0,1],dtype=torch.float32)}\n",
    "ds=NetMetrics(scaler.fit_transform(trainX), trainY, dict_)"
   ]
  },
  {
   "cell_type": "code",
   "execution_count": 18,
   "id": "bc55198c",
   "metadata": {},
   "outputs": [
    {
     "name": "stdout",
     "output_type": "stream",
     "text": [
      "Stored 'scaler2' (StandardScaler)\n"
     ]
    }
   ],
   "source": [
    "scaler2=scaler\n",
    "%store scaler2"
   ]
  },
  {
   "cell_type": "markdown",
   "id": "64da0fee",
   "metadata": {},
   "source": [
    "## The model"
   ]
  },
  {
   "cell_type": "code",
   "execution_count": 19,
   "id": "7a1a9ca2",
   "metadata": {},
   "outputs": [
    {
     "data": {
      "text/plain": [
       "AttackNet(\n",
       "  (model): Sequential(\n",
       "    (0): Linear(in_features=20, out_features=512, bias=True)\n",
       "    (1): ReLU()\n",
       "    (2): Linear(in_features=512, out_features=256, bias=True)\n",
       "    (3): ReLU()\n",
       "    (4): Linear(in_features=256, out_features=128, bias=True)\n",
       "    (5): Tanh()\n",
       "    (6): Linear(in_features=128, out_features=64, bias=True)\n",
       "    (7): Tanh()\n",
       "    (8): Linear(in_features=64, out_features=2, bias=True)\n",
       "    (9): LogSoftmax(dim=1)\n",
       "  )\n",
       ")"
      ]
     },
     "execution_count": 19,
     "metadata": {},
     "output_type": "execute_result"
    }
   ],
   "source": [
    "class AttackNet(torch.nn.Module):\n",
    "\n",
    "    def __init__(self):\n",
    "        super(AttackNet, self).__init__()\n",
    "        self.model=torch.nn.Sequential(\n",
    "            torch.nn.Linear(20, 512),\n",
    "            torch.nn.ReLU(),\n",
    "            torch.nn.Linear(512, 256),\n",
    "            torch.nn.ReLU(),\n",
    "            torch.nn.Linear(256, 128),\n",
    "            torch.nn.Tanh(),\n",
    "            torch.nn.Linear(128, 64),\n",
    "            torch.nn.Tanh(),\n",
    "            torch.nn.Linear(64, 2),\n",
    "            torch.nn.LogSoftmax(dim=1)\n",
    "            )\n",
    "\n",
    "    def forward(self, x):\n",
    "        return self.model(x)\n",
    "\n",
    "def init_weights(module):\n",
    "        if isinstance(module, torch.nn.Linear):\n",
    "            torch.nn.init.xavier_uniform_(module.weight)\n",
    "            if module.bias is not None:\n",
    "                module.bias.data.fill_(0.0001)\n",
    "\n",
    "\n",
    "model = AttackNet()\n",
    "model.apply(init_weights)"
   ]
  },
  {
   "cell_type": "markdown",
   "id": "81d2b3fc",
   "metadata": {},
   "source": [
    "## Training"
   ]
  },
  {
   "cell_type": "code",
   "execution_count": 21,
   "id": "290c2710",
   "metadata": {},
   "outputs": [
    {
     "data": {
      "text/plain": [
       "'cuda:0'"
      ]
     },
     "execution_count": 21,
     "metadata": {},
     "output_type": "execute_result"
    }
   ],
   "source": [
    "device = 'cuda:0' if torch.cuda.is_available() == True else 'cpu'\n",
    "device"
   ]
  },
  {
   "cell_type": "code",
   "execution_count": 22,
   "id": "ec230f23",
   "metadata": {},
   "outputs": [],
   "source": [
    "from matplotlib import pyplot as plt\n",
    "from torch.utils.tensorboard import SummaryWriter\n",
    "\n",
    "writer = SummaryWriter()\n",
    "\n",
    "epochs=50\n",
    "learning_rate = .001\n",
    "model=model.to(device)\n",
    "criterion = torch.nn.CrossEntropyLoss().to(device)\n",
    "opt = torch.optim.Adam(model.parameters(), lr=learning_rate)\n",
    "scheduler = torch.optim.lr_scheduler.StepLR(opt, step_size=10, gamma=0.1)\n",
    "loader = DataLoader(dataset=ds, batch_size=100, shuffle=True)\n",
    "\n",
    "# Early stopping\n",
    "last_loss = np.inf\n",
    "patience = 3\n",
    "trigger_times = 0"
   ]
  },
  {
   "cell_type": "code",
   "execution_count": 23,
   "id": "31cfe435",
   "metadata": {},
   "outputs": [],
   "source": [
    "#from torchmetrics.classification import BinaryF1Score\n",
    "\n",
    "def model_validation(criterion):\n",
    "\n",
    "    #val_tar=[]\n",
    "    #val_pred=[]\n",
    "    cumulative_L_val=0.\n",
    "\n",
    "    val_ds = NetMetrics(scaler.transform(testX), testY, dict_)\n",
    "    val_loader=DataLoader(val_ds, batch_size=100, shuffle=False)\n",
    "\n",
    "    model.eval()\n",
    "\n",
    "    with torch.no_grad():\n",
    "        for inputs, ground_truth in val_loader:\n",
    "            y_tilde = model(inputs.to(device))\n",
    "            y=ground_truth\n",
    "\n",
    "            loss_val=criterion(y_tilde, y.to(device))\n",
    "            cumulative_L_val+=loss_val.item()\n",
    "           \n",
    "            #val_tar.append(y)\n",
    "            #val_pred.append(y_tilde.clone().detach())\n",
    "    \n",
    "        #f1=BinaryF1Score()\n",
    "        #f1_val=f1(tensor(val_pred), tensor(val_tar))\n",
    "\n",
    "        #print('F1-score Val: ', f1_val)\n",
    "    \n",
    "    #return f1_val\n",
    "    return cumulative_L_val\n",
    "    "
   ]
  },
  {
   "cell_type": "code",
   "execution_count": 24,
   "id": "822221d6",
   "metadata": {},
   "outputs": [],
   "source": [
    "def model_train(epoch, optimizer, model):\n",
    "    model.train()\n",
    "    \n",
    "    print(\"Epoch begin: \", epoch)\n",
    "    cumulative_L_train = 0.\n",
    "    for x,y in loader:\n",
    "        # reset optimizer\n",
    "        opt.zero_grad()\n",
    "        loss = criterion(model(x.to(device)), y.to(device))\n",
    "        loss.backward()\n",
    "        opt.step()\n",
    "        cumulative_L_train+=loss.item()\n",
    "\n",
    "    return cumulative_L_train"
   ]
  },
  {
   "cell_type": "code",
   "execution_count": 25,
   "id": "6b0946bc",
   "metadata": {},
   "outputs": [
    {
     "name": "stdout",
     "output_type": "stream",
     "text": [
      "Epoch begin:  0\n",
      "Epoch begin:  1\n",
      "No improvement detected\n",
      "Epoch begin:  2\n",
      "Epoch begin:  3\n",
      "Epoch begin:  4\n",
      "No improvement detected\n",
      "Epoch begin:  5\n",
      "No improvement detected\n",
      "Epoch begin:  6\n",
      "Epoch begin:  7\n",
      "No improvement detected\n",
      "Epoch begin:  8\n",
      "Epoch begin:  9\n",
      "No improvement detected\n",
      "Epoch begin:  10\n",
      "Epoch begin:  11\n",
      "Epoch begin:  12\n",
      "Epoch begin:  13\n",
      "No improvement detected\n",
      "Epoch begin:  14\n",
      "Epoch begin:  15\n",
      "No improvement detected\n",
      "Epoch begin:  16\n",
      "Epoch begin:  17\n",
      "Epoch begin:  18\n",
      "No improvement detected\n",
      "Epoch begin:  19\n",
      "No improvement detected\n",
      "Epoch begin:  20\n",
      "Epoch begin:  21\n",
      "Epoch begin:  22\n",
      "Epoch begin:  23\n",
      "Epoch begin:  24\n",
      "No improvement detected\n",
      "Epoch begin:  25\n",
      "Epoch begin:  26\n",
      "No improvement detected\n",
      "Epoch begin:  27\n",
      "Epoch begin:  28\n",
      "No improvement detected\n",
      "Epoch begin:  29\n",
      "Epoch begin:  30\n",
      "Epoch begin:  31\n",
      "Epoch begin:  32\n",
      "Epoch begin:  33\n",
      "No improvement detected\n",
      "Epoch begin:  34\n",
      "Epoch begin:  35\n",
      "Epoch begin:  36\n",
      "Epoch begin:  37\n",
      "Epoch begin:  38\n",
      "Epoch begin:  39\n",
      "Epoch begin:  40\n",
      "Epoch begin:  41\n",
      "No improvement detected\n",
      "Epoch begin:  42\n",
      "Epoch begin:  43\n",
      "Epoch begin:  44\n",
      "Epoch begin:  45\n",
      "No improvement detected\n",
      "Epoch begin:  46\n",
      "Epoch begin:  47\n",
      "Epoch begin:  48\n",
      "No improvement detected\n",
      "Epoch begin:  49\n"
     ]
    }
   ],
   "source": [
    "#out=[]\n",
    "for epoch in range(epochs):\n",
    "\n",
    "    \n",
    "    loss_train=model_train(epoch, opt, model)\n",
    "    writer.add_scalar(\"Loss/Train\", loss_train , epoch)\n",
    "    \n",
    "    loss_val=model_validation(criterion)\n",
    "    scheduler.step()\n",
    "\n",
    "    writer.add_scalar(\"Loss/Val\", loss_val , epoch)\n",
    "\n",
    "    writer.add_scalars(\"Loss/General\", {\"Train\": loss_val, \"Val\": loss_train}, epoch)\n",
    "\n",
    "    #EarlyStopping\n",
    "    if loss_val > last_loss:\n",
    "        trigger_times += 1\n",
    "        print('No improvement detected')\n",
    "\n",
    "    if trigger_times >= patience:\n",
    "        print('Early stopping triggered')\n",
    "        continue #exit now\n",
    "    else:\n",
    "        trigger_times = 0\n",
    "\n",
    "    last_loss = loss_val\n",
    "\n",
    "    #out.append(cumulative_L)\n",
    "\n",
    "writer.close()\n",
    "\n",
    "#plt.plot(out)"
   ]
  },
  {
   "cell_type": "code",
   "execution_count": 26,
   "id": "67271200",
   "metadata": {},
   "outputs": [],
   "source": [
    "from datetime import datetime\n",
    "model_name='.\\\\models\\\\' + datetime.now().strftime(\"%m-%d-%Y_%H-%M-%S\")+'__anova_binary_opt_sched_on_fair2M.model'\n",
    "torch.save(model.state_dict(), model_name)"
   ]
  },
  {
   "cell_type": "markdown",
   "id": "1dc60c67",
   "metadata": {},
   "source": [
    "## Test"
   ]
  },
  {
   "cell_type": "code",
   "execution_count": 27,
   "id": "77b2b1e2",
   "metadata": {},
   "outputs": [
    {
     "name": "stdout",
     "output_type": "stream",
     "text": [
      "1000000\n"
     ]
    }
   ],
   "source": [
    "test_ds = NetMetrics(scaler.transform(testX), testY, dict_)\n",
    "print(len(test_ds))\n",
    "test_loader=DataLoader(test_ds, batch_size=100, shuffle=False)"
   ]
  },
  {
   "cell_type": "code",
   "execution_count": 28,
   "id": "4308d92e",
   "metadata": {},
   "outputs": [
    {
     "data": {
      "text/plain": [
       "[499440, 497372]"
      ]
     },
     "execution_count": 28,
     "metadata": {},
     "output_type": "execute_result"
    }
   ],
   "source": [
    "#model=AttackNet()\n",
    "#model.load_state_dict(torch.load('.\\\\models\\\\12-19-2022_21-02-10__anova_binary_opt.model'))\n",
    "model=model.to('cpu')\n",
    "model.eval()\n",
    "\n",
    "acc = [0]*2\n",
    "translator={0 : 'ddos', 1 : 'Benign'}\n",
    "targets=[]\n",
    "preds=[]\n",
    "\n",
    "model.eval()\n",
    "\n",
    "with torch.no_grad():\n",
    "    for inputs, ground_truth in test_loader:\n",
    "        prediction = torch.argmax(model(inputs), dim=1)\n",
    "        targ = torch.argmax(ground_truth, dim=1)\n",
    "\n",
    "        targets.extend(targ.tolist())\n",
    "        preds.extend(prediction.clone().detach().tolist())\n",
    "\n",
    "    for p,t in zip(preds, targets):\n",
    "        if p == t:\n",
    "            acc[p]+=1\n",
    "\n",
    "acc"
   ]
  },
  {
   "cell_type": "code",
   "execution_count": 29,
   "id": "9f57926b",
   "metadata": {},
   "outputs": [
    {
     "data": {
      "text/plain": [
       "ddos      500726\n",
       "Benign    499274\n",
       "Name: Label, dtype: int64"
      ]
     },
     "execution_count": 29,
     "metadata": {},
     "output_type": "execute_result"
    }
   ],
   "source": [
    "val_count_test=testY.value_counts()\n",
    "val_count_test"
   ]
  },
  {
   "cell_type": "code",
   "execution_count": 30,
   "id": "9d94f44a",
   "metadata": {},
   "outputs": [
    {
     "name": "stdout",
     "output_type": "stream",
     "text": [
      "Per class accuracy:  [0.9974317291293042, 0.9961904685603497]\n"
     ]
    }
   ],
   "source": [
    "acc_final=[a/val_count_test[translator[idx]] for idx,a in enumerate(acc)]\n",
    "print('Per class accuracy: ', acc_final)"
   ]
  },
  {
   "cell_type": "code",
   "execution_count": 31,
   "id": "c514ab36",
   "metadata": {},
   "outputs": [
    {
     "name": "stdout",
     "output_type": "stream",
     "text": [
      "Precision:  tensor(0.9974)\n",
      "Recall:  tensor(0.9962)\n",
      "F1-score:  tensor(0.9968)\n",
      "Overall Accuracy:  tensor(0.9968)\n"
     ]
    },
    {
     "data": {
      "text/plain": [
       "<AxesSubplot: >"
      ]
     },
     "execution_count": 31,
     "metadata": {},
     "output_type": "execute_result"
    },
    {
     "data": {
      "image/png": "[encoded data removed]",
      "text/plain": [
       "<Figure size 640x480 with 2 Axes>"
      ]
     },
     "metadata": {},
     "output_type": "display_data"
    }
   ],
   "source": [
    "from torchmetrics.classification import BinaryConfusionMatrix, BinaryPrecision, BinaryRecall, BinaryF1Score, BinaryAccuracy\n",
    "\n",
    "target = torch.tensor(targets)\n",
    "preds = torch.tensor(preds)\n",
    "metric = BinaryConfusionMatrix(normalize='true')\n",
    "res=metric(preds, target)\n",
    "\n",
    "prec = BinaryPrecision()\n",
    "print('Precision: ',prec(preds, target))\n",
    "\n",
    "rec=BinaryRecall()\n",
    "print('Recall: ', rec(preds, target))\n",
    "\n",
    "f1=BinaryF1Score()\n",
    "print('F1-score: ', f1(preds, target))\n",
    "\n",
    "acc2=BinaryAccuracy()\n",
    "print('Overall Accuracy: ', acc2(preds, target))\n",
    "\n",
    "import seaborn as sn\n",
    "sn.heatmap(res, annot=True)"
   ]
  },
  {
   "cell_type": "markdown",
   "id": "6d88126a",
   "metadata": {},
   "source": [
    "___"
   ]
  }
 ],
 "metadata": {
  "kernelspec": {
   "display_name": "Python 3.9.12 ('dl')",
   "language": "python",
   "name": "python3"
  },
  "language_info": {
   "codemirror_mode": {
    "name": "ipython",
    "version": 3
   },
   "file_extension": ".py",
   "mimetype": "text/x-python",
   "name": "python",
   "nbconvert_exporter": "python",
   "pygments_lexer": "ipython3",
   "version": "3.9.15"
  },
  "vscode": {
   "interpreter": {
    "hash": "a41f043e3f504d40bb31377d42299aba33beec9c14fb34c08aef092f76f6f6b0"
   }
  }
 },
 "nbformat": 4,
 "nbformat_minor": 5
}
