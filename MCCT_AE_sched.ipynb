{
 "cells": [
  {
   "attachments": {},
   "cell_type": "markdown",
   "id": "e7cbd7dd",
   "metadata": {},
   "source": [
    "# MCCT with AE and lr scheduler"
   ]
  },
  {
   "cell_type": "code",
   "execution_count": 1,
   "id": "84bdc1ab",
   "metadata": {},
   "outputs": [
    {
     "name": "stdout",
     "output_type": "stream",
     "text": [
      "Cuda capable device found!\n"
     ]
    }
   ],
   "source": [
    "import os\n",
    "import gc\n",
    "import matplotlib.pyplot as plt\n",
    "import pandas as pd\n",
    "import numpy as np\n",
    "os.environ[\"KMP_DUPLICATE_LIB_OK\"]=\"TRUE\" #my python installation is kinda messy, please allow this\n",
    "import torch\n",
    "if not torch.cuda.is_available():\n",
    "    quit()\n",
    "else:\n",
    "    print(\"Cuda capable device found!\")"
   ]
  },
  {
   "cell_type": "code",
   "execution_count": 2,
   "id": "f8821c86",
   "metadata": {},
   "outputs": [],
   "source": [
    "ds_selector='.\\\\datasets\\\\CICDDoS2019\\\\CORRECT_CUT'"
   ]
  },
  {
   "cell_type": "code",
   "execution_count": 3,
   "id": "ef0e7b3b",
   "metadata": {},
   "outputs": [
    {
     "data": {
      "text/plain": [
       "['.\\\\datasets\\\\CICDDoS2019\\\\CORRECT_CUT\\\\fair_cut.csv',\n",
       " '.\\\\datasets\\\\CICDDoS2019\\\\CORRECT_CUT\\\\unified_jumbo.csv',\n",
       " '.\\\\datasets\\\\CICDDoS2019\\\\CORRECT_CUT\\\\classes\\\\BENIGN\\\\BENIGN.csv',\n",
       " '.\\\\datasets\\\\CICDDoS2019\\\\CORRECT_CUT\\\\classes\\\\DNS\\\\DNS.csv',\n",
       " '.\\\\datasets\\\\CICDDoS2019\\\\CORRECT_CUT\\\\classes\\\\LDAP\\\\LDAP.csv',\n",
       " '.\\\\datasets\\\\CICDDoS2019\\\\CORRECT_CUT\\\\classes\\\\MSSQL\\\\MSSQL.csv',\n",
       " '.\\\\datasets\\\\CICDDoS2019\\\\CORRECT_CUT\\\\classes\\\\NetBIOS\\\\NetBIOS.csv',\n",
       " '.\\\\datasets\\\\CICDDoS2019\\\\CORRECT_CUT\\\\classes\\\\NTP\\\\NTP.csv',\n",
       " '.\\\\datasets\\\\CICDDoS2019\\\\CORRECT_CUT\\\\classes\\\\SNMP\\\\SNMP.csv',\n",
       " '.\\\\datasets\\\\CICDDoS2019\\\\CORRECT_CUT\\\\classes\\\\SSDP\\\\SSDP.csv',\n",
       " '.\\\\datasets\\\\CICDDoS2019\\\\CORRECT_CUT\\\\classes\\\\Syn\\\\Syn.csv',\n",
       " '.\\\\datasets\\\\CICDDoS2019\\\\CORRECT_CUT\\\\classes\\\\TFTP\\\\TFTP.csv',\n",
       " '.\\\\datasets\\\\CICDDoS2019\\\\CORRECT_CUT\\\\classes\\\\UDP\\\\UDP.csv',\n",
       " '.\\\\datasets\\\\CICDDoS2019\\\\CORRECT_CUT\\\\classes\\\\UDPLag\\\\UDPLag.csv']"
      ]
     },
     "execution_count": 3,
     "metadata": {},
     "output_type": "execute_result"
    }
   ],
   "source": [
    "csv_files = []\n",
    "for dirname, _, filenames in os.walk(ds_selector):\n",
    "    for filename in filenames:\n",
    "        csv_file = os.path.join(dirname, filename)\n",
    "        csv_files.append(csv_file)\n",
    "csv_files"
   ]
  },
  {
   "cell_type": "code",
   "execution_count": 4,
   "id": "8dcbd6d7",
   "metadata": {},
   "outputs": [
    {
     "name": "stdout",
     "output_type": "stream",
     "text": [
      "Original length of df: 1352772\n"
     ]
    }
   ],
   "source": [
    "csv_files = ['.\\\\datasets\\\\CICDDoS2019\\\\CORRECT_CUT\\\\fair_cut.csv']\n",
    "if len(csv_files) > 1:\n",
    "    df = pd.concat([pd.read_csv(file) for file in csv_files], ignore_index=True)\n",
    "else:\n",
    "    df = pd.read_csv(csv_files[0])\n",
    "    \n",
    "df.columns = df.columns.str.strip()\n",
    "print(\"Original length of df:\", len(df))"
   ]
  },
  {
   "cell_type": "code",
   "execution_count": 5,
   "id": "b0530064",
   "metadata": {},
   "outputs": [
    {
     "name": "stdout",
     "output_type": "stream",
     "text": [
      "<class 'pandas.core.frame.DataFrame'>\n",
      "RangeIndex: 1352772 entries, 0 to 1352771\n",
      "Data columns (total 80 columns):\n",
      " #   Column                       Non-Null Count    Dtype  \n",
      "---  ------                       --------------    -----  \n",
      " 0   Destination Port             1352772 non-null  int64  \n",
      " 1   Flow Duration                1352772 non-null  int64  \n",
      " 2   Total Fwd Packets            1352772 non-null  int64  \n",
      " 3   Total Backward Packets       1352772 non-null  int64  \n",
      " 4   Total Length of Fwd Packets  1352772 non-null  float64\n",
      " 5   Total Length of Bwd Packets  1352772 non-null  float64\n",
      " 6   Fwd Packet Length Max        1352772 non-null  float64\n",
      " 7   Fwd Packet Length Min        1352772 non-null  float64\n",
      " 8   Fwd Packet Length Mean       1352772 non-null  float64\n",
      " 9   Fwd Packet Length Std        1352772 non-null  float64\n",
      " 10  Bwd Packet Length Max        1352772 non-null  float64\n",
      " 11  Bwd Packet Length Min        1352772 non-null  float64\n",
      " 12  Bwd Packet Length Mean       1352772 non-null  float64\n",
      " 13  Bwd Packet Length Std        1352772 non-null  float64\n",
      " 14  Flow Bytes/s                 1352772 non-null  float64\n",
      " 15  Flow Packets/s               1352772 non-null  float64\n",
      " 16  Flow IAT Mean                1352772 non-null  float64\n",
      " 17  Flow IAT Std                 1352772 non-null  float64\n",
      " 18  Flow IAT Max                 1352772 non-null  float64\n",
      " 19  Flow IAT Min                 1352772 non-null  float64\n",
      " 20  Fwd IAT Total                1352772 non-null  float64\n",
      " 21  Fwd IAT Mean                 1352772 non-null  float64\n",
      " 22  Fwd IAT Std                  1352772 non-null  float64\n",
      " 23  Fwd IAT Max                  1352772 non-null  float64\n",
      " 24  Fwd IAT Min                  1352772 non-null  float64\n",
      " 25  Bwd IAT Total                1352772 non-null  float64\n",
      " 26  Bwd IAT Mean                 1352772 non-null  float64\n",
      " 27  Bwd IAT Std                  1352772 non-null  float64\n",
      " 28  Bwd IAT Max                  1352772 non-null  float64\n",
      " 29  Bwd IAT Min                  1352772 non-null  float64\n",
      " 30  Fwd PSH Flags                1352772 non-null  int64  \n",
      " 31  Bwd PSH Flags                1352772 non-null  int64  \n",
      " 32  Fwd URG Flags                1352772 non-null  int64  \n",
      " 33  Bwd URG Flags                1352772 non-null  int64  \n",
      " 34  Fwd Header Length            1352772 non-null  int64  \n",
      " 35  Bwd Header Length            1352772 non-null  int64  \n",
      " 36  Fwd Packets/s                1352772 non-null  float64\n",
      " 37  Bwd Packets/s                1352772 non-null  float64\n",
      " 38  Min Packet Length            1352772 non-null  float64\n",
      " 39  Max Packet Length            1352772 non-null  float64\n",
      " 40  Packet Length Mean           1352772 non-null  float64\n",
      " 41  Packet Length Std            1352772 non-null  float64\n",
      " 42  Packet Length Variance       1352772 non-null  float64\n",
      " 43  FIN Flag Count               1352772 non-null  int64  \n",
      " 44  SYN Flag Count               1352772 non-null  int64  \n",
      " 45  RST Flag Count               1352772 non-null  int64  \n",
      " 46  PSH Flag Count               1352772 non-null  int64  \n",
      " 47  ACK Flag Count               1352772 non-null  int64  \n",
      " 48  URG Flag Count               1352772 non-null  int64  \n",
      " 49  CWE Flag Count               1352772 non-null  int64  \n",
      " 50  ECE Flag Count               1352772 non-null  int64  \n",
      " 51  Down/Up Ratio                1352772 non-null  float64\n",
      " 52  Average Packet Size          1352772 non-null  float64\n",
      " 53  Avg Fwd Segment Size         1352772 non-null  float64\n",
      " 54  Avg Bwd Segment Size         1352772 non-null  float64\n",
      " 55  Fwd Header Length.1          1352772 non-null  int64  \n",
      " 56  Fwd Avg Bytes/Bulk           1352772 non-null  int64  \n",
      " 57  Fwd Avg Packets/Bulk         1352772 non-null  int64  \n",
      " 58  Fwd Avg Bulk Rate            1352772 non-null  int64  \n",
      " 59  Bwd Avg Bytes/Bulk           1352772 non-null  int64  \n",
      " 60  Bwd Avg Packets/Bulk         1352772 non-null  int64  \n",
      " 61  Bwd Avg Bulk Rate            1352772 non-null  int64  \n",
      " 62  Subflow Fwd Packets          1352772 non-null  int64  \n",
      " 63  Subflow Fwd Bytes            1352772 non-null  int64  \n",
      " 64  Subflow Bwd Packets          1352772 non-null  int64  \n",
      " 65  Subflow Bwd Bytes            1352772 non-null  int64  \n",
      " 66  Init_Win_bytes_forward       1352772 non-null  int64  \n",
      " 67  Init_Win_bytes_backward      1352772 non-null  int64  \n",
      " 68  act_data_pkt_fwd             1352772 non-null  int64  \n",
      " 69  min_seg_size_forward         1352772 non-null  int64  \n",
      " 70  Active Mean                  1352772 non-null  float64\n",
      " 71  Active Std                   1352772 non-null  float64\n",
      " 72  Active Max                   1352772 non-null  float64\n",
      " 73  Active Min                   1352772 non-null  float64\n",
      " 74  Idle Mean                    1352772 non-null  float64\n",
      " 75  Idle Std                     1352772 non-null  float64\n",
      " 76  Idle Max                     1352772 non-null  float64\n",
      " 77  Idle Min                     1352772 non-null  float64\n",
      " 78  Inbound                      1352772 non-null  int64  \n",
      " 79  Label                        1352772 non-null  object \n",
      "dtypes: float64(45), int64(34), object(1)\n",
      "memory usage: 825.7+ MB\n"
     ]
    }
   ],
   "source": [
    "#df.describe()\n",
    "df.info()"
   ]
  },
  {
   "cell_type": "code",
   "execution_count": 6,
   "id": "11f50ed1",
   "metadata": {},
   "outputs": [
    {
     "data": {
      "text/plain": [
       "'df.replace([np.inf, -np.inf], np.nan, inplace=True)\\ndf.dropna(inplace=True)\\nprint(\"After dropping NaNs, the length of df:\", len(df))\\ndf.drop_duplicates(keep=\\'first\\', inplace=True)'"
      ]
     },
     "execution_count": 6,
     "metadata": {},
     "output_type": "execute_result"
    }
   ],
   "source": [
    "\"\"\"df.replace([np.inf, -np.inf], np.nan, inplace=True)\n",
    "df.dropna(inplace=True)\n",
    "print(\"After dropping NaNs, the length of df:\", len(df))\n",
    "df.drop_duplicates(keep='first', inplace=True)\"\"\""
   ]
  },
  {
   "cell_type": "code",
   "execution_count": 7,
   "id": "fb415b08",
   "metadata": {},
   "outputs": [
    {
     "data": {
      "text/plain": [
       "\"for col in df.columns:\\n    if len(df[col].unique()) == 1:\\n        print('Removing column', str(col))\\n        df.drop(col,inplace=True,axis=1)\""
      ]
     },
     "execution_count": 7,
     "metadata": {},
     "output_type": "execute_result"
    }
   ],
   "source": [
    "\"\"\"for col in df.columns:\n",
    "    if len(df[col].unique()) == 1:\n",
    "        print('Removing column', str(col))\n",
    "        df.drop(col,inplace=True,axis=1)\"\"\""
   ]
  },
  {
   "cell_type": "code",
   "execution_count": 8,
   "id": "b50753f6",
   "metadata": {},
   "outputs": [
    {
     "data": {
      "text/plain": [
       "BENIGN     112731\n",
       "DNS        112731\n",
       "LDAP       112731\n",
       "MSSQL      112731\n",
       "NetBIOS    112731\n",
       "NTP        112731\n",
       "SNMP       112731\n",
       "SSDP       112731\n",
       "Syn        112731\n",
       "TFTP       112731\n",
       "UDP        112731\n",
       "UDPLag     112731\n",
       "Name: Label, dtype: int64"
      ]
     },
     "execution_count": 8,
     "metadata": {},
     "output_type": "execute_result"
    }
   ],
   "source": [
    "df.Label.value_counts()"
   ]
  },
  {
   "cell_type": "code",
   "execution_count": 9,
   "id": "22f381d2",
   "metadata": {},
   "outputs": [
    {
     "name": "stderr",
     "output_type": "stream",
     "text": [
      "C:\\Users\\MAX\\AppData\\Local\\Temp\\ipykernel_8296\\2263113112.py:1: FutureWarning: The default value of numeric_only in DataFrame.corr is deprecated. In a future version, it will default to False. Select only valid columns or specify the value of numeric_only to silence this warning.\n",
      "  corr_mat=df.corr()\n"
     ]
    },
    {
     "data": {
      "image/png": "[encoded data removed]",
      "text/plain": [
       "<Figure size 480x480 with 1 Axes>"
      ]
     },
     "metadata": {},
     "output_type": "display_data"
    }
   ],
   "source": [
    "corr_mat=df.corr()\n",
    "plt.matshow(corr_mat)\n",
    "plt.show()"
   ]
  },
  {
   "cell_type": "code",
   "execution_count": 10,
   "id": "b7d12144",
   "metadata": {},
   "outputs": [
    {
     "name": "stdout",
     "output_type": "stream",
     "text": [
      "['Destination Port', 'Flow Duration', 'Total Fwd Packets', 'Total Backward Packets', 'Total Length of Fwd Packets', 'Total Length of Bwd Packets', 'Fwd Packet Length Max', 'Fwd Packet Length Min', 'Fwd Packet Length Mean', 'Fwd Packet Length Std', 'Bwd Packet Length Max', 'Bwd Packet Length Min', 'Bwd Packet Length Mean', 'Bwd Packet Length Std', 'Flow Bytes/s', 'Flow Packets/s', 'Flow IAT Mean', 'Flow IAT Std', 'Flow IAT Max', 'Flow IAT Min', 'Fwd IAT Total', 'Fwd IAT Mean', 'Fwd IAT Std', 'Fwd IAT Max', 'Fwd IAT Min', 'Bwd IAT Total', 'Bwd IAT Mean', 'Bwd IAT Std', 'Bwd IAT Max', 'Bwd IAT Min', 'Fwd PSH Flags', 'Bwd PSH Flags', 'Fwd URG Flags', 'Bwd URG Flags', 'Fwd Header Length', 'Bwd Header Length', 'Fwd Packets/s', 'Bwd Packets/s', 'Min Packet Length', 'Max Packet Length', 'Packet Length Mean', 'Packet Length Std', 'Packet Length Variance', 'FIN Flag Count', 'SYN Flag Count', 'RST Flag Count', 'PSH Flag Count', 'ACK Flag Count', 'URG Flag Count', 'CWE Flag Count', 'ECE Flag Count', 'Down/Up Ratio', 'Average Packet Size', 'Avg Fwd Segment Size', 'Avg Bwd Segment Size', 'Fwd Header Length.1', 'Fwd Avg Bytes/Bulk', 'Fwd Avg Packets/Bulk', 'Fwd Avg Bulk Rate', 'Bwd Avg Bytes/Bulk', 'Bwd Avg Packets/Bulk', 'Bwd Avg Bulk Rate', 'Subflow Fwd Packets', 'Subflow Fwd Bytes', 'Subflow Bwd Packets', 'Subflow Bwd Bytes', 'Init_Win_bytes_forward', 'Init_Win_bytes_backward', 'act_data_pkt_fwd', 'min_seg_size_forward', 'Active Mean', 'Active Std', 'Active Max', 'Active Min', 'Idle Mean', 'Idle Std', 'Idle Max', 'Idle Min', 'Inbound', 'Label']\n",
      "80\n"
     ]
    }
   ],
   "source": [
    "cols=df.columns.to_list()\n",
    "print(cols)\n",
    "print(len(cols))"
   ]
  },
  {
   "cell_type": "code",
   "execution_count": 11,
   "id": "a3f65585",
   "metadata": {},
   "outputs": [
    {
     "name": "stdout",
     "output_type": "stream",
     "text": [
      "0 Destination Port , Std: 20105.976448412795 , Avg: 30998.746487952147\n",
      "1 Flow Duration , Std: 11817897.20171718 , Avg: 2116002.844284181\n",
      "2 Total Fwd Packets , Std: 222.02923853078465 , Avg: 8.82712016511282\n",
      "3 Total Backward Packets , Std: 32.19893427136701 , Avg: 0.8107515531072494\n",
      "4 Total Length of Fwd Packets , Std: 19456.412990897934 , Avg: 3679.1860320881865\n",
      "5 Total Length of Bwd Packets , Std: 60578.19942889997 , Avg: 556.446286587836\n",
      "6 Fwd Packet Length Max , Std: 541.0232997132838 , Avg: 583.9448465816856\n",
      "7 Fwd Packet Length Min , Std: 543.1249334027852 , Avg: 560.1538004926181\n",
      "8 Fwd Packet Length Mean , Std: 537.3158103815878 , Avg: 570.9523869080766\n",
      "9 Fwd Packet Length Std , Std: 42.446998747370415 , Avg: 8.586602142883406\n",
      "10 Bwd Packet Length Max , Std: 283.8163802203857 , Avg: 26.564854240034535\n",
      "11 Bwd Packet Length Min , Std: 19.212298081181125 , Avg: 2.9127465677882154\n",
      "12 Bwd Packet Length Mean , Std: 73.64542159755085 , Avg: 8.683555098738644\n",
      "13 Bwd Packet Length Std , Std: 74.64004403878818 , Avg: 7.034263983849263\n",
      "14 Flow Bytes/s , Std: 991855677.6535256 , Avg: 727107165.2355407\n",
      "15 Flow Packets/s , Std: 918108.107799776 , Avg: 1038979.2402056238\n",
      "16 Flow IAT Mean , Std: 1028366.995644224 , Avg: 220731.69095795\n",
      "17 Flow IAT Std , Std: 1763515.4768376336 , Avg: 387994.168048185\n",
      "18 Flow IAT Max , Std: 5259770.915336928 , Avg: 1008007.4415644321\n",
      "19 Flow IAT Min , Std: 121824.50251739522 , Avg: 1313.1879873326768\n",
      "20 Fwd IAT Total , Std: 11800204.02215788 , Avg: 2091278.2449695885\n",
      "21 Fwd IAT Mean , Std: 1165255.117425492 , Avg: 252742.51021767323\n",
      "22 Fwd IAT Std , Std: 1940889.7945578955 , Avg: 417113.744058686\n",
      "23 Fwd IAT Max , Std: 5244865.672438565 , Avg: 994319.7559366989\n",
      "24 Fwd IAT Min , Std: 122121.2924236466 , Avg: 1198.0100290366743\n",
      "25 Bwd IAT Total , Std: 8845906.975331869 , Avg: 869560.7099769954\n",
      "26 Bwd IAT Mean , Std: 734310.9441130952 , Avg: 65869.83655137685\n",
      "27 Bwd IAT Std , Std: 1458429.319078514 , Avg: 139037.19247028584\n",
      "28 Bwd IAT Max , Std: 4297237.501813661 , Avg: 411476.78966891684\n",
      "29 Bwd IAT Min , Std: 3.192865960184387 , Avg: 0.3511219924717543\n",
      "30 Fwd PSH Flags , Std: 0.11123002971420114 , Avg: 0.0125290884199259\n",
      "31 Bwd PSH Flags , Std: 0.0 , Avg: 0.0\n",
      "32 Fwd URG Flags , Std: 0.0 , Avg: 0.0\n",
      "33 Bwd URG Flags , Std: 0.0 , Avg: 0.0\n",
      "34 Fwd Header Length , Std: 2453366785.4970303 , Avg: -118095898.47564778\n",
      "35 Bwd Header Length , Std: 33706389.48509555 , Avg: -374430.23144476674\n",
      "36 Fwd Packets/s , Std: 918989.1848258228 , Avg: 1037703.4271577583\n",
      "37 Bwd Packets/s , Std: 21881.824103056613 , Avg: 1275.8130478663597\n",
      "38 Min Packet Length , Std: 543.0612687192222 , Avg: 559.9699202822057\n",
      "39 Max Packet Length , Std: 586.591665392805 , Avg: 600.5168313655221\n",
      "40 Packet Length Mean , Std: 536.0224909652912 , Avg: 573.326255978256\n",
      "41 Packet Length Std , Std: 69.93438754198728 , Avg: 12.446307051260264\n",
      "42 Packet Length Variance , Std: 116387.09008678765 , Avg: 5045.725504323648\n",
      "43 FIN Flag Count , Std: 0.0 , Avg: 0.0\n",
      "44 SYN Flag Count , Std: 0.019545650305958662 , Avg: 0.00038217822367701284\n",
      "45 RST Flag Count , Std: 0.11123002971420114 , Avg: 0.0125290884199259\n",
      "46 PSH Flag Count , Std: 0.0 , Avg: 0.0\n",
      "47 ACK Flag Count , Std: 0.37566719809606586 , Avg: 0.17003900139860967\n",
      "48 URG Flag Count , Std: 0.19224087847563548 , Avg: 0.03843367544567747\n",
      "49 CWE Flag Count , Std: 0.1318233936928309 , Avg: 0.01769034249674003\n",
      "50 ECE Flag Count , Std: 0.0 , Avg: 0.0\n",
      "51 Down/Up Ratio , Std: 0.4085419808359679 , Avg: 0.10584266971817867\n",
      "52 Average Packet Size , Std: 815.5966687759196 , Avg: 826.5031799303841\n",
      "53 Avg Fwd Segment Size , Std: 537.3158103815878 , Avg: 570.9523869080766\n",
      "54 Avg Bwd Segment Size , Std: 73.64542159755085 , Avg: 8.683555098738644\n",
      "55 Fwd Header Length.1 , Std: 2453366785.4970303 , Avg: -118095898.47564778\n",
      "56 Fwd Avg Bytes/Bulk , Std: 0.0 , Avg: 0.0\n",
      "57 Fwd Avg Packets/Bulk , Std: 0.0 , Avg: 0.0\n",
      "58 Fwd Avg Bulk Rate , Std: 0.0 , Avg: 0.0\n",
      "59 Bwd Avg Bytes/Bulk , Std: 0.0 , Avg: 0.0\n",
      "60 Bwd Avg Packets/Bulk , Std: 0.0 , Avg: 0.0\n",
      "61 Bwd Avg Bulk Rate , Std: 0.0 , Avg: 0.0\n",
      "62 Subflow Fwd Packets , Std: 222.02923853078465 , Avg: 8.82712016511282\n",
      "63 Subflow Fwd Bytes , Std: 19456.412990897934 , Avg: 3679.1860320881865\n",
      "64 Subflow Bwd Packets , Std: 32.19893427136701 , Avg: 0.8107515531072494\n",
      "65 Subflow Bwd Bytes , Std: 60578.19942889997 , Avg: 556.446286587836\n",
      "66 Init_Win_bytes_forward , Std: 4909.869313988556 , Avg: 1459.8967948774812\n",
      "67 Init_Win_bytes_backward , Std: 3099.9289915945924 , Avg: 263.0461563367663\n",
      "68 act_data_pkt_fwd , Std: 31.15110970727845 , Avg: 6.89433030843335\n",
      "69 min_seg_size_forward , Std: 190091942.20746446 , Avg: -35160857.912926935\n",
      "70 Active Mean , Std: 181304.36899019507 , Avg: 9099.5046832124\n",
      "71 Active Std , Std: 97646.6404380998 , Avg: 4647.38976503132\n",
      "72 Active Max , Std: 256392.7033983859 , Avg: 15122.129817885054\n",
      "73 Active Min , Std: 164420.32533142154 , Avg: 6290.505295792639\n",
      "74 Idle Mean , Std: 4700506.7993075615 , Avg: 731684.2681501589\n",
      "75 Idle Std , Std: 1013280.9074307842 , Avg: 107628.81794170514\n",
      "76 Idle Max , Std: 5188855.344954012 , Avg: 836136.0325598106\n",
      "77 Idle Min , Std: 4408020.82815727 , Avg: 639636.3213423991\n",
      "78 Inbound , Std: 0.2523924676749795 , Avg: 0.9316226237680851\n"
     ]
    }
   ],
   "source": [
    "for i in range(len(df.columns)):\n",
    "    if cols[i] != 'Label':\n",
    "        print(i, cols[i], ', Std:', df.iloc[:,i].std(), ', Avg:', df.iloc[:,i].mean())"
   ]
  },
  {
   "cell_type": "code",
   "execution_count": 12,
   "id": "2adebac1",
   "metadata": {},
   "outputs": [
    {
     "data": {
      "text/plain": [
       "{'DNS': (0, tensor([1, 0, 0, 0, 0, 0, 0, 0, 0, 0, 0, 0])),\n",
       " 'BENIGN': (1, tensor([0, 1, 0, 0, 0, 0, 0, 0, 0, 0, 0, 0])),\n",
       " 'LDAP': (2, tensor([0, 0, 1, 0, 0, 0, 0, 0, 0, 0, 0, 0])),\n",
       " 'MSSQL': (3, tensor([0, 0, 0, 1, 0, 0, 0, 0, 0, 0, 0, 0])),\n",
       " 'NetBIOS': (4, tensor([0, 0, 0, 0, 1, 0, 0, 0, 0, 0, 0, 0])),\n",
       " 'NTP': (5, tensor([0, 0, 0, 0, 0, 1, 0, 0, 0, 0, 0, 0])),\n",
       " 'SNMP': (6, tensor([0, 0, 0, 0, 0, 0, 1, 0, 0, 0, 0, 0])),\n",
       " 'SSDP': (7, tensor([0, 0, 0, 0, 0, 0, 0, 1, 0, 0, 0, 0])),\n",
       " 'UDP': (8, tensor([0, 0, 0, 0, 0, 0, 0, 0, 1, 0, 0, 0])),\n",
       " 'Syn': (9, tensor([0, 0, 0, 0, 0, 0, 0, 0, 0, 1, 0, 0])),\n",
       " 'TFTP': (10, tensor([0, 0, 0, 0, 0, 0, 0, 0, 0, 0, 1, 0])),\n",
       " 'UDPLag': (11, tensor([0, 0, 0, 0, 0, 0, 0, 0, 0, 0, 0, 1]))}"
      ]
     },
     "execution_count": 12,
     "metadata": {},
     "output_type": "execute_result"
    }
   ],
   "source": [
    "%store -r classes_distribution_cut\n",
    "classes_ids={}\n",
    "classes_ids=classes_ids.fromkeys(classes_distribution_cut)\n",
    "\n",
    "one_hot_encoding=torch.nn.functional.one_hot(torch.arange(0,len(classes_distribution_cut)),num_classes=len(classes_distribution_cut))\n",
    "one_hot_encoding\n",
    "\n",
    "for idx,(k,_) in enumerate(classes_ids.items()):\n",
    "    classes_ids[k]=(idx,one_hot_encoding[idx])\n",
    "\n",
    "classes_ids"
   ]
  },
  {
   "cell_type": "code",
   "execution_count": 13,
   "id": "0a2f1b3e",
   "metadata": {},
   "outputs": [
    {
     "data": {
      "text/plain": [
       "{0: tensor([1, 0, 0, 0, 0, 0, 0, 0, 0, 0, 0, 0]),\n",
       " 1: tensor([0, 1, 0, 0, 0, 0, 0, 0, 0, 0, 0, 0]),\n",
       " 2: tensor([0, 0, 1, 0, 0, 0, 0, 0, 0, 0, 0, 0]),\n",
       " 3: tensor([0, 0, 0, 1, 0, 0, 0, 0, 0, 0, 0, 0]),\n",
       " 4: tensor([0, 0, 0, 0, 1, 0, 0, 0, 0, 0, 0, 0]),\n",
       " 5: tensor([0, 0, 0, 0, 0, 1, 0, 0, 0, 0, 0, 0]),\n",
       " 6: tensor([0, 0, 0, 0, 0, 0, 1, 0, 0, 0, 0, 0]),\n",
       " 7: tensor([0, 0, 0, 0, 0, 0, 0, 1, 0, 0, 0, 0]),\n",
       " 8: tensor([0, 0, 0, 0, 0, 0, 0, 0, 1, 0, 0, 0]),\n",
       " 9: tensor([0, 0, 0, 0, 0, 0, 0, 0, 0, 1, 0, 0]),\n",
       " 10: tensor([0, 0, 0, 0, 0, 0, 0, 0, 0, 0, 1, 0]),\n",
       " 11: tensor([0, 0, 0, 0, 0, 0, 0, 0, 0, 0, 0, 1])}"
      ]
     },
     "execution_count": 13,
     "metadata": {},
     "output_type": "execute_result"
    }
   ],
   "source": [
    "replacement_dict={}\n",
    "replacement_dict_cass_to_id={}\n",
    "replacement_dict.fromkeys(classes_ids)\n",
    "for k,(idx, tensor) in classes_ids.items():\n",
    "    replacement_dict[idx]=tensor\n",
    "    replacement_dict_cass_to_id[k]=idx\n",
    "\n",
    "replacement_dict"
   ]
  },
  {
   "cell_type": "code",
   "execution_count": 14,
   "id": "38e7c1af",
   "metadata": {},
   "outputs": [
    {
     "data": {
      "text/plain": [
       "{'DNS': 0,\n",
       " 'BENIGN': 1,\n",
       " 'LDAP': 2,\n",
       " 'MSSQL': 3,\n",
       " 'NetBIOS': 4,\n",
       " 'NTP': 5,\n",
       " 'SNMP': 6,\n",
       " 'SSDP': 7,\n",
       " 'UDP': 8,\n",
       " 'Syn': 9,\n",
       " 'TFTP': 10,\n",
       " 'UDPLag': 11}"
      ]
     },
     "execution_count": 14,
     "metadata": {},
     "output_type": "execute_result"
    }
   ],
   "source": [
    "replacement_dict_cass_to_id"
   ]
  },
  {
   "cell_type": "code",
   "execution_count": 15,
   "id": "9fb2f9bb",
   "metadata": {},
   "outputs": [],
   "source": [
    "df.replace({'Label':replacement_dict_cass_to_id}, inplace=True)\n",
    "X=df.iloc[:,:79]\n",
    "Y=df.iloc[:,79]"
   ]
  },
  {
   "cell_type": "code",
   "execution_count": 16,
   "id": "f1e2528e",
   "metadata": {},
   "outputs": [
    {
     "data": {
      "text/plain": [
       "[(0, 'Destination Port'),\n",
       " (1, 'Flow Duration'),\n",
       " (2, 'Total Fwd Packets'),\n",
       " (3, 'Total Backward Packets'),\n",
       " (4, 'Total Length of Fwd Packets'),\n",
       " (5, 'Total Length of Bwd Packets'),\n",
       " (6, 'Fwd Packet Length Max'),\n",
       " (7, 'Fwd Packet Length Min'),\n",
       " (8, 'Fwd Packet Length Mean'),\n",
       " (9, 'Fwd Packet Length Std'),\n",
       " (10, 'Bwd Packet Length Max'),\n",
       " (11, 'Bwd Packet Length Min'),\n",
       " (12, 'Bwd Packet Length Mean'),\n",
       " (13, 'Bwd Packet Length Std'),\n",
       " (14, 'Flow Bytes/s'),\n",
       " (15, 'Flow Packets/s'),\n",
       " (16, 'Flow IAT Mean'),\n",
       " (17, 'Flow IAT Std'),\n",
       " (18, 'Flow IAT Max'),\n",
       " (19, 'Flow IAT Min'),\n",
       " (20, 'Fwd IAT Total'),\n",
       " (21, 'Fwd IAT Mean'),\n",
       " (22, 'Fwd IAT Std'),\n",
       " (23, 'Fwd IAT Max'),\n",
       " (24, 'Fwd IAT Min'),\n",
       " (25, 'Bwd IAT Total'),\n",
       " (26, 'Bwd IAT Mean'),\n",
       " (27, 'Bwd IAT Std'),\n",
       " (28, 'Bwd IAT Max'),\n",
       " (29, 'Bwd IAT Min'),\n",
       " (30, 'Fwd PSH Flags'),\n",
       " (31, 'Bwd PSH Flags'),\n",
       " (32, 'Fwd URG Flags'),\n",
       " (33, 'Bwd URG Flags'),\n",
       " (34, 'Fwd Header Length'),\n",
       " (35, 'Bwd Header Length'),\n",
       " (36, 'Fwd Packets/s'),\n",
       " (37, 'Bwd Packets/s'),\n",
       " (38, 'Min Packet Length'),\n",
       " (39, 'Max Packet Length'),\n",
       " (40, 'Packet Length Mean'),\n",
       " (41, 'Packet Length Std'),\n",
       " (42, 'Packet Length Variance'),\n",
       " (43, 'FIN Flag Count'),\n",
       " (44, 'SYN Flag Count'),\n",
       " (45, 'RST Flag Count'),\n",
       " (46, 'PSH Flag Count'),\n",
       " (47, 'ACK Flag Count'),\n",
       " (48, 'URG Flag Count'),\n",
       " (49, 'CWE Flag Count'),\n",
       " (50, 'ECE Flag Count'),\n",
       " (51, 'Down/Up Ratio'),\n",
       " (52, 'Average Packet Size'),\n",
       " (53, 'Avg Fwd Segment Size'),\n",
       " (54, 'Avg Bwd Segment Size'),\n",
       " (55, 'Fwd Header Length.1'),\n",
       " (56, 'Fwd Avg Bytes/Bulk'),\n",
       " (57, 'Fwd Avg Packets/Bulk'),\n",
       " (58, 'Fwd Avg Bulk Rate'),\n",
       " (59, 'Bwd Avg Bytes/Bulk'),\n",
       " (60, 'Bwd Avg Packets/Bulk'),\n",
       " (61, 'Bwd Avg Bulk Rate'),\n",
       " (62, 'Subflow Fwd Packets'),\n",
       " (63, 'Subflow Fwd Bytes'),\n",
       " (64, 'Subflow Bwd Packets'),\n",
       " (65, 'Subflow Bwd Bytes'),\n",
       " (66, 'Init_Win_bytes_forward'),\n",
       " (67, 'Init_Win_bytes_backward'),\n",
       " (68, 'act_data_pkt_fwd'),\n",
       " (69, 'min_seg_size_forward'),\n",
       " (70, 'Active Mean'),\n",
       " (71, 'Active Std'),\n",
       " (72, 'Active Max'),\n",
       " (73, 'Active Min'),\n",
       " (74, 'Idle Mean'),\n",
       " (75, 'Idle Std'),\n",
       " (76, 'Idle Max'),\n",
       " (77, 'Idle Min'),\n",
       " (78, 'Inbound'),\n",
       " (79, 'Label')]"
      ]
     },
     "execution_count": 16,
     "metadata": {},
     "output_type": "execute_result"
    }
   ],
   "source": [
    "tot_col=df.columns.tolist()\n",
    "tot_col=[(idx,x) for idx,x in enumerate(tot_col)]\n",
    "tot_col"
   ]
  },
  {
   "cell_type": "code",
   "execution_count": 17,
   "id": "787933b7",
   "metadata": {},
   "outputs": [
    {
     "name": "stderr",
     "output_type": "stream",
     "text": [
      "f:\\miniconda\\envs\\dl\\lib\\site-packages\\scipy\\__init__.py:146: UserWarning: A NumPy version >=1.16.5 and <1.23.0 is required for this version of SciPy (detected version 1.24.0\n",
      "  warnings.warn(f\"A NumPy version >={np_minversion} and <{np_maxversion}\"\n"
     ]
    }
   ],
   "source": [
    "from sklearn.model_selection import train_test_split\n",
    "trainX, testX, trainY, testY = train_test_split(X, Y, shuffle=True, train_size=0.75)\n",
    "trainX, valX, trainY, valY = train_test_split(trainX, trainY, shuffle=True, train_size=0.75)\n",
    "\n",
    "del X,Y,df\n",
    "gc.collect()\n",
    "\n",
    "trainY=pd.Series(trainY)\n",
    "valY=pd.Series(valY)"
   ]
  },
  {
   "cell_type": "code",
   "execution_count": 18,
   "id": "2390bdd6",
   "metadata": {},
   "outputs": [],
   "source": [
    "from sklearn.preprocessing import StandardScaler\n",
    "scalerX_train = StandardScaler()\n",
    "X_scaled_train=scalerX_train.fit_transform(trainX)"
   ]
  },
  {
   "cell_type": "code",
   "execution_count": 19,
   "id": "4c423603",
   "metadata": {},
   "outputs": [],
   "source": [
    "from torch import tensor\n",
    "from torch.utils.data import Dataset, DataLoader\n",
    "\n",
    "class NetMetrics(Dataset):\n",
    "    def __init__(self, X, y, one_hot):\n",
    "        self.x, self.y, self.one_hot = X, y, one_hot\n",
    "        self.len=self.x.shape[0]\n",
    "\n",
    "    def __getitem__(self,index):\n",
    "        tensor_label=one_hot_encoding[self.y.iloc[index]]\n",
    "        return tensor(self.x[index,:], dtype=torch.float32), tensor_label.float()\n",
    "        \n",
    "    def __len__(self):\n",
    "        return self.len\n",
    "\n",
    "ds=NetMetrics(X_scaled_train, trainY, replacement_dict)"
   ]
  },
  {
   "cell_type": "markdown",
   "id": "64da0fee",
   "metadata": {},
   "source": [
    "## The model"
   ]
  },
  {
   "cell_type": "code",
   "execution_count": 36,
   "id": "127a80b7",
   "metadata": {},
   "outputs": [
    {
     "data": {
      "text/plain": [
       "AttackNet(\n",
       "  (encoder): Sequential(\n",
       "    (0): Linear(in_features=79, out_features=64, bias=True)\n",
       "    (1): Tanh()\n",
       "    (2): Linear(in_features=64, out_features=32, bias=True)\n",
       "    (3): Tanh()\n",
       "    (4): Linear(in_features=32, out_features=40, bias=True)\n",
       "  )\n",
       "  (decoder): Sequential(\n",
       "    (0): Linear(in_features=40, out_features=32, bias=True)\n",
       "    (1): Tanh()\n",
       "    (2): Linear(in_features=32, out_features=64, bias=True)\n",
       "    (3): Tanh()\n",
       "    (4): Linear(in_features=64, out_features=79, bias=True)\n",
       "  )\n",
       "  (classifier): Sequential(\n",
       "    (0): Linear(in_features=40, out_features=512, bias=True)\n",
       "    (1): ReLU()\n",
       "    (2): Linear(in_features=512, out_features=256, bias=True)\n",
       "    (3): ReLU()\n",
       "    (4): Linear(in_features=256, out_features=128, bias=True)\n",
       "    (5): Tanh()\n",
       "    (6): Linear(in_features=128, out_features=64, bias=True)\n",
       "    (7): Tanh()\n",
       "    (8): Linear(in_features=64, out_features=12, bias=True)\n",
       "    (9): LogSoftmax(dim=1)\n",
       "  )\n",
       ")"
      ]
     },
     "execution_count": 36,
     "metadata": {},
     "output_type": "execute_result"
    }
   ],
   "source": [
    "class AttackNet(torch.nn.Module):\n",
    "    def __init__(self):\n",
    "        super(AttackNet, self).__init__()\n",
    "        self.encoder=torch.nn.Sequential(\n",
    "            torch.nn.Linear(79, 64),\n",
    "            torch.nn.Tanh(),\n",
    "            torch.nn.Linear(64, 32),\n",
    "            torch.nn.Tanh(),\n",
    "            torch.nn.Linear(32, 40)\n",
    "            )\n",
    "        self.decoder=torch.nn.Sequential(\n",
    "            torch.nn.Linear(40, 32),\n",
    "            torch.nn.Tanh(),\n",
    "            torch.nn.Linear(32, 64),\n",
    "            torch.nn.Tanh(),\n",
    "            torch.nn.Linear(64, 79)\n",
    "            )\n",
    "        self.classifier=torch.nn.Sequential(\n",
    "            torch.nn.Linear(40, 512),\n",
    "            torch.nn.ReLU(),\n",
    "            torch.nn.Linear(512, 256),\n",
    "            torch.nn.ReLU(),\n",
    "            torch.nn.Linear(256, 128),\n",
    "            torch.nn.Tanh(),\n",
    "            torch.nn.Linear(128, 64),\n",
    "            torch.nn.Tanh(),\n",
    "            torch.nn.Linear(64, 12),\n",
    "            torch.nn.LogSoftmax(dim=1)\n",
    "            )\n",
    "\n",
    "    def forward(self, x):\n",
    "        encoded=self.encoder(x)\n",
    "        decoded=self.decoder(encoded)\n",
    "        out=self.classifier(encoded)\n",
    "        return decoded, out\n",
    "\n",
    "def init_weights(module):\n",
    "        if isinstance(module, torch.nn.Linear):\n",
    "            torch.nn.init.xavier_uniform_(module.weight)\n",
    "            if module.bias is not None:\n",
    "                module.bias.data.fill_(0.0001)\n",
    "\n",
    "\n",
    "model = AttackNet()\n",
    "model.apply(init_weights)"
   ]
  },
  {
   "cell_type": "code",
   "execution_count": 38,
   "id": "807c0453",
   "metadata": {},
   "outputs": [
    {
     "data": {
      "text/plain": [
       "'cuda:0'"
      ]
     },
     "execution_count": 38,
     "metadata": {},
     "output_type": "execute_result"
    }
   ],
   "source": [
    "device = 'cuda:0' if torch.cuda.is_available() else 'cpu'\n",
    "device"
   ]
  },
  {
   "cell_type": "markdown",
   "id": "81d2b3fc",
   "metadata": {},
   "source": [
    "## Training"
   ]
  },
  {
   "cell_type": "code",
   "execution_count": 39,
   "id": "65674e7d",
   "metadata": {},
   "outputs": [],
   "source": [
    "from matplotlib import pyplot as plt\n",
    "from torch.utils.tensorboard import SummaryWriter\n",
    "\n",
    "writer = SummaryWriter()\n",
    "\n",
    "epochs=50\n",
    "learning_rate = .001\n",
    "model=model.to(device)\n",
    "criterion1 = torch.nn.MSELoss().to(device)\n",
    "criterion2 = torch.nn.CrossEntropyLoss().to(device)\n",
    "opt = torch.optim.Adam(model.parameters(), lr=learning_rate)\n",
    "scheduler = torch.optim.lr_scheduler.StepLR(opt, step_size=10, gamma=0.1)\n",
    "loader = DataLoader(dataset=ds, batch_size=100, shuffle=True)\n",
    "\n",
    "# Early stopping\n",
    "last_loss = np.inf\n",
    "patience = 2\n",
    "trigger_times = 0"
   ]
  },
  {
   "cell_type": "code",
   "execution_count": 49,
   "id": "ce24b190",
   "metadata": {},
   "outputs": [],
   "source": [
    "def model_validation(criterion_dec, criterion_out):\n",
    "\n",
    "    #val_tar=[]\n",
    "    #val_pred=[]\n",
    "    cumulative_L_val=0.\n",
    "\n",
    "    val_ds = NetMetrics(scalerX_train.transform(testX), testY, replacement_dict)\n",
    "    val_loader=DataLoader(val_ds, batch_size=100, shuffle=False)\n",
    "\n",
    "    model.eval()\n",
    "\n",
    "    with torch.no_grad():\n",
    "        for inputs, ground_truth in val_loader:\n",
    "            inputs = inputs.to(device)\n",
    "            ground_truth = ground_truth.to(device)\n",
    "\n",
    "            decoded_tilde, y_tilde = model(inputs)\n",
    "            decoded_tilde = decoded_tilde.to(device)\n",
    "            y_tilde = y_tilde.to(device)\n",
    "            \n",
    "            loss1_val = criterion_dec(decoded_tilde, inputs)\n",
    "            loss2_val = criterion_out(y_tilde, ground_truth)\n",
    "            loss_val = loss1_val+loss2_val\n",
    "            \n",
    "            cumulative_L_val+=loss_val.item()\n",
    "           \n",
    "            #val_tar.append(y)\n",
    "            #val_pred.append(y_tilde.clone().detach())\n",
    "    \n",
    "        #f1=BinaryF1Score()\n",
    "        #f1_val=f1(tensor(val_pred), tensor(val_tar))\n",
    "\n",
    "        #print('F1-score Val: ', f1_val)\n",
    "    \n",
    "    #return f1_val\n",
    "    return cumulative_L_val"
   ]
  },
  {
   "cell_type": "code",
   "execution_count": 50,
   "id": "d5f44da6",
   "metadata": {},
   "outputs": [],
   "source": [
    "def model_train(epoch, optimizer, model):\n",
    "    model.train()\n",
    "    \n",
    "    print(\"Epoch begin: \", epoch)\n",
    "    cumulative_L_train = 0.\n",
    "    for x,y in loader:\n",
    "        x=x.to(device)\n",
    "        y=y.to(device)\n",
    "\n",
    "        # reset optimizer\n",
    "        opt.zero_grad()\n",
    "\n",
    "        decoded, output = model(x)\n",
    "\n",
    "        loss1 = criterion1(decoded.to(device), x)\n",
    "        loss2 = criterion2(output.to(device), y)\n",
    "        loss = loss1+loss2\n",
    "        \n",
    "        loss.backward()\n",
    "        opt.step()\n",
    "\n",
    "        cumulative_L_train+=loss.item()\n",
    "\n",
    "    return cumulative_L_train"
   ]
  },
  {
   "cell_type": "code",
   "execution_count": 51,
   "id": "3750941b",
   "metadata": {},
   "outputs": [
    {
     "name": "stdout",
     "output_type": "stream",
     "text": [
      "Epoch begin:  0\n",
      "Epoch begin:  1\n",
      "Epoch begin:  2\n",
      "No improvement detected\n",
      "Epoch begin:  3\n",
      "Epoch begin:  4\n",
      "No improvement detected\n",
      "Epoch begin:  5\n",
      "No improvement detected\n",
      "Epoch begin:  6\n",
      "No improvement detected\n",
      "Epoch begin:  7\n",
      "Epoch begin:  8\n",
      "No improvement detected\n",
      "Epoch begin:  9\n",
      "Epoch begin:  10\n",
      "Epoch begin:  11\n",
      "No improvement detected\n",
      "Epoch begin:  12\n",
      "Epoch begin:  13\n",
      "Epoch begin:  14\n",
      "Epoch begin:  15\n",
      "No improvement detected\n",
      "Epoch begin:  16\n",
      "Epoch begin:  17\n",
      "No improvement detected\n",
      "Epoch begin:  18\n",
      "Epoch begin:  19\n",
      "No improvement detected\n",
      "Epoch begin:  20\n",
      "Epoch begin:  21\n",
      "Epoch begin:  22\n",
      "Epoch begin:  23\n",
      "Epoch begin:  24\n",
      "Epoch begin:  25\n",
      "Epoch begin:  26\n",
      "Epoch begin:  27\n",
      "Epoch begin:  28\n",
      "Epoch begin:  29\n",
      "Epoch begin:  30\n",
      "Epoch begin:  31\n",
      "Epoch begin:  32\n",
      "Epoch begin:  33\n",
      "Epoch begin:  34\n",
      "Epoch begin:  35\n",
      "Epoch begin:  36\n",
      "Epoch begin:  37\n",
      "Epoch begin:  38\n",
      "Epoch begin:  39\n",
      "Epoch begin:  40\n",
      "Epoch begin:  41\n",
      "Epoch begin:  42\n",
      "Epoch begin:  43\n",
      "Epoch begin:  44\n",
      "Epoch begin:  45\n",
      "Epoch begin:  46\n",
      "Epoch begin:  47\n",
      "Epoch begin:  48\n",
      "Epoch begin:  49\n"
     ]
    }
   ],
   "source": [
    "#out=[]\n",
    "for epoch in range(epochs):\n",
    "\n",
    "    \n",
    "    loss_train=model_train(epoch, opt, model)\n",
    "    writer.add_scalar(\"Loss/Train\", loss_train , epoch)\n",
    "    \n",
    "    loss_val=model_validation(criterion1, criterion2)\n",
    "    scheduler.step()\n",
    "\n",
    "    writer.add_scalar(\"Loss/Val\", loss_val , epoch)\n",
    "\n",
    "    writer.add_scalars(\"Loss/General\", {\"Train\": loss_val, \"Val\": loss_train}, epoch)\n",
    "\n",
    "    #EarlyStopping\n",
    "    if loss_val > last_loss:\n",
    "        trigger_times += 1\n",
    "        print('No improvement detected')\n",
    "\n",
    "    if trigger_times >= patience:\n",
    "        print('Early stopping triggered')\n",
    "        continue #exit now\n",
    "    else:\n",
    "        trigger_times = 0\n",
    "\n",
    "    last_loss = loss_val\n",
    "\n",
    "    #out.append(cumulative_L)\n",
    "\n",
    "writer.close()\n",
    "\n",
    "#plt.plot(out)"
   ]
  },
  {
   "cell_type": "code",
   "execution_count": 52,
   "id": "65a2dd59",
   "metadata": {},
   "outputs": [],
   "source": [
    "from datetime import datetime\n",
    "model_name='.\\\\models\\\\' + datetime.now().strftime(\"%m-%d-%Y_%H-%M-%S\")+'__multi_AE_opt_sched.model'\n",
    "torch.save(model.state_dict(), model_name)"
   ]
  },
  {
   "cell_type": "markdown",
   "id": "1dc60c67",
   "metadata": {},
   "source": [
    "## Test"
   ]
  },
  {
   "cell_type": "code",
   "execution_count": 57,
   "id": "420cdd03",
   "metadata": {},
   "outputs": [
    {
     "name": "stdout",
     "output_type": "stream",
     "text": [
      "338193\n"
     ]
    }
   ],
   "source": [
    "test_ds = NetMetrics(scalerX_train.transform(testX), testY, replacement_dict)\n",
    "print(len(test_ds))\n",
    "test_loader=DataLoader(test_ds, batch_size=100, shuffle=False)"
   ]
  },
  {
   "cell_type": "code",
   "execution_count": 58,
   "id": "77b2b1e2",
   "metadata": {},
   "outputs": [
    {
     "data": {
      "text/plain": [
       "[7525,\n",
       " 28127,\n",
       " 18221,\n",
       " 26549,\n",
       " 27648,\n",
       " 27857,\n",
       " 24177,\n",
       " 4508,\n",
       " 23655,\n",
       " 22975,\n",
       " 27836,\n",
       " 20657]"
      ]
     },
     "execution_count": 58,
     "metadata": {},
     "output_type": "execute_result"
    }
   ],
   "source": [
    "#model=AttackNet()\n",
    "#model.load_state_dict(torch.load('.\\\\models\\\\12-19-2022_21-02-10__anova_binary_opt.model'))\n",
    "model=model.to('cpu')\n",
    "model.eval()\n",
    "\n",
    "acc = [0]*12\n",
    "translator=replacement_dict\n",
    "targets=[]\n",
    "preds=[]\n",
    "\n",
    "model.eval()\n",
    "\n",
    "with torch.no_grad():\n",
    "    for inputs, ground_truth in test_loader:\n",
    "        prediction = torch.argmax(model(inputs)[1], dim=1)\n",
    "        targ = torch.argmax(ground_truth, dim=1)\n",
    "\n",
    "        targets.extend(targ.tolist())\n",
    "        preds.extend(prediction.clone().detach().tolist())\n",
    "\n",
    "    for p,t in zip(preds, targets):\n",
    "        if p == t:\n",
    "            acc[p]+=1\n",
    "\n",
    "acc"
   ]
  },
  {
   "cell_type": "code",
   "execution_count": 59,
   "id": "9fe5c0c3",
   "metadata": {},
   "outputs": [
    {
     "data": {
      "text/plain": [
       "7     28383\n",
       "3     28323\n",
       "6     28306\n",
       "9     28268\n",
       "2     28230\n",
       "11    28209\n",
       "0     28187\n",
       "1     28183\n",
       "5     28054\n",
       "10    28050\n",
       "4     28001\n",
       "8     27999\n",
       "Name: Label, dtype: int64"
      ]
     },
     "execution_count": 59,
     "metadata": {},
     "output_type": "execute_result"
    }
   ],
   "source": [
    "val_count_test=testY.value_counts()\n",
    "val_count_test"
   ]
  },
  {
   "cell_type": "code",
   "execution_count": 60,
   "id": "4308d92e",
   "metadata": {},
   "outputs": [
    {
     "name": "stdout",
     "output_type": "stream",
     "text": [
      "Per class accuracy:  [0.26696704154397416, 0.9980129865521769, 0.6454481048529933, 0.9373653920841719, 0.9873933073818792, 0.9929778284736579, 0.8541298664594079, 0.15882746714582674, 0.844851601842923, 0.8127564737512382, 0.9923707664884136, 0.7322840228295934]\n"
     ]
    }
   ],
   "source": [
    "acc_final=[a/val_count_test[idx] for idx, a in enumerate(acc)]\n",
    "print('Per class accuracy: ', acc_final)"
   ]
  },
  {
   "cell_type": "code",
   "execution_count": 61,
   "id": "a71eb283",
   "metadata": {},
   "outputs": [
    {
     "name": "stdout",
     "output_type": "stream",
     "text": [
      "Precision:  tensor(0.7744)\n",
      "Recall:  tensor(0.7686)\n",
      "F1-score:  tensor(0.7510)\n",
      "Overall Accuracy:  tensor(0.7686)\n"
     ]
    },
    {
     "data": {
      "text/plain": [
       "<AxesSubplot: >"
      ]
     },
     "execution_count": 61,
     "metadata": {},
     "output_type": "execute_result"
    },
    {
     "data": {
      "image/png": "[encoded data removed]",
      "text/plain": [
       "<Figure size 640x480 with 2 Axes>"
      ]
     },
     "metadata": {},
     "output_type": "display_data"
    }
   ],
   "source": [
    "from torchmetrics.classification import MulticlassConfusionMatrix, MulticlassPrecision, MulticlassRecall, MulticlassF1Score, MulticlassAccuracy\n",
    "\n",
    "target = torch.tensor(targets)\n",
    "preds = torch.tensor(preds)\n",
    "metric = MulticlassConfusionMatrix(12, normalize='true')\n",
    "res=metric(preds, target)\n",
    "\n",
    "prec = MulticlassPrecision(12)\n",
    "print('Precision: ',prec(preds, target))\n",
    "\n",
    "rec=MulticlassRecall(12)\n",
    "print('Recall: ', rec(preds, target))\n",
    "\n",
    "f1=MulticlassF1Score(12)\n",
    "print('F1-score: ', f1(preds, target))\n",
    "\n",
    "acc2=MulticlassAccuracy(12)\n",
    "print('Overall Accuracy: ', acc2(preds, target))\n",
    "\n",
    "import seaborn as sn\n",
    "sn.heatmap(res, annot=True)"
   ]
  },
  {
   "cell_type": "markdown",
   "id": "6d88126a",
   "metadata": {},
   "source": [
    "___"
   ]
  }
 ],
 "metadata": {
  "kernelspec": {
   "display_name": "Python 3.9.12 ('dl')",
   "language": "python",
   "name": "python3"
  },
  "language_info": {
   "codemirror_mode": {
    "name": "ipython",
    "version": 3
   },
   "file_extension": ".py",
   "mimetype": "text/x-python",
   "name": "python",
   "nbconvert_exporter": "python",
   "pygments_lexer": "ipython3",
   "version": "3.9.15"
  },
  "vscode": {
   "interpreter": {
    "hash": "a41f043e3f504d40bb31377d42299aba33beec9c14fb34c08aef092f76f6f6b0"
   }
  }
 },
 "nbformat": 4,
 "nbformat_minor": 5
}
