{
 "cells": [
  {
   "cell_type": "markdown",
   "metadata": {},
   "source": [
    "# Exploring the datasets"
   ]
  },
  {
   "cell_type": "code",
   "execution_count": 3,
   "metadata": {},
   "outputs": [],
   "source": [
    "import pandas as pd\n",
    "import matplotlib.pyplot as plt\n",
    "import os\n",
    "os.environ[\"KMP_DUPLICATE_LIB_OK\"]=\"TRUE\"\n",
    "import torch\n",
    "import numpy as np"
   ]
  },
  {
   "cell_type": "markdown",
   "metadata": {},
   "source": [
    "## Preliminary and general analysis of train part"
   ]
  },
  {
   "cell_type": "code",
   "execution_count": 4,
   "metadata": {},
   "outputs": [],
   "source": [
    "folder_selector='.\\\\datasets\\\\CICDDoS2019\\\\original\\\\train'"
   ]
  },
  {
   "cell_type": "code",
   "execution_count": 5,
   "metadata": {},
   "outputs": [],
   "source": [
    "def serch_csvs_in_folder(path):\n",
    "    csv_files = []\n",
    "    for dirname, _, filenames in os.walk(path):\n",
    "        for filename in filenames:\n",
    "            csv_file = os.path.join(dirname, filename)\n",
    "            csv_files.append(csv_file)\n",
    "    return csv_files"
   ]
  },
  {
   "cell_type": "code",
   "execution_count": 6,
   "metadata": {},
   "outputs": [
    {
     "data": {
      "text/plain": [
       "['.\\\\datasets\\\\CICDDoS2019\\\\original\\\\train\\\\DrDoS_DNS.csv',\n",
       " '.\\\\datasets\\\\CICDDoS2019\\\\original\\\\train\\\\DrDoS_LDAP.csv',\n",
       " '.\\\\datasets\\\\CICDDoS2019\\\\original\\\\train\\\\DrDoS_MSSQL.csv',\n",
       " '.\\\\datasets\\\\CICDDoS2019\\\\original\\\\train\\\\DrDoS_NetBIOS.csv',\n",
       " '.\\\\datasets\\\\CICDDoS2019\\\\original\\\\train\\\\DrDoS_NTP.csv',\n",
       " '.\\\\datasets\\\\CICDDoS2019\\\\original\\\\train\\\\DrDoS_SNMP.csv',\n",
       " '.\\\\datasets\\\\CICDDoS2019\\\\original\\\\train\\\\DrDoS_SSDP.csv',\n",
       " '.\\\\datasets\\\\CICDDoS2019\\\\original\\\\train\\\\DrDoS_UDP.csv',\n",
       " '.\\\\datasets\\\\CICDDoS2019\\\\original\\\\train\\\\Syn.csv',\n",
       " '.\\\\datasets\\\\CICDDoS2019\\\\original\\\\train\\\\TFTP.csv',\n",
       " '.\\\\datasets\\\\CICDDoS2019\\\\original\\\\train\\\\UDPLag.csv']"
      ]
     },
     "execution_count": 6,
     "metadata": {},
     "output_type": "execute_result"
    }
   ],
   "source": [
    "csv_files=serch_csvs_in_folder(folder_selector)\n",
    "csv_files"
   ]
  },
  {
   "cell_type": "code",
   "execution_count": 7,
   "metadata": {},
   "outputs": [
    {
     "data": {
      "text/plain": [
       "['1.9867978505790234 GB',\n",
       " '0.8543043183162808 GB',\n",
       " '1.7594376169145107 GB',\n",
       " '1.5809012847021222 GB',\n",
       " '0.6007110755890608 GB',\n",
       " '2.02337262686342 GB',\n",
       " '1.1666549546644092 GB',\n",
       " '1.4026084644719958 GB',\n",
       " '0.5935431709513068 GB',\n",
       " '8.663172940723598 GB',\n",
       " '0.14711988158524036 GB']"
      ]
     },
     "execution_count": 7,
     "metadata": {},
     "output_type": "execute_result"
    }
   ],
   "source": [
    "sizes = [str(os.path.getsize(file)/(2.0**30)) + \" GB\" for file in csv_files]\n",
    "sizes"
   ]
  },
  {
   "cell_type": "code",
   "execution_count": 2,
   "metadata": {},
   "outputs": [
    {
     "ename": "NameError",
     "evalue": "name 'csv_files' is not defined",
     "output_type": "error",
     "traceback": [
      "\u001b[1;31m---------------------------------------------------------------------------\u001b[0m",
      "\u001b[1;31mNameError\u001b[0m                                 Traceback (most recent call last)",
      "Cell \u001b[1;32mIn [2], line 2\u001b[0m\n\u001b[0;32m      1\u001b[0m selected_csv_files\u001b[39m=\u001b[39m[]\n\u001b[1;32m----> 2\u001b[0m selected_csv_files\u001b[39m.\u001b[39mappend(csv_files[\u001b[39m0\u001b[39m])\n\u001b[0;32m      3\u001b[0m selected_csv_files\n",
      "\u001b[1;31mNameError\u001b[0m: name 'csv_files' is not defined"
     ]
    }
   ],
   "source": [
    "selected_csv_files=[]\n",
    "selected_csv_files.append(csv_files[0])\n",
    "selected_csv_files"
   ]
  },
  {
   "cell_type": "code",
   "execution_count": 14,
   "metadata": {},
   "outputs": [
    {
     "name": "stderr",
     "output_type": "stream",
     "text": [
      "C:\\Users\\MAX\\AppData\\Local\\Temp\\ipykernel_5340\\274156238.py:4: DtypeWarning: Columns (85) have mixed types. Specify dtype option on import or set low_memory=False.\n",
      "  df=pd.read_csv(selected_csv_files[0])\n"
     ]
    },
    {
     "name": "stdout",
     "output_type": "stream",
     "text": [
      "Original length of df: 5074413\n"
     ]
    }
   ],
   "source": [
    "if len(selected_csv_files) > 1:\n",
    "    df = pd.concat([pd.read_csv(file) for file in selected_csv_files], ignore_index=True)\n",
    "else:\n",
    "    df=pd.read_csv(selected_csv_files[0])\n",
    "\n",
    "df.columns = df.columns.str.strip()\n",
    "print(\"Original length of df:\", len(df))"
   ]
  },
  {
   "cell_type": "code",
   "execution_count": 15,
   "metadata": {},
   "outputs": [
    {
     "name": "stdout",
     "output_type": "stream",
     "text": [
      "<class 'pandas.core.frame.DataFrame'>\n",
      "RangeIndex: 5074413 entries, 0 to 5074412\n",
      "Data columns (total 88 columns):\n",
      " #   Column                       Dtype  \n",
      "---  ------                       -----  \n",
      " 0   Unnamed: 0                   int64  \n",
      " 1   Flow ID                      object \n",
      " 2   Source IP                    object \n",
      " 3   Source Port                  int64  \n",
      " 4   Destination IP               object \n",
      " 5   Destination Port             int64  \n",
      " 6   Protocol                     int64  \n",
      " 7   Timestamp                    object \n",
      " 8   Flow Duration                int64  \n",
      " 9   Total Fwd Packets            int64  \n",
      " 10  Total Backward Packets       int64  \n",
      " 11  Total Length of Fwd Packets  float64\n",
      " 12  Total Length of Bwd Packets  float64\n",
      " 13  Fwd Packet Length Max        float64\n",
      " 14  Fwd Packet Length Min        float64\n",
      " 15  Fwd Packet Length Mean       float64\n",
      " 16  Fwd Packet Length Std        float64\n",
      " 17  Bwd Packet Length Max        float64\n",
      " 18  Bwd Packet Length Min        float64\n",
      " 19  Bwd Packet Length Mean       float64\n",
      " 20  Bwd Packet Length Std        float64\n",
      " 21  Flow Bytes/s                 float64\n",
      " 22  Flow Packets/s               float64\n",
      " 23  Flow IAT Mean                float64\n",
      " 24  Flow IAT Std                 float64\n",
      " 25  Flow IAT Max                 float64\n",
      " 26  Flow IAT Min                 float64\n",
      " 27  Fwd IAT Total                float64\n",
      " 28  Fwd IAT Mean                 float64\n",
      " 29  Fwd IAT Std                  float64\n",
      " 30  Fwd IAT Max                  float64\n",
      " 31  Fwd IAT Min                  float64\n",
      " 32  Bwd IAT Total                float64\n",
      " 33  Bwd IAT Mean                 float64\n",
      " 34  Bwd IAT Std                  float64\n",
      " 35  Bwd IAT Max                  float64\n",
      " 36  Bwd IAT Min                  float64\n",
      " 37  Fwd PSH Flags                int64  \n",
      " 38  Bwd PSH Flags                int64  \n",
      " 39  Fwd URG Flags                int64  \n",
      " 40  Bwd URG Flags                int64  \n",
      " 41  Fwd Header Length            int64  \n",
      " 42  Bwd Header Length            int64  \n",
      " 43  Fwd Packets/s                float64\n",
      " 44  Bwd Packets/s                float64\n",
      " 45  Min Packet Length            float64\n",
      " 46  Max Packet Length            float64\n",
      " 47  Packet Length Mean           float64\n",
      " 48  Packet Length Std            float64\n",
      " 49  Packet Length Variance       float64\n",
      " 50  FIN Flag Count               int64  \n",
      " 51  SYN Flag Count               int64  \n",
      " 52  RST Flag Count               int64  \n",
      " 53  PSH Flag Count               int64  \n",
      " 54  ACK Flag Count               int64  \n",
      " 55  URG Flag Count               int64  \n",
      " 56  CWE Flag Count               int64  \n",
      " 57  ECE Flag Count               int64  \n",
      " 58  Down/Up Ratio                float64\n",
      " 59  Average Packet Size          float64\n",
      " 60  Avg Fwd Segment Size         float64\n",
      " 61  Avg Bwd Segment Size         float64\n",
      " 62  Fwd Header Length.1          int64  \n",
      " 63  Fwd Avg Bytes/Bulk           int64  \n",
      " 64  Fwd Avg Packets/Bulk         int64  \n",
      " 65  Fwd Avg Bulk Rate            int64  \n",
      " 66  Bwd Avg Bytes/Bulk           int64  \n",
      " 67  Bwd Avg Packets/Bulk         int64  \n",
      " 68  Bwd Avg Bulk Rate            int64  \n",
      " 69  Subflow Fwd Packets          int64  \n",
      " 70  Subflow Fwd Bytes            int64  \n",
      " 71  Subflow Bwd Packets          int64  \n",
      " 72  Subflow Bwd Bytes            int64  \n",
      " 73  Init_Win_bytes_forward       int64  \n",
      " 74  Init_Win_bytes_backward      int64  \n",
      " 75  act_data_pkt_fwd             int64  \n",
      " 76  min_seg_size_forward         int64  \n",
      " 77  Active Mean                  float64\n",
      " 78  Active Std                   float64\n",
      " 79  Active Max                   float64\n",
      " 80  Active Min                   float64\n",
      " 81  Idle Mean                    float64\n",
      " 82  Idle Std                     float64\n",
      " 83  Idle Max                     float64\n",
      " 84  Idle Min                     float64\n",
      " 85  SimillarHTTP                 object \n",
      " 86  Inbound                      int64  \n",
      " 87  Label                        object \n",
      "dtypes: float64(45), int64(37), object(6)\n",
      "memory usage: 3.3+ GB\n"
     ]
    }
   ],
   "source": [
    "#df.describe()\n",
    "df.info()\n",
    "#df.head()"
   ]
  },
  {
   "cell_type": "code",
   "execution_count": 1,
   "metadata": {},
   "outputs": [
    {
     "ename": "NameError",
     "evalue": "name 'df' is not defined",
     "output_type": "error",
     "traceback": [
      "\u001b[1;31m---------------------------------------------------------------------------\u001b[0m",
      "\u001b[1;31mNameError\u001b[0m                                 Traceback (most recent call last)",
      "Cell \u001b[1;32mIn [1], line 1\u001b[0m\n\u001b[1;32m----> 1\u001b[0m first_row\u001b[39m=\u001b[39mdf\u001b[39m.\u001b[39miloc[\u001b[39m0\u001b[39m,:]\n\u001b[0;32m      2\u001b[0m first_row\n",
      "\u001b[1;31mNameError\u001b[0m: name 'df' is not defined"
     ]
    }
   ],
   "source": [
    "first_row=df.iloc[0,:]\n",
    "first_row"
   ]
  },
  {
   "cell_type": "code",
   "execution_count": 17,
   "metadata": {},
   "outputs": [
    {
     "data": {
      "text/plain": [
       "['ACK Flag Count',\n",
       " 'Active Max',\n",
       " 'Active Mean',\n",
       " 'Active Min',\n",
       " 'Active Std',\n",
       " 'Average Packet Size',\n",
       " 'Avg Bwd Segment Size',\n",
       " 'Avg Fwd Segment Size',\n",
       " 'Bwd Avg Bulk Rate',\n",
       " 'Bwd Avg Bytes/Bulk',\n",
       " 'Bwd Avg Packets/Bulk',\n",
       " 'Bwd Header Length',\n",
       " 'Bwd IAT Max',\n",
       " 'Bwd IAT Mean',\n",
       " 'Bwd IAT Min',\n",
       " 'Bwd IAT Std',\n",
       " 'Bwd IAT Total',\n",
       " 'Bwd PSH Flags',\n",
       " 'Bwd Packet Length Max',\n",
       " 'Bwd Packet Length Mean',\n",
       " 'Bwd Packet Length Min',\n",
       " 'Bwd Packet Length Std',\n",
       " 'Bwd Packets/s',\n",
       " 'Bwd URG Flags',\n",
       " 'CWE Flag Count',\n",
       " 'Destination IP',\n",
       " 'Destination Port',\n",
       " 'Down/Up Ratio',\n",
       " 'ECE Flag Count',\n",
       " 'FIN Flag Count',\n",
       " 'Flow Bytes/s',\n",
       " 'Flow Duration',\n",
       " 'Flow IAT Max',\n",
       " 'Flow IAT Mean',\n",
       " 'Flow IAT Min',\n",
       " 'Flow IAT Std',\n",
       " 'Flow ID',\n",
       " 'Flow Packets/s',\n",
       " 'Fwd Avg Bulk Rate',\n",
       " 'Fwd Avg Bytes/Bulk',\n",
       " 'Fwd Avg Packets/Bulk',\n",
       " 'Fwd Header Length',\n",
       " 'Fwd Header Length.1',\n",
       " 'Fwd IAT Max',\n",
       " 'Fwd IAT Mean',\n",
       " 'Fwd IAT Min',\n",
       " 'Fwd IAT Std',\n",
       " 'Fwd IAT Total',\n",
       " 'Fwd PSH Flags',\n",
       " 'Fwd Packet Length Max',\n",
       " 'Fwd Packet Length Mean',\n",
       " 'Fwd Packet Length Min',\n",
       " 'Fwd Packet Length Std',\n",
       " 'Fwd Packets/s',\n",
       " 'Fwd URG Flags',\n",
       " 'Idle Max',\n",
       " 'Idle Mean',\n",
       " 'Idle Min',\n",
       " 'Idle Std',\n",
       " 'Inbound',\n",
       " 'Init_Win_bytes_backward',\n",
       " 'Init_Win_bytes_forward',\n",
       " 'Label',\n",
       " 'Max Packet Length',\n",
       " 'Min Packet Length',\n",
       " 'PSH Flag Count',\n",
       " 'Packet Length Mean',\n",
       " 'Packet Length Std',\n",
       " 'Packet Length Variance',\n",
       " 'Protocol',\n",
       " 'RST Flag Count',\n",
       " 'SYN Flag Count',\n",
       " 'SimillarHTTP',\n",
       " 'Source IP',\n",
       " 'Source Port',\n",
       " 'Subflow Bwd Bytes',\n",
       " 'Subflow Bwd Packets',\n",
       " 'Subflow Fwd Bytes',\n",
       " 'Subflow Fwd Packets',\n",
       " 'Timestamp',\n",
       " 'Total Backward Packets',\n",
       " 'Total Fwd Packets',\n",
       " 'Total Length of Bwd Packets',\n",
       " 'Total Length of Fwd Packets',\n",
       " 'URG Flag Count',\n",
       " 'Unnamed: 0',\n",
       " 'act_data_pkt_fwd',\n",
       " 'min_seg_size_forward']"
      ]
     },
     "execution_count": 17,
     "metadata": {},
     "output_type": "execute_result"
    }
   ],
   "source": [
    "columns = df.columns.to_list()\n",
    "columns.sort()\n",
    "columns"
   ]
  },
  {
   "cell_type": "code",
   "execution_count": 20,
   "metadata": {},
   "outputs": [
    {
     "ename": "KeyError",
     "evalue": "\"['Unnamed: 0', 'Timestamp', 'Source Port', 'Source IP', 'SimillarHTTP', 'Protocol', 'Flow ID', 'Destination IP'] not found in axis\"",
     "output_type": "error",
     "traceback": [
      "\u001b[1;31m---------------------------------------------------------------------------\u001b[0m",
      "\u001b[1;31mKeyError\u001b[0m                                  Traceback (most recent call last)",
      "Cell \u001b[1;32mIn [20], line 1\u001b[0m\n\u001b[1;32m----> 1\u001b[0m df\u001b[39m.\u001b[39;49mdrop([\u001b[39m'\u001b[39;49m\u001b[39mUnnamed: 0\u001b[39;49m\u001b[39m'\u001b[39;49m,\u001b[39m'\u001b[39;49m\u001b[39mTimestamp\u001b[39;49m\u001b[39m'\u001b[39;49m,\u001b[39m'\u001b[39;49m\u001b[39mSource Port\u001b[39;49m\u001b[39m'\u001b[39;49m,\u001b[39m'\u001b[39;49m\u001b[39mSource IP\u001b[39;49m\u001b[39m'\u001b[39;49m,\u001b[39m'\u001b[39;49m\u001b[39mSimillarHTTP\u001b[39;49m\u001b[39m'\u001b[39;49m,\n\u001b[0;32m      2\u001b[0m \u001b[39m'\u001b[39;49m\u001b[39mProtocol\u001b[39;49m\u001b[39m'\u001b[39;49m,\u001b[39m'\u001b[39;49m\u001b[39mFlow ID\u001b[39;49m\u001b[39m'\u001b[39;49m,\u001b[39m'\u001b[39;49m\u001b[39mDestination IP\u001b[39;49m\u001b[39m'\u001b[39;49m], axis\u001b[39m=\u001b[39;49m\u001b[39m1\u001b[39;49m, inplace\u001b[39m=\u001b[39;49m\u001b[39mTrue\u001b[39;49;00m)\n",
      "File \u001b[1;32mf:\\miniconda\\envs\\dl\\lib\\site-packages\\pandas\\util\\_decorators.py:311\u001b[0m, in \u001b[0;36mdeprecate_nonkeyword_arguments.<locals>.decorate.<locals>.wrapper\u001b[1;34m(*args, **kwargs)\u001b[0m\n\u001b[0;32m    305\u001b[0m \u001b[39mif\u001b[39;00m \u001b[39mlen\u001b[39m(args) \u001b[39m>\u001b[39m num_allow_args:\n\u001b[0;32m    306\u001b[0m     warnings\u001b[39m.\u001b[39mwarn(\n\u001b[0;32m    307\u001b[0m         msg\u001b[39m.\u001b[39mformat(arguments\u001b[39m=\u001b[39marguments),\n\u001b[0;32m    308\u001b[0m         \u001b[39mFutureWarning\u001b[39;00m,\n\u001b[0;32m    309\u001b[0m         stacklevel\u001b[39m=\u001b[39mstacklevel,\n\u001b[0;32m    310\u001b[0m     )\n\u001b[1;32m--> 311\u001b[0m \u001b[39mreturn\u001b[39;00m func(\u001b[39m*\u001b[39margs, \u001b[39m*\u001b[39m\u001b[39m*\u001b[39mkwargs)\n",
      "File \u001b[1;32mf:\\miniconda\\envs\\dl\\lib\\site-packages\\pandas\\core\\frame.py:4954\u001b[0m, in \u001b[0;36mDataFrame.drop\u001b[1;34m(self, labels, axis, index, columns, level, inplace, errors)\u001b[0m\n\u001b[0;32m   4806\u001b[0m \u001b[39m@deprecate_nonkeyword_arguments\u001b[39m(version\u001b[39m=\u001b[39m\u001b[39mNone\u001b[39;00m, allowed_args\u001b[39m=\u001b[39m[\u001b[39m\"\u001b[39m\u001b[39mself\u001b[39m\u001b[39m\"\u001b[39m, \u001b[39m\"\u001b[39m\u001b[39mlabels\u001b[39m\u001b[39m\"\u001b[39m])\n\u001b[0;32m   4807\u001b[0m \u001b[39mdef\u001b[39;00m \u001b[39mdrop\u001b[39m(\n\u001b[0;32m   4808\u001b[0m     \u001b[39mself\u001b[39m,\n\u001b[1;32m   (...)\u001b[0m\n\u001b[0;32m   4815\u001b[0m     errors: \u001b[39mstr\u001b[39m \u001b[39m=\u001b[39m \u001b[39m\"\u001b[39m\u001b[39mraise\u001b[39m\u001b[39m\"\u001b[39m,\n\u001b[0;32m   4816\u001b[0m ):\n\u001b[0;32m   4817\u001b[0m     \u001b[39m\"\"\"\u001b[39;00m\n\u001b[0;32m   4818\u001b[0m \u001b[39m    Drop specified labels from rows or columns.\u001b[39;00m\n\u001b[0;32m   4819\u001b[0m \n\u001b[1;32m   (...)\u001b[0m\n\u001b[0;32m   4952\u001b[0m \u001b[39m            weight  1.0     0.8\u001b[39;00m\n\u001b[0;32m   4953\u001b[0m \u001b[39m    \"\"\"\u001b[39;00m\n\u001b[1;32m-> 4954\u001b[0m     \u001b[39mreturn\u001b[39;00m \u001b[39msuper\u001b[39;49m()\u001b[39m.\u001b[39;49mdrop(\n\u001b[0;32m   4955\u001b[0m         labels\u001b[39m=\u001b[39;49mlabels,\n\u001b[0;32m   4956\u001b[0m         axis\u001b[39m=\u001b[39;49maxis,\n\u001b[0;32m   4957\u001b[0m         index\u001b[39m=\u001b[39;49mindex,\n\u001b[0;32m   4958\u001b[0m         columns\u001b[39m=\u001b[39;49mcolumns,\n\u001b[0;32m   4959\u001b[0m         level\u001b[39m=\u001b[39;49mlevel,\n\u001b[0;32m   4960\u001b[0m         inplace\u001b[39m=\u001b[39;49minplace,\n\u001b[0;32m   4961\u001b[0m         errors\u001b[39m=\u001b[39;49merrors,\n\u001b[0;32m   4962\u001b[0m     )\n",
      "File \u001b[1;32mf:\\miniconda\\envs\\dl\\lib\\site-packages\\pandas\\core\\generic.py:4267\u001b[0m, in \u001b[0;36mNDFrame.drop\u001b[1;34m(self, labels, axis, index, columns, level, inplace, errors)\u001b[0m\n\u001b[0;32m   4265\u001b[0m \u001b[39mfor\u001b[39;00m axis, labels \u001b[39min\u001b[39;00m axes\u001b[39m.\u001b[39mitems():\n\u001b[0;32m   4266\u001b[0m     \u001b[39mif\u001b[39;00m labels \u001b[39mis\u001b[39;00m \u001b[39mnot\u001b[39;00m \u001b[39mNone\u001b[39;00m:\n\u001b[1;32m-> 4267\u001b[0m         obj \u001b[39m=\u001b[39m obj\u001b[39m.\u001b[39;49m_drop_axis(labels, axis, level\u001b[39m=\u001b[39;49mlevel, errors\u001b[39m=\u001b[39;49merrors)\n\u001b[0;32m   4269\u001b[0m \u001b[39mif\u001b[39;00m inplace:\n\u001b[0;32m   4270\u001b[0m     \u001b[39mself\u001b[39m\u001b[39m.\u001b[39m_update_inplace(obj)\n",
      "File \u001b[1;32mf:\\miniconda\\envs\\dl\\lib\\site-packages\\pandas\\core\\generic.py:4311\u001b[0m, in \u001b[0;36mNDFrame._drop_axis\u001b[1;34m(self, labels, axis, level, errors, consolidate, only_slice)\u001b[0m\n\u001b[0;32m   4309\u001b[0m         new_axis \u001b[39m=\u001b[39m axis\u001b[39m.\u001b[39mdrop(labels, level\u001b[39m=\u001b[39mlevel, errors\u001b[39m=\u001b[39merrors)\n\u001b[0;32m   4310\u001b[0m     \u001b[39melse\u001b[39;00m:\n\u001b[1;32m-> 4311\u001b[0m         new_axis \u001b[39m=\u001b[39m axis\u001b[39m.\u001b[39;49mdrop(labels, errors\u001b[39m=\u001b[39;49merrors)\n\u001b[0;32m   4312\u001b[0m     indexer \u001b[39m=\u001b[39m axis\u001b[39m.\u001b[39mget_indexer(new_axis)\n\u001b[0;32m   4314\u001b[0m \u001b[39m# Case for non-unique axis\u001b[39;00m\n\u001b[0;32m   4315\u001b[0m \u001b[39melse\u001b[39;00m:\n",
      "File \u001b[1;32mf:\\miniconda\\envs\\dl\\lib\\site-packages\\pandas\\core\\indexes\\base.py:6644\u001b[0m, in \u001b[0;36mIndex.drop\u001b[1;34m(self, labels, errors)\u001b[0m\n\u001b[0;32m   6642\u001b[0m \u001b[39mif\u001b[39;00m mask\u001b[39m.\u001b[39many():\n\u001b[0;32m   6643\u001b[0m     \u001b[39mif\u001b[39;00m errors \u001b[39m!=\u001b[39m \u001b[39m\"\u001b[39m\u001b[39mignore\u001b[39m\u001b[39m\"\u001b[39m:\n\u001b[1;32m-> 6644\u001b[0m         \u001b[39mraise\u001b[39;00m \u001b[39mKeyError\u001b[39;00m(\u001b[39mf\u001b[39m\u001b[39m\"\u001b[39m\u001b[39m{\u001b[39;00m\u001b[39mlist\u001b[39m(labels[mask])\u001b[39m}\u001b[39;00m\u001b[39m not found in axis\u001b[39m\u001b[39m\"\u001b[39m)\n\u001b[0;32m   6645\u001b[0m     indexer \u001b[39m=\u001b[39m indexer[\u001b[39m~\u001b[39mmask]\n\u001b[0;32m   6646\u001b[0m \u001b[39mreturn\u001b[39;00m \u001b[39mself\u001b[39m\u001b[39m.\u001b[39mdelete(indexer)\n",
      "\u001b[1;31mKeyError\u001b[0m: \"['Unnamed: 0', 'Timestamp', 'Source Port', 'Source IP', 'SimillarHTTP', 'Protocol', 'Flow ID', 'Destination IP'] not found in axis\""
     ]
    }
   ],
   "source": [
    "df.drop(['Unnamed: 0','Timestamp','Source Port','Source IP','SimillarHTTP',\n",
    "'Protocol','Flow ID','Destination IP'], axis=1, inplace=True)"
   ]
  },
  {
   "cell_type": "code",
   "execution_count": 21,
   "metadata": {},
   "outputs": [
    {
     "data": {
      "text/plain": [
       "['BENIGN', 'DrDoS_DNS']"
      ]
     },
     "execution_count": 21,
     "metadata": {},
     "output_type": "execute_result"
    }
   ],
   "source": [
    "labels_factor = df['Label'].unique().tolist()\n",
    "labels_factor.sort()\n",
    "labels_factor"
   ]
  },
  {
   "cell_type": "code",
   "execution_count": 22,
   "metadata": {},
   "outputs": [
    {
     "data": {
      "text/plain": [
       "BENIGN          3402\n",
       "DrDoS_DNS    5071011\n",
       "Name: Label, dtype: int64"
      ]
     },
     "execution_count": 22,
     "metadata": {},
     "output_type": "execute_result"
    }
   ],
   "source": [
    "labels_count = df['Label'].value_counts(sort=True, ascending=True)\n",
    "labels_count"
   ]
  },
  {
   "cell_type": "markdown",
   "metadata": {},
   "source": [
    "---\n",
    "## Analyzing train dataset part"
   ]
  },
  {
   "cell_type": "code",
   "execution_count": 23,
   "metadata": {},
   "outputs": [],
   "source": [
    "del df"
   ]
  },
  {
   "cell_type": "code",
   "execution_count": 27,
   "metadata": {},
   "outputs": [],
   "source": [
    "folder_selector='.\\\\datasets\\\\CICDDoS2019\\\\original\\\\train'"
   ]
  },
  {
   "cell_type": "code",
   "execution_count": 28,
   "metadata": {},
   "outputs": [
    {
     "data": {
      "text/plain": [
       "['.\\\\datasets\\\\CICDDoS2019\\\\original\\\\train\\\\DrDoS_DNS.csv',\n",
       " '.\\\\datasets\\\\CICDDoS2019\\\\original\\\\train\\\\DrDoS_LDAP.csv',\n",
       " '.\\\\datasets\\\\CICDDoS2019\\\\original\\\\train\\\\DrDoS_MSSQL.csv',\n",
       " '.\\\\datasets\\\\CICDDoS2019\\\\original\\\\train\\\\DrDoS_NetBIOS.csv',\n",
       " '.\\\\datasets\\\\CICDDoS2019\\\\original\\\\train\\\\DrDoS_NTP.csv',\n",
       " '.\\\\datasets\\\\CICDDoS2019\\\\original\\\\train\\\\DrDoS_SNMP.csv',\n",
       " '.\\\\datasets\\\\CICDDoS2019\\\\original\\\\train\\\\DrDoS_SSDP.csv',\n",
       " '.\\\\datasets\\\\CICDDoS2019\\\\original\\\\train\\\\DrDoS_UDP.csv',\n",
       " '.\\\\datasets\\\\CICDDoS2019\\\\original\\\\train\\\\Syn.csv',\n",
       " '.\\\\datasets\\\\CICDDoS2019\\\\original\\\\train\\\\TFTP.csv',\n",
       " '.\\\\datasets\\\\CICDDoS2019\\\\original\\\\train\\\\UDPLag.csv']"
      ]
     },
     "execution_count": 28,
     "metadata": {},
     "output_type": "execute_result"
    }
   ],
   "source": [
    "csv_files = serch_csvs_in_folder(folder_selector)\n",
    "csv_files"
   ]
  },
  {
   "cell_type": "code",
   "execution_count": 32,
   "metadata": {},
   "outputs": [
    {
     "name": "stderr",
     "output_type": "stream",
     "text": [
      "C:\\Users\\MAX\\AppData\\Local\\Temp\\ipykernel_5340\\2030347237.py:5: DtypeWarning: Columns (85) have mixed types. Specify dtype option on import or set low_memory=False.\n",
      "  for chunk in reader:\n",
      "C:\\Users\\MAX\\AppData\\Local\\Temp\\ipykernel_5340\\2030347237.py:5: DtypeWarning: Columns (85) have mixed types. Specify dtype option on import or set low_memory=False.\n",
      "  for chunk in reader:\n",
      "C:\\Users\\MAX\\AppData\\Local\\Temp\\ipykernel_5340\\2030347237.py:5: DtypeWarning: Columns (85) have mixed types. Specify dtype option on import or set low_memory=False.\n",
      "  for chunk in reader:\n",
      "C:\\Users\\MAX\\AppData\\Local\\Temp\\ipykernel_5340\\2030347237.py:5: DtypeWarning: Columns (85) have mixed types. Specify dtype option on import or set low_memory=False.\n",
      "  for chunk in reader:\n",
      "C:\\Users\\MAX\\AppData\\Local\\Temp\\ipykernel_5340\\2030347237.py:5: DtypeWarning: Columns (85) have mixed types. Specify dtype option on import or set low_memory=False.\n",
      "  for chunk in reader:\n",
      "C:\\Users\\MAX\\AppData\\Local\\Temp\\ipykernel_5340\\2030347237.py:5: DtypeWarning: Columns (85) have mixed types. Specify dtype option on import or set low_memory=False.\n",
      "  for chunk in reader:\n",
      "C:\\Users\\MAX\\AppData\\Local\\Temp\\ipykernel_5340\\2030347237.py:5: DtypeWarning: Columns (85) have mixed types. Specify dtype option on import or set low_memory=False.\n",
      "  for chunk in reader:\n",
      "C:\\Users\\MAX\\AppData\\Local\\Temp\\ipykernel_5340\\2030347237.py:5: DtypeWarning: Columns (85) have mixed types. Specify dtype option on import or set low_memory=False.\n",
      "  for chunk in reader:\n",
      "C:\\Users\\MAX\\AppData\\Local\\Temp\\ipykernel_5340\\2030347237.py:5: DtypeWarning: Columns (85) have mixed types. Specify dtype option on import or set low_memory=False.\n",
      "  for chunk in reader:\n",
      "C:\\Users\\MAX\\AppData\\Local\\Temp\\ipykernel_5340\\2030347237.py:5: DtypeWarning: Columns (85) have mixed types. Specify dtype option on import or set low_memory=False.\n",
      "  for chunk in reader:\n",
      "C:\\Users\\MAX\\AppData\\Local\\Temp\\ipykernel_5340\\2030347237.py:5: DtypeWarning: Columns (85) have mixed types. Specify dtype option on import or set low_memory=False.\n",
      "  for chunk in reader:\n",
      "C:\\Users\\MAX\\AppData\\Local\\Temp\\ipykernel_5340\\2030347237.py:5: DtypeWarning: Columns (85) have mixed types. Specify dtype option on import or set low_memory=False.\n",
      "  for chunk in reader:\n",
      "C:\\Users\\MAX\\AppData\\Local\\Temp\\ipykernel_5340\\2030347237.py:5: DtypeWarning: Columns (85) have mixed types. Specify dtype option on import or set low_memory=False.\n",
      "  for chunk in reader:\n",
      "C:\\Users\\MAX\\AppData\\Local\\Temp\\ipykernel_5340\\2030347237.py:5: DtypeWarning: Columns (85) have mixed types. Specify dtype option on import or set low_memory=False.\n",
      "  for chunk in reader:\n",
      "C:\\Users\\MAX\\AppData\\Local\\Temp\\ipykernel_5340\\2030347237.py:5: DtypeWarning: Columns (85) have mixed types. Specify dtype option on import or set low_memory=False.\n",
      "  for chunk in reader:\n",
      "C:\\Users\\MAX\\AppData\\Local\\Temp\\ipykernel_5340\\2030347237.py:5: DtypeWarning: Columns (85) have mixed types. Specify dtype option on import or set low_memory=False.\n",
      "  for chunk in reader:\n",
      "C:\\Users\\MAX\\AppData\\Local\\Temp\\ipykernel_5340\\2030347237.py:5: DtypeWarning: Columns (85) have mixed types. Specify dtype option on import or set low_memory=False.\n",
      "  for chunk in reader:\n",
      "C:\\Users\\MAX\\AppData\\Local\\Temp\\ipykernel_5340\\2030347237.py:5: DtypeWarning: Columns (85) have mixed types. Specify dtype option on import or set low_memory=False.\n",
      "  for chunk in reader:\n",
      "C:\\Users\\MAX\\AppData\\Local\\Temp\\ipykernel_5340\\2030347237.py:5: DtypeWarning: Columns (85) have mixed types. Specify dtype option on import or set low_memory=False.\n",
      "  for chunk in reader:\n",
      "C:\\Users\\MAX\\AppData\\Local\\Temp\\ipykernel_5340\\2030347237.py:5: DtypeWarning: Columns (85) have mixed types. Specify dtype option on import or set low_memory=False.\n",
      "  for chunk in reader:\n",
      "C:\\Users\\MAX\\AppData\\Local\\Temp\\ipykernel_5340\\2030347237.py:5: DtypeWarning: Columns (85) have mixed types. Specify dtype option on import or set low_memory=False.\n",
      "  for chunk in reader:\n",
      "C:\\Users\\MAX\\AppData\\Local\\Temp\\ipykernel_5340\\2030347237.py:5: DtypeWarning: Columns (85) have mixed types. Specify dtype option on import or set low_memory=False.\n",
      "  for chunk in reader:\n",
      "C:\\Users\\MAX\\AppData\\Local\\Temp\\ipykernel_5340\\2030347237.py:5: DtypeWarning: Columns (85) have mixed types. Specify dtype option on import or set low_memory=False.\n",
      "  for chunk in reader:\n",
      "C:\\Users\\MAX\\AppData\\Local\\Temp\\ipykernel_5340\\2030347237.py:5: DtypeWarning: Columns (85) have mixed types. Specify dtype option on import or set low_memory=False.\n",
      "  for chunk in reader:\n",
      "C:\\Users\\MAX\\AppData\\Local\\Temp\\ipykernel_5340\\2030347237.py:5: DtypeWarning: Columns (85) have mixed types. Specify dtype option on import or set low_memory=False.\n",
      "  for chunk in reader:\n",
      "C:\\Users\\MAX\\AppData\\Local\\Temp\\ipykernel_5340\\2030347237.py:5: DtypeWarning: Columns (85) have mixed types. Specify dtype option on import or set low_memory=False.\n",
      "  for chunk in reader:\n",
      "C:\\Users\\MAX\\AppData\\Local\\Temp\\ipykernel_5340\\2030347237.py:5: DtypeWarning: Columns (85) have mixed types. Specify dtype option on import or set low_memory=False.\n",
      "  for chunk in reader:\n",
      "C:\\Users\\MAX\\AppData\\Local\\Temp\\ipykernel_5340\\2030347237.py:5: DtypeWarning: Columns (85) have mixed types. Specify dtype option on import or set low_memory=False.\n",
      "  for chunk in reader:\n",
      "C:\\Users\\MAX\\AppData\\Local\\Temp\\ipykernel_5340\\2030347237.py:5: DtypeWarning: Columns (85) have mixed types. Specify dtype option on import or set low_memory=False.\n",
      "  for chunk in reader:\n",
      "C:\\Users\\MAX\\AppData\\Local\\Temp\\ipykernel_5340\\2030347237.py:5: DtypeWarning: Columns (85) have mixed types. Specify dtype option on import or set low_memory=False.\n",
      "  for chunk in reader:\n",
      "C:\\Users\\MAX\\AppData\\Local\\Temp\\ipykernel_5340\\2030347237.py:5: DtypeWarning: Columns (85) have mixed types. Specify dtype option on import or set low_memory=False.\n",
      "  for chunk in reader:\n",
      "C:\\Users\\MAX\\AppData\\Local\\Temp\\ipykernel_5340\\2030347237.py:5: DtypeWarning: Columns (85) have mixed types. Specify dtype option on import or set low_memory=False.\n",
      "  for chunk in reader:\n",
      "C:\\Users\\MAX\\AppData\\Local\\Temp\\ipykernel_5340\\2030347237.py:5: DtypeWarning: Columns (85) have mixed types. Specify dtype option on import or set low_memory=False.\n",
      "  for chunk in reader:\n",
      "C:\\Users\\MAX\\AppData\\Local\\Temp\\ipykernel_5340\\2030347237.py:5: DtypeWarning: Columns (85) have mixed types. Specify dtype option on import or set low_memory=False.\n",
      "  for chunk in reader:\n",
      "C:\\Users\\MAX\\AppData\\Local\\Temp\\ipykernel_5340\\2030347237.py:5: DtypeWarning: Columns (85) have mixed types. Specify dtype option on import or set low_memory=False.\n",
      "  for chunk in reader:\n",
      "C:\\Users\\MAX\\AppData\\Local\\Temp\\ipykernel_5340\\2030347237.py:5: DtypeWarning: Columns (85) have mixed types. Specify dtype option on import or set low_memory=False.\n",
      "  for chunk in reader:\n",
      "C:\\Users\\MAX\\AppData\\Local\\Temp\\ipykernel_5340\\2030347237.py:5: DtypeWarning: Columns (85) have mixed types. Specify dtype option on import or set low_memory=False.\n",
      "  for chunk in reader:\n",
      "C:\\Users\\MAX\\AppData\\Local\\Temp\\ipykernel_5340\\2030347237.py:5: DtypeWarning: Columns (85) have mixed types. Specify dtype option on import or set low_memory=False.\n",
      "  for chunk in reader:\n",
      "C:\\Users\\MAX\\AppData\\Local\\Temp\\ipykernel_5340\\2030347237.py:5: DtypeWarning: Columns (85) have mixed types. Specify dtype option on import or set low_memory=False.\n",
      "  for chunk in reader:\n",
      "C:\\Users\\MAX\\AppData\\Local\\Temp\\ipykernel_5340\\2030347237.py:5: DtypeWarning: Columns (85) have mixed types. Specify dtype option on import or set low_memory=False.\n",
      "  for chunk in reader:\n",
      "C:\\Users\\MAX\\AppData\\Local\\Temp\\ipykernel_5340\\2030347237.py:5: DtypeWarning: Columns (85) have mixed types. Specify dtype option on import or set low_memory=False.\n",
      "  for chunk in reader:\n",
      "C:\\Users\\MAX\\AppData\\Local\\Temp\\ipykernel_5340\\2030347237.py:5: DtypeWarning: Columns (85) have mixed types. Specify dtype option on import or set low_memory=False.\n",
      "  for chunk in reader:\n",
      "C:\\Users\\MAX\\AppData\\Local\\Temp\\ipykernel_5340\\2030347237.py:5: DtypeWarning: Columns (85) have mixed types. Specify dtype option on import or set low_memory=False.\n",
      "  for chunk in reader:\n",
      "C:\\Users\\MAX\\AppData\\Local\\Temp\\ipykernel_5340\\2030347237.py:5: DtypeWarning: Columns (85) have mixed types. Specify dtype option on import or set low_memory=False.\n",
      "  for chunk in reader:\n",
      "C:\\Users\\MAX\\AppData\\Local\\Temp\\ipykernel_5340\\2030347237.py:5: DtypeWarning: Columns (85) have mixed types. Specify dtype option on import or set low_memory=False.\n",
      "  for chunk in reader:\n",
      "C:\\Users\\MAX\\AppData\\Local\\Temp\\ipykernel_5340\\2030347237.py:5: DtypeWarning: Columns (85) have mixed types. Specify dtype option on import or set low_memory=False.\n",
      "  for chunk in reader:\n",
      "C:\\Users\\MAX\\AppData\\Local\\Temp\\ipykernel_5340\\2030347237.py:5: DtypeWarning: Columns (85) have mixed types. Specify dtype option on import or set low_memory=False.\n",
      "  for chunk in reader:\n",
      "C:\\Users\\MAX\\AppData\\Local\\Temp\\ipykernel_5340\\2030347237.py:5: DtypeWarning: Columns (85) have mixed types. Specify dtype option on import or set low_memory=False.\n",
      "  for chunk in reader:\n",
      "C:\\Users\\MAX\\AppData\\Local\\Temp\\ipykernel_5340\\2030347237.py:5: DtypeWarning: Columns (85) have mixed types. Specify dtype option on import or set low_memory=False.\n",
      "  for chunk in reader:\n",
      "C:\\Users\\MAX\\AppData\\Local\\Temp\\ipykernel_5340\\2030347237.py:5: DtypeWarning: Columns (85) have mixed types. Specify dtype option on import or set low_memory=False.\n",
      "  for chunk in reader:\n",
      "C:\\Users\\MAX\\AppData\\Local\\Temp\\ipykernel_5340\\2030347237.py:5: DtypeWarning: Columns (85) have mixed types. Specify dtype option on import or set low_memory=False.\n",
      "  for chunk in reader:\n",
      "C:\\Users\\MAX\\AppData\\Local\\Temp\\ipykernel_5340\\2030347237.py:5: DtypeWarning: Columns (85) have mixed types. Specify dtype option on import or set low_memory=False.\n",
      "  for chunk in reader:\n",
      "C:\\Users\\MAX\\AppData\\Local\\Temp\\ipykernel_5340\\2030347237.py:5: DtypeWarning: Columns (85) have mixed types. Specify dtype option on import or set low_memory=False.\n",
      "  for chunk in reader:\n",
      "C:\\Users\\MAX\\AppData\\Local\\Temp\\ipykernel_5340\\2030347237.py:5: DtypeWarning: Columns (85) have mixed types. Specify dtype option on import or set low_memory=False.\n",
      "  for chunk in reader:\n",
      "C:\\Users\\MAX\\AppData\\Local\\Temp\\ipykernel_5340\\2030347237.py:5: DtypeWarning: Columns (85) have mixed types. Specify dtype option on import or set low_memory=False.\n",
      "  for chunk in reader:\n"
     ]
    },
    {
     "data": {
      "text/plain": [
       "{'DrDoS_DNS': 5071011,\n",
       " 'BENIGN': 56863,\n",
       " 'DrDoS_LDAP': 2179930,\n",
       " 'DrDoS_MSSQL': 4522492,\n",
       " 'DrDoS_NetBIOS': 4093279,\n",
       " 'DrDoS_NTP': 1202642,\n",
       " 'DrDoS_SNMP': 5159870,\n",
       " 'DrDoS_SSDP': 2610611,\n",
       " 'DrDoS_UDP': 3134645,\n",
       " 'Syn': 1582289,\n",
       " 'TFTP': 20082580,\n",
       " 'UDP-lag': 366461,\n",
       " 'WebDDoS': 439}"
      ]
     },
     "execution_count": 32,
     "metadata": {},
     "output_type": "execute_result"
    }
   ],
   "source": [
    "classes_distribution_train = {}\n",
    "\n",
    "for ds in csv_files: #for every dataset\n",
    "    with pd.read_csv(ds, chunksize=10**6) as reader: #that has to be processed in chunks\n",
    "        for chunk in reader:\n",
    "            chunk.columns = chunk.columns.str.strip()\n",
    "\n",
    "            labels_count = chunk['Label'].value_counts()\n",
    "\n",
    "            for class_,count in labels_count.iteritems():\n",
    "                #print(class_, count)\n",
    "                if class_ in classes_distribution_train.keys():\n",
    "                    classes_distribution_train[class_] += count\n",
    "                else:\n",
    "                    classes_distribution_train[class_] = count\n",
    "\n",
    "classes_distribution_train"
   ]
  },
  {
   "cell_type": "code",
   "execution_count": 33,
   "metadata": {},
   "outputs": [
    {
     "name": "stdout",
     "output_type": "stream",
     "text": [
      "Stored 'classes_distribution_train' (dict)\n"
     ]
    }
   ],
   "source": [
    "dict_={}\n",
    "\n",
    "for k,v in classes_distribution_train.items():\n",
    "    dict_[k.replace('DrDoS_', '')] = classes_distribution_train[k]\n",
    "\n",
    "dict_['UDPLag'] = dict_.pop('UDP-lag')\n",
    "\n",
    "classes_distribution_train = dict_\n",
    "\n",
    "%store classes_distribution_train"
   ]
  },
  {
   "cell_type": "code",
   "execution_count": 34,
   "metadata": {},
   "outputs": [
    {
     "data": {
      "image/png": "[encoded data removed]",
      "text/plain": [
       "<Figure size 640x480 with 1 Axes>"
      ]
     },
     "metadata": {},
     "output_type": "display_data"
    }
   ],
   "source": [
    "%store -r classes_distribution_train\n",
    "plt.bar(classes_distribution_train.keys(), classes_distribution_train.values())\n",
    "plt.show()"
   ]
  },
  {
   "cell_type": "markdown",
   "metadata": {},
   "source": [
    "---\n",
    "## Analyzing test dataset part"
   ]
  },
  {
   "cell_type": "code",
   "execution_count": 37,
   "metadata": {},
   "outputs": [],
   "source": [
    "folder_selector='.\\\\datasets\\\\CICDDoS2019\\\\original\\\\test'"
   ]
  },
  {
   "cell_type": "code",
   "execution_count": 38,
   "metadata": {},
   "outputs": [
    {
     "data": {
      "text/plain": [
       "['.\\\\datasets\\\\CICDDoS2019\\\\original\\\\test\\\\LDAP.csv',\n",
       " '.\\\\datasets\\\\CICDDoS2019\\\\original\\\\test\\\\MSSQL.csv',\n",
       " '.\\\\datasets\\\\CICDDoS2019\\\\original\\\\test\\\\NetBIOS.csv',\n",
       " '.\\\\datasets\\\\CICDDoS2019\\\\original\\\\test\\\\Portmap.csv',\n",
       " '.\\\\datasets\\\\CICDDoS2019\\\\original\\\\test\\\\Syn.csv',\n",
       " '.\\\\datasets\\\\CICDDoS2019\\\\original\\\\test\\\\UDP.csv',\n",
       " '.\\\\datasets\\\\CICDDoS2019\\\\original\\\\test\\\\UDPLag.csv']"
      ]
     },
     "execution_count": 38,
     "metadata": {},
     "output_type": "execute_result"
    }
   ],
   "source": [
    "csv_files = serch_csvs_in_folder(folder_selector)\n",
    "csv_files"
   ]
  },
  {
   "cell_type": "code",
   "execution_count": 39,
   "metadata": {},
   "outputs": [
    {
     "name": "stderr",
     "output_type": "stream",
     "text": [
      "C:\\Users\\MAX\\AppData\\Local\\Temp\\ipykernel_5340\\770212701.py:5: DtypeWarning: Columns (85) have mixed types. Specify dtype option on import or set low_memory=False.\n",
      "  for chunk in reader:\n",
      "C:\\Users\\MAX\\AppData\\Local\\Temp\\ipykernel_5340\\770212701.py:5: DtypeWarning: Columns (85) have mixed types. Specify dtype option on import or set low_memory=False.\n",
      "  for chunk in reader:\n",
      "C:\\Users\\MAX\\AppData\\Local\\Temp\\ipykernel_5340\\770212701.py:5: DtypeWarning: Columns (85) have mixed types. Specify dtype option on import or set low_memory=False.\n",
      "  for chunk in reader:\n",
      "C:\\Users\\MAX\\AppData\\Local\\Temp\\ipykernel_5340\\770212701.py:5: DtypeWarning: Columns (85) have mixed types. Specify dtype option on import or set low_memory=False.\n",
      "  for chunk in reader:\n",
      "C:\\Users\\MAX\\AppData\\Local\\Temp\\ipykernel_5340\\770212701.py:5: DtypeWarning: Columns (85) have mixed types. Specify dtype option on import or set low_memory=False.\n",
      "  for chunk in reader:\n",
      "C:\\Users\\MAX\\AppData\\Local\\Temp\\ipykernel_5340\\770212701.py:5: DtypeWarning: Columns (85) have mixed types. Specify dtype option on import or set low_memory=False.\n",
      "  for chunk in reader:\n",
      "C:\\Users\\MAX\\AppData\\Local\\Temp\\ipykernel_5340\\770212701.py:5: DtypeWarning: Columns (85) have mixed types. Specify dtype option on import or set low_memory=False.\n",
      "  for chunk in reader:\n",
      "C:\\Users\\MAX\\AppData\\Local\\Temp\\ipykernel_5340\\770212701.py:5: DtypeWarning: Columns (85) have mixed types. Specify dtype option on import or set low_memory=False.\n",
      "  for chunk in reader:\n",
      "C:\\Users\\MAX\\AppData\\Local\\Temp\\ipykernel_5340\\770212701.py:5: DtypeWarning: Columns (85) have mixed types. Specify dtype option on import or set low_memory=False.\n",
      "  for chunk in reader:\n",
      "C:\\Users\\MAX\\AppData\\Local\\Temp\\ipykernel_5340\\770212701.py:5: DtypeWarning: Columns (85) have mixed types. Specify dtype option on import or set low_memory=False.\n",
      "  for chunk in reader:\n",
      "C:\\Users\\MAX\\AppData\\Local\\Temp\\ipykernel_5340\\770212701.py:5: DtypeWarning: Columns (85) have mixed types. Specify dtype option on import or set low_memory=False.\n",
      "  for chunk in reader:\n",
      "C:\\Users\\MAX\\AppData\\Local\\Temp\\ipykernel_5340\\770212701.py:5: DtypeWarning: Columns (85) have mixed types. Specify dtype option on import or set low_memory=False.\n",
      "  for chunk in reader:\n",
      "C:\\Users\\MAX\\AppData\\Local\\Temp\\ipykernel_5340\\770212701.py:5: DtypeWarning: Columns (85) have mixed types. Specify dtype option on import or set low_memory=False.\n",
      "  for chunk in reader:\n",
      "C:\\Users\\MAX\\AppData\\Local\\Temp\\ipykernel_5340\\770212701.py:5: DtypeWarning: Columns (85) have mixed types. Specify dtype option on import or set low_memory=False.\n",
      "  for chunk in reader:\n",
      "C:\\Users\\MAX\\AppData\\Local\\Temp\\ipykernel_5340\\770212701.py:5: DtypeWarning: Columns (85) have mixed types. Specify dtype option on import or set low_memory=False.\n",
      "  for chunk in reader:\n",
      "C:\\Users\\MAX\\AppData\\Local\\Temp\\ipykernel_5340\\770212701.py:5: DtypeWarning: Columns (85) have mixed types. Specify dtype option on import or set low_memory=False.\n",
      "  for chunk in reader:\n",
      "C:\\Users\\MAX\\AppData\\Local\\Temp\\ipykernel_5340\\770212701.py:5: DtypeWarning: Columns (85) have mixed types. Specify dtype option on import or set low_memory=False.\n",
      "  for chunk in reader:\n",
      "C:\\Users\\MAX\\AppData\\Local\\Temp\\ipykernel_5340\\770212701.py:5: DtypeWarning: Columns (85) have mixed types. Specify dtype option on import or set low_memory=False.\n",
      "  for chunk in reader:\n",
      "C:\\Users\\MAX\\AppData\\Local\\Temp\\ipykernel_5340\\770212701.py:5: DtypeWarning: Columns (85) have mixed types. Specify dtype option on import or set low_memory=False.\n",
      "  for chunk in reader:\n",
      "C:\\Users\\MAX\\AppData\\Local\\Temp\\ipykernel_5340\\770212701.py:5: DtypeWarning: Columns (85) have mixed types. Specify dtype option on import or set low_memory=False.\n",
      "  for chunk in reader:\n",
      "C:\\Users\\MAX\\AppData\\Local\\Temp\\ipykernel_5340\\770212701.py:5: DtypeWarning: Columns (85) have mixed types. Specify dtype option on import or set low_memory=False.\n",
      "  for chunk in reader:\n",
      "C:\\Users\\MAX\\AppData\\Local\\Temp\\ipykernel_5340\\770212701.py:5: DtypeWarning: Columns (85) have mixed types. Specify dtype option on import or set low_memory=False.\n",
      "  for chunk in reader:\n"
     ]
    },
    {
     "data": {
      "text/plain": [
       "{'LDAP': 1915122,\n",
       " 'NetBIOS': 3657497,\n",
       " 'BENIGN': 56965,\n",
       " 'MSSQL': 5787453,\n",
       " 'Portmap': 186960,\n",
       " 'Syn': 4891500,\n",
       " 'UDP': 3867155,\n",
       " 'UDPLag': 1873}"
      ]
     },
     "execution_count": 39,
     "metadata": {},
     "output_type": "execute_result"
    }
   ],
   "source": [
    "classes_distribution_test = {}\n",
    "\n",
    "for ds in csv_files: #for every dataset\n",
    "    with pd.read_csv(ds, chunksize=10**6) as reader: #that has to be processed in chunks\n",
    "        for chunk in reader:\n",
    "            chunk.columns = chunk.columns.str.strip()\n",
    "\n",
    "            labels_count = chunk['Label'].value_counts()\n",
    "\n",
    "            for class_,count in labels_count.iteritems():\n",
    "                #print(class_, count)\n",
    "                if class_ in classes_distribution_test.keys():\n",
    "                    classes_distribution_test[class_] += count\n",
    "                else:\n",
    "                    classes_distribution_test[class_] = count\n",
    "\n",
    "classes_distribution_test"
   ]
  },
  {
   "cell_type": "code",
   "execution_count": 42,
   "metadata": {},
   "outputs": [
    {
     "name": "stdout",
     "output_type": "stream",
     "text": [
      "Stored 'classes_distribution_test' (dict)\n"
     ]
    }
   ],
   "source": [
    "%store classes_distribution_test"
   ]
  },
  {
   "cell_type": "code",
   "execution_count": 43,
   "metadata": {},
   "outputs": [
    {
     "data": {
      "image/png": "[encoded data removed]",
      "text/plain": [
       "<Figure size 640x480 with 1 Axes>"
      ]
     },
     "metadata": {},
     "output_type": "display_data"
    }
   ],
   "source": [
    "%store -r classes_distribution_test\n",
    "plt.bar(classes_distribution_test.keys(), classes_distribution_test.values())\n",
    "plt.show()"
   ]
  },
  {
   "cell_type": "markdown",
   "metadata": {},
   "source": [
    "---\n",
    "## Balancing the dataset\n",
    "\n",
    "As discovered we have too much samples and little computing power. In order to not waste data we have for the benign class, since all classes are skewed, we are going to merge and cut all data we have to the least numerous class.  \n",
    "Balance classes by cutting them down to the cardinality of 'BENIGN' class (which is the class that has less samples after the merge). This will get us a balanced-by-construction and one-file-only dataset that we will split later in train and test samples for the NN (ignoring the original dataset structure). The resulting csv file will have about 1.3 million observations that are more than enough, anyways."
   ]
  },
  {
   "cell_type": "code",
   "execution_count": 44,
   "metadata": {},
   "outputs": [
    {
     "data": {
      "text/plain": [
       "{'DNS': 5071011,\n",
       " 'BENIGN': 113828,\n",
       " 'LDAP': 4095052,\n",
       " 'MSSQL': 10309945,\n",
       " 'NetBIOS': 7750776,\n",
       " 'NTP': 1202642,\n",
       " 'SNMP': 5159870,\n",
       " 'SSDP': 2610611,\n",
       " 'UDP': 7001800,\n",
       " 'Syn': 6473789,\n",
       " 'TFTP': 20082580,\n",
       " 'WebDDoS': 439,\n",
       " 'UDPLag': 368334,\n",
       " 'Portmap': 186960}"
      ]
     },
     "execution_count": 44,
     "metadata": {},
     "output_type": "execute_result"
    }
   ],
   "source": [
    "total_classes_distribution = {}\n",
    "for k,v in classes_distribution_train.items():\n",
    "    if k in total_classes_distribution.keys():\n",
    "        total_classes_distribution[k] += v\n",
    "    else:\n",
    "        total_classes_distribution[k] = v\n",
    "\n",
    "for k,v in classes_distribution_test.items():\n",
    "    if k in total_classes_distribution.keys():\n",
    "        total_classes_distribution[k] += v\n",
    "    else:\n",
    "        total_classes_distribution[k] = v\n",
    "\n",
    "total_classes_distribution"
   ]
  },
  {
   "cell_type": "code",
   "execution_count": 45,
   "metadata": {},
   "outputs": [
    {
     "name": "stdout",
     "output_type": "stream",
     "text": [
      "The class that has less item is BENIGN with 113828 items.\n"
     ]
    }
   ],
   "source": [
    "del total_classes_distribution['WebDDoS'] #we will drop this label across the dataset\n",
    "del total_classes_distribution['Portmap'] #we will drop this label across the dataset\n",
    "\n",
    "min_val=min(total_classes_distribution.values())\n",
    "smallest_class=[k for k, v in total_classes_distribution.items() if v==min_val][0]\n",
    "print('The class that has less item is', smallest_class, 'with', min_val, 'items.')"
   ]
  },
  {
   "cell_type": "code",
   "execution_count": 46,
   "metadata": {},
   "outputs": [],
   "source": [
    "seen_class_samples = {}\n",
    "rows_to_drop=[]\n",
    "\n",
    "seen_class_samples=seen_class_samples.fromkeys(total_classes_distribution, 0)\n",
    "\n",
    "only_header=pd.read_csv(csv_files[0], nrows=0)\n",
    "only_header.columns=only_header.columns.str.strip()\n",
    "only_header.drop(['Unnamed: 0','Timestamp','Source Port','Source IP','SimillarHTTP','Protocol','Flow ID','Destination IP'], axis=1, inplace=True)\n",
    "only_header.to_csv('.\\\\datasets\\\\CICDDoS2019\\\\cut\\\\dataset.csv', mode='w', index=False, header=True) #copy only header to final jumbo csv"
   ]
  },
  {
   "cell_type": "code",
   "execution_count": 47,
   "metadata": {},
   "outputs": [
    {
     "data": {
      "text/plain": [
       "['.\\\\datasets\\\\CICDDoS2019\\\\original\\\\train\\\\DrDoS_DNS.csv',\n",
       " '.\\\\datasets\\\\CICDDoS2019\\\\original\\\\train\\\\DrDoS_LDAP.csv',\n",
       " '.\\\\datasets\\\\CICDDoS2019\\\\original\\\\train\\\\DrDoS_MSSQL.csv',\n",
       " '.\\\\datasets\\\\CICDDoS2019\\\\original\\\\train\\\\DrDoS_NetBIOS.csv',\n",
       " '.\\\\datasets\\\\CICDDoS2019\\\\original\\\\train\\\\DrDoS_NTP.csv',\n",
       " '.\\\\datasets\\\\CICDDoS2019\\\\original\\\\train\\\\DrDoS_SNMP.csv',\n",
       " '.\\\\datasets\\\\CICDDoS2019\\\\original\\\\train\\\\DrDoS_SSDP.csv',\n",
       " '.\\\\datasets\\\\CICDDoS2019\\\\original\\\\train\\\\DrDoS_UDP.csv',\n",
       " '.\\\\datasets\\\\CICDDoS2019\\\\original\\\\train\\\\Syn.csv',\n",
       " '.\\\\datasets\\\\CICDDoS2019\\\\original\\\\train\\\\TFTP.csv',\n",
       " '.\\\\datasets\\\\CICDDoS2019\\\\original\\\\train\\\\UDPLag.csv']"
      ]
     },
     "execution_count": 47,
     "metadata": {},
     "output_type": "execute_result"
    }
   ],
   "source": [
    "folder_selector='.\\\\datasets\\\\CICDDoS2019\\\\original\\\\train'\n",
    "\n",
    "csv_files = serch_csvs_in_folder(folder_selector)\n",
    "csv_files"
   ]
  },
  {
   "cell_type": "code",
   "execution_count": 48,
   "metadata": {},
   "outputs": [
    {
     "name": "stdout",
     "output_type": "stream",
     "text": [
      ".\\datasets\\CICDDoS2019\\original\\train\\DrDoS_DNS.csv\n"
     ]
    },
    {
     "name": "stderr",
     "output_type": "stream",
     "text": [
      "C:\\Users\\MAX\\AppData\\Local\\Temp\\ipykernel_5340\\577774841.py:4: DtypeWarning: Columns (85) have mixed types. Specify dtype option on import or set low_memory=False.\n",
      "  for chunk in reader:\n",
      "C:\\Users\\MAX\\AppData\\Local\\Temp\\ipykernel_5340\\577774841.py:4: DtypeWarning: Columns (85) have mixed types. Specify dtype option on import or set low_memory=False.\n",
      "  for chunk in reader:\n",
      "C:\\Users\\MAX\\AppData\\Local\\Temp\\ipykernel_5340\\577774841.py:4: DtypeWarning: Columns (85) have mixed types. Specify dtype option on import or set low_memory=False.\n",
      "  for chunk in reader:\n",
      "C:\\Users\\MAX\\AppData\\Local\\Temp\\ipykernel_5340\\577774841.py:4: DtypeWarning: Columns (85) have mixed types. Specify dtype option on import or set low_memory=False.\n",
      "  for chunk in reader:\n",
      "C:\\Users\\MAX\\AppData\\Local\\Temp\\ipykernel_5340\\577774841.py:4: DtypeWarning: Columns (85) have mixed types. Specify dtype option on import or set low_memory=False.\n",
      "  for chunk in reader:\n",
      "C:\\Users\\MAX\\AppData\\Local\\Temp\\ipykernel_5340\\577774841.py:4: DtypeWarning: Columns (85) have mixed types. Specify dtype option on import or set low_memory=False.\n",
      "  for chunk in reader:\n"
     ]
    },
    {
     "name": "stdout",
     "output_type": "stream",
     "text": [
      ".\\datasets\\CICDDoS2019\\original\\train\\DrDoS_LDAP.csv\n"
     ]
    },
    {
     "name": "stderr",
     "output_type": "stream",
     "text": [
      "C:\\Users\\MAX\\AppData\\Local\\Temp\\ipykernel_5340\\577774841.py:4: DtypeWarning: Columns (85) have mixed types. Specify dtype option on import or set low_memory=False.\n",
      "  for chunk in reader:\n",
      "C:\\Users\\MAX\\AppData\\Local\\Temp\\ipykernel_5340\\577774841.py:4: DtypeWarning: Columns (85) have mixed types. Specify dtype option on import or set low_memory=False.\n",
      "  for chunk in reader:\n",
      "C:\\Users\\MAX\\AppData\\Local\\Temp\\ipykernel_5340\\577774841.py:4: DtypeWarning: Columns (85) have mixed types. Specify dtype option on import or set low_memory=False.\n",
      "  for chunk in reader:\n"
     ]
    },
    {
     "name": "stdout",
     "output_type": "stream",
     "text": [
      ".\\datasets\\CICDDoS2019\\original\\train\\DrDoS_MSSQL.csv\n"
     ]
    },
    {
     "name": "stderr",
     "output_type": "stream",
     "text": [
      "C:\\Users\\MAX\\AppData\\Local\\Temp\\ipykernel_5340\\577774841.py:4: DtypeWarning: Columns (85) have mixed types. Specify dtype option on import or set low_memory=False.\n",
      "  for chunk in reader:\n",
      "C:\\Users\\MAX\\AppData\\Local\\Temp\\ipykernel_5340\\577774841.py:4: DtypeWarning: Columns (85) have mixed types. Specify dtype option on import or set low_memory=False.\n",
      "  for chunk in reader:\n",
      "C:\\Users\\MAX\\AppData\\Local\\Temp\\ipykernel_5340\\577774841.py:4: DtypeWarning: Columns (85) have mixed types. Specify dtype option on import or set low_memory=False.\n",
      "  for chunk in reader:\n",
      "C:\\Users\\MAX\\AppData\\Local\\Temp\\ipykernel_5340\\577774841.py:4: DtypeWarning: Columns (85) have mixed types. Specify dtype option on import or set low_memory=False.\n",
      "  for chunk in reader:\n",
      "C:\\Users\\MAX\\AppData\\Local\\Temp\\ipykernel_5340\\577774841.py:4: DtypeWarning: Columns (85) have mixed types. Specify dtype option on import or set low_memory=False.\n",
      "  for chunk in reader:\n"
     ]
    },
    {
     "name": "stdout",
     "output_type": "stream",
     "text": [
      ".\\datasets\\CICDDoS2019\\original\\train\\DrDoS_NetBIOS.csv\n"
     ]
    },
    {
     "name": "stderr",
     "output_type": "stream",
     "text": [
      "C:\\Users\\MAX\\AppData\\Local\\Temp\\ipykernel_5340\\577774841.py:4: DtypeWarning: Columns (85) have mixed types. Specify dtype option on import or set low_memory=False.\n",
      "  for chunk in reader:\n",
      "C:\\Users\\MAX\\AppData\\Local\\Temp\\ipykernel_5340\\577774841.py:4: DtypeWarning: Columns (85) have mixed types. Specify dtype option on import or set low_memory=False.\n",
      "  for chunk in reader:\n",
      "C:\\Users\\MAX\\AppData\\Local\\Temp\\ipykernel_5340\\577774841.py:4: DtypeWarning: Columns (85) have mixed types. Specify dtype option on import or set low_memory=False.\n",
      "  for chunk in reader:\n",
      "C:\\Users\\MAX\\AppData\\Local\\Temp\\ipykernel_5340\\577774841.py:4: DtypeWarning: Columns (85) have mixed types. Specify dtype option on import or set low_memory=False.\n",
      "  for chunk in reader:\n"
     ]
    },
    {
     "name": "stdout",
     "output_type": "stream",
     "text": [
      ".\\datasets\\CICDDoS2019\\original\\train\\DrDoS_NTP.csv\n"
     ]
    },
    {
     "name": "stderr",
     "output_type": "stream",
     "text": [
      "C:\\Users\\MAX\\AppData\\Local\\Temp\\ipykernel_5340\\577774841.py:4: DtypeWarning: Columns (85) have mixed types. Specify dtype option on import or set low_memory=False.\n",
      "  for chunk in reader:\n",
      "C:\\Users\\MAX\\AppData\\Local\\Temp\\ipykernel_5340\\577774841.py:4: DtypeWarning: Columns (85) have mixed types. Specify dtype option on import or set low_memory=False.\n",
      "  for chunk in reader:\n"
     ]
    },
    {
     "name": "stdout",
     "output_type": "stream",
     "text": [
      ".\\datasets\\CICDDoS2019\\original\\train\\DrDoS_SNMP.csv\n"
     ]
    },
    {
     "name": "stderr",
     "output_type": "stream",
     "text": [
      "C:\\Users\\MAX\\AppData\\Local\\Temp\\ipykernel_5340\\577774841.py:4: DtypeWarning: Columns (85) have mixed types. Specify dtype option on import or set low_memory=False.\n",
      "  for chunk in reader:\n",
      "C:\\Users\\MAX\\AppData\\Local\\Temp\\ipykernel_5340\\577774841.py:4: DtypeWarning: Columns (85) have mixed types. Specify dtype option on import or set low_memory=False.\n",
      "  for chunk in reader:\n",
      "C:\\Users\\MAX\\AppData\\Local\\Temp\\ipykernel_5340\\577774841.py:4: DtypeWarning: Columns (85) have mixed types. Specify dtype option on import or set low_memory=False.\n",
      "  for chunk in reader:\n",
      "C:\\Users\\MAX\\AppData\\Local\\Temp\\ipykernel_5340\\577774841.py:4: DtypeWarning: Columns (85) have mixed types. Specify dtype option on import or set low_memory=False.\n",
      "  for chunk in reader:\n",
      "C:\\Users\\MAX\\AppData\\Local\\Temp\\ipykernel_5340\\577774841.py:4: DtypeWarning: Columns (85) have mixed types. Specify dtype option on import or set low_memory=False.\n",
      "  for chunk in reader:\n",
      "C:\\Users\\MAX\\AppData\\Local\\Temp\\ipykernel_5340\\577774841.py:4: DtypeWarning: Columns (85) have mixed types. Specify dtype option on import or set low_memory=False.\n",
      "  for chunk in reader:\n"
     ]
    },
    {
     "name": "stdout",
     "output_type": "stream",
     "text": [
      ".\\datasets\\CICDDoS2019\\original\\train\\DrDoS_SSDP.csv\n"
     ]
    },
    {
     "name": "stderr",
     "output_type": "stream",
     "text": [
      "C:\\Users\\MAX\\AppData\\Local\\Temp\\ipykernel_5340\\577774841.py:4: DtypeWarning: Columns (85) have mixed types. Specify dtype option on import or set low_memory=False.\n",
      "  for chunk in reader:\n",
      "C:\\Users\\MAX\\AppData\\Local\\Temp\\ipykernel_5340\\577774841.py:4: DtypeWarning: Columns (85) have mixed types. Specify dtype option on import or set low_memory=False.\n",
      "  for chunk in reader:\n",
      "C:\\Users\\MAX\\AppData\\Local\\Temp\\ipykernel_5340\\577774841.py:4: DtypeWarning: Columns (85) have mixed types. Specify dtype option on import or set low_memory=False.\n",
      "  for chunk in reader:\n"
     ]
    },
    {
     "name": "stdout",
     "output_type": "stream",
     "text": [
      ".\\datasets\\CICDDoS2019\\original\\train\\DrDoS_UDP.csv\n"
     ]
    },
    {
     "name": "stderr",
     "output_type": "stream",
     "text": [
      "C:\\Users\\MAX\\AppData\\Local\\Temp\\ipykernel_5340\\577774841.py:4: DtypeWarning: Columns (85) have mixed types. Specify dtype option on import or set low_memory=False.\n",
      "  for chunk in reader:\n",
      "C:\\Users\\MAX\\AppData\\Local\\Temp\\ipykernel_5340\\577774841.py:4: DtypeWarning: Columns (85) have mixed types. Specify dtype option on import or set low_memory=False.\n",
      "  for chunk in reader:\n",
      "C:\\Users\\MAX\\AppData\\Local\\Temp\\ipykernel_5340\\577774841.py:4: DtypeWarning: Columns (85) have mixed types. Specify dtype option on import or set low_memory=False.\n",
      "  for chunk in reader:\n"
     ]
    },
    {
     "name": "stdout",
     "output_type": "stream",
     "text": [
      ".\\datasets\\CICDDoS2019\\original\\train\\Syn.csv\n"
     ]
    },
    {
     "name": "stderr",
     "output_type": "stream",
     "text": [
      "C:\\Users\\MAX\\AppData\\Local\\Temp\\ipykernel_5340\\577774841.py:4: DtypeWarning: Columns (85) have mixed types. Specify dtype option on import or set low_memory=False.\n",
      "  for chunk in reader:\n",
      "C:\\Users\\MAX\\AppData\\Local\\Temp\\ipykernel_5340\\577774841.py:4: DtypeWarning: Columns (85) have mixed types. Specify dtype option on import or set low_memory=False.\n",
      "  for chunk in reader:\n"
     ]
    },
    {
     "name": "stdout",
     "output_type": "stream",
     "text": [
      ".\\datasets\\CICDDoS2019\\original\\train\\TFTP.csv\n"
     ]
    },
    {
     "name": "stderr",
     "output_type": "stream",
     "text": [
      "C:\\Users\\MAX\\AppData\\Local\\Temp\\ipykernel_5340\\577774841.py:4: DtypeWarning: Columns (85) have mixed types. Specify dtype option on import or set low_memory=False.\n",
      "  for chunk in reader:\n",
      "C:\\Users\\MAX\\AppData\\Local\\Temp\\ipykernel_5340\\577774841.py:4: DtypeWarning: Columns (85) have mixed types. Specify dtype option on import or set low_memory=False.\n",
      "  for chunk in reader:\n",
      "C:\\Users\\MAX\\AppData\\Local\\Temp\\ipykernel_5340\\577774841.py:4: DtypeWarning: Columns (85) have mixed types. Specify dtype option on import or set low_memory=False.\n",
      "  for chunk in reader:\n",
      "C:\\Users\\MAX\\AppData\\Local\\Temp\\ipykernel_5340\\577774841.py:4: DtypeWarning: Columns (85) have mixed types. Specify dtype option on import or set low_memory=False.\n",
      "  for chunk in reader:\n",
      "C:\\Users\\MAX\\AppData\\Local\\Temp\\ipykernel_5340\\577774841.py:4: DtypeWarning: Columns (85) have mixed types. Specify dtype option on import or set low_memory=False.\n",
      "  for chunk in reader:\n",
      "C:\\Users\\MAX\\AppData\\Local\\Temp\\ipykernel_5340\\577774841.py:4: DtypeWarning: Columns (85) have mixed types. Specify dtype option on import or set low_memory=False.\n",
      "  for chunk in reader:\n",
      "C:\\Users\\MAX\\AppData\\Local\\Temp\\ipykernel_5340\\577774841.py:4: DtypeWarning: Columns (85) have mixed types. Specify dtype option on import or set low_memory=False.\n",
      "  for chunk in reader:\n",
      "C:\\Users\\MAX\\AppData\\Local\\Temp\\ipykernel_5340\\577774841.py:4: DtypeWarning: Columns (85) have mixed types. Specify dtype option on import or set low_memory=False.\n",
      "  for chunk in reader:\n",
      "C:\\Users\\MAX\\AppData\\Local\\Temp\\ipykernel_5340\\577774841.py:4: DtypeWarning: Columns (85) have mixed types. Specify dtype option on import or set low_memory=False.\n",
      "  for chunk in reader:\n",
      "C:\\Users\\MAX\\AppData\\Local\\Temp\\ipykernel_5340\\577774841.py:4: DtypeWarning: Columns (85) have mixed types. Specify dtype option on import or set low_memory=False.\n",
      "  for chunk in reader:\n",
      "C:\\Users\\MAX\\AppData\\Local\\Temp\\ipykernel_5340\\577774841.py:4: DtypeWarning: Columns (85) have mixed types. Specify dtype option on import or set low_memory=False.\n",
      "  for chunk in reader:\n",
      "C:\\Users\\MAX\\AppData\\Local\\Temp\\ipykernel_5340\\577774841.py:4: DtypeWarning: Columns (85) have mixed types. Specify dtype option on import or set low_memory=False.\n",
      "  for chunk in reader:\n",
      "C:\\Users\\MAX\\AppData\\Local\\Temp\\ipykernel_5340\\577774841.py:4: DtypeWarning: Columns (85) have mixed types. Specify dtype option on import or set low_memory=False.\n",
      "  for chunk in reader:\n",
      "C:\\Users\\MAX\\AppData\\Local\\Temp\\ipykernel_5340\\577774841.py:4: DtypeWarning: Columns (85) have mixed types. Specify dtype option on import or set low_memory=False.\n",
      "  for chunk in reader:\n",
      "C:\\Users\\MAX\\AppData\\Local\\Temp\\ipykernel_5340\\577774841.py:4: DtypeWarning: Columns (85) have mixed types. Specify dtype option on import or set low_memory=False.\n",
      "  for chunk in reader:\n",
      "C:\\Users\\MAX\\AppData\\Local\\Temp\\ipykernel_5340\\577774841.py:4: DtypeWarning: Columns (85) have mixed types. Specify dtype option on import or set low_memory=False.\n",
      "  for chunk in reader:\n",
      "C:\\Users\\MAX\\AppData\\Local\\Temp\\ipykernel_5340\\577774841.py:4: DtypeWarning: Columns (85) have mixed types. Specify dtype option on import or set low_memory=False.\n",
      "  for chunk in reader:\n",
      "C:\\Users\\MAX\\AppData\\Local\\Temp\\ipykernel_5340\\577774841.py:4: DtypeWarning: Columns (85) have mixed types. Specify dtype option on import or set low_memory=False.\n",
      "  for chunk in reader:\n",
      "C:\\Users\\MAX\\AppData\\Local\\Temp\\ipykernel_5340\\577774841.py:4: DtypeWarning: Columns (85) have mixed types. Specify dtype option on import or set low_memory=False.\n",
      "  for chunk in reader:\n",
      "C:\\Users\\MAX\\AppData\\Local\\Temp\\ipykernel_5340\\577774841.py:4: DtypeWarning: Columns (85) have mixed types. Specify dtype option on import or set low_memory=False.\n",
      "  for chunk in reader:\n"
     ]
    },
    {
     "name": "stdout",
     "output_type": "stream",
     "text": [
      ".\\datasets\\CICDDoS2019\\original\\train\\UDPLag.csv\n"
     ]
    },
    {
     "name": "stderr",
     "output_type": "stream",
     "text": [
      "C:\\Users\\MAX\\AppData\\Local\\Temp\\ipykernel_5340\\577774841.py:4: DtypeWarning: Columns (85) have mixed types. Specify dtype option on import or set low_memory=False.\n",
      "  for chunk in reader:\n"
     ]
    }
   ],
   "source": [
    "for ds in csv_files: #for every dataset\n",
    "    print(ds)\n",
    "    with pd.read_csv(ds, chunksize=10**6) as reader: #that has to be processed in chunks\n",
    "        for chunk in reader:\n",
    "            \n",
    "            rows_to_drop=[] #store rows of the chunk to cut away\n",
    "\n",
    "            ch_copy=chunk.copy() #duplicate chunk to edit it\n",
    "\n",
    "            ch_copy.columns = ch_copy.columns.str.strip()\n",
    "\n",
    "            #drop na and +-inf values\n",
    "            ch_copy.replace([np.inf, -np.inf], np.nan, inplace=True)\n",
    "            ch_copy.dropna(inplace=True)\n",
    "\n",
    "            ch_copy=ch_copy[ch_copy['Label'] != 'WebDDoS'] #drop webddos class\n",
    "            ch_copy=ch_copy[ch_copy['Label'] != 'Portmap'] #drop portmap class\n",
    "\n",
    "            #ch_copy.replace({'Label': replacement_dict}, inplace=True)\n",
    "            #drop useless cols\n",
    "            ch_copy.drop(['Unnamed: 0','Timestamp','Source Port','Source IP','SimillarHTTP',\n",
    "            'Protocol','Flow ID','Destination IP'], axis=1, inplace=True)\n",
    "\n",
    "            #beautify labels (cut and rename some stuff)\n",
    "            ch_copy['Label']=ch_copy['Label'].str.replace('DrDoS_', '')\n",
    "            ch_copy['Label']=ch_copy['Label'].str.replace('UDP-lag', 'UDPLag')\n",
    "\n",
    "            #print(chunk.index)\n",
    "            #print('Chunk length before drop: ', len(chunk))\n",
    "\n",
    "            for line_idx in ch_copy.index:\n",
    "                label = str(ch_copy.loc[line_idx, 'Label'])\n",
    "\n",
    "                #faster done before\n",
    "                #label=label.replace('DrDoS_', '')\n",
    "                #label=label.replace('UDP-lag', 'UDPLag')\n",
    "\n",
    "                seen_class_samples[label] += 1\n",
    "                if seen_class_samples[label] > min_val:\n",
    "                    rows_to_drop.append(line_idx)\n",
    "\n",
    "            ch_copy.drop(index=rows_to_drop, inplace=True) #finally drop excess\n",
    "\n",
    "            #print('Chunk length after drop: ', len(ch_copy))\n",
    "\n",
    "            #append with no header\n",
    "            ch_copy.to_csv('.\\\\datasets\\\\CICDDoS2019\\\\cut\\\\dataset.csv', mode='a', index=False, header=False)\n",
    "            "
   ]
  },
  {
   "cell_type": "code",
   "execution_count": 49,
   "metadata": {},
   "outputs": [
    {
     "data": {
      "text/plain": [
       "['.\\\\datasets\\\\CICDDoS2019\\\\original\\\\test\\\\LDAP.csv',\n",
       " '.\\\\datasets\\\\CICDDoS2019\\\\original\\\\test\\\\MSSQL.csv',\n",
       " '.\\\\datasets\\\\CICDDoS2019\\\\original\\\\test\\\\NetBIOS.csv',\n",
       " '.\\\\datasets\\\\CICDDoS2019\\\\original\\\\test\\\\Portmap.csv',\n",
       " '.\\\\datasets\\\\CICDDoS2019\\\\original\\\\test\\\\Syn.csv',\n",
       " '.\\\\datasets\\\\CICDDoS2019\\\\original\\\\test\\\\UDP.csv',\n",
       " '.\\\\datasets\\\\CICDDoS2019\\\\original\\\\test\\\\UDPLag.csv']"
      ]
     },
     "execution_count": 49,
     "metadata": {},
     "output_type": "execute_result"
    }
   ],
   "source": [
    "folder_selector='.\\\\datasets\\\\CICDDoS2019\\\\original\\\\test'\n",
    "\n",
    "csv_files = serch_csvs_in_folder(folder_selector)\n",
    "csv_files"
   ]
  },
  {
   "cell_type": "code",
   "execution_count": 50,
   "metadata": {},
   "outputs": [
    {
     "name": "stdout",
     "output_type": "stream",
     "text": [
      ".\\datasets\\CICDDoS2019\\original\\test\\LDAP.csv\n"
     ]
    },
    {
     "name": "stderr",
     "output_type": "stream",
     "text": [
      "C:\\Users\\MAX\\AppData\\Local\\Temp\\ipykernel_5340\\848201903.py:4: DtypeWarning: Columns (85) have mixed types. Specify dtype option on import or set low_memory=False.\n",
      "  for chunk in reader:\n",
      "C:\\Users\\MAX\\AppData\\Local\\Temp\\ipykernel_5340\\848201903.py:4: DtypeWarning: Columns (85) have mixed types. Specify dtype option on import or set low_memory=False.\n",
      "  for chunk in reader:\n"
     ]
    },
    {
     "name": "stdout",
     "output_type": "stream",
     "text": [
      ".\\datasets\\CICDDoS2019\\original\\test\\MSSQL.csv\n"
     ]
    },
    {
     "name": "stderr",
     "output_type": "stream",
     "text": [
      "C:\\Users\\MAX\\AppData\\Local\\Temp\\ipykernel_5340\\848201903.py:4: DtypeWarning: Columns (85) have mixed types. Specify dtype option on import or set low_memory=False.\n",
      "  for chunk in reader:\n",
      "C:\\Users\\MAX\\AppData\\Local\\Temp\\ipykernel_5340\\848201903.py:4: DtypeWarning: Columns (85) have mixed types. Specify dtype option on import or set low_memory=False.\n",
      "  for chunk in reader:\n",
      "C:\\Users\\MAX\\AppData\\Local\\Temp\\ipykernel_5340\\848201903.py:4: DtypeWarning: Columns (85) have mixed types. Specify dtype option on import or set low_memory=False.\n",
      "  for chunk in reader:\n",
      "C:\\Users\\MAX\\AppData\\Local\\Temp\\ipykernel_5340\\848201903.py:4: DtypeWarning: Columns (85) have mixed types. Specify dtype option on import or set low_memory=False.\n",
      "  for chunk in reader:\n",
      "C:\\Users\\MAX\\AppData\\Local\\Temp\\ipykernel_5340\\848201903.py:4: DtypeWarning: Columns (85) have mixed types. Specify dtype option on import or set low_memory=False.\n",
      "  for chunk in reader:\n",
      "C:\\Users\\MAX\\AppData\\Local\\Temp\\ipykernel_5340\\848201903.py:4: DtypeWarning: Columns (85) have mixed types. Specify dtype option on import or set low_memory=False.\n",
      "  for chunk in reader:\n"
     ]
    },
    {
     "name": "stdout",
     "output_type": "stream",
     "text": [
      ".\\datasets\\CICDDoS2019\\original\\test\\NetBIOS.csv\n"
     ]
    },
    {
     "name": "stderr",
     "output_type": "stream",
     "text": [
      "C:\\Users\\MAX\\AppData\\Local\\Temp\\ipykernel_5340\\848201903.py:4: DtypeWarning: Columns (85) have mixed types. Specify dtype option on import or set low_memory=False.\n",
      "  for chunk in reader:\n",
      "C:\\Users\\MAX\\AppData\\Local\\Temp\\ipykernel_5340\\848201903.py:4: DtypeWarning: Columns (85) have mixed types. Specify dtype option on import or set low_memory=False.\n",
      "  for chunk in reader:\n",
      "C:\\Users\\MAX\\AppData\\Local\\Temp\\ipykernel_5340\\848201903.py:4: DtypeWarning: Columns (85) have mixed types. Specify dtype option on import or set low_memory=False.\n",
      "  for chunk in reader:\n",
      "C:\\Users\\MAX\\AppData\\Local\\Temp\\ipykernel_5340\\848201903.py:4: DtypeWarning: Columns (85) have mixed types. Specify dtype option on import or set low_memory=False.\n",
      "  for chunk in reader:\n"
     ]
    },
    {
     "name": "stdout",
     "output_type": "stream",
     "text": [
      ".\\datasets\\CICDDoS2019\\original\\test\\Portmap.csv\n"
     ]
    },
    {
     "name": "stderr",
     "output_type": "stream",
     "text": [
      "C:\\Users\\MAX\\AppData\\Local\\Temp\\ipykernel_5340\\848201903.py:4: DtypeWarning: Columns (85) have mixed types. Specify dtype option on import or set low_memory=False.\n",
      "  for chunk in reader:\n"
     ]
    },
    {
     "name": "stdout",
     "output_type": "stream",
     "text": [
      ".\\datasets\\CICDDoS2019\\original\\test\\Syn.csv\n"
     ]
    },
    {
     "name": "stderr",
     "output_type": "stream",
     "text": [
      "C:\\Users\\MAX\\AppData\\Local\\Temp\\ipykernel_5340\\848201903.py:4: DtypeWarning: Columns (85) have mixed types. Specify dtype option on import or set low_memory=False.\n",
      "  for chunk in reader:\n",
      "C:\\Users\\MAX\\AppData\\Local\\Temp\\ipykernel_5340\\848201903.py:4: DtypeWarning: Columns (85) have mixed types. Specify dtype option on import or set low_memory=False.\n",
      "  for chunk in reader:\n",
      "C:\\Users\\MAX\\AppData\\Local\\Temp\\ipykernel_5340\\848201903.py:4: DtypeWarning: Columns (85) have mixed types. Specify dtype option on import or set low_memory=False.\n",
      "  for chunk in reader:\n",
      "C:\\Users\\MAX\\AppData\\Local\\Temp\\ipykernel_5340\\848201903.py:4: DtypeWarning: Columns (85) have mixed types. Specify dtype option on import or set low_memory=False.\n",
      "  for chunk in reader:\n"
     ]
    },
    {
     "name": "stdout",
     "output_type": "stream",
     "text": [
      ".\\datasets\\CICDDoS2019\\original\\test\\UDP.csv\n"
     ]
    },
    {
     "name": "stderr",
     "output_type": "stream",
     "text": [
      "C:\\Users\\MAX\\AppData\\Local\\Temp\\ipykernel_5340\\848201903.py:4: DtypeWarning: Columns (85) have mixed types. Specify dtype option on import or set low_memory=False.\n",
      "  for chunk in reader:\n",
      "C:\\Users\\MAX\\AppData\\Local\\Temp\\ipykernel_5340\\848201903.py:4: DtypeWarning: Columns (85) have mixed types. Specify dtype option on import or set low_memory=False.\n",
      "  for chunk in reader:\n",
      "C:\\Users\\MAX\\AppData\\Local\\Temp\\ipykernel_5340\\848201903.py:4: DtypeWarning: Columns (85) have mixed types. Specify dtype option on import or set low_memory=False.\n",
      "  for chunk in reader:\n",
      "C:\\Users\\MAX\\AppData\\Local\\Temp\\ipykernel_5340\\848201903.py:4: DtypeWarning: Columns (85) have mixed types. Specify dtype option on import or set low_memory=False.\n",
      "  for chunk in reader:\n"
     ]
    },
    {
     "name": "stdout",
     "output_type": "stream",
     "text": [
      ".\\datasets\\CICDDoS2019\\original\\test\\UDPLag.csv\n"
     ]
    },
    {
     "name": "stderr",
     "output_type": "stream",
     "text": [
      "C:\\Users\\MAX\\AppData\\Local\\Temp\\ipykernel_5340\\848201903.py:4: DtypeWarning: Columns (85) have mixed types. Specify dtype option on import or set low_memory=False.\n",
      "  for chunk in reader:\n"
     ]
    }
   ],
   "source": [
    "for ds in csv_files: #for every dataset\n",
    "    print(ds)\n",
    "    with pd.read_csv(ds, chunksize=10**6) as reader: #that has to be processed in chunks\n",
    "        for chunk in reader:\n",
    "            \n",
    "            rows_to_drop=[] #store rows of the chunk to cut away\n",
    "\n",
    "            ch_copy=chunk.copy() #duplicate chunk to edit it\n",
    "\n",
    "            ch_copy.columns = ch_copy.columns.str.strip()\n",
    "\n",
    "            #drop na and +-inf values\n",
    "            ch_copy.replace([np.inf, -np.inf], np.nan, inplace=True)\n",
    "            ch_copy.dropna(inplace=True)\n",
    "\n",
    "            ch_copy=ch_copy[ch_copy['Label'] != 'WebDDoS'] #drop webddos class\n",
    "            ch_copy=ch_copy[ch_copy['Label'] != 'Portmap'] #drop portmap class\n",
    "\n",
    "            #ch_copy.replace({'Label': replacement_dict}, inplace=True)\n",
    "            #drop useless cols\n",
    "            ch_copy.drop(['Unnamed: 0','Timestamp','Source Port','Source IP','SimillarHTTP',\n",
    "            'Protocol','Flow ID','Destination IP'], axis=1, inplace=True)\n",
    "\n",
    "            #beautify labels (cut and rename some stuff)\n",
    "            ch_copy['Label']=ch_copy['Label'].str.replace('DrDoS_', '')\n",
    "            ch_copy['Label']=ch_copy['Label'].str.replace('UDP-lag', 'UDPLag')\n",
    "\n",
    "            #print(chunk.index)\n",
    "            #print('Chunk length before drop: ', len(chunk))\n",
    "\n",
    "            for line_idx in ch_copy.index:\n",
    "                label = str(ch_copy.loc[line_idx, 'Label'])\n",
    "\n",
    "                #faster done before\n",
    "                #label=label.replace('DrDoS_', '')\n",
    "                #label=label.replace('UDP-lag', 'UDPLag')\n",
    "\n",
    "                seen_class_samples[label] += 1\n",
    "                if seen_class_samples[label] > min_val:\n",
    "                    rows_to_drop.append(line_idx)\n",
    "\n",
    "            ch_copy.drop(index=rows_to_drop, inplace=True) #finally drop excess\n",
    "\n",
    "            #print('Chunk length after drop: ', len(ch_copy))\n",
    "\n",
    "            #append with no header\n",
    "            ch_copy.to_csv('.\\\\datasets\\\\CICDDoS2019\\\\cut\\\\dataset.csv', mode='a', index=False, header=False)"
   ]
  },
  {
   "cell_type": "markdown",
   "metadata": {},
   "source": [
    "---\n",
    "## Final dataset"
   ]
  },
  {
   "cell_type": "code",
   "execution_count": 51,
   "metadata": {},
   "outputs": [],
   "source": [
    "final_ds='.\\\\datasets\\\\CICDDoS2019\\\\cut\\\\dataset.csv'"
   ]
  },
  {
   "cell_type": "code",
   "execution_count": 52,
   "metadata": {},
   "outputs": [
    {
     "data": {
      "text/plain": [
       "'0.43928383383899927 GB'"
      ]
     },
     "execution_count": 52,
     "metadata": {},
     "output_type": "execute_result"
    }
   ],
   "source": [
    "sizes = str(os.path.getsize(final_ds)/(2.0**30)) + \" GB\"\n",
    "sizes"
   ]
  },
  {
   "cell_type": "code",
   "execution_count": 53,
   "metadata": {},
   "outputs": [
    {
     "data": {
      "text/plain": [
       "{'DNS': 113828,\n",
       " 'BENIGN': 112731,\n",
       " 'LDAP': 113828,\n",
       " 'MSSQL': 113828,\n",
       " 'NetBIOS': 113828,\n",
       " 'NTP': 113828,\n",
       " 'SNMP': 113828,\n",
       " 'SSDP': 113828,\n",
       " 'UDP': 113828,\n",
       " 'Syn': 113828,\n",
       " 'TFTP': 113828,\n",
       " 'UDPLag': 113828}"
      ]
     },
     "execution_count": 53,
     "metadata": {},
     "output_type": "execute_result"
    }
   ],
   "source": [
    "classes_distribution_cut = {}\n",
    "classes_distribution_cut=classes_distribution_cut.fromkeys(total_classes_distribution, 0)\n",
    "\n",
    "with pd.read_csv(final_ds, chunksize=10**6) as reader:\n",
    "    for chunk in reader:\n",
    "        chunk.columns = chunk.columns.str.strip()\n",
    "        \n",
    "        labels_count = chunk['Label'].value_counts()\n",
    "\n",
    "        for class_,count in labels_count.iteritems():\n",
    "            #print(class_, count)\n",
    "            if class_ in classes_distribution_cut.keys():\n",
    "                classes_distribution_cut[class_] += count\n",
    "            else:\n",
    "                classes_distribution_cut[class_] = count\n",
    "\n",
    "classes_distribution_cut"
   ]
  },
  {
   "cell_type": "code",
   "execution_count": 54,
   "metadata": {},
   "outputs": [
    {
     "name": "stdout",
     "output_type": "stream",
     "text": [
      "Stored 'classes_distribution_cut' (dict)\n"
     ]
    }
   ],
   "source": [
    "%store classes_distribution_cut"
   ]
  },
  {
   "cell_type": "code",
   "execution_count": 55,
   "metadata": {},
   "outputs": [
    {
     "data": {
      "image/png": "[encoded data removed]",
      "text/plain": [
       "<Figure size 640x480 with 1 Axes>"
      ]
     },
     "metadata": {},
     "output_type": "display_data"
    }
   ],
   "source": [
    "%store -r classes_distribution_cut\n",
    "plt.bar(classes_distribution_cut.keys(), classes_distribution_cut.values())\n",
    "plt.show()"
   ]
  },
  {
   "cell_type": "markdown",
   "metadata": {},
   "source": [
    "---"
   ]
  },
  {
   "cell_type": "code",
   "execution_count": 56,
   "metadata": {},
   "outputs": [
    {
     "data": {
      "text/plain": [
       "{'DNS': (0, tensor([1, 0, 0, 0, 0, 0, 0, 0, 0, 0, 0, 0])),\n",
       " 'BENIGN': (1, tensor([0, 1, 0, 0, 0, 0, 0, 0, 0, 0, 0, 0])),\n",
       " 'LDAP': (2, tensor([0, 0, 1, 0, 0, 0, 0, 0, 0, 0, 0, 0])),\n",
       " 'MSSQL': (3, tensor([0, 0, 0, 1, 0, 0, 0, 0, 0, 0, 0, 0])),\n",
       " 'NetBIOS': (4, tensor([0, 0, 0, 0, 1, 0, 0, 0, 0, 0, 0, 0])),\n",
       " 'NTP': (5, tensor([0, 0, 0, 0, 0, 1, 0, 0, 0, 0, 0, 0])),\n",
       " 'SNMP': (6, tensor([0, 0, 0, 0, 0, 0, 1, 0, 0, 0, 0, 0])),\n",
       " 'SSDP': (7, tensor([0, 0, 0, 0, 0, 0, 0, 1, 0, 0, 0, 0])),\n",
       " 'UDP': (8, tensor([0, 0, 0, 0, 0, 0, 0, 0, 1, 0, 0, 0])),\n",
       " 'Syn': (9, tensor([0, 0, 0, 0, 0, 0, 0, 0, 0, 1, 0, 0])),\n",
       " 'TFTP': (10, tensor([0, 0, 0, 0, 0, 0, 0, 0, 0, 0, 1, 0])),\n",
       " 'UDPLag': (11, tensor([0, 0, 0, 0, 0, 0, 0, 0, 0, 0, 0, 1]))}"
      ]
     },
     "execution_count": 56,
     "metadata": {},
     "output_type": "execute_result"
    }
   ],
   "source": [
    "classes_ids={}\n",
    "classes_ids=classes_ids.fromkeys(total_classes_distribution)\n",
    "\n",
    "one_hot_encoding=torch.nn.functional.one_hot(torch.arange(0,len(total_classes_distribution)),num_classes=len(total_classes_distribution))\n",
    "one_hot_encoding\n",
    "\n",
    "for idx,(k,_) in enumerate(classes_ids.items()):\n",
    "    classes_ids[k]=(idx,one_hot_encoding[idx])\n",
    "\n",
    "classes_ids"
   ]
  },
  {
   "cell_type": "code",
   "execution_count": 57,
   "metadata": {},
   "outputs": [
    {
     "data": {
      "text/plain": [
       "{'DNS': tensor([1, 0, 0, 0, 0, 0, 0, 0, 0, 0, 0, 0]),\n",
       " 'BENIGN': tensor([0, 1, 0, 0, 0, 0, 0, 0, 0, 0, 0, 0]),\n",
       " 'LDAP': tensor([0, 0, 1, 0, 0, 0, 0, 0, 0, 0, 0, 0]),\n",
       " 'MSSQL': tensor([0, 0, 0, 1, 0, 0, 0, 0, 0, 0, 0, 0]),\n",
       " 'NetBIOS': tensor([0, 0, 0, 0, 1, 0, 0, 0, 0, 0, 0, 0]),\n",
       " 'NTP': tensor([0, 0, 0, 0, 0, 1, 0, 0, 0, 0, 0, 0]),\n",
       " 'SNMP': tensor([0, 0, 0, 0, 0, 0, 1, 0, 0, 0, 0, 0]),\n",
       " 'SSDP': tensor([0, 0, 0, 0, 0, 0, 0, 1, 0, 0, 0, 0]),\n",
       " 'UDP': tensor([0, 0, 0, 0, 0, 0, 0, 0, 1, 0, 0, 0]),\n",
       " 'Syn': tensor([0, 0, 0, 0, 0, 0, 0, 0, 0, 1, 0, 0]),\n",
       " 'TFTP': tensor([0, 0, 0, 0, 0, 0, 0, 0, 0, 0, 1, 0]),\n",
       " 'UDPLag': tensor([0, 0, 0, 0, 0, 0, 0, 0, 0, 0, 0, 1])}"
      ]
     },
     "execution_count": 57,
     "metadata": {},
     "output_type": "execute_result"
    }
   ],
   "source": [
    "replacement_dict={}\n",
    "replacement_dict.fromkeys(classes_ids)\n",
    "for k,(_, tensor) in classes_ids.items():\n",
    "    replacement_dict[k]=tensor\n",
    "\n",
    "replacement_dict"
   ]
  },
  {
   "cell_type": "code",
   "execution_count": 58,
   "metadata": {},
   "outputs": [
    {
     "name": "stdout",
     "output_type": "stream",
     "text": [
      "Stored 'replacement_dict' (dict)\n"
     ]
    }
   ],
   "source": [
    "%store replacement_dict"
   ]
  }
 ],
 "metadata": {
  "kernelspec": {
   "display_name": "Python 3.9.12 ('dl')",
   "language": "python",
   "name": "python3"
  },
  "language_info": {
   "codemirror_mode": {
    "name": "ipython",
    "version": 3
   },
   "file_extension": ".py",
   "mimetype": "text/x-python",
   "name": "python",
   "nbconvert_exporter": "python",
   "pygments_lexer": "ipython3",
   "version": "3.9.15"
  },
  "vscode": {
   "interpreter": {
    "hash": "a41f043e3f504d40bb31377d42299aba33beec9c14fb34c08aef092f76f6f6b0"
   }
  }
 },
 "nbformat": 4,
 "nbformat_minor": 2
}
