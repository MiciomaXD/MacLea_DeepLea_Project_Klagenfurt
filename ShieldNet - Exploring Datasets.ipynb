{
 "cells": [
  {
   "cell_type": "markdown",
   "metadata": {},
   "source": [
    "# Exploring the datasets\n",
    "## Preliminary analysis"
   ]
  },
  {
   "cell_type": "code",
   "execution_count": 1,
   "metadata": {},
   "outputs": [],
   "source": [
    "import pandas as pd\n",
    "import matplotlib.pyplot as plt\n",
    "import os\n",
    "os.environ[\"KMP_DUPLICATE_LIB_OK\"]=\"TRUE\"\n",
    "import torch"
   ]
  },
  {
   "cell_type": "code",
   "execution_count": 30,
   "metadata": {},
   "outputs": [],
   "source": [
    "#ds_selector='.\\\\datasets\\\\kaggle'\n",
    "ds_selector='.\\\\datasets\\\\CICDDoS2019\\\\train'"
   ]
  },
  {
   "cell_type": "code",
   "execution_count": 31,
   "metadata": {},
   "outputs": [
    {
     "data": {
      "text/plain": [
       "['.\\\\datasets\\\\CICDDoS2019\\\\train\\\\DrDoS_DNS.csv',\n",
       " '.\\\\datasets\\\\CICDDoS2019\\\\train\\\\DrDoS_LDAP.csv',\n",
       " '.\\\\datasets\\\\CICDDoS2019\\\\train\\\\DrDoS_MSSQL.csv',\n",
       " '.\\\\datasets\\\\CICDDoS2019\\\\train\\\\DrDoS_NetBIOS.csv',\n",
       " '.\\\\datasets\\\\CICDDoS2019\\\\train\\\\DrDoS_NTP.csv',\n",
       " '.\\\\datasets\\\\CICDDoS2019\\\\train\\\\DrDoS_SNMP.csv',\n",
       " '.\\\\datasets\\\\CICDDoS2019\\\\train\\\\DrDoS_SSDP.csv',\n",
       " '.\\\\datasets\\\\CICDDoS2019\\\\train\\\\DrDoS_UDP.csv',\n",
       " '.\\\\datasets\\\\CICDDoS2019\\\\train\\\\Syn.csv',\n",
       " '.\\\\datasets\\\\CICDDoS2019\\\\train\\\\TFTP.csv',\n",
       " '.\\\\datasets\\\\CICDDoS2019\\\\train\\\\UDPLag.csv']"
      ]
     },
     "execution_count": 31,
     "metadata": {},
     "output_type": "execute_result"
    }
   ],
   "source": [
    "csv_files = []\n",
    "for dirname, _, filenames in os.walk(ds_selector):\n",
    "    for filename in filenames:\n",
    "        csv_file = os.path.join(dirname, filename)\n",
    "        csv_files.append(csv_file)\n",
    "csv_files"
   ]
  },
  {
   "cell_type": "code",
   "execution_count": 4,
   "metadata": {},
   "outputs": [
    {
     "data": {
      "text/plain": [
       "['1.9867978505790234 GB',\n",
       " '0.8543043183162808 GB',\n",
       " '1.7594376169145107 GB',\n",
       " '1.5809012847021222 GB',\n",
       " '0.6007110755890608 GB',\n",
       " '2.02337262686342 GB',\n",
       " '1.1666549546644092 GB',\n",
       " '1.4026084644719958 GB',\n",
       " '0.5935431709513068 GB',\n",
       " '8.663172940723598 GB',\n",
       " '0.14711988158524036 GB']"
      ]
     },
     "execution_count": 4,
     "metadata": {},
     "output_type": "execute_result"
    }
   ],
   "source": [
    "sizes = [str(os.path.getsize(file)/(2.0**30)) + \" GB\" for file in csv_files]\n",
    "sizes"
   ]
  },
  {
   "cell_type": "code",
   "execution_count": 5,
   "metadata": {},
   "outputs": [
    {
     "data": {
      "text/plain": [
       "['.\\\\datasets\\\\CICDDoS2019\\\\train\\\\DrDoS_DNS.csv',\n",
       " '.\\\\datasets\\\\CICDDoS2019\\\\train\\\\DrDoS_LDAP.csv',\n",
       " '.\\\\datasets\\\\CICDDoS2019\\\\train\\\\DrDoS_MSSQL.csv']"
      ]
     },
     "execution_count": 5,
     "metadata": {},
     "output_type": "execute_result"
    }
   ],
   "source": [
    "selected_csv_files=csv_files[0:3]\n",
    "selected_csv_files"
   ]
  },
  {
   "cell_type": "code",
   "execution_count": 6,
   "metadata": {},
   "outputs": [
    {
     "name": "stderr",
     "output_type": "stream",
     "text": [
      "C:\\Users\\MAX\\AppData\\Local\\Temp\\ipykernel_32476\\918394558.py:1: DtypeWarning: Columns (85) have mixed types. Specify dtype option on import or set low_memory=False.\n",
      "  df = pd.concat([pd.read_csv(file) for file in selected_csv_files], ignore_index=True)\n",
      "C:\\Users\\MAX\\AppData\\Local\\Temp\\ipykernel_32476\\918394558.py:1: DtypeWarning: Columns (85) have mixed types. Specify dtype option on import or set low_memory=False.\n",
      "  df = pd.concat([pd.read_csv(file) for file in selected_csv_files], ignore_index=True)\n",
      "C:\\Users\\MAX\\AppData\\Local\\Temp\\ipykernel_32476\\918394558.py:1: DtypeWarning: Columns (85) have mixed types. Specify dtype option on import or set low_memory=False.\n",
      "  df = pd.concat([pd.read_csv(file) for file in selected_csv_files], ignore_index=True)\n"
     ]
    },
    {
     "name": "stdout",
     "output_type": "stream",
     "text": [
      "Original length of df: 11780453\n",
      "Length of df after dropna: 11780453\n"
     ]
    }
   ],
   "source": [
    "df = pd.concat([pd.read_csv(file) for file in selected_csv_files], ignore_index=True)\n",
    "df.columns = df.columns.str.strip()\n",
    "print(\"Original length of df:\", len(df))\n",
    "df.dropna()\n",
    "print(\"Length of df after dropna:\", len(df))"
   ]
  },
  {
   "cell_type": "code",
   "execution_count": 7,
   "metadata": {},
   "outputs": [
    {
     "data": {
      "text/html": [
       "<div>\n",
       "<style scoped>\n",
       "    .dataframe tbody tr th:only-of-type {\n",
       "        vertical-align: middle;\n",
       "    }\n",
       "\n",
       "    .dataframe tbody tr th {\n",
       "        vertical-align: top;\n",
       "    }\n",
       "\n",
       "    .dataframe thead th {\n",
       "        text-align: right;\n",
       "    }\n",
       "</style>\n",
       "<table border=\"1\" class=\"dataframe\">\n",
       "  <thead>\n",
       "    <tr style=\"text-align: right;\">\n",
       "      <th></th>\n",
       "      <th>Unnamed: 0</th>\n",
       "      <th>Flow ID</th>\n",
       "      <th>Source IP</th>\n",
       "      <th>Source Port</th>\n",
       "      <th>Destination IP</th>\n",
       "      <th>Destination Port</th>\n",
       "      <th>Protocol</th>\n",
       "      <th>Timestamp</th>\n",
       "      <th>Flow Duration</th>\n",
       "      <th>Total Fwd Packets</th>\n",
       "      <th>...</th>\n",
       "      <th>Active Std</th>\n",
       "      <th>Active Max</th>\n",
       "      <th>Active Min</th>\n",
       "      <th>Idle Mean</th>\n",
       "      <th>Idle Std</th>\n",
       "      <th>Idle Max</th>\n",
       "      <th>Idle Min</th>\n",
       "      <th>SimillarHTTP</th>\n",
       "      <th>Inbound</th>\n",
       "      <th>Label</th>\n",
       "    </tr>\n",
       "  </thead>\n",
       "  <tbody>\n",
       "    <tr>\n",
       "      <th>0</th>\n",
       "      <td>425</td>\n",
       "      <td>172.16.0.5-192.168.50.1-634-60495-17</td>\n",
       "      <td>172.16.0.5</td>\n",
       "      <td>634</td>\n",
       "      <td>192.168.50.1</td>\n",
       "      <td>60495</td>\n",
       "      <td>17</td>\n",
       "      <td>2018-12-01 10:51:39.813448</td>\n",
       "      <td>28415</td>\n",
       "      <td>97</td>\n",
       "      <td>...</td>\n",
       "      <td>0.0</td>\n",
       "      <td>0.0</td>\n",
       "      <td>0.0</td>\n",
       "      <td>0.0</td>\n",
       "      <td>0.0</td>\n",
       "      <td>0.0</td>\n",
       "      <td>0.0</td>\n",
       "      <td>0</td>\n",
       "      <td>1</td>\n",
       "      <td>DrDoS_DNS</td>\n",
       "    </tr>\n",
       "    <tr>\n",
       "      <th>1</th>\n",
       "      <td>430</td>\n",
       "      <td>172.16.0.5-192.168.50.1-60495-634-17</td>\n",
       "      <td>192.168.50.1</td>\n",
       "      <td>634</td>\n",
       "      <td>172.16.0.5</td>\n",
       "      <td>60495</td>\n",
       "      <td>17</td>\n",
       "      <td>2018-12-01 10:51:39.820842</td>\n",
       "      <td>2</td>\n",
       "      <td>2</td>\n",
       "      <td>...</td>\n",
       "      <td>0.0</td>\n",
       "      <td>0.0</td>\n",
       "      <td>0.0</td>\n",
       "      <td>0.0</td>\n",
       "      <td>0.0</td>\n",
       "      <td>0.0</td>\n",
       "      <td>0.0</td>\n",
       "      <td>0</td>\n",
       "      <td>0</td>\n",
       "      <td>DrDoS_DNS</td>\n",
       "    </tr>\n",
       "    <tr>\n",
       "      <th>2</th>\n",
       "      <td>1654</td>\n",
       "      <td>172.16.0.5-192.168.50.1-634-46391-17</td>\n",
       "      <td>172.16.0.5</td>\n",
       "      <td>634</td>\n",
       "      <td>192.168.50.1</td>\n",
       "      <td>46391</td>\n",
       "      <td>17</td>\n",
       "      <td>2018-12-01 10:51:39.852499</td>\n",
       "      <td>48549</td>\n",
       "      <td>200</td>\n",
       "      <td>...</td>\n",
       "      <td>0.0</td>\n",
       "      <td>0.0</td>\n",
       "      <td>0.0</td>\n",
       "      <td>0.0</td>\n",
       "      <td>0.0</td>\n",
       "      <td>0.0</td>\n",
       "      <td>0.0</td>\n",
       "      <td>0</td>\n",
       "      <td>1</td>\n",
       "      <td>DrDoS_DNS</td>\n",
       "    </tr>\n",
       "    <tr>\n",
       "      <th>3</th>\n",
       "      <td>2927</td>\n",
       "      <td>172.16.0.5-192.168.50.1-634-11894-17</td>\n",
       "      <td>172.16.0.5</td>\n",
       "      <td>634</td>\n",
       "      <td>192.168.50.1</td>\n",
       "      <td>11894</td>\n",
       "      <td>17</td>\n",
       "      <td>2018-12-01 10:51:39.890213</td>\n",
       "      <td>48337</td>\n",
       "      <td>200</td>\n",
       "      <td>...</td>\n",
       "      <td>0.0</td>\n",
       "      <td>0.0</td>\n",
       "      <td>0.0</td>\n",
       "      <td>0.0</td>\n",
       "      <td>0.0</td>\n",
       "      <td>0.0</td>\n",
       "      <td>0.0</td>\n",
       "      <td>0</td>\n",
       "      <td>1</td>\n",
       "      <td>DrDoS_DNS</td>\n",
       "    </tr>\n",
       "    <tr>\n",
       "      <th>4</th>\n",
       "      <td>694</td>\n",
       "      <td>172.16.0.5-192.168.50.1-634-27878-17</td>\n",
       "      <td>172.16.0.5</td>\n",
       "      <td>634</td>\n",
       "      <td>192.168.50.1</td>\n",
       "      <td>27878</td>\n",
       "      <td>17</td>\n",
       "      <td>2018-12-01 10:51:39.941151</td>\n",
       "      <td>32026</td>\n",
       "      <td>200</td>\n",
       "      <td>...</td>\n",
       "      <td>0.0</td>\n",
       "      <td>0.0</td>\n",
       "      <td>0.0</td>\n",
       "      <td>0.0</td>\n",
       "      <td>0.0</td>\n",
       "      <td>0.0</td>\n",
       "      <td>0.0</td>\n",
       "      <td>0</td>\n",
       "      <td>1</td>\n",
       "      <td>DrDoS_DNS</td>\n",
       "    </tr>\n",
       "  </tbody>\n",
       "</table>\n",
       "<p>5 rows × 88 columns</p>\n",
       "</div>"
      ],
      "text/plain": [
       "   Unnamed: 0                               Flow ID     Source IP  \\\n",
       "0         425  172.16.0.5-192.168.50.1-634-60495-17    172.16.0.5   \n",
       "1         430  172.16.0.5-192.168.50.1-60495-634-17  192.168.50.1   \n",
       "2        1654  172.16.0.5-192.168.50.1-634-46391-17    172.16.0.5   \n",
       "3        2927  172.16.0.5-192.168.50.1-634-11894-17    172.16.0.5   \n",
       "4         694  172.16.0.5-192.168.50.1-634-27878-17    172.16.0.5   \n",
       "\n",
       "   Source Port Destination IP  Destination Port  Protocol  \\\n",
       "0          634   192.168.50.1             60495        17   \n",
       "1          634     172.16.0.5             60495        17   \n",
       "2          634   192.168.50.1             46391        17   \n",
       "3          634   192.168.50.1             11894        17   \n",
       "4          634   192.168.50.1             27878        17   \n",
       "\n",
       "                    Timestamp  Flow Duration  Total Fwd Packets  ...  \\\n",
       "0  2018-12-01 10:51:39.813448          28415                 97  ...   \n",
       "1  2018-12-01 10:51:39.820842              2                  2  ...   \n",
       "2  2018-12-01 10:51:39.852499          48549                200  ...   \n",
       "3  2018-12-01 10:51:39.890213          48337                200  ...   \n",
       "4  2018-12-01 10:51:39.941151          32026                200  ...   \n",
       "\n",
       "   Active Std  Active Max  Active Min  Idle Mean  Idle Std  Idle Max  \\\n",
       "0         0.0         0.0         0.0        0.0       0.0       0.0   \n",
       "1         0.0         0.0         0.0        0.0       0.0       0.0   \n",
       "2         0.0         0.0         0.0        0.0       0.0       0.0   \n",
       "3         0.0         0.0         0.0        0.0       0.0       0.0   \n",
       "4         0.0         0.0         0.0        0.0       0.0       0.0   \n",
       "\n",
       "   Idle Min  SimillarHTTP  Inbound      Label  \n",
       "0       0.0             0        1  DrDoS_DNS  \n",
       "1       0.0             0        0  DrDoS_DNS  \n",
       "2       0.0             0        1  DrDoS_DNS  \n",
       "3       0.0             0        1  DrDoS_DNS  \n",
       "4       0.0             0        1  DrDoS_DNS  \n",
       "\n",
       "[5 rows x 88 columns]"
      ]
     },
     "execution_count": 7,
     "metadata": {},
     "output_type": "execute_result"
    }
   ],
   "source": [
    "#df.describe()\n",
    "df.head()"
   ]
  },
  {
   "cell_type": "code",
   "execution_count": 2,
   "metadata": {},
   "outputs": [
    {
     "ename": "NameError",
     "evalue": "name 'df' is not defined",
     "output_type": "error",
     "traceback": [
      "\u001b[1;31m---------------------------------------------------------------------------\u001b[0m",
      "\u001b[1;31mNameError\u001b[0m                                 Traceback (most recent call last)",
      "\u001b[1;32me:\\ShieldNet - Exploring Datasets.ipynb Cella 9\u001b[0m in \u001b[0;36m<cell line: 1>\u001b[1;34m()\u001b[0m\n\u001b[1;32m----> <a href='vscode-notebook-cell:/e%3A/ShieldNet%20-%20Exploring%20Datasets.ipynb#X24sZmlsZQ%3D%3D?line=0'>1</a>\u001b[0m first_row\u001b[39m=\u001b[39mdf\u001b[39m.\u001b[39miloc[\u001b[39m0\u001b[39m,:]\u001b[39m.\u001b[39mtolist()\n\u001b[0;32m      <a href='vscode-notebook-cell:/e%3A/ShieldNet%20-%20Exploring%20Datasets.ipynb#X24sZmlsZQ%3D%3D?line=1'>2</a>\u001b[0m first_row\n",
      "\u001b[1;31mNameError\u001b[0m: name 'df' is not defined"
     ]
    }
   ],
   "source": [
    "first_row=df.iloc[0,:]\n",
    "first_row"
   ]
  },
  {
   "cell_type": "code",
   "execution_count": 8,
   "metadata": {},
   "outputs": [
    {
     "data": {
      "text/plain": [
       "['ACK Flag Count',\n",
       " 'Active Max',\n",
       " 'Active Mean',\n",
       " 'Active Min',\n",
       " 'Active Std',\n",
       " 'Average Packet Size',\n",
       " 'Avg Bwd Segment Size',\n",
       " 'Avg Fwd Segment Size',\n",
       " 'Bwd Avg Bulk Rate',\n",
       " 'Bwd Avg Bytes/Bulk',\n",
       " 'Bwd Avg Packets/Bulk',\n",
       " 'Bwd Header Length',\n",
       " 'Bwd IAT Max',\n",
       " 'Bwd IAT Mean',\n",
       " 'Bwd IAT Min',\n",
       " 'Bwd IAT Std',\n",
       " 'Bwd IAT Total',\n",
       " 'Bwd PSH Flags',\n",
       " 'Bwd Packet Length Max',\n",
       " 'Bwd Packet Length Mean',\n",
       " 'Bwd Packet Length Min',\n",
       " 'Bwd Packet Length Std',\n",
       " 'Bwd Packets/s',\n",
       " 'Bwd URG Flags',\n",
       " 'CWE Flag Count',\n",
       " 'Destination IP',\n",
       " 'Destination Port',\n",
       " 'Down/Up Ratio',\n",
       " 'ECE Flag Count',\n",
       " 'FIN Flag Count',\n",
       " 'Flow Bytes/s',\n",
       " 'Flow Duration',\n",
       " 'Flow IAT Max',\n",
       " 'Flow IAT Mean',\n",
       " 'Flow IAT Min',\n",
       " 'Flow IAT Std',\n",
       " 'Flow ID',\n",
       " 'Flow Packets/s',\n",
       " 'Fwd Avg Bulk Rate',\n",
       " 'Fwd Avg Bytes/Bulk',\n",
       " 'Fwd Avg Packets/Bulk',\n",
       " 'Fwd Header Length',\n",
       " 'Fwd Header Length.1',\n",
       " 'Fwd IAT Max',\n",
       " 'Fwd IAT Mean',\n",
       " 'Fwd IAT Min',\n",
       " 'Fwd IAT Std',\n",
       " 'Fwd IAT Total',\n",
       " 'Fwd PSH Flags',\n",
       " 'Fwd Packet Length Max',\n",
       " 'Fwd Packet Length Mean',\n",
       " 'Fwd Packet Length Min',\n",
       " 'Fwd Packet Length Std',\n",
       " 'Fwd Packets/s',\n",
       " 'Fwd URG Flags',\n",
       " 'Idle Max',\n",
       " 'Idle Mean',\n",
       " 'Idle Min',\n",
       " 'Idle Std',\n",
       " 'Inbound',\n",
       " 'Init_Win_bytes_backward',\n",
       " 'Init_Win_bytes_forward',\n",
       " 'Label',\n",
       " 'Max Packet Length',\n",
       " 'Min Packet Length',\n",
       " 'PSH Flag Count',\n",
       " 'Packet Length Mean',\n",
       " 'Packet Length Std',\n",
       " 'Packet Length Variance',\n",
       " 'Protocol',\n",
       " 'RST Flag Count',\n",
       " 'SYN Flag Count',\n",
       " 'SimillarHTTP',\n",
       " 'Source IP',\n",
       " 'Source Port',\n",
       " 'Subflow Bwd Bytes',\n",
       " 'Subflow Bwd Packets',\n",
       " 'Subflow Fwd Bytes',\n",
       " 'Subflow Fwd Packets',\n",
       " 'Timestamp',\n",
       " 'Total Backward Packets',\n",
       " 'Total Fwd Packets',\n",
       " 'Total Length of Bwd Packets',\n",
       " 'Total Length of Fwd Packets',\n",
       " 'URG Flag Count',\n",
       " 'Unnamed: 0',\n",
       " 'act_data_pkt_fwd',\n",
       " 'min_seg_size_forward']"
      ]
     },
     "execution_count": 8,
     "metadata": {},
     "output_type": "execute_result"
    }
   ],
   "source": [
    "df_copy = df.copy()\n",
    "\n",
    "columns = df_copy.columns.to_list()\n",
    "columns.sort()\n",
    "columns"
   ]
  },
  {
   "cell_type": "code",
   "execution_count": 9,
   "metadata": {},
   "outputs": [
    {
     "data": {
      "text/html": [
       "<div>\n",
       "<style scoped>\n",
       "    .dataframe tbody tr th:only-of-type {\n",
       "        vertical-align: middle;\n",
       "    }\n",
       "\n",
       "    .dataframe tbody tr th {\n",
       "        vertical-align: top;\n",
       "    }\n",
       "\n",
       "    .dataframe thead th {\n",
       "        text-align: right;\n",
       "    }\n",
       "</style>\n",
       "<table border=\"1\" class=\"dataframe\">\n",
       "  <thead>\n",
       "    <tr style=\"text-align: right;\">\n",
       "      <th></th>\n",
       "      <th>Destination Port</th>\n",
       "      <th>Flow Duration</th>\n",
       "      <th>Total Fwd Packets</th>\n",
       "      <th>Total Backward Packets</th>\n",
       "      <th>Total Length of Fwd Packets</th>\n",
       "      <th>Total Length of Bwd Packets</th>\n",
       "      <th>Fwd Packet Length Max</th>\n",
       "      <th>Fwd Packet Length Min</th>\n",
       "      <th>Fwd Packet Length Mean</th>\n",
       "      <th>Fwd Packet Length Std</th>\n",
       "      <th>...</th>\n",
       "      <th>Active Mean</th>\n",
       "      <th>Active Std</th>\n",
       "      <th>Active Max</th>\n",
       "      <th>Active Min</th>\n",
       "      <th>Idle Mean</th>\n",
       "      <th>Idle Std</th>\n",
       "      <th>Idle Max</th>\n",
       "      <th>Idle Min</th>\n",
       "      <th>Inbound</th>\n",
       "      <th>Label</th>\n",
       "    </tr>\n",
       "  </thead>\n",
       "  <tbody>\n",
       "    <tr>\n",
       "      <th>0</th>\n",
       "      <td>60495</td>\n",
       "      <td>28415</td>\n",
       "      <td>97</td>\n",
       "      <td>0</td>\n",
       "      <td>42680.0</td>\n",
       "      <td>0.0</td>\n",
       "      <td>440.0</td>\n",
       "      <td>440.0</td>\n",
       "      <td>440.0</td>\n",
       "      <td>0.0</td>\n",
       "      <td>...</td>\n",
       "      <td>0.0</td>\n",
       "      <td>0.0</td>\n",
       "      <td>0.0</td>\n",
       "      <td>0.0</td>\n",
       "      <td>0.0</td>\n",
       "      <td>0.0</td>\n",
       "      <td>0.0</td>\n",
       "      <td>0.0</td>\n",
       "      <td>1</td>\n",
       "      <td>DrDoS_DNS</td>\n",
       "    </tr>\n",
       "    <tr>\n",
       "      <th>1</th>\n",
       "      <td>60495</td>\n",
       "      <td>2</td>\n",
       "      <td>2</td>\n",
       "      <td>0</td>\n",
       "      <td>880.0</td>\n",
       "      <td>0.0</td>\n",
       "      <td>440.0</td>\n",
       "      <td>440.0</td>\n",
       "      <td>440.0</td>\n",
       "      <td>0.0</td>\n",
       "      <td>...</td>\n",
       "      <td>0.0</td>\n",
       "      <td>0.0</td>\n",
       "      <td>0.0</td>\n",
       "      <td>0.0</td>\n",
       "      <td>0.0</td>\n",
       "      <td>0.0</td>\n",
       "      <td>0.0</td>\n",
       "      <td>0.0</td>\n",
       "      <td>0</td>\n",
       "      <td>DrDoS_DNS</td>\n",
       "    </tr>\n",
       "    <tr>\n",
       "      <th>2</th>\n",
       "      <td>46391</td>\n",
       "      <td>48549</td>\n",
       "      <td>200</td>\n",
       "      <td>0</td>\n",
       "      <td>88000.0</td>\n",
       "      <td>0.0</td>\n",
       "      <td>440.0</td>\n",
       "      <td>440.0</td>\n",
       "      <td>440.0</td>\n",
       "      <td>0.0</td>\n",
       "      <td>...</td>\n",
       "      <td>0.0</td>\n",
       "      <td>0.0</td>\n",
       "      <td>0.0</td>\n",
       "      <td>0.0</td>\n",
       "      <td>0.0</td>\n",
       "      <td>0.0</td>\n",
       "      <td>0.0</td>\n",
       "      <td>0.0</td>\n",
       "      <td>1</td>\n",
       "      <td>DrDoS_DNS</td>\n",
       "    </tr>\n",
       "    <tr>\n",
       "      <th>3</th>\n",
       "      <td>11894</td>\n",
       "      <td>48337</td>\n",
       "      <td>200</td>\n",
       "      <td>0</td>\n",
       "      <td>88000.0</td>\n",
       "      <td>0.0</td>\n",
       "      <td>440.0</td>\n",
       "      <td>440.0</td>\n",
       "      <td>440.0</td>\n",
       "      <td>0.0</td>\n",
       "      <td>...</td>\n",
       "      <td>0.0</td>\n",
       "      <td>0.0</td>\n",
       "      <td>0.0</td>\n",
       "      <td>0.0</td>\n",
       "      <td>0.0</td>\n",
       "      <td>0.0</td>\n",
       "      <td>0.0</td>\n",
       "      <td>0.0</td>\n",
       "      <td>1</td>\n",
       "      <td>DrDoS_DNS</td>\n",
       "    </tr>\n",
       "    <tr>\n",
       "      <th>4</th>\n",
       "      <td>27878</td>\n",
       "      <td>32026</td>\n",
       "      <td>200</td>\n",
       "      <td>0</td>\n",
       "      <td>88000.0</td>\n",
       "      <td>0.0</td>\n",
       "      <td>440.0</td>\n",
       "      <td>440.0</td>\n",
       "      <td>440.0</td>\n",
       "      <td>0.0</td>\n",
       "      <td>...</td>\n",
       "      <td>0.0</td>\n",
       "      <td>0.0</td>\n",
       "      <td>0.0</td>\n",
       "      <td>0.0</td>\n",
       "      <td>0.0</td>\n",
       "      <td>0.0</td>\n",
       "      <td>0.0</td>\n",
       "      <td>0.0</td>\n",
       "      <td>1</td>\n",
       "      <td>DrDoS_DNS</td>\n",
       "    </tr>\n",
       "    <tr>\n",
       "      <th>...</th>\n",
       "      <td>...</td>\n",
       "      <td>...</td>\n",
       "      <td>...</td>\n",
       "      <td>...</td>\n",
       "      <td>...</td>\n",
       "      <td>...</td>\n",
       "      <td>...</td>\n",
       "      <td>...</td>\n",
       "      <td>...</td>\n",
       "      <td>...</td>\n",
       "      <td>...</td>\n",
       "      <td>...</td>\n",
       "      <td>...</td>\n",
       "      <td>...</td>\n",
       "      <td>...</td>\n",
       "      <td>...</td>\n",
       "      <td>...</td>\n",
       "      <td>...</td>\n",
       "      <td>...</td>\n",
       "      <td>...</td>\n",
       "      <td>...</td>\n",
       "    </tr>\n",
       "    <tr>\n",
       "      <th>11780448</th>\n",
       "      <td>58642</td>\n",
       "      <td>1</td>\n",
       "      <td>2</td>\n",
       "      <td>0</td>\n",
       "      <td>1154.0</td>\n",
       "      <td>0.0</td>\n",
       "      <td>577.0</td>\n",
       "      <td>577.0</td>\n",
       "      <td>577.0</td>\n",
       "      <td>0.0</td>\n",
       "      <td>...</td>\n",
       "      <td>0.0</td>\n",
       "      <td>0.0</td>\n",
       "      <td>0.0</td>\n",
       "      <td>0.0</td>\n",
       "      <td>0.0</td>\n",
       "      <td>0.0</td>\n",
       "      <td>0.0</td>\n",
       "      <td>0.0</td>\n",
       "      <td>1</td>\n",
       "      <td>DrDoS_MSSQL</td>\n",
       "    </tr>\n",
       "    <tr>\n",
       "      <th>11780449</th>\n",
       "      <td>22365</td>\n",
       "      <td>1</td>\n",
       "      <td>2</td>\n",
       "      <td>0</td>\n",
       "      <td>1218.0</td>\n",
       "      <td>0.0</td>\n",
       "      <td>609.0</td>\n",
       "      <td>609.0</td>\n",
       "      <td>609.0</td>\n",
       "      <td>0.0</td>\n",
       "      <td>...</td>\n",
       "      <td>0.0</td>\n",
       "      <td>0.0</td>\n",
       "      <td>0.0</td>\n",
       "      <td>0.0</td>\n",
       "      <td>0.0</td>\n",
       "      <td>0.0</td>\n",
       "      <td>0.0</td>\n",
       "      <td>0.0</td>\n",
       "      <td>1</td>\n",
       "      <td>DrDoS_MSSQL</td>\n",
       "    </tr>\n",
       "    <tr>\n",
       "      <th>11780450</th>\n",
       "      <td>62054</td>\n",
       "      <td>1</td>\n",
       "      <td>2</td>\n",
       "      <td>0</td>\n",
       "      <td>888.0</td>\n",
       "      <td>0.0</td>\n",
       "      <td>444.0</td>\n",
       "      <td>444.0</td>\n",
       "      <td>444.0</td>\n",
       "      <td>0.0</td>\n",
       "      <td>...</td>\n",
       "      <td>0.0</td>\n",
       "      <td>0.0</td>\n",
       "      <td>0.0</td>\n",
       "      <td>0.0</td>\n",
       "      <td>0.0</td>\n",
       "      <td>0.0</td>\n",
       "      <td>0.0</td>\n",
       "      <td>0.0</td>\n",
       "      <td>1</td>\n",
       "      <td>DrDoS_MSSQL</td>\n",
       "    </tr>\n",
       "    <tr>\n",
       "      <th>11780451</th>\n",
       "      <td>28580</td>\n",
       "      <td>1</td>\n",
       "      <td>2</td>\n",
       "      <td>0</td>\n",
       "      <td>1020.0</td>\n",
       "      <td>0.0</td>\n",
       "      <td>510.0</td>\n",
       "      <td>510.0</td>\n",
       "      <td>510.0</td>\n",
       "      <td>0.0</td>\n",
       "      <td>...</td>\n",
       "      <td>0.0</td>\n",
       "      <td>0.0</td>\n",
       "      <td>0.0</td>\n",
       "      <td>0.0</td>\n",
       "      <td>0.0</td>\n",
       "      <td>0.0</td>\n",
       "      <td>0.0</td>\n",
       "      <td>0.0</td>\n",
       "      <td>1</td>\n",
       "      <td>DrDoS_MSSQL</td>\n",
       "    </tr>\n",
       "    <tr>\n",
       "      <th>11780452</th>\n",
       "      <td>33323</td>\n",
       "      <td>1</td>\n",
       "      <td>2</td>\n",
       "      <td>0</td>\n",
       "      <td>2004.0</td>\n",
       "      <td>0.0</td>\n",
       "      <td>1002.0</td>\n",
       "      <td>1002.0</td>\n",
       "      <td>1002.0</td>\n",
       "      <td>0.0</td>\n",
       "      <td>...</td>\n",
       "      <td>0.0</td>\n",
       "      <td>0.0</td>\n",
       "      <td>0.0</td>\n",
       "      <td>0.0</td>\n",
       "      <td>0.0</td>\n",
       "      <td>0.0</td>\n",
       "      <td>0.0</td>\n",
       "      <td>0.0</td>\n",
       "      <td>1</td>\n",
       "      <td>DrDoS_MSSQL</td>\n",
       "    </tr>\n",
       "  </tbody>\n",
       "</table>\n",
       "<p>11780453 rows × 80 columns</p>\n",
       "</div>"
      ],
      "text/plain": [
       "          Destination Port  Flow Duration  Total Fwd Packets  \\\n",
       "0                    60495          28415                 97   \n",
       "1                    60495              2                  2   \n",
       "2                    46391          48549                200   \n",
       "3                    11894          48337                200   \n",
       "4                    27878          32026                200   \n",
       "...                    ...            ...                ...   \n",
       "11780448             58642              1                  2   \n",
       "11780449             22365              1                  2   \n",
       "11780450             62054              1                  2   \n",
       "11780451             28580              1                  2   \n",
       "11780452             33323              1                  2   \n",
       "\n",
       "          Total Backward Packets  Total Length of Fwd Packets  \\\n",
       "0                              0                      42680.0   \n",
       "1                              0                        880.0   \n",
       "2                              0                      88000.0   \n",
       "3                              0                      88000.0   \n",
       "4                              0                      88000.0   \n",
       "...                          ...                          ...   \n",
       "11780448                       0                       1154.0   \n",
       "11780449                       0                       1218.0   \n",
       "11780450                       0                        888.0   \n",
       "11780451                       0                       1020.0   \n",
       "11780452                       0                       2004.0   \n",
       "\n",
       "          Total Length of Bwd Packets  Fwd Packet Length Max  \\\n",
       "0                                 0.0                  440.0   \n",
       "1                                 0.0                  440.0   \n",
       "2                                 0.0                  440.0   \n",
       "3                                 0.0                  440.0   \n",
       "4                                 0.0                  440.0   \n",
       "...                               ...                    ...   \n",
       "11780448                          0.0                  577.0   \n",
       "11780449                          0.0                  609.0   \n",
       "11780450                          0.0                  444.0   \n",
       "11780451                          0.0                  510.0   \n",
       "11780452                          0.0                 1002.0   \n",
       "\n",
       "          Fwd Packet Length Min  Fwd Packet Length Mean  \\\n",
       "0                         440.0                   440.0   \n",
       "1                         440.0                   440.0   \n",
       "2                         440.0                   440.0   \n",
       "3                         440.0                   440.0   \n",
       "4                         440.0                   440.0   \n",
       "...                         ...                     ...   \n",
       "11780448                  577.0                   577.0   \n",
       "11780449                  609.0                   609.0   \n",
       "11780450                  444.0                   444.0   \n",
       "11780451                  510.0                   510.0   \n",
       "11780452                 1002.0                  1002.0   \n",
       "\n",
       "          Fwd Packet Length Std  ...  Active Mean  Active Std  Active Max  \\\n",
       "0                           0.0  ...          0.0         0.0         0.0   \n",
       "1                           0.0  ...          0.0         0.0         0.0   \n",
       "2                           0.0  ...          0.0         0.0         0.0   \n",
       "3                           0.0  ...          0.0         0.0         0.0   \n",
       "4                           0.0  ...          0.0         0.0         0.0   \n",
       "...                         ...  ...          ...         ...         ...   \n",
       "11780448                    0.0  ...          0.0         0.0         0.0   \n",
       "11780449                    0.0  ...          0.0         0.0         0.0   \n",
       "11780450                    0.0  ...          0.0         0.0         0.0   \n",
       "11780451                    0.0  ...          0.0         0.0         0.0   \n",
       "11780452                    0.0  ...          0.0         0.0         0.0   \n",
       "\n",
       "          Active Min  Idle Mean  Idle Std  Idle Max  Idle Min  Inbound  \\\n",
       "0                0.0        0.0       0.0       0.0       0.0        1   \n",
       "1                0.0        0.0       0.0       0.0       0.0        0   \n",
       "2                0.0        0.0       0.0       0.0       0.0        1   \n",
       "3                0.0        0.0       0.0       0.0       0.0        1   \n",
       "4                0.0        0.0       0.0       0.0       0.0        1   \n",
       "...              ...        ...       ...       ...       ...      ...   \n",
       "11780448         0.0        0.0       0.0       0.0       0.0        1   \n",
       "11780449         0.0        0.0       0.0       0.0       0.0        1   \n",
       "11780450         0.0        0.0       0.0       0.0       0.0        1   \n",
       "11780451         0.0        0.0       0.0       0.0       0.0        1   \n",
       "11780452         0.0        0.0       0.0       0.0       0.0        1   \n",
       "\n",
       "                Label  \n",
       "0           DrDoS_DNS  \n",
       "1           DrDoS_DNS  \n",
       "2           DrDoS_DNS  \n",
       "3           DrDoS_DNS  \n",
       "4           DrDoS_DNS  \n",
       "...               ...  \n",
       "11780448  DrDoS_MSSQL  \n",
       "11780449  DrDoS_MSSQL  \n",
       "11780450  DrDoS_MSSQL  \n",
       "11780451  DrDoS_MSSQL  \n",
       "11780452  DrDoS_MSSQL  \n",
       "\n",
       "[11780453 rows x 80 columns]"
      ]
     },
     "execution_count": 9,
     "metadata": {},
     "output_type": "execute_result"
    }
   ],
   "source": [
    "df_copy.drop(['Unnamed: 0','Timestamp','Source Port','Source IP','SimillarHTTP','Protocol','Flow ID','Destination IP'], axis=1, inplace=True)\n",
    "df_copy"
   ]
  },
  {
   "cell_type": "code",
   "execution_count": 10,
   "metadata": {},
   "outputs": [
    {
     "data": {
      "text/plain": [
       "[dtype('int64'),\n",
       " dtype('int64'),\n",
       " dtype('int64'),\n",
       " dtype('int64'),\n",
       " dtype('float64'),\n",
       " dtype('float64'),\n",
       " dtype('float64'),\n",
       " dtype('float64'),\n",
       " dtype('float64'),\n",
       " dtype('float64'),\n",
       " dtype('float64'),\n",
       " dtype('float64'),\n",
       " dtype('float64'),\n",
       " dtype('float64'),\n",
       " dtype('float64'),\n",
       " dtype('float64'),\n",
       " dtype('float64'),\n",
       " dtype('float64'),\n",
       " dtype('float64'),\n",
       " dtype('float64'),\n",
       " dtype('float64'),\n",
       " dtype('float64'),\n",
       " dtype('float64'),\n",
       " dtype('float64'),\n",
       " dtype('float64'),\n",
       " dtype('float64'),\n",
       " dtype('float64'),\n",
       " dtype('float64'),\n",
       " dtype('float64'),\n",
       " dtype('float64'),\n",
       " dtype('int64'),\n",
       " dtype('int64'),\n",
       " dtype('int64'),\n",
       " dtype('int64'),\n",
       " dtype('int64'),\n",
       " dtype('int64'),\n",
       " dtype('float64'),\n",
       " dtype('float64'),\n",
       " dtype('float64'),\n",
       " dtype('float64'),\n",
       " dtype('float64'),\n",
       " dtype('float64'),\n",
       " dtype('float64'),\n",
       " dtype('int64'),\n",
       " dtype('int64'),\n",
       " dtype('int64'),\n",
       " dtype('int64'),\n",
       " dtype('int64'),\n",
       " dtype('int64'),\n",
       " dtype('int64'),\n",
       " dtype('int64'),\n",
       " dtype('float64'),\n",
       " dtype('float64'),\n",
       " dtype('float64'),\n",
       " dtype('float64'),\n",
       " dtype('int64'),\n",
       " dtype('int64'),\n",
       " dtype('int64'),\n",
       " dtype('int64'),\n",
       " dtype('int64'),\n",
       " dtype('int64'),\n",
       " dtype('int64'),\n",
       " dtype('int64'),\n",
       " dtype('int64'),\n",
       " dtype('int64'),\n",
       " dtype('int64'),\n",
       " dtype('int64'),\n",
       " dtype('int64'),\n",
       " dtype('int64'),\n",
       " dtype('int64'),\n",
       " dtype('float64'),\n",
       " dtype('float64'),\n",
       " dtype('float64'),\n",
       " dtype('float64'),\n",
       " dtype('float64'),\n",
       " dtype('float64'),\n",
       " dtype('float64'),\n",
       " dtype('float64'),\n",
       " dtype('int64'),\n",
       " dtype('O')]"
      ]
     },
     "execution_count": 10,
     "metadata": {},
     "output_type": "execute_result"
    }
   ],
   "source": [
    "column_types=df_copy.dtypes.tolist()\n",
    "column_types"
   ]
  },
  {
   "cell_type": "code",
   "execution_count": 11,
   "metadata": {},
   "outputs": [
    {
     "data": {
      "text/plain": [
       "['BENIGN', 'DrDoS_DNS', 'DrDoS_LDAP', 'DrDoS_MSSQL']"
      ]
     },
     "execution_count": 11,
     "metadata": {},
     "output_type": "execute_result"
    }
   ],
   "source": [
    "labels_factor = df_copy['Label'].unique().tolist()\n",
    "labels_factor.sort()\n",
    "labels_factor"
   ]
  },
  {
   "cell_type": "code",
   "execution_count": 12,
   "metadata": {},
   "outputs": [
    {
     "data": {
      "text/plain": [
       "BENIGN            7020\n",
       "DrDoS_LDAP     2179930\n",
       "DrDoS_MSSQL    4522492\n",
       "DrDoS_DNS      5071011\n",
       "Name: Label, dtype: int64"
      ]
     },
     "execution_count": 12,
     "metadata": {},
     "output_type": "execute_result"
    }
   ],
   "source": [
    "labels_count = df_copy['Label'].value_counts(sort=True, ascending=True)\n",
    "labels_count"
   ]
  },
  {
   "cell_type": "markdown",
   "metadata": {},
   "source": [
    "---\n",
    "## Cope with too much data"
   ]
  },
  {
   "cell_type": "code",
   "execution_count": 15,
   "metadata": {},
   "outputs": [],
   "source": [
    "del df\n",
    "del df_copy"
   ]
  },
  {
   "cell_type": "code",
   "execution_count": 6,
   "metadata": {},
   "outputs": [
    {
     "name": "stderr",
     "output_type": "stream",
     "text": [
      "C:\\Users\\MAX\\AppData\\Local\\Temp\\ipykernel_42176\\3746659094.py:5: DtypeWarning: Columns (85) have mixed types. Specify dtype option on import or set low_memory=False.\n",
      "  for chunk in reader:\n",
      "C:\\Users\\MAX\\AppData\\Local\\Temp\\ipykernel_42176\\3746659094.py:5: DtypeWarning: Columns (85) have mixed types. Specify dtype option on import or set low_memory=False.\n",
      "  for chunk in reader:\n",
      "C:\\Users\\MAX\\AppData\\Local\\Temp\\ipykernel_42176\\3746659094.py:5: DtypeWarning: Columns (85) have mixed types. Specify dtype option on import or set low_memory=False.\n",
      "  for chunk in reader:\n",
      "C:\\Users\\MAX\\AppData\\Local\\Temp\\ipykernel_42176\\3746659094.py:5: DtypeWarning: Columns (85) have mixed types. Specify dtype option on import or set low_memory=False.\n",
      "  for chunk in reader:\n",
      "C:\\Users\\MAX\\AppData\\Local\\Temp\\ipykernel_42176\\3746659094.py:5: DtypeWarning: Columns (85) have mixed types. Specify dtype option on import or set low_memory=False.\n",
      "  for chunk in reader:\n",
      "C:\\Users\\MAX\\AppData\\Local\\Temp\\ipykernel_42176\\3746659094.py:5: DtypeWarning: Columns (85) have mixed types. Specify dtype option on import or set low_memory=False.\n",
      "  for chunk in reader:\n",
      "C:\\Users\\MAX\\AppData\\Local\\Temp\\ipykernel_42176\\3746659094.py:5: DtypeWarning: Columns (85) have mixed types. Specify dtype option on import or set low_memory=False.\n",
      "  for chunk in reader:\n",
      "C:\\Users\\MAX\\AppData\\Local\\Temp\\ipykernel_42176\\3746659094.py:5: DtypeWarning: Columns (85) have mixed types. Specify dtype option on import or set low_memory=False.\n",
      "  for chunk in reader:\n",
      "C:\\Users\\MAX\\AppData\\Local\\Temp\\ipykernel_42176\\3746659094.py:5: DtypeWarning: Columns (85) have mixed types. Specify dtype option on import or set low_memory=False.\n",
      "  for chunk in reader:\n",
      "C:\\Users\\MAX\\AppData\\Local\\Temp\\ipykernel_42176\\3746659094.py:5: DtypeWarning: Columns (85) have mixed types. Specify dtype option on import or set low_memory=False.\n",
      "  for chunk in reader:\n",
      "C:\\Users\\MAX\\AppData\\Local\\Temp\\ipykernel_42176\\3746659094.py:5: DtypeWarning: Columns (85) have mixed types. Specify dtype option on import or set low_memory=False.\n",
      "  for chunk in reader:\n",
      "C:\\Users\\MAX\\AppData\\Local\\Temp\\ipykernel_42176\\3746659094.py:5: DtypeWarning: Columns (85) have mixed types. Specify dtype option on import or set low_memory=False.\n",
      "  for chunk in reader:\n",
      "C:\\Users\\MAX\\AppData\\Local\\Temp\\ipykernel_42176\\3746659094.py:5: DtypeWarning: Columns (85) have mixed types. Specify dtype option on import or set low_memory=False.\n",
      "  for chunk in reader:\n",
      "C:\\Users\\MAX\\AppData\\Local\\Temp\\ipykernel_42176\\3746659094.py:5: DtypeWarning: Columns (85) have mixed types. Specify dtype option on import or set low_memory=False.\n",
      "  for chunk in reader:\n",
      "C:\\Users\\MAX\\AppData\\Local\\Temp\\ipykernel_42176\\3746659094.py:5: DtypeWarning: Columns (85) have mixed types. Specify dtype option on import or set low_memory=False.\n",
      "  for chunk in reader:\n",
      "C:\\Users\\MAX\\AppData\\Local\\Temp\\ipykernel_42176\\3746659094.py:5: DtypeWarning: Columns (85) have mixed types. Specify dtype option on import or set low_memory=False.\n",
      "  for chunk in reader:\n",
      "C:\\Users\\MAX\\AppData\\Local\\Temp\\ipykernel_42176\\3746659094.py:5: DtypeWarning: Columns (85) have mixed types. Specify dtype option on import or set low_memory=False.\n",
      "  for chunk in reader:\n",
      "C:\\Users\\MAX\\AppData\\Local\\Temp\\ipykernel_42176\\3746659094.py:5: DtypeWarning: Columns (85) have mixed types. Specify dtype option on import or set low_memory=False.\n",
      "  for chunk in reader:\n",
      "C:\\Users\\MAX\\AppData\\Local\\Temp\\ipykernel_42176\\3746659094.py:5: DtypeWarning: Columns (85) have mixed types. Specify dtype option on import or set low_memory=False.\n",
      "  for chunk in reader:\n",
      "C:\\Users\\MAX\\AppData\\Local\\Temp\\ipykernel_42176\\3746659094.py:5: DtypeWarning: Columns (85) have mixed types. Specify dtype option on import or set low_memory=False.\n",
      "  for chunk in reader:\n",
      "C:\\Users\\MAX\\AppData\\Local\\Temp\\ipykernel_42176\\3746659094.py:5: DtypeWarning: Columns (85) have mixed types. Specify dtype option on import or set low_memory=False.\n",
      "  for chunk in reader:\n",
      "C:\\Users\\MAX\\AppData\\Local\\Temp\\ipykernel_42176\\3746659094.py:5: DtypeWarning: Columns (85) have mixed types. Specify dtype option on import or set low_memory=False.\n",
      "  for chunk in reader:\n",
      "C:\\Users\\MAX\\AppData\\Local\\Temp\\ipykernel_42176\\3746659094.py:5: DtypeWarning: Columns (85) have mixed types. Specify dtype option on import or set low_memory=False.\n",
      "  for chunk in reader:\n",
      "C:\\Users\\MAX\\AppData\\Local\\Temp\\ipykernel_42176\\3746659094.py:5: DtypeWarning: Columns (85) have mixed types. Specify dtype option on import or set low_memory=False.\n",
      "  for chunk in reader:\n",
      "C:\\Users\\MAX\\AppData\\Local\\Temp\\ipykernel_42176\\3746659094.py:5: DtypeWarning: Columns (85) have mixed types. Specify dtype option on import or set low_memory=False.\n",
      "  for chunk in reader:\n",
      "C:\\Users\\MAX\\AppData\\Local\\Temp\\ipykernel_42176\\3746659094.py:5: DtypeWarning: Columns (85) have mixed types. Specify dtype option on import or set low_memory=False.\n",
      "  for chunk in reader:\n",
      "C:\\Users\\MAX\\AppData\\Local\\Temp\\ipykernel_42176\\3746659094.py:5: DtypeWarning: Columns (85) have mixed types. Specify dtype option on import or set low_memory=False.\n",
      "  for chunk in reader:\n",
      "C:\\Users\\MAX\\AppData\\Local\\Temp\\ipykernel_42176\\3746659094.py:5: DtypeWarning: Columns (85) have mixed types. Specify dtype option on import or set low_memory=False.\n",
      "  for chunk in reader:\n",
      "C:\\Users\\MAX\\AppData\\Local\\Temp\\ipykernel_42176\\3746659094.py:5: DtypeWarning: Columns (85) have mixed types. Specify dtype option on import or set low_memory=False.\n",
      "  for chunk in reader:\n",
      "C:\\Users\\MAX\\AppData\\Local\\Temp\\ipykernel_42176\\3746659094.py:5: DtypeWarning: Columns (85) have mixed types. Specify dtype option on import or set low_memory=False.\n",
      "  for chunk in reader:\n",
      "C:\\Users\\MAX\\AppData\\Local\\Temp\\ipykernel_42176\\3746659094.py:5: DtypeWarning: Columns (85) have mixed types. Specify dtype option on import or set low_memory=False.\n",
      "  for chunk in reader:\n",
      "C:\\Users\\MAX\\AppData\\Local\\Temp\\ipykernel_42176\\3746659094.py:5: DtypeWarning: Columns (85) have mixed types. Specify dtype option on import or set low_memory=False.\n",
      "  for chunk in reader:\n",
      "C:\\Users\\MAX\\AppData\\Local\\Temp\\ipykernel_42176\\3746659094.py:5: DtypeWarning: Columns (85) have mixed types. Specify dtype option on import or set low_memory=False.\n",
      "  for chunk in reader:\n",
      "C:\\Users\\MAX\\AppData\\Local\\Temp\\ipykernel_42176\\3746659094.py:5: DtypeWarning: Columns (85) have mixed types. Specify dtype option on import or set low_memory=False.\n",
      "  for chunk in reader:\n",
      "C:\\Users\\MAX\\AppData\\Local\\Temp\\ipykernel_42176\\3746659094.py:5: DtypeWarning: Columns (85) have mixed types. Specify dtype option on import or set low_memory=False.\n",
      "  for chunk in reader:\n",
      "C:\\Users\\MAX\\AppData\\Local\\Temp\\ipykernel_42176\\3746659094.py:5: DtypeWarning: Columns (85) have mixed types. Specify dtype option on import or set low_memory=False.\n",
      "  for chunk in reader:\n",
      "C:\\Users\\MAX\\AppData\\Local\\Temp\\ipykernel_42176\\3746659094.py:5: DtypeWarning: Columns (85) have mixed types. Specify dtype option on import or set low_memory=False.\n",
      "  for chunk in reader:\n",
      "C:\\Users\\MAX\\AppData\\Local\\Temp\\ipykernel_42176\\3746659094.py:5: DtypeWarning: Columns (85) have mixed types. Specify dtype option on import or set low_memory=False.\n",
      "  for chunk in reader:\n",
      "C:\\Users\\MAX\\AppData\\Local\\Temp\\ipykernel_42176\\3746659094.py:5: DtypeWarning: Columns (85) have mixed types. Specify dtype option on import or set low_memory=False.\n",
      "  for chunk in reader:\n",
      "C:\\Users\\MAX\\AppData\\Local\\Temp\\ipykernel_42176\\3746659094.py:5: DtypeWarning: Columns (85) have mixed types. Specify dtype option on import or set low_memory=False.\n",
      "  for chunk in reader:\n",
      "C:\\Users\\MAX\\AppData\\Local\\Temp\\ipykernel_42176\\3746659094.py:5: DtypeWarning: Columns (85) have mixed types. Specify dtype option on import or set low_memory=False.\n",
      "  for chunk in reader:\n",
      "C:\\Users\\MAX\\AppData\\Local\\Temp\\ipykernel_42176\\3746659094.py:5: DtypeWarning: Columns (85) have mixed types. Specify dtype option on import or set low_memory=False.\n",
      "  for chunk in reader:\n",
      "C:\\Users\\MAX\\AppData\\Local\\Temp\\ipykernel_42176\\3746659094.py:5: DtypeWarning: Columns (85) have mixed types. Specify dtype option on import or set low_memory=False.\n",
      "  for chunk in reader:\n",
      "C:\\Users\\MAX\\AppData\\Local\\Temp\\ipykernel_42176\\3746659094.py:5: DtypeWarning: Columns (85) have mixed types. Specify dtype option on import or set low_memory=False.\n",
      "  for chunk in reader:\n",
      "C:\\Users\\MAX\\AppData\\Local\\Temp\\ipykernel_42176\\3746659094.py:5: DtypeWarning: Columns (85) have mixed types. Specify dtype option on import or set low_memory=False.\n",
      "  for chunk in reader:\n",
      "C:\\Users\\MAX\\AppData\\Local\\Temp\\ipykernel_42176\\3746659094.py:5: DtypeWarning: Columns (85) have mixed types. Specify dtype option on import or set low_memory=False.\n",
      "  for chunk in reader:\n",
      "C:\\Users\\MAX\\AppData\\Local\\Temp\\ipykernel_42176\\3746659094.py:5: DtypeWarning: Columns (85) have mixed types. Specify dtype option on import or set low_memory=False.\n",
      "  for chunk in reader:\n",
      "C:\\Users\\MAX\\AppData\\Local\\Temp\\ipykernel_42176\\3746659094.py:5: DtypeWarning: Columns (85) have mixed types. Specify dtype option on import or set low_memory=False.\n",
      "  for chunk in reader:\n",
      "C:\\Users\\MAX\\AppData\\Local\\Temp\\ipykernel_42176\\3746659094.py:5: DtypeWarning: Columns (85) have mixed types. Specify dtype option on import or set low_memory=False.\n",
      "  for chunk in reader:\n",
      "C:\\Users\\MAX\\AppData\\Local\\Temp\\ipykernel_42176\\3746659094.py:5: DtypeWarning: Columns (85) have mixed types. Specify dtype option on import or set low_memory=False.\n",
      "  for chunk in reader:\n",
      "C:\\Users\\MAX\\AppData\\Local\\Temp\\ipykernel_42176\\3746659094.py:5: DtypeWarning: Columns (85) have mixed types. Specify dtype option on import or set low_memory=False.\n",
      "  for chunk in reader:\n",
      "C:\\Users\\MAX\\AppData\\Local\\Temp\\ipykernel_42176\\3746659094.py:5: DtypeWarning: Columns (85) have mixed types. Specify dtype option on import or set low_memory=False.\n",
      "  for chunk in reader:\n",
      "C:\\Users\\MAX\\AppData\\Local\\Temp\\ipykernel_42176\\3746659094.py:5: DtypeWarning: Columns (85) have mixed types. Specify dtype option on import or set low_memory=False.\n",
      "  for chunk in reader:\n",
      "C:\\Users\\MAX\\AppData\\Local\\Temp\\ipykernel_42176\\3746659094.py:5: DtypeWarning: Columns (85) have mixed types. Specify dtype option on import or set low_memory=False.\n",
      "  for chunk in reader:\n",
      "C:\\Users\\MAX\\AppData\\Local\\Temp\\ipykernel_42176\\3746659094.py:5: DtypeWarning: Columns (85) have mixed types. Specify dtype option on import or set low_memory=False.\n",
      "  for chunk in reader:\n"
     ]
    },
    {
     "data": {
      "text/plain": [
       "{'DrDoS_DNS': 5071011,\n",
       " 'BENIGN': 56863,\n",
       " 'DrDoS_LDAP': 2179930,\n",
       " 'DrDoS_MSSQL': 4522492,\n",
       " 'DrDoS_NetBIOS': 4093279,\n",
       " 'DrDoS_NTP': 1202642,\n",
       " 'DrDoS_SNMP': 5159870,\n",
       " 'DrDoS_SSDP': 2610611,\n",
       " 'DrDoS_UDP': 3134645,\n",
       " 'Syn': 1582289,\n",
       " 'TFTP': 20082580,\n",
       " 'UDP-lag': 366461,\n",
       " 'WebDDoS': 439}"
      ]
     },
     "execution_count": 6,
     "metadata": {},
     "output_type": "execute_result"
    }
   ],
   "source": [
    "classes_distribution = {}\n",
    "\n",
    "for ds in csv_files: #for every dataset\n",
    "    with pd.read_csv(ds, chunksize=10**6) as reader: #that has to be processed in chunks\n",
    "        for chunk in reader:\n",
    "            chunk.columns = chunk.columns.str.strip()\n",
    "\n",
    "            labels_count = chunk['Label'].value_counts()\n",
    "\n",
    "            for class_,count in labels_count.iteritems():\n",
    "                #print(class_, count)\n",
    "                if class_ in classes_distribution.keys():\n",
    "                    classes_distribution[class_] += count\n",
    "                else:\n",
    "                    classes_distribution[class_] = count\n",
    "\n",
    "classes_distribution"
   ]
  },
  {
   "cell_type": "code",
   "execution_count": 7,
   "metadata": {},
   "outputs": [
    {
     "name": "stdout",
     "output_type": "stream",
     "text": [
      "Stored 'classes_distribution' (dict)\n"
     ]
    }
   ],
   "source": [
    "%store classes_distribution"
   ]
  },
  {
   "cell_type": "code",
   "execution_count": 53,
   "metadata": {},
   "outputs": [
    {
     "data": {
      "image/png": "[encoded data removed]",
      "text/plain": [
       "<Figure size 640x480 with 1 Axes>"
      ]
     },
     "metadata": {},
     "output_type": "display_data"
    }
   ],
   "source": [
    "%store -r classes_distribution\n",
    "plt.bar(classes_distribution.keys(), classes_distribution.values())\n",
    "plt.show()"
   ]
  },
  {
   "cell_type": "code",
   "execution_count": 54,
   "metadata": {},
   "outputs": [
    {
     "name": "stdout",
     "output_type": "stream",
     "text": [
      "The class that has less item is BENIGN with 56863 items.\n"
     ]
    }
   ],
   "source": [
    "del classes_distribution['WebDDoS'] #we will drop this label across the dataset\n",
    "\n",
    "min_val=min(classes_distribution.values())\n",
    "smallest_class=[k for k, v in classes_distribution.items() if v==min_val][0]\n",
    "print('The class that has less item is', smallest_class, 'with', min_val, 'items.')"
   ]
  },
  {
   "cell_type": "markdown",
   "metadata": {},
   "source": [
    "---\n",
    "## Balancing the dataset\n",
    "\n",
    "As discovered we have too much samples and little computing power. In order to not waste data we have for the benign class, since all classes are skewed, we are going to add only the 'Benign' samples from the tests day to the data coming from the training day. Then balance classes by cutting them down to the cardinality of 'Benign' class (which is the class that has less samples). This will get us a balanced-by-construction and one-file-only dataset that we will split later in train and test samples for the NN (ignoring the original dataset structure). The resulting csv file will have about 1 million observations that are more than enough, anyways."
   ]
  },
  {
   "cell_type": "code",
   "execution_count": 55,
   "metadata": {},
   "outputs": [
    {
     "data": {
      "text/plain": [
       "{'DrDoS_DNS': (0, tensor([1, 0, 0, 0, 0, 0, 0, 0, 0, 0, 0, 0])),\n",
       " 'BENIGN': (1, tensor([0, 1, 0, 0, 0, 0, 0, 0, 0, 0, 0, 0])),\n",
       " 'DrDoS_LDAP': (2, tensor([0, 0, 1, 0, 0, 0, 0, 0, 0, 0, 0, 0])),\n",
       " 'DrDoS_MSSQL': (3, tensor([0, 0, 0, 1, 0, 0, 0, 0, 0, 0, 0, 0])),\n",
       " 'DrDoS_NetBIOS': (4, tensor([0, 0, 0, 0, 1, 0, 0, 0, 0, 0, 0, 0])),\n",
       " 'DrDoS_NTP': (5, tensor([0, 0, 0, 0, 0, 1, 0, 0, 0, 0, 0, 0])),\n",
       " 'DrDoS_SNMP': (6, tensor([0, 0, 0, 0, 0, 0, 1, 0, 0, 0, 0, 0])),\n",
       " 'DrDoS_SSDP': (7, tensor([0, 0, 0, 0, 0, 0, 0, 1, 0, 0, 0, 0])),\n",
       " 'DrDoS_UDP': (8, tensor([0, 0, 0, 0, 0, 0, 0, 0, 1, 0, 0, 0])),\n",
       " 'Syn': (9, tensor([0, 0, 0, 0, 0, 0, 0, 0, 0, 1, 0, 0])),\n",
       " 'TFTP': (10, tensor([0, 0, 0, 0, 0, 0, 0, 0, 0, 0, 1, 0])),\n",
       " 'UDP-lag': (11, tensor([0, 0, 0, 0, 0, 0, 0, 0, 0, 0, 0, 1]))}"
      ]
     },
     "execution_count": 55,
     "metadata": {},
     "output_type": "execute_result"
    }
   ],
   "source": [
    "classes_ids={}\n",
    "classes_ids=classes_ids.fromkeys(classes_distribution)\n",
    "\n",
    "one_hot_encoding=torch.nn.functional.one_hot(torch.arange(0,12),num_classes=12)\n",
    "one_hot_encoding\n",
    "\n",
    "for idx,(k,_) in enumerate(classes_ids.items()):\n",
    "    classes_ids[k]=(idx,one_hot_encoding[idx])\n",
    "\n",
    "classes_ids"
   ]
  },
  {
   "cell_type": "code",
   "execution_count": 56,
   "metadata": {},
   "outputs": [
    {
     "data": {
      "text/plain": [
       "{'DrDoS_DNS': tensor([1, 0, 0, 0, 0, 0, 0, 0, 0, 0, 0, 0]),\n",
       " 'BENIGN': tensor([0, 1, 0, 0, 0, 0, 0, 0, 0, 0, 0, 0]),\n",
       " 'DrDoS_LDAP': tensor([0, 0, 1, 0, 0, 0, 0, 0, 0, 0, 0, 0]),\n",
       " 'DrDoS_MSSQL': tensor([0, 0, 0, 1, 0, 0, 0, 0, 0, 0, 0, 0]),\n",
       " 'DrDoS_NetBIOS': tensor([0, 0, 0, 0, 1, 0, 0, 0, 0, 0, 0, 0]),\n",
       " 'DrDoS_NTP': tensor([0, 0, 0, 0, 0, 1, 0, 0, 0, 0, 0, 0]),\n",
       " 'DrDoS_SNMP': tensor([0, 0, 0, 0, 0, 0, 1, 0, 0, 0, 0, 0]),\n",
       " 'DrDoS_SSDP': tensor([0, 0, 0, 0, 0, 0, 0, 1, 0, 0, 0, 0]),\n",
       " 'DrDoS_UDP': tensor([0, 0, 0, 0, 0, 0, 0, 0, 1, 0, 0, 0]),\n",
       " 'Syn': tensor([0, 0, 0, 0, 0, 0, 0, 0, 0, 1, 0, 0]),\n",
       " 'TFTP': tensor([0, 0, 0, 0, 0, 0, 0, 0, 0, 0, 1, 0]),\n",
       " 'UDP-lag': tensor([0, 0, 0, 0, 0, 0, 0, 0, 0, 0, 0, 1])}"
      ]
     },
     "execution_count": 56,
     "metadata": {},
     "output_type": "execute_result"
    }
   ],
   "source": [
    "replacement_dict={}\n",
    "replacement_dict.fromkeys(classes_ids)\n",
    "for k,(_, tensor) in classes_ids.items():\n",
    "    replacement_dict[k]=tensor\n",
    "\n",
    "replacement_dict"
   ]
  },
  {
   "cell_type": "code",
   "execution_count": 81,
   "metadata": {},
   "outputs": [
    {
     "name": "stdout",
     "output_type": "stream",
     "text": [
      ".\\datasets\\CICDDoS2019\\train\\DrDoS_DNS.csv\n"
     ]
    },
    {
     "name": "stderr",
     "output_type": "stream",
     "text": [
      "C:\\Users\\MAX\\AppData\\Local\\Temp\\ipykernel_42040\\4216017218.py:15: DtypeWarning: Columns (85) have mixed types. Specify dtype option on import or set low_memory=False.\n",
      "  for chunk in reader:\n"
     ]
    },
    {
     "name": "stdout",
     "output_type": "stream",
     "text": [
      "RangeIndex(start=0, stop=1000000, step=1)\n",
      "Chunk length before drop:  1000000\n",
      "Chunk length after drop:  58869\n"
     ]
    },
    {
     "name": "stderr",
     "output_type": "stream",
     "text": [
      "C:\\Users\\MAX\\AppData\\Local\\Temp\\ipykernel_42040\\4216017218.py:15: DtypeWarning: Columns (85) have mixed types. Specify dtype option on import or set low_memory=False.\n",
      "  for chunk in reader:\n"
     ]
    },
    {
     "name": "stdout",
     "output_type": "stream",
     "text": [
      "RangeIndex(start=1000000, stop=2000000, step=1)\n",
      "Chunk length before drop:  1000000\n",
      "Chunk length after drop:  178\n"
     ]
    },
    {
     "name": "stderr",
     "output_type": "stream",
     "text": [
      "C:\\Users\\MAX\\AppData\\Local\\Temp\\ipykernel_42040\\4216017218.py:15: DtypeWarning: Columns (85) have mixed types. Specify dtype option on import or set low_memory=False.\n",
      "  for chunk in reader:\n"
     ]
    },
    {
     "name": "stdout",
     "output_type": "stream",
     "text": [
      "RangeIndex(start=2000000, stop=3000000, step=1)\n",
      "Chunk length before drop:  1000000\n",
      "Chunk length after drop:  138\n"
     ]
    },
    {
     "name": "stderr",
     "output_type": "stream",
     "text": [
      "C:\\Users\\MAX\\AppData\\Local\\Temp\\ipykernel_42040\\4216017218.py:15: DtypeWarning: Columns (85) have mixed types. Specify dtype option on import or set low_memory=False.\n",
      "  for chunk in reader:\n"
     ]
    },
    {
     "name": "stdout",
     "output_type": "stream",
     "text": [
      "RangeIndex(start=3000000, stop=4000000, step=1)\n",
      "Chunk length before drop:  1000000\n",
      "Chunk length after drop:  172\n"
     ]
    },
    {
     "name": "stderr",
     "output_type": "stream",
     "text": [
      "C:\\Users\\MAX\\AppData\\Local\\Temp\\ipykernel_42040\\4216017218.py:15: DtypeWarning: Columns (85) have mixed types. Specify dtype option on import or set low_memory=False.\n",
      "  for chunk in reader:\n"
     ]
    },
    {
     "name": "stdout",
     "output_type": "stream",
     "text": [
      "RangeIndex(start=4000000, stop=5000000, step=1)\n",
      "Chunk length before drop:  1000000\n",
      "Chunk length after drop:  296\n"
     ]
    },
    {
     "name": "stderr",
     "output_type": "stream",
     "text": [
      "C:\\Users\\MAX\\AppData\\Local\\Temp\\ipykernel_42040\\4216017218.py:15: DtypeWarning: Columns (85) have mixed types. Specify dtype option on import or set low_memory=False.\n",
      "  for chunk in reader:\n"
     ]
    },
    {
     "name": "stdout",
     "output_type": "stream",
     "text": [
      "RangeIndex(start=5000000, stop=5074413, step=1)\n",
      "Chunk length before drop:  74413\n",
      "Chunk length after drop:  612\n",
      ".\\datasets\\CICDDoS2019\\train\\DrDoS_LDAP.csv\n"
     ]
    },
    {
     "name": "stderr",
     "output_type": "stream",
     "text": [
      "C:\\Users\\MAX\\AppData\\Local\\Temp\\ipykernel_42040\\4216017218.py:15: DtypeWarning: Columns (85) have mixed types. Specify dtype option on import or set low_memory=False.\n",
      "  for chunk in reader:\n"
     ]
    },
    {
     "name": "stdout",
     "output_type": "stream",
     "text": [
      "RangeIndex(start=0, stop=1000000, step=1)\n",
      "Chunk length before drop:  1000000\n",
      "Chunk length after drop:  57618\n"
     ]
    },
    {
     "name": "stderr",
     "output_type": "stream",
     "text": [
      "C:\\Users\\MAX\\AppData\\Local\\Temp\\ipykernel_42040\\4216017218.py:15: DtypeWarning: Columns (85) have mixed types. Specify dtype option on import or set low_memory=False.\n",
      "  for chunk in reader:\n"
     ]
    },
    {
     "name": "stdout",
     "output_type": "stream",
     "text": [
      "RangeIndex(start=1000000, stop=2000000, step=1)\n",
      "Chunk length before drop:  1000000\n",
      "Chunk length after drop:  727\n"
     ]
    },
    {
     "name": "stderr",
     "output_type": "stream",
     "text": [
      "C:\\Users\\MAX\\AppData\\Local\\Temp\\ipykernel_42040\\4216017218.py:15: DtypeWarning: Columns (85) have mixed types. Specify dtype option on import or set low_memory=False.\n",
      "  for chunk in reader:\n"
     ]
    },
    {
     "name": "stdout",
     "output_type": "stream",
     "text": [
      "RangeIndex(start=2000000, stop=2181542, step=1)\n",
      "Chunk length before drop:  181542\n",
      "Chunk length after drop:  130\n",
      ".\\datasets\\CICDDoS2019\\train\\DrDoS_MSSQL.csv\n"
     ]
    },
    {
     "name": "stderr",
     "output_type": "stream",
     "text": [
      "C:\\Users\\MAX\\AppData\\Local\\Temp\\ipykernel_42040\\4216017218.py:15: DtypeWarning: Columns (85) have mixed types. Specify dtype option on import or set low_memory=False.\n",
      "  for chunk in reader:\n"
     ]
    },
    {
     "name": "stdout",
     "output_type": "stream",
     "text": [
      "RangeIndex(start=0, stop=1000000, step=1)\n",
      "Chunk length before drop:  1000000\n",
      "Chunk length after drop:  57875\n"
     ]
    },
    {
     "name": "stderr",
     "output_type": "stream",
     "text": [
      "C:\\Users\\MAX\\AppData\\Local\\Temp\\ipykernel_42040\\4216017218.py:15: DtypeWarning: Columns (85) have mixed types. Specify dtype option on import or set low_memory=False.\n",
      "  for chunk in reader:\n"
     ]
    },
    {
     "name": "stdout",
     "output_type": "stream",
     "text": [
      "RangeIndex(start=1000000, stop=2000000, step=1)\n",
      "Chunk length before drop:  1000000\n",
      "Chunk length after drop:  94\n"
     ]
    },
    {
     "name": "stderr",
     "output_type": "stream",
     "text": [
      "C:\\Users\\MAX\\AppData\\Local\\Temp\\ipykernel_42040\\4216017218.py:15: DtypeWarning: Columns (85) have mixed types. Specify dtype option on import or set low_memory=False.\n",
      "  for chunk in reader:\n"
     ]
    },
    {
     "name": "stdout",
     "output_type": "stream",
     "text": [
      "RangeIndex(start=2000000, stop=3000000, step=1)\n",
      "Chunk length before drop:  1000000\n",
      "Chunk length after drop:  400\n"
     ]
    },
    {
     "name": "stderr",
     "output_type": "stream",
     "text": [
      "C:\\Users\\MAX\\AppData\\Local\\Temp\\ipykernel_42040\\4216017218.py:15: DtypeWarning: Columns (85) have mixed types. Specify dtype option on import or set low_memory=False.\n",
      "  for chunk in reader:\n"
     ]
    },
    {
     "name": "stdout",
     "output_type": "stream",
     "text": [
      "RangeIndex(start=3000000, stop=4000000, step=1)\n",
      "Chunk length before drop:  1000000\n",
      "Chunk length after drop:  414\n"
     ]
    },
    {
     "name": "stderr",
     "output_type": "stream",
     "text": [
      "C:\\Users\\MAX\\AppData\\Local\\Temp\\ipykernel_42040\\4216017218.py:15: DtypeWarning: Columns (85) have mixed types. Specify dtype option on import or set low_memory=False.\n",
      "  for chunk in reader:\n"
     ]
    },
    {
     "name": "stdout",
     "output_type": "stream",
     "text": [
      "RangeIndex(start=4000000, stop=4524498, step=1)\n",
      "Chunk length before drop:  524498\n",
      "Chunk length after drop:  86\n",
      ".\\datasets\\CICDDoS2019\\train\\DrDoS_NetBIOS.csv\n"
     ]
    },
    {
     "name": "stderr",
     "output_type": "stream",
     "text": [
      "C:\\Users\\MAX\\AppData\\Local\\Temp\\ipykernel_42040\\4216017218.py:15: DtypeWarning: Columns (85) have mixed types. Specify dtype option on import or set low_memory=False.\n",
      "  for chunk in reader:\n"
     ]
    },
    {
     "name": "stdout",
     "output_type": "stream",
     "text": [
      "RangeIndex(start=0, stop=1000000, step=1)\n",
      "Chunk length before drop:  1000000\n",
      "Chunk length after drop:  57717\n"
     ]
    },
    {
     "name": "stderr",
     "output_type": "stream",
     "text": [
      "C:\\Users\\MAX\\AppData\\Local\\Temp\\ipykernel_42040\\4216017218.py:15: DtypeWarning: Columns (85) have mixed types. Specify dtype option on import or set low_memory=False.\n",
      "  for chunk in reader:\n"
     ]
    },
    {
     "name": "stdout",
     "output_type": "stream",
     "text": [
      "RangeIndex(start=1000000, stop=2000000, step=1)\n",
      "Chunk length before drop:  1000000\n",
      "Chunk length after drop:  370\n"
     ]
    },
    {
     "name": "stderr",
     "output_type": "stream",
     "text": [
      "C:\\Users\\MAX\\AppData\\Local\\Temp\\ipykernel_42040\\4216017218.py:15: DtypeWarning: Columns (85) have mixed types. Specify dtype option on import or set low_memory=False.\n",
      "  for chunk in reader:\n"
     ]
    },
    {
     "name": "stdout",
     "output_type": "stream",
     "text": [
      "RangeIndex(start=2000000, stop=3000000, step=1)\n",
      "Chunk length before drop:  1000000\n",
      "Chunk length after drop:  298\n"
     ]
    },
    {
     "name": "stderr",
     "output_type": "stream",
     "text": [
      "C:\\Users\\MAX\\AppData\\Local\\Temp\\ipykernel_42040\\4216017218.py:15: DtypeWarning: Columns (85) have mixed types. Specify dtype option on import or set low_memory=False.\n",
      "  for chunk in reader:\n"
     ]
    },
    {
     "name": "stdout",
     "output_type": "stream",
     "text": [
      "RangeIndex(start=3000000, stop=4000000, step=1)\n",
      "Chunk length before drop:  1000000\n",
      "Chunk length after drop:  184\n",
      "RangeIndex(start=4000000, stop=4094986, step=1)\n",
      "Chunk length before drop:  94986\n",
      "Chunk length after drop:  1\n",
      ".\\datasets\\CICDDoS2019\\train\\DrDoS_NTP.csv\n"
     ]
    },
    {
     "name": "stderr",
     "output_type": "stream",
     "text": [
      "C:\\Users\\MAX\\AppData\\Local\\Temp\\ipykernel_42040\\4216017218.py:15: DtypeWarning: Columns (85) have mixed types. Specify dtype option on import or set low_memory=False.\n",
      "  for chunk in reader:\n"
     ]
    },
    {
     "name": "stdout",
     "output_type": "stream",
     "text": [
      "RangeIndex(start=0, stop=1000000, step=1)\n",
      "Chunk length before drop:  1000000\n",
      "Chunk length after drop:  70414\n"
     ]
    },
    {
     "name": "stderr",
     "output_type": "stream",
     "text": [
      "C:\\Users\\MAX\\AppData\\Local\\Temp\\ipykernel_42040\\4216017218.py:15: DtypeWarning: Columns (85) have mixed types. Specify dtype option on import or set low_memory=False.\n",
      "  for chunk in reader:\n"
     ]
    },
    {
     "name": "stdout",
     "output_type": "stream",
     "text": [
      "RangeIndex(start=1000000, stop=1217007, step=1)\n",
      "Chunk length before drop:  217007\n",
      "Chunk length after drop:  814\n",
      ".\\datasets\\CICDDoS2019\\train\\DrDoS_SNMP.csv\n"
     ]
    },
    {
     "name": "stderr",
     "output_type": "stream",
     "text": [
      "C:\\Users\\MAX\\AppData\\Local\\Temp\\ipykernel_42040\\4216017218.py:15: DtypeWarning: Columns (85) have mixed types. Specify dtype option on import or set low_memory=False.\n",
      "  for chunk in reader:\n"
     ]
    },
    {
     "name": "stdout",
     "output_type": "stream",
     "text": [
      "RangeIndex(start=0, stop=1000000, step=1)\n",
      "Chunk length before drop:  1000000\n",
      "Chunk length after drop:  57567\n"
     ]
    },
    {
     "name": "stderr",
     "output_type": "stream",
     "text": [
      "C:\\Users\\MAX\\AppData\\Local\\Temp\\ipykernel_42040\\4216017218.py:15: DtypeWarning: Columns (85) have mixed types. Specify dtype option on import or set low_memory=False.\n",
      "  for chunk in reader:\n"
     ]
    },
    {
     "name": "stdout",
     "output_type": "stream",
     "text": [
      "RangeIndex(start=1000000, stop=2000000, step=1)\n",
      "Chunk length before drop:  1000000\n",
      "Chunk length after drop:  465\n"
     ]
    },
    {
     "name": "stderr",
     "output_type": "stream",
     "text": [
      "C:\\Users\\MAX\\AppData\\Local\\Temp\\ipykernel_42040\\4216017218.py:15: DtypeWarning: Columns (85) have mixed types. Specify dtype option on import or set low_memory=False.\n",
      "  for chunk in reader:\n"
     ]
    },
    {
     "name": "stdout",
     "output_type": "stream",
     "text": [
      "RangeIndex(start=2000000, stop=3000000, step=1)\n",
      "Chunk length before drop:  1000000\n",
      "Chunk length after drop:  122\n"
     ]
    },
    {
     "name": "stderr",
     "output_type": "stream",
     "text": [
      "C:\\Users\\MAX\\AppData\\Local\\Temp\\ipykernel_42040\\4216017218.py:15: DtypeWarning: Columns (85) have mixed types. Specify dtype option on import or set low_memory=False.\n",
      "  for chunk in reader:\n"
     ]
    },
    {
     "name": "stdout",
     "output_type": "stream",
     "text": [
      "RangeIndex(start=3000000, stop=4000000, step=1)\n",
      "Chunk length before drop:  1000000\n",
      "Chunk length after drop:  82\n"
     ]
    },
    {
     "name": "stderr",
     "output_type": "stream",
     "text": [
      "C:\\Users\\MAX\\AppData\\Local\\Temp\\ipykernel_42040\\4216017218.py:15: DtypeWarning: Columns (85) have mixed types. Specify dtype option on import or set low_memory=False.\n",
      "  for chunk in reader:\n"
     ]
    },
    {
     "name": "stdout",
     "output_type": "stream",
     "text": [
      "RangeIndex(start=4000000, stop=5000000, step=1)\n",
      "Chunk length before drop:  1000000\n",
      "Chunk length after drop:  52\n"
     ]
    },
    {
     "name": "stderr",
     "output_type": "stream",
     "text": [
      "C:\\Users\\MAX\\AppData\\Local\\Temp\\ipykernel_42040\\4216017218.py:15: DtypeWarning: Columns (85) have mixed types. Specify dtype option on import or set low_memory=False.\n",
      "  for chunk in reader:\n"
     ]
    },
    {
     "name": "stdout",
     "output_type": "stream",
     "text": [
      "RangeIndex(start=5000000, stop=5161377, step=1)\n",
      "Chunk length before drop:  161377\n",
      "Chunk length after drop:  82\n",
      ".\\datasets\\CICDDoS2019\\train\\DrDoS_SSDP.csv\n"
     ]
    },
    {
     "name": "stderr",
     "output_type": "stream",
     "text": [
      "C:\\Users\\MAX\\AppData\\Local\\Temp\\ipykernel_42040\\4216017218.py:15: DtypeWarning: Columns (85) have mixed types. Specify dtype option on import or set low_memory=False.\n",
      "  for chunk in reader:\n"
     ]
    },
    {
     "name": "stdout",
     "output_type": "stream",
     "text": [
      "RangeIndex(start=0, stop=1000000, step=1)\n",
      "Chunk length before drop:  1000000\n",
      "Chunk length after drop:  57163\n"
     ]
    },
    {
     "name": "stderr",
     "output_type": "stream",
     "text": [
      "C:\\Users\\MAX\\AppData\\Local\\Temp\\ipykernel_42040\\4216017218.py:15: DtypeWarning: Columns (85) have mixed types. Specify dtype option on import or set low_memory=False.\n",
      "  for chunk in reader:\n"
     ]
    },
    {
     "name": "stdout",
     "output_type": "stream",
     "text": [
      "RangeIndex(start=1000000, stop=2000000, step=1)\n",
      "Chunk length before drop:  1000000\n",
      "Chunk length after drop:  431\n"
     ]
    },
    {
     "name": "stderr",
     "output_type": "stream",
     "text": [
      "C:\\Users\\MAX\\AppData\\Local\\Temp\\ipykernel_42040\\4216017218.py:15: DtypeWarning: Columns (85) have mixed types. Specify dtype option on import or set low_memory=False.\n",
      "  for chunk in reader:\n"
     ]
    },
    {
     "name": "stdout",
     "output_type": "stream",
     "text": [
      "RangeIndex(start=2000000, stop=2611374, step=1)\n",
      "Chunk length before drop:  611374\n",
      "Chunk length after drop:  32\n",
      ".\\datasets\\CICDDoS2019\\train\\DrDoS_UDP.csv\n"
     ]
    },
    {
     "name": "stderr",
     "output_type": "stream",
     "text": [
      "C:\\Users\\MAX\\AppData\\Local\\Temp\\ipykernel_42040\\4216017218.py:15: DtypeWarning: Columns (85) have mixed types. Specify dtype option on import or set low_memory=False.\n",
      "  for chunk in reader:\n"
     ]
    },
    {
     "name": "stdout",
     "output_type": "stream",
     "text": [
      "RangeIndex(start=0, stop=1000000, step=1)\n",
      "Chunk length before drop:  1000000\n",
      "Chunk length after drop:  57995\n"
     ]
    },
    {
     "name": "stderr",
     "output_type": "stream",
     "text": [
      "C:\\Users\\MAX\\AppData\\Local\\Temp\\ipykernel_42040\\4216017218.py:15: DtypeWarning: Columns (85) have mixed types. Specify dtype option on import or set low_memory=False.\n",
      "  for chunk in reader:\n"
     ]
    },
    {
     "name": "stdout",
     "output_type": "stream",
     "text": [
      "RangeIndex(start=1000000, stop=2000000, step=1)\n",
      "Chunk length before drop:  1000000\n",
      "Chunk length after drop:  711\n"
     ]
    },
    {
     "name": "stderr",
     "output_type": "stream",
     "text": [
      "C:\\Users\\MAX\\AppData\\Local\\Temp\\ipykernel_42040\\4216017218.py:15: DtypeWarning: Columns (85) have mixed types. Specify dtype option on import or set low_memory=False.\n",
      "  for chunk in reader:\n"
     ]
    },
    {
     "name": "stdout",
     "output_type": "stream",
     "text": [
      "RangeIndex(start=2000000, stop=3000000, step=1)\n",
      "Chunk length before drop:  1000000\n",
      "Chunk length after drop:  301\n",
      "RangeIndex(start=3000000, stop=3136802, step=1)\n",
      "Chunk length before drop:  136802\n",
      "Chunk length after drop:  13\n",
      ".\\datasets\\CICDDoS2019\\train\\Syn.csv\n"
     ]
    },
    {
     "name": "stderr",
     "output_type": "stream",
     "text": [
      "C:\\Users\\MAX\\AppData\\Local\\Temp\\ipykernel_42040\\4216017218.py:15: DtypeWarning: Columns (85) have mixed types. Specify dtype option on import or set low_memory=False.\n",
      "  for chunk in reader:\n"
     ]
    },
    {
     "name": "stdout",
     "output_type": "stream",
     "text": [
      "RangeIndex(start=0, stop=1000000, step=1)\n",
      "Chunk length before drop:  1000000\n",
      "Chunk length after drop:  57208\n"
     ]
    },
    {
     "name": "stderr",
     "output_type": "stream",
     "text": [
      "C:\\Users\\MAX\\AppData\\Local\\Temp\\ipykernel_42040\\4216017218.py:15: DtypeWarning: Columns (85) have mixed types. Specify dtype option on import or set low_memory=False.\n",
      "  for chunk in reader:\n"
     ]
    },
    {
     "name": "stdout",
     "output_type": "stream",
     "text": [
      "RangeIndex(start=1000000, stop=1582681, step=1)\n",
      "Chunk length before drop:  582681\n",
      "Chunk length after drop:  47\n",
      ".\\datasets\\CICDDoS2019\\train\\TFTP.csv\n"
     ]
    },
    {
     "name": "stderr",
     "output_type": "stream",
     "text": [
      "C:\\Users\\MAX\\AppData\\Local\\Temp\\ipykernel_42040\\4216017218.py:15: DtypeWarning: Columns (85) have mixed types. Specify dtype option on import or set low_memory=False.\n",
      "  for chunk in reader:\n"
     ]
    },
    {
     "name": "stdout",
     "output_type": "stream",
     "text": [
      "RangeIndex(start=0, stop=1000000, step=1)\n",
      "Chunk length before drop:  1000000\n",
      "Chunk length after drop:  58029\n"
     ]
    },
    {
     "name": "stderr",
     "output_type": "stream",
     "text": [
      "C:\\Users\\MAX\\AppData\\Local\\Temp\\ipykernel_42040\\4216017218.py:15: DtypeWarning: Columns (85) have mixed types. Specify dtype option on import or set low_memory=False.\n",
      "  for chunk in reader:\n"
     ]
    },
    {
     "name": "stdout",
     "output_type": "stream",
     "text": [
      "RangeIndex(start=1000000, stop=2000000, step=1)\n",
      "Chunk length before drop:  1000000\n",
      "Chunk length after drop:  497\n"
     ]
    },
    {
     "name": "stderr",
     "output_type": "stream",
     "text": [
      "C:\\Users\\MAX\\AppData\\Local\\Temp\\ipykernel_42040\\4216017218.py:15: DtypeWarning: Columns (85) have mixed types. Specify dtype option on import or set low_memory=False.\n",
      "  for chunk in reader:\n"
     ]
    },
    {
     "name": "stdout",
     "output_type": "stream",
     "text": [
      "RangeIndex(start=2000000, stop=3000000, step=1)\n",
      "Chunk length before drop:  1000000\n",
      "Chunk length after drop:  183\n"
     ]
    },
    {
     "name": "stderr",
     "output_type": "stream",
     "text": [
      "C:\\Users\\MAX\\AppData\\Local\\Temp\\ipykernel_42040\\4216017218.py:15: DtypeWarning: Columns (85) have mixed types. Specify dtype option on import or set low_memory=False.\n",
      "  for chunk in reader:\n"
     ]
    },
    {
     "name": "stdout",
     "output_type": "stream",
     "text": [
      "RangeIndex(start=3000000, stop=4000000, step=1)\n",
      "Chunk length before drop:  1000000\n",
      "Chunk length after drop:  249\n"
     ]
    },
    {
     "name": "stderr",
     "output_type": "stream",
     "text": [
      "C:\\Users\\MAX\\AppData\\Local\\Temp\\ipykernel_42040\\4216017218.py:15: DtypeWarning: Columns (85) have mixed types. Specify dtype option on import or set low_memory=False.\n",
      "  for chunk in reader:\n"
     ]
    },
    {
     "name": "stdout",
     "output_type": "stream",
     "text": [
      "RangeIndex(start=4000000, stop=5000000, step=1)\n",
      "Chunk length before drop:  1000000\n",
      "Chunk length after drop:  191\n"
     ]
    },
    {
     "name": "stderr",
     "output_type": "stream",
     "text": [
      "C:\\Users\\MAX\\AppData\\Local\\Temp\\ipykernel_42040\\4216017218.py:15: DtypeWarning: Columns (85) have mixed types. Specify dtype option on import or set low_memory=False.\n",
      "  for chunk in reader:\n"
     ]
    },
    {
     "name": "stdout",
     "output_type": "stream",
     "text": [
      "RangeIndex(start=5000000, stop=6000000, step=1)\n",
      "Chunk length before drop:  1000000\n",
      "Chunk length after drop:  276\n"
     ]
    },
    {
     "name": "stderr",
     "output_type": "stream",
     "text": [
      "C:\\Users\\MAX\\AppData\\Local\\Temp\\ipykernel_42040\\4216017218.py:15: DtypeWarning: Columns (85) have mixed types. Specify dtype option on import or set low_memory=False.\n",
      "  for chunk in reader:\n"
     ]
    },
    {
     "name": "stdout",
     "output_type": "stream",
     "text": [
      "RangeIndex(start=6000000, stop=7000000, step=1)\n",
      "Chunk length before drop:  1000000\n",
      "Chunk length after drop:  87\n"
     ]
    },
    {
     "name": "stderr",
     "output_type": "stream",
     "text": [
      "C:\\Users\\MAX\\AppData\\Local\\Temp\\ipykernel_42040\\4216017218.py:15: DtypeWarning: Columns (85) have mixed types. Specify dtype option on import or set low_memory=False.\n",
      "  for chunk in reader:\n"
     ]
    },
    {
     "name": "stdout",
     "output_type": "stream",
     "text": [
      "RangeIndex(start=7000000, stop=8000000, step=1)\n",
      "Chunk length before drop:  1000000\n",
      "Chunk length after drop:  80\n"
     ]
    },
    {
     "name": "stderr",
     "output_type": "stream",
     "text": [
      "C:\\Users\\MAX\\AppData\\Local\\Temp\\ipykernel_42040\\4216017218.py:15: DtypeWarning: Columns (85) have mixed types. Specify dtype option on import or set low_memory=False.\n",
      "  for chunk in reader:\n"
     ]
    },
    {
     "name": "stdout",
     "output_type": "stream",
     "text": [
      "RangeIndex(start=8000000, stop=9000000, step=1)\n",
      "Chunk length before drop:  1000000\n",
      "Chunk length after drop:  134\n"
     ]
    },
    {
     "name": "stderr",
     "output_type": "stream",
     "text": [
      "C:\\Users\\MAX\\AppData\\Local\\Temp\\ipykernel_42040\\4216017218.py:15: DtypeWarning: Columns (85) have mixed types. Specify dtype option on import or set low_memory=False.\n",
      "  for chunk in reader:\n"
     ]
    },
    {
     "name": "stdout",
     "output_type": "stream",
     "text": [
      "RangeIndex(start=9000000, stop=10000000, step=1)\n",
      "Chunk length before drop:  1000000\n",
      "Chunk length after drop:  182\n"
     ]
    },
    {
     "name": "stderr",
     "output_type": "stream",
     "text": [
      "C:\\Users\\MAX\\AppData\\Local\\Temp\\ipykernel_42040\\4216017218.py:15: DtypeWarning: Columns (85) have mixed types. Specify dtype option on import or set low_memory=False.\n",
      "  for chunk in reader:\n"
     ]
    },
    {
     "name": "stdout",
     "output_type": "stream",
     "text": [
      "RangeIndex(start=10000000, stop=11000000, step=1)\n",
      "Chunk length before drop:  1000000\n",
      "Chunk length after drop:  326\n"
     ]
    },
    {
     "name": "stderr",
     "output_type": "stream",
     "text": [
      "C:\\Users\\MAX\\AppData\\Local\\Temp\\ipykernel_42040\\4216017218.py:15: DtypeWarning: Columns (85) have mixed types. Specify dtype option on import or set low_memory=False.\n",
      "  for chunk in reader:\n"
     ]
    },
    {
     "name": "stdout",
     "output_type": "stream",
     "text": [
      "RangeIndex(start=11000000, stop=12000000, step=1)\n",
      "Chunk length before drop:  1000000\n",
      "Chunk length after drop:  86\n",
      "RangeIndex(start=12000000, stop=13000000, step=1)\n",
      "Chunk length before drop:  1000000\n",
      "Chunk length after drop:  73\n"
     ]
    },
    {
     "name": "stderr",
     "output_type": "stream",
     "text": [
      "C:\\Users\\MAX\\AppData\\Local\\Temp\\ipykernel_42040\\4216017218.py:15: DtypeWarning: Columns (85) have mixed types. Specify dtype option on import or set low_memory=False.\n",
      "  for chunk in reader:\n"
     ]
    },
    {
     "name": "stdout",
     "output_type": "stream",
     "text": [
      "RangeIndex(start=13000000, stop=14000000, step=1)\n",
      "Chunk length before drop:  1000000\n",
      "Chunk length after drop:  85\n"
     ]
    },
    {
     "name": "stderr",
     "output_type": "stream",
     "text": [
      "C:\\Users\\MAX\\AppData\\Local\\Temp\\ipykernel_42040\\4216017218.py:15: DtypeWarning: Columns (85) have mixed types. Specify dtype option on import or set low_memory=False.\n",
      "  for chunk in reader:\n"
     ]
    },
    {
     "name": "stdout",
     "output_type": "stream",
     "text": [
      "RangeIndex(start=14000000, stop=15000000, step=1)\n",
      "Chunk length before drop:  1000000\n",
      "Chunk length after drop:  140\n"
     ]
    },
    {
     "name": "stderr",
     "output_type": "stream",
     "text": [
      "C:\\Users\\MAX\\AppData\\Local\\Temp\\ipykernel_42040\\4216017218.py:15: DtypeWarning: Columns (85) have mixed types. Specify dtype option on import or set low_memory=False.\n",
      "  for chunk in reader:\n"
     ]
    },
    {
     "name": "stdout",
     "output_type": "stream",
     "text": [
      "RangeIndex(start=15000000, stop=16000000, step=1)\n",
      "Chunk length before drop:  1000000\n",
      "Chunk length after drop:  407\n"
     ]
    },
    {
     "name": "stderr",
     "output_type": "stream",
     "text": [
      "C:\\Users\\MAX\\AppData\\Local\\Temp\\ipykernel_42040\\4216017218.py:15: DtypeWarning: Columns (85) have mixed types. Specify dtype option on import or set low_memory=False.\n",
      "  for chunk in reader:\n"
     ]
    },
    {
     "name": "stdout",
     "output_type": "stream",
     "text": [
      "RangeIndex(start=16000000, stop=17000000, step=1)\n",
      "Chunk length before drop:  1000000\n",
      "Chunk length after drop:  167\n"
     ]
    },
    {
     "name": "stderr",
     "output_type": "stream",
     "text": [
      "C:\\Users\\MAX\\AppData\\Local\\Temp\\ipykernel_42040\\4216017218.py:15: DtypeWarning: Columns (85) have mixed types. Specify dtype option on import or set low_memory=False.\n",
      "  for chunk in reader:\n"
     ]
    },
    {
     "name": "stdout",
     "output_type": "stream",
     "text": [
      "RangeIndex(start=17000000, stop=18000000, step=1)\n",
      "Chunk length before drop:  1000000\n",
      "Chunk length after drop:  247\n"
     ]
    },
    {
     "name": "stderr",
     "output_type": "stream",
     "text": [
      "C:\\Users\\MAX\\AppData\\Local\\Temp\\ipykernel_42040\\4216017218.py:15: DtypeWarning: Columns (85) have mixed types. Specify dtype option on import or set low_memory=False.\n",
      "  for chunk in reader:\n"
     ]
    },
    {
     "name": "stdout",
     "output_type": "stream",
     "text": [
      "RangeIndex(start=18000000, stop=19000000, step=1)\n",
      "Chunk length before drop:  1000000\n",
      "Chunk length after drop:  473\n"
     ]
    },
    {
     "name": "stderr",
     "output_type": "stream",
     "text": [
      "C:\\Users\\MAX\\AppData\\Local\\Temp\\ipykernel_42040\\4216017218.py:15: DtypeWarning: Columns (85) have mixed types. Specify dtype option on import or set low_memory=False.\n",
      "  for chunk in reader:\n"
     ]
    },
    {
     "name": "stdout",
     "output_type": "stream",
     "text": [
      "RangeIndex(start=19000000, stop=20000000, step=1)\n",
      "Chunk length before drop:  1000000\n",
      "Chunk length after drop:  677\n"
     ]
    },
    {
     "name": "stderr",
     "output_type": "stream",
     "text": [
      "C:\\Users\\MAX\\AppData\\Local\\Temp\\ipykernel_42040\\4216017218.py:15: DtypeWarning: Columns (85) have mixed types. Specify dtype option on import or set low_memory=False.\n",
      "  for chunk in reader:\n"
     ]
    },
    {
     "name": "stdout",
     "output_type": "stream",
     "text": [
      "RangeIndex(start=20000000, stop=20107827, step=1)\n",
      "Chunk length before drop:  107827\n",
      "Chunk length after drop:  19521\n",
      ".\\datasets\\CICDDoS2019\\train\\UDPLag.csv\n"
     ]
    },
    {
     "name": "stderr",
     "output_type": "stream",
     "text": [
      "C:\\Users\\MAX\\AppData\\Local\\Temp\\ipykernel_42040\\4216017218.py:15: DtypeWarning: Columns (85) have mixed types. Specify dtype option on import or set low_memory=False.\n",
      "  for chunk in reader:\n"
     ]
    },
    {
     "name": "stdout",
     "output_type": "stream",
     "text": [
      "RangeIndex(start=0, stop=370605, step=1)\n",
      "Chunk length before drop:  370605\n",
      "Chunk length after drop:  60568\n"
     ]
    }
   ],
   "source": [
    "seen_class_samples = {}\n",
    "rows_to_drop=[]\n",
    "\n",
    "seen_class_samples=seen_class_samples.fromkeys(classes_distribution, 0)\n",
    "seen_class_samples['WebDDoS'] = 0\n",
    "\n",
    "only_header=pd.read_csv(csv_files[0], nrows=0)\n",
    "only_header.columns=only_header.columns.str.strip()\n",
    "only_header.drop(['Unnamed: 0','Timestamp','Source Port','Source IP','SimillarHTTP','Protocol','Flow ID','Destination IP'], axis=1, inplace=True)\n",
    "only_header.to_csv('.\\\\datasets\\\\CICDDoS2019\\\\cut\\\\dataset.csv', mode='w', index=False, header=True) #copy only header to final jumbo csv\n",
    "\n",
    "for ds in csv_files: #for every dataset\n",
    "    print(ds)\n",
    "    with pd.read_csv(ds, chunksize=10**6) as reader: #that has to be processed in chunks\n",
    "        for chunk in reader:\n",
    "            chunk.columns = chunk.columns.str.strip()\n",
    "            rows_to_drop=[]\n",
    "\n",
    "            print(chunk.index)\n",
    "            print('Chunk length before drop: ', len(chunk))\n",
    "            for line_idx in chunk.index:\n",
    "                label = str(chunk.loc[line_idx, 'Label'])\n",
    "                seen_class_samples[label] += 1\n",
    "                if seen_class_samples[label]>min_val:\n",
    "                    rows_to_drop.append(line_idx)\n",
    "\n",
    "            ch_copy=chunk.drop(index=rows_to_drop, inplace=False) #drop if too many\n",
    "            ch_copy=ch_copy[ch_copy['Label'] != 'WebDDoS'] #drop webddos class\n",
    "            #ch_copy.replace({'Label': replacement_dict}, inplace=True)\n",
    "            ch_copy.drop(['Unnamed: 0','Timestamp','Source Port','Source IP','SimillarHTTP','Protocol','Flow ID','Destination IP'], axis=1, inplace=True)\n",
    "\n",
    "            print('Chunk length after drop: ', len(ch_copy))\n",
    "            ch_copy.to_csv('.\\\\datasets\\\\CICDDoS2019\\\\cut\\\\dataset.csv', mode='a', index=False, header=False) #append with no header\n",
    "            "
   ]
  },
  {
   "cell_type": "code",
   "execution_count": 63,
   "metadata": {},
   "outputs": [],
   "source": [
    "final_ds='.\\\\datasets\\\\CICDDoS2019\\\\cut\\\\dataset.csv'"
   ]
  },
  {
   "cell_type": "code",
   "execution_count": 60,
   "metadata": {},
   "outputs": [
    {
     "data": {
      "text/plain": [
       "'0.2216374482959509 GB'"
      ]
     },
     "execution_count": 60,
     "metadata": {},
     "output_type": "execute_result"
    }
   ],
   "source": [
    "sizes = str(os.path.getsize(final_ds)/(2.0**30)) + \" GB\"\n",
    "sizes"
   ]
  },
  {
   "cell_type": "code",
   "execution_count": 82,
   "metadata": {},
   "outputs": [
    {
     "data": {
      "text/plain": [
       "{'DrDoS_DNS': 56863,\n",
       " 'BENIGN': 56863,\n",
       " 'DrDoS_LDAP': 56863,\n",
       " 'DrDoS_MSSQL': 56863,\n",
       " 'DrDoS_NetBIOS': 56863,\n",
       " 'DrDoS_NTP': 56863,\n",
       " 'DrDoS_SNMP': 56863,\n",
       " 'DrDoS_SSDP': 56863,\n",
       " 'DrDoS_UDP': 56863,\n",
       " 'Syn': 56863,\n",
       " 'TFTP': 56863,\n",
       " 'UDP-lag': 56863}"
      ]
     },
     "execution_count": 82,
     "metadata": {},
     "output_type": "execute_result"
    }
   ],
   "source": [
    "classes_distribution_cut = {}\n",
    "classes_distribution_cut=classes_distribution_cut.fromkeys(classes_ids, 0)\n",
    "\n",
    "with pd.read_csv(final_ds, chunksize=10**6) as reader:\n",
    "    for chunk in reader:\n",
    "        chunk.columns = chunk.columns.str.strip()\n",
    "        \n",
    "        labels_count = chunk['Label'].value_counts()\n",
    "\n",
    "        for class_,count in labels_count.iteritems():\n",
    "            #print(class_, count)\n",
    "            if class_ in classes_distribution_cut.keys():\n",
    "                classes_distribution_cut[class_] += count\n",
    "            else:\n",
    "                classes_distribution_cut[class_] = count\n",
    "\n",
    "classes_distribution_cut"
   ]
  },
  {
   "cell_type": "code",
   "execution_count": 84,
   "metadata": {},
   "outputs": [
    {
     "name": "stdout",
     "output_type": "stream",
     "text": [
      "Stored 'classes_distribution_cut' (dict)\n"
     ]
    }
   ],
   "source": [
    "%store classes_distribution_cut"
   ]
  },
  {
   "cell_type": "code",
   "execution_count": 85,
   "metadata": {},
   "outputs": [
    {
     "data": {
      "image/png": "[encoded data removed]",
      "text/plain": [
       "<Figure size 640x480 with 1 Axes>"
      ]
     },
     "metadata": {},
     "output_type": "display_data"
    }
   ],
   "source": [
    "%store -r classes_distribution_cut\n",
    "plt.bar(classes_distribution_cut.keys(), classes_distribution_cut.values())\n",
    "plt.show()"
   ]
  }
 ],
 "metadata": {
  "kernelspec": {
   "display_name": "Python 3.9.12 ('dl')",
   "language": "python",
   "name": "python3"
  },
  "language_info": {
   "codemirror_mode": {
    "name": "ipython",
    "version": 3
   },
   "file_extension": ".py",
   "mimetype": "text/x-python",
   "name": "python",
   "nbconvert_exporter": "python",
   "pygments_lexer": "ipython3",
   "version": "3.9.12"
  },
  "vscode": {
   "interpreter": {
    "hash": "a41f043e3f504d40bb31377d42299aba33beec9c14fb34c08aef092f76f6f6b0"
   }
  }
 },
 "nbformat": 4,
 "nbformat_minor": 2
}
