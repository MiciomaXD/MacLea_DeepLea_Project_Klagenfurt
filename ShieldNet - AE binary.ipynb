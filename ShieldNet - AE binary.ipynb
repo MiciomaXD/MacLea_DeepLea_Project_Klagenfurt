{
 "cells": [
  {
   "cell_type": "markdown",
   "id": "e7cbd7dd",
   "metadata": {},
   "source": [
    "# Internet traffic attack recognition (ShieldNet - multiclass)"
   ]
  },
  {
   "cell_type": "code",
   "execution_count": 21,
   "id": "84bdc1ab",
   "metadata": {},
   "outputs": [
    {
     "name": "stdout",
     "output_type": "stream",
     "text": [
      "Cuda capable device found!\n"
     ]
    }
   ],
   "source": [
    "import os\n",
    "os.environ[\"KMP_DUPLICATE_LIB_OK\"]=\"TRUE\"\n",
    "os.environ['CUDA_LAUNCH_BLOCKING'] = '1'\n",
    "import pandas as pd\n",
    "import numpy as np\n",
    "import torch\n",
    "if not torch.cuda.is_available():\n",
    "    quit()\n",
    "else:\n",
    "    print(\"Cuda capable device found!\")\n",
    "import matplotlib.pyplot as plt"
   ]
  },
  {
   "cell_type": "markdown",
   "id": "643da8c1",
   "metadata": {},
   "source": [
    "# Get the datasets from memory\n",
    "\n",
    "Assumption: dataset has its colums' names stripped from white spaces, no NaNs or +-Inf"
   ]
  },
  {
   "cell_type": "code",
   "execution_count": 22,
   "id": "f8821c86",
   "metadata": {},
   "outputs": [],
   "source": [
    "ds_selector='.\\\\datasets\\\\kaggle DDoS Dataset\\\\small'"
   ]
  },
  {
   "cell_type": "code",
   "execution_count": 23,
   "id": "ef0e7b3b",
   "metadata": {},
   "outputs": [
    {
     "data": {
      "text/plain": [
       "['.\\\\datasets\\\\kaggle DDoS Dataset\\\\small\\\\final.csv']"
      ]
     },
     "execution_count": 23,
     "metadata": {},
     "output_type": "execute_result"
    }
   ],
   "source": [
    "csv_files = []\n",
    "for dirname, _, filenames in os.walk(ds_selector):\n",
    "    for filename in filenames:\n",
    "        csv_file = os.path.join(dirname, filename)\n",
    "        csv_files.append(csv_file)\n",
    "csv_files"
   ]
  },
  {
   "cell_type": "code",
   "execution_count": 24,
   "id": "8dcbd6d7",
   "metadata": {},
   "outputs": [
    {
     "name": "stdout",
     "output_type": "stream",
     "text": [
      "Original length of df: 1000000\n"
     ]
    }
   ],
   "source": [
    "if len(csv_files) > 1:\n",
    "    df = pd.concat([pd.read_csv(file) for file in csv_files], ignore_index=True)\n",
    "else:\n",
    "    df=pd.read_csv(csv_files[0])\n",
    "    \n",
    "df.columns = df.columns.str.strip()\n",
    "print(\"Original length of df:\", len(df))"
   ]
  },
  {
   "cell_type": "markdown",
   "id": "e909ba72",
   "metadata": {},
   "source": [
    "## Tidy up the dataset"
   ]
  },
  {
   "cell_type": "code",
   "execution_count": 25,
   "id": "b0530064",
   "metadata": {},
   "outputs": [
    {
     "name": "stdout",
     "output_type": "stream",
     "text": [
      "<class 'pandas.core.frame.DataFrame'>\n",
      "RangeIndex: 1000000 entries, 0 to 999999\n",
      "Data columns (total 85 columns):\n",
      " #   Column             Non-Null Count    Dtype  \n",
      "---  ------             --------------    -----  \n",
      " 0   Unnamed: 0         1000000 non-null  int64  \n",
      " 1   Flow ID            1000000 non-null  object \n",
      " 2   Src IP             1000000 non-null  object \n",
      " 3   Src Port           1000000 non-null  int64  \n",
      " 4   Dst IP             1000000 non-null  object \n",
      " 5   Dst Port           1000000 non-null  int64  \n",
      " 6   Protocol           1000000 non-null  int64  \n",
      " 7   Timestamp          1000000 non-null  object \n",
      " 8   Flow Duration      1000000 non-null  int64  \n",
      " 9   Tot Fwd Pkts       1000000 non-null  int64  \n",
      " 10  Tot Bwd Pkts       1000000 non-null  int64  \n",
      " 11  TotLen Fwd Pkts    1000000 non-null  float64\n",
      " 12  TotLen Bwd Pkts    1000000 non-null  float64\n",
      " 13  Fwd Pkt Len Max    1000000 non-null  float64\n",
      " 14  Fwd Pkt Len Min    1000000 non-null  float64\n",
      " 15  Fwd Pkt Len Mean   1000000 non-null  float64\n",
      " 16  Fwd Pkt Len Std    1000000 non-null  float64\n",
      " 17  Bwd Pkt Len Max    1000000 non-null  float64\n",
      " 18  Bwd Pkt Len Min    1000000 non-null  float64\n",
      " 19  Bwd Pkt Len Mean   1000000 non-null  float64\n",
      " 20  Bwd Pkt Len Std    1000000 non-null  float64\n",
      " 21  Flow Byts/s        1000000 non-null  float64\n",
      " 22  Flow Pkts/s        1000000 non-null  float64\n",
      " 23  Flow IAT Mean      1000000 non-null  float64\n",
      " 24  Flow IAT Std       1000000 non-null  float64\n",
      " 25  Flow IAT Max       1000000 non-null  float64\n",
      " 26  Flow IAT Min       1000000 non-null  float64\n",
      " 27  Fwd IAT Tot        1000000 non-null  float64\n",
      " 28  Fwd IAT Mean       1000000 non-null  float64\n",
      " 29  Fwd IAT Std        1000000 non-null  float64\n",
      " 30  Fwd IAT Max        1000000 non-null  float64\n",
      " 31  Fwd IAT Min        1000000 non-null  float64\n",
      " 32  Bwd IAT Tot        1000000 non-null  float64\n",
      " 33  Bwd IAT Mean       1000000 non-null  float64\n",
      " 34  Bwd IAT Std        1000000 non-null  float64\n",
      " 35  Bwd IAT Max        1000000 non-null  float64\n",
      " 36  Bwd IAT Min        1000000 non-null  float64\n",
      " 37  Fwd PSH Flags      1000000 non-null  int64  \n",
      " 38  Bwd PSH Flags      1000000 non-null  int64  \n",
      " 39  Fwd URG Flags      1000000 non-null  int64  \n",
      " 40  Bwd URG Flags      1000000 non-null  int64  \n",
      " 41  Fwd Header Len     1000000 non-null  int64  \n",
      " 42  Bwd Header Len     1000000 non-null  int64  \n",
      " 43  Fwd Pkts/s         1000000 non-null  float64\n",
      " 44  Bwd Pkts/s         1000000 non-null  float64\n",
      " 45  Pkt Len Min        1000000 non-null  float64\n",
      " 46  Pkt Len Max        1000000 non-null  float64\n",
      " 47  Pkt Len Mean       1000000 non-null  float64\n",
      " 48  Pkt Len Std        1000000 non-null  float64\n",
      " 49  Pkt Len Var        1000000 non-null  float64\n",
      " 50  FIN Flag Cnt       1000000 non-null  int64  \n",
      " 51  SYN Flag Cnt       1000000 non-null  int64  \n",
      " 52  RST Flag Cnt       1000000 non-null  int64  \n",
      " 53  PSH Flag Cnt       1000000 non-null  int64  \n",
      " 54  ACK Flag Cnt       1000000 non-null  int64  \n",
      " 55  URG Flag Cnt       1000000 non-null  int64  \n",
      " 56  CWE Flag Count     1000000 non-null  int64  \n",
      " 57  ECE Flag Cnt       1000000 non-null  int64  \n",
      " 58  Down/Up Ratio      1000000 non-null  float64\n",
      " 59  Pkt Size Avg       1000000 non-null  float64\n",
      " 60  Fwd Seg Size Avg   1000000 non-null  float64\n",
      " 61  Bwd Seg Size Avg   1000000 non-null  float64\n",
      " 62  Fwd Byts/b Avg     1000000 non-null  int64  \n",
      " 63  Fwd Pkts/b Avg     1000000 non-null  int64  \n",
      " 64  Fwd Blk Rate Avg   1000000 non-null  int64  \n",
      " 65  Bwd Byts/b Avg     1000000 non-null  int64  \n",
      " 66  Bwd Pkts/b Avg     1000000 non-null  int64  \n",
      " 67  Bwd Blk Rate Avg   1000000 non-null  int64  \n",
      " 68  Subflow Fwd Pkts   1000000 non-null  int64  \n",
      " 69  Subflow Fwd Byts   1000000 non-null  int64  \n",
      " 70  Subflow Bwd Pkts   1000000 non-null  int64  \n",
      " 71  Subflow Bwd Byts   1000000 non-null  int64  \n",
      " 72  Init Fwd Win Byts  1000000 non-null  int64  \n",
      " 73  Init Bwd Win Byts  1000000 non-null  int64  \n",
      " 74  Fwd Act Data Pkts  1000000 non-null  int64  \n",
      " 75  Fwd Seg Size Min   1000000 non-null  int64  \n",
      " 76  Active Mean        1000000 non-null  float64\n",
      " 77  Active Std         1000000 non-null  float64\n",
      " 78  Active Max         1000000 non-null  float64\n",
      " 79  Active Min         1000000 non-null  float64\n",
      " 80  Idle Mean          1000000 non-null  float64\n",
      " 81  Idle Std           1000000 non-null  float64\n",
      " 82  Idle Max           1000000 non-null  float64\n",
      " 83  Idle Min           1000000 non-null  float64\n",
      " 84  Label              1000000 non-null  object \n",
      "dtypes: float64(45), int64(35), object(5)\n",
      "memory usage: 648.5+ MB\n"
     ]
    }
   ],
   "source": [
    "#df.describe()\n",
    "df.info()"
   ]
  },
  {
   "cell_type": "code",
   "execution_count": 26,
   "id": "11f50ed1",
   "metadata": {},
   "outputs": [
    {
     "name": "stdout",
     "output_type": "stream",
     "text": [
      "After dropping NaNs, the length of df: 1000000\n"
     ]
    }
   ],
   "source": [
    "df.replace([np.inf, -np.inf], np.nan, inplace=True)\n",
    "df.dropna(inplace=True)\n",
    "print(\"After dropping NaNs, the length of df:\", len(df))"
   ]
  },
  {
   "cell_type": "code",
   "execution_count": 27,
   "id": "b50753f6",
   "metadata": {},
   "outputs": [
    {
     "data": {
      "text/plain": [
       "ddos      500000\n",
       "Benign    500000\n",
       "Name: Label, dtype: int64"
      ]
     },
     "execution_count": 27,
     "metadata": {},
     "output_type": "execute_result"
    }
   ],
   "source": [
    "df_copy=df.copy()\n",
    "df_copy.Label.value_counts()"
   ]
  },
  {
   "cell_type": "code",
   "execution_count": 28,
   "id": "22f381d2",
   "metadata": {},
   "outputs": [
    {
     "data": {
      "image/png": "[encoded data removed]",
      "text/plain": [
       "<Figure size 480x480 with 1 Axes>"
      ]
     },
     "metadata": {},
     "output_type": "display_data"
    }
   ],
   "source": [
    "corr_mat=df_copy.corr()\n",
    "plt.matshow(corr_mat)\n",
    "plt.show()"
   ]
  },
  {
   "cell_type": "markdown",
   "id": "f90ea19d",
   "metadata": {},
   "source": [
    "## Getting ready for learning"
   ]
  },
  {
   "cell_type": "code",
   "execution_count": 29,
   "id": "b7d12144",
   "metadata": {},
   "outputs": [
    {
     "data": {
      "text/plain": [
       "['Unnamed: 0',\n",
       " 'Flow ID',\n",
       " 'Src IP',\n",
       " 'Src Port',\n",
       " 'Dst IP',\n",
       " 'Dst Port',\n",
       " 'Protocol',\n",
       " 'Timestamp',\n",
       " 'Flow Duration',\n",
       " 'Tot Fwd Pkts',\n",
       " 'Tot Bwd Pkts',\n",
       " 'TotLen Fwd Pkts',\n",
       " 'TotLen Bwd Pkts',\n",
       " 'Fwd Pkt Len Max',\n",
       " 'Fwd Pkt Len Min',\n",
       " 'Fwd Pkt Len Mean',\n",
       " 'Fwd Pkt Len Std',\n",
       " 'Bwd Pkt Len Max',\n",
       " 'Bwd Pkt Len Min',\n",
       " 'Bwd Pkt Len Mean',\n",
       " 'Bwd Pkt Len Std',\n",
       " 'Flow Byts/s',\n",
       " 'Flow Pkts/s',\n",
       " 'Flow IAT Mean',\n",
       " 'Flow IAT Std',\n",
       " 'Flow IAT Max',\n",
       " 'Flow IAT Min',\n",
       " 'Fwd IAT Tot',\n",
       " 'Fwd IAT Mean',\n",
       " 'Fwd IAT Std',\n",
       " 'Fwd IAT Max',\n",
       " 'Fwd IAT Min',\n",
       " 'Bwd IAT Tot',\n",
       " 'Bwd IAT Mean',\n",
       " 'Bwd IAT Std',\n",
       " 'Bwd IAT Max',\n",
       " 'Bwd IAT Min',\n",
       " 'Fwd PSH Flags',\n",
       " 'Bwd PSH Flags',\n",
       " 'Fwd URG Flags',\n",
       " 'Bwd URG Flags',\n",
       " 'Fwd Header Len',\n",
       " 'Bwd Header Len',\n",
       " 'Fwd Pkts/s',\n",
       " 'Bwd Pkts/s',\n",
       " 'Pkt Len Min',\n",
       " 'Pkt Len Max',\n",
       " 'Pkt Len Mean',\n",
       " 'Pkt Len Std',\n",
       " 'Pkt Len Var',\n",
       " 'FIN Flag Cnt',\n",
       " 'SYN Flag Cnt',\n",
       " 'RST Flag Cnt',\n",
       " 'PSH Flag Cnt',\n",
       " 'ACK Flag Cnt',\n",
       " 'URG Flag Cnt',\n",
       " 'CWE Flag Count',\n",
       " 'ECE Flag Cnt',\n",
       " 'Down/Up Ratio',\n",
       " 'Pkt Size Avg',\n",
       " 'Fwd Seg Size Avg',\n",
       " 'Bwd Seg Size Avg',\n",
       " 'Fwd Byts/b Avg',\n",
       " 'Fwd Pkts/b Avg',\n",
       " 'Fwd Blk Rate Avg',\n",
       " 'Bwd Byts/b Avg',\n",
       " 'Bwd Pkts/b Avg',\n",
       " 'Bwd Blk Rate Avg',\n",
       " 'Subflow Fwd Pkts',\n",
       " 'Subflow Fwd Byts',\n",
       " 'Subflow Bwd Pkts',\n",
       " 'Subflow Bwd Byts',\n",
       " 'Init Fwd Win Byts',\n",
       " 'Init Bwd Win Byts',\n",
       " 'Fwd Act Data Pkts',\n",
       " 'Fwd Seg Size Min',\n",
       " 'Active Mean',\n",
       " 'Active Std',\n",
       " 'Active Max',\n",
       " 'Active Min',\n",
       " 'Idle Mean',\n",
       " 'Idle Std',\n",
       " 'Idle Max',\n",
       " 'Idle Min',\n",
       " 'Label']"
      ]
     },
     "execution_count": 29,
     "metadata": {},
     "output_type": "execute_result"
    }
   ],
   "source": [
    "cols=df_copy.columns.to_list()\n",
    "#cols.sort()\n",
    "cols"
   ]
  },
  {
   "cell_type": "code",
   "execution_count": 30,
   "id": "2390bdd6",
   "metadata": {},
   "outputs": [],
   "source": [
    "from sklearn.preprocessing import StandardScaler\n",
    "\n",
    "scaler = StandardScaler()"
   ]
  },
  {
   "cell_type": "code",
   "execution_count": 31,
   "id": "6b6514ec",
   "metadata": {},
   "outputs": [],
   "source": [
    "df_copy.drop(['Unnamed: 0','Timestamp','Protocol','Flow ID','Src IP','Dst IP'], axis=1, inplace=True)"
   ]
  },
  {
   "cell_type": "code",
   "execution_count": 32,
   "id": "8cb74670",
   "metadata": {},
   "outputs": [
    {
     "data": {
      "text/plain": [
       "79"
      ]
     },
     "execution_count": 32,
     "metadata": {},
     "output_type": "execute_result"
    }
   ],
   "source": [
    "cols=df_copy.columns.to_list()\n",
    "len(cols)"
   ]
  },
  {
   "cell_type": "code",
   "execution_count": 33,
   "id": "b32af689",
   "metadata": {},
   "outputs": [
    {
     "name": "stdout",
     "output_type": "stream",
     "text": [
      "Removing column Fwd URG Flags\n",
      "Removing column Bwd URG Flags\n",
      "Removing column Fwd Byts/b Avg\n",
      "Removing column Fwd Pkts/b Avg\n",
      "Removing column Fwd Blk Rate Avg\n",
      "Removing column Bwd Byts/b Avg\n",
      "Removing column Bwd Pkts/b Avg\n",
      "Removing column Bwd Blk Rate Avg\n"
     ]
    }
   ],
   "source": [
    "for col in df.columns:\n",
    "    if len(df[col].unique()) == 1:\n",
    "        print('Removing column', str(col))\n",
    "        df_copy.drop(col,inplace=True,axis=1)"
   ]
  },
  {
   "cell_type": "code",
   "execution_count": 34,
   "id": "0fb54d12",
   "metadata": {},
   "outputs": [],
   "source": [
    "#from sklearn.feature_selection import SelectKBest, f_classif\n",
    "\n",
    "X=df_copy.drop(['Label'], axis=1)\n",
    "Y=df_copy['Label']\n",
    "\n",
    "#fvalue_Best = SelectKBest(f_classif, k=20)\n",
    "#X_kbest = fvalue_Best.fit_transform(X, Y)\n",
    "\n",
    "#X=X_kbest"
   ]
  },
  {
   "cell_type": "code",
   "execution_count": 35,
   "id": "d6e0b5ca",
   "metadata": {},
   "outputs": [],
   "source": [
    "from sklearn.model_selection import train_test_split\n",
    "trainX, testX, trainY, testY = train_test_split(X, Y, shuffle=True, train_size=0.75)\n",
    "del df_copy,X,Y"
   ]
  },
  {
   "cell_type": "code",
   "execution_count": 36,
   "id": "3f0f2913",
   "metadata": {},
   "outputs": [
    {
     "data": {
      "text/plain": [
       "(750000, 70)"
      ]
     },
     "execution_count": 36,
     "metadata": {},
     "output_type": "execute_result"
    }
   ],
   "source": [
    "trainX.shape"
   ]
  },
  {
   "cell_type": "code",
   "execution_count": 37,
   "id": "4c423603",
   "metadata": {},
   "outputs": [],
   "source": [
    "from torch import tensor\n",
    "from torch.utils.data import Dataset, DataLoader\n",
    "\n",
    "class NetMetrics(Dataset):\n",
    "    def __init__(self, X, y, onehot):\n",
    "        self.x, self.y, self.onehot = X, y, onehot\n",
    "        self.len=self.x.shape[0]\n",
    "\n",
    "    def __getitem__(self,index):\n",
    "        tensor_label=self.onehot[self.y.iloc[index]]\n",
    "        return tensor(self.x[index], dtype=torch.float32), tensor_label\n",
    "        \n",
    "    def __len__(self):\n",
    "        return self.len\n",
    "\n",
    "dict_={'ddos' : torch.tensor([1,0], dtype=torch.float32),'Benign': torch.tensor([0,1],dtype=torch.float32)}\n",
    "ds=NetMetrics(scaler.fit_transform(trainX), trainY, dict_)"
   ]
  },
  {
   "cell_type": "markdown",
   "id": "64da0fee",
   "metadata": {},
   "source": [
    "## The model"
   ]
  },
  {
   "cell_type": "code",
   "execution_count": 38,
   "id": "7a1a9ca2",
   "metadata": {},
   "outputs": [],
   "source": [
    "class AttackNet(torch.nn.Module):\n",
    "    def __init__(self):\n",
    "        super(AttackNet, self).__init__()\n",
    "        self.encoder=torch.nn.Sequential(\n",
    "            torch.nn.Linear(70, 64),\n",
    "            torch.nn.Tanh(),\n",
    "            torch.nn.Linear(64, 32),\n",
    "            torch.nn.Tanh(),\n",
    "            torch.nn.Linear(32, 20)\n",
    "            )\n",
    "        self.decoder=torch.nn.Sequential(\n",
    "            torch.nn.Linear(20, 32),\n",
    "            torch.nn.Tanh(),\n",
    "            torch.nn.Linear(32, 64),\n",
    "            torch.nn.Tanh(),\n",
    "            torch.nn.Linear(64, 70)\n",
    "            )\n",
    "        self.classifier=torch.nn.Sequential(\n",
    "            torch.nn.Linear(20, 512),\n",
    "            torch.nn.ReLU(),\n",
    "            torch.nn.Linear(512, 256),\n",
    "            torch.nn.ReLU(),\n",
    "            torch.nn.Linear(256, 128),\n",
    "            torch.nn.Tanh(),\n",
    "            torch.nn.Linear(128, 64),\n",
    "            torch.nn.Tanh(),\n",
    "            torch.nn.Linear(64, 2),\n",
    "            torch.nn.Sigmoid(),\n",
    "            torch.nn.LogSoftmax(dim=1)\n",
    "            )\n",
    "\n",
    "    def forward(self, x):\n",
    "        encoded=self.encoder(x)\n",
    "        decoded=self.decoder(encoded)\n",
    "        out=self.classifier(encoded)\n",
    "        return decoded, out"
   ]
  },
  {
   "cell_type": "markdown",
   "id": "81d2b3fc",
   "metadata": {},
   "source": [
    "## Training"
   ]
  },
  {
   "cell_type": "code",
   "execution_count": 50,
   "id": "290c2710",
   "metadata": {},
   "outputs": [
    {
     "data": {
      "text/plain": [
       "'cuda:0'"
      ]
     },
     "execution_count": 50,
     "metadata": {},
     "output_type": "execute_result"
    }
   ],
   "source": [
    "device = 'cuda:0' if torch.cuda.is_available() == True else 'cpu'\n",
    "device"
   ]
  },
  {
   "cell_type": "code",
   "execution_count": 53,
   "id": "ec230f23",
   "metadata": {},
   "outputs": [
    {
     "name": "stdout",
     "output_type": "stream",
     "text": [
      "Epoch begin:  0\n",
      "Epoch begin:  1\n",
      "Epoch begin:  2\n",
      "Epoch begin:  3\n",
      "Epoch begin:  4\n",
      "Epoch begin:  5\n",
      "Epoch begin:  6\n"
     ]
    },
    {
     "data": {
      "text/plain": [
       "[<matplotlib.lines.Line2D at 0x241be5b0be0>]"
      ]
     },
     "execution_count": 53,
     "metadata": {},
     "output_type": "execute_result"
    },
    {
     "data": {
      "image/png": "[encoded data removed]",
      "text/plain": [
       "<Figure size 640x480 with 1 Axes>"
      ]
     },
     "metadata": {},
     "output_type": "display_data"
    }
   ],
   "source": [
    "from matplotlib import pyplot as plt\n",
    "\n",
    "epochs=7\n",
    "learning_rate = .001\n",
    "model = AttackNet().to(device)\n",
    "criterion1 = torch.nn.MSELoss().to(device)\n",
    "criterion2 = torch.nn.CrossEntropyLoss().to(device)\n",
    "opt = torch.optim.Adam(model.parameters(), lr=learning_rate)\n",
    "loader = DataLoader(dataset=ds, batch_size=200, shuffle=True)\n",
    "\n",
    "out=[]\n",
    "for epoch in range(epochs):\n",
    "    print(\"Epoch begin: \", epoch)\n",
    "    cumulative_L = 0.\n",
    "    for x,y in loader:\n",
    "\n",
    "        x=x.to(device)\n",
    "        y=y.to(device)\n",
    "        # reset optimizer\n",
    "        opt.zero_grad()\n",
    "\n",
    "        decoded, output = model(x)\n",
    "        loss1 = criterion1(decoded.to(device), x)\n",
    "        loss2 = criterion2(output.to(device), y)\n",
    "        loss = loss1+loss2\n",
    "        \n",
    "        loss.backward()\n",
    "        opt.step()\n",
    "        \n",
    "        cumulative_L+=loss.item()\n",
    "        \n",
    "    out.append(cumulative_L)\n",
    "\n",
    "plt.plot(out)"
   ]
  },
  {
   "cell_type": "markdown",
   "id": "1dc60c67",
   "metadata": {},
   "source": [
    "## Test"
   ]
  },
  {
   "cell_type": "code",
   "execution_count": 54,
   "id": "77b2b1e2",
   "metadata": {},
   "outputs": [
    {
     "name": "stdout",
     "output_type": "stream",
     "text": [
      "250000\n"
     ]
    }
   ],
   "source": [
    "test_ds = NetMetrics(scaler.transform(testX), testY, dict_)\n",
    "print(len(test_ds))\n",
    "test_loader=DataLoader(test_ds, batch_size=1)"
   ]
  },
  {
   "cell_type": "code",
   "execution_count": 55,
   "id": "4308d92e",
   "metadata": {},
   "outputs": [
    {
     "data": {
      "text/plain": [
       "[123092, 121683]"
      ]
     },
     "execution_count": 55,
     "metadata": {},
     "output_type": "execute_result"
    }
   ],
   "source": [
    "model.to('cpu')\n",
    "\n",
    "acc = [0]*2\n",
    "translator={0 : 'ddos', 1 : 'Benign'}\n",
    "model.eval()\n",
    "\n",
    "with torch.no_grad():\n",
    "    for inputs, ground_truth in test_loader:\n",
    "        _,out=model(inputs)\n",
    "        prediction = torch.argmax(out)\n",
    "        if prediction == torch.argmax(ground_truth):\n",
    "            acc[prediction]+=1\n",
    "        #else:\n",
    "            #print(prediction, torch.argmax(ground_truth))\n",
    "\n",
    "acc"
   ]
  },
  {
   "cell_type": "code",
   "execution_count": 56,
   "id": "9f57926b",
   "metadata": {},
   "outputs": [
    {
     "data": {
      "text/plain": [
       "Benign    125053\n",
       "ddos      124947\n",
       "Name: Label, dtype: int64"
      ]
     },
     "execution_count": 56,
     "metadata": {},
     "output_type": "execute_result"
    }
   ],
   "source": [
    "val_count_test=testY.value_counts()\n",
    "val_count_test"
   ]
  },
  {
   "cell_type": "code",
   "execution_count": 57,
   "id": "9d94f44a",
   "metadata": {},
   "outputs": [
    {
     "data": {
      "text/plain": [
       "[0.9851537051709925, 0.9730514261952932]"
      ]
     },
     "execution_count": 57,
     "metadata": {},
     "output_type": "execute_result"
    }
   ],
   "source": [
    "acc_final=[a/val_count_test[translator[idx]] for idx,a in enumerate(acc)]\n",
    "acc_final"
   ]
  },
  {
   "cell_type": "markdown",
   "id": "6d88126a",
   "metadata": {},
   "source": [
    "___"
   ]
  }
 ],
 "metadata": {
  "kernelspec": {
   "display_name": "Python 3.9.12 ('dl')",
   "language": "python",
   "name": "python3"
  },
  "language_info": {
   "codemirror_mode": {
    "name": "ipython",
    "version": 3
   },
   "file_extension": ".py",
   "mimetype": "text/x-python",
   "name": "python",
   "nbconvert_exporter": "python",
   "pygments_lexer": "ipython3",
   "version": "3.9.15"
  },
  "vscode": {
   "interpreter": {
    "hash": "a41f043e3f504d40bb31377d42299aba33beec9c14fb34c08aef092f76f6f6b0"
   }
  }
 },
 "nbformat": 4,
 "nbformat_minor": 5
}
