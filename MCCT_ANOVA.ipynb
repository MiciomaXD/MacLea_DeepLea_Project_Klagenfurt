{
 "cells": [
  {
   "attachments": {},
   "cell_type": "markdown",
   "id": "e7cbd7dd",
   "metadata": {},
   "source": [
    "# MCCT with ANOVA"
   ]
  },
  {
   "cell_type": "code",
   "execution_count": 1,
   "id": "84bdc1ab",
   "metadata": {},
   "outputs": [
    {
     "name": "stdout",
     "output_type": "stream",
     "text": [
      "Cuda capable device found!\n"
     ]
    }
   ],
   "source": [
    "import os\n",
    "import matplotlib.pyplot as plt\n",
    "import pandas as pd\n",
    "import numpy as np\n",
    "os.environ[\"KMP_DUPLICATE_LIB_OK\"]=\"TRUE\"\n",
    "import torch\n",
    "if not torch.cuda.is_available():\n",
    "    quit()\n",
    "else:\n",
    "    print(\"Cuda capable device found!\")"
   ]
  },
  {
   "cell_type": "code",
   "execution_count": 4,
   "id": "f8821c86",
   "metadata": {},
   "outputs": [],
   "source": [
    "ds_selector='.\\\\datasets\\\\CICDDoS2019\\\\CORRECT_CUT'"
   ]
  },
  {
   "cell_type": "code",
   "execution_count": 5,
   "id": "ef0e7b3b",
   "metadata": {},
   "outputs": [
    {
     "data": {
      "text/plain": [
       "['.\\\\datasets\\\\CICDDoS2019\\\\CORRECT_CUT\\\\fair_cut.csv',\n",
       " '.\\\\datasets\\\\CICDDoS2019\\\\CORRECT_CUT\\\\unified_jumbo.csv',\n",
       " '.\\\\datasets\\\\CICDDoS2019\\\\CORRECT_CUT\\\\classes\\\\BENIGN\\\\BENIGN.csv',\n",
       " '.\\\\datasets\\\\CICDDoS2019\\\\CORRECT_CUT\\\\classes\\\\DNS\\\\DNS.csv',\n",
       " '.\\\\datasets\\\\CICDDoS2019\\\\CORRECT_CUT\\\\classes\\\\LDAP\\\\LDAP.csv',\n",
       " '.\\\\datasets\\\\CICDDoS2019\\\\CORRECT_CUT\\\\classes\\\\MSSQL\\\\MSSQL.csv',\n",
       " '.\\\\datasets\\\\CICDDoS2019\\\\CORRECT_CUT\\\\classes\\\\NetBIOS\\\\NetBIOS.csv',\n",
       " '.\\\\datasets\\\\CICDDoS2019\\\\CORRECT_CUT\\\\classes\\\\NTP\\\\NTP.csv',\n",
       " '.\\\\datasets\\\\CICDDoS2019\\\\CORRECT_CUT\\\\classes\\\\SNMP\\\\SNMP.csv',\n",
       " '.\\\\datasets\\\\CICDDoS2019\\\\CORRECT_CUT\\\\classes\\\\SSDP\\\\SSDP.csv',\n",
       " '.\\\\datasets\\\\CICDDoS2019\\\\CORRECT_CUT\\\\classes\\\\Syn\\\\Syn.csv',\n",
       " '.\\\\datasets\\\\CICDDoS2019\\\\CORRECT_CUT\\\\classes\\\\TFTP\\\\TFTP.csv',\n",
       " '.\\\\datasets\\\\CICDDoS2019\\\\CORRECT_CUT\\\\classes\\\\UDP\\\\UDP.csv',\n",
       " '.\\\\datasets\\\\CICDDoS2019\\\\CORRECT_CUT\\\\classes\\\\UDPLag\\\\UDPLag.csv']"
      ]
     },
     "execution_count": 5,
     "metadata": {},
     "output_type": "execute_result"
    }
   ],
   "source": [
    "csv_files = []\n",
    "for dirname, _, filenames in os.walk(ds_selector):\n",
    "    for filename in filenames:\n",
    "        csv_file = os.path.join(dirname, filename)\n",
    "        csv_files.append(csv_file)\n",
    "csv_files"
   ]
  },
  {
   "cell_type": "code",
   "execution_count": 9,
   "id": "a4c36b76",
   "metadata": {},
   "outputs": [],
   "source": [
    "csv_files=[csv_files[0]]"
   ]
  },
  {
   "cell_type": "code",
   "execution_count": 11,
   "id": "8dcbd6d7",
   "metadata": {},
   "outputs": [
    {
     "name": "stdout",
     "output_type": "stream",
     "text": [
      "Original length of df: 1352772\n"
     ]
    }
   ],
   "source": [
    "if len(csv_files) > 1:\n",
    "    df = pd.concat([pd.read_csv(file) for file in csv_files], ignore_index=True)\n",
    "else:\n",
    "    df = pd.read_csv(csv_files[0])\n",
    "    \n",
    "df.columns = df.columns.str.strip()\n",
    "print(\"Original length of df:\", len(df))"
   ]
  },
  {
   "cell_type": "markdown",
   "id": "e909ba72",
   "metadata": {},
   "source": [
    "## Tidy up the dataset"
   ]
  },
  {
   "cell_type": "code",
   "execution_count": 12,
   "id": "b0530064",
   "metadata": {},
   "outputs": [
    {
     "name": "stdout",
     "output_type": "stream",
     "text": [
      "<class 'pandas.core.frame.DataFrame'>\n",
      "RangeIndex: 1352772 entries, 0 to 1352771\n",
      "Data columns (total 80 columns):\n",
      " #   Column                       Non-Null Count    Dtype  \n",
      "---  ------                       --------------    -----  \n",
      " 0   Destination Port             1352772 non-null  int64  \n",
      " 1   Flow Duration                1352772 non-null  int64  \n",
      " 2   Total Fwd Packets            1352772 non-null  int64  \n",
      " 3   Total Backward Packets       1352772 non-null  int64  \n",
      " 4   Total Length of Fwd Packets  1352772 non-null  float64\n",
      " 5   Total Length of Bwd Packets  1352772 non-null  float64\n",
      " 6   Fwd Packet Length Max        1352772 non-null  float64\n",
      " 7   Fwd Packet Length Min        1352772 non-null  float64\n",
      " 8   Fwd Packet Length Mean       1352772 non-null  float64\n",
      " 9   Fwd Packet Length Std        1352772 non-null  float64\n",
      " 10  Bwd Packet Length Max        1352772 non-null  float64\n",
      " 11  Bwd Packet Length Min        1352772 non-null  float64\n",
      " 12  Bwd Packet Length Mean       1352772 non-null  float64\n",
      " 13  Bwd Packet Length Std        1352772 non-null  float64\n",
      " 14  Flow Bytes/s                 1352772 non-null  float64\n",
      " 15  Flow Packets/s               1352772 non-null  float64\n",
      " 16  Flow IAT Mean                1352772 non-null  float64\n",
      " 17  Flow IAT Std                 1352772 non-null  float64\n",
      " 18  Flow IAT Max                 1352772 non-null  float64\n",
      " 19  Flow IAT Min                 1352772 non-null  float64\n",
      " 20  Fwd IAT Total                1352772 non-null  float64\n",
      " 21  Fwd IAT Mean                 1352772 non-null  float64\n",
      " 22  Fwd IAT Std                  1352772 non-null  float64\n",
      " 23  Fwd IAT Max                  1352772 non-null  float64\n",
      " 24  Fwd IAT Min                  1352772 non-null  float64\n",
      " 25  Bwd IAT Total                1352772 non-null  float64\n",
      " 26  Bwd IAT Mean                 1352772 non-null  float64\n",
      " 27  Bwd IAT Std                  1352772 non-null  float64\n",
      " 28  Bwd IAT Max                  1352772 non-null  float64\n",
      " 29  Bwd IAT Min                  1352772 non-null  float64\n",
      " 30  Fwd PSH Flags                1352772 non-null  int64  \n",
      " 31  Bwd PSH Flags                1352772 non-null  int64  \n",
      " 32  Fwd URG Flags                1352772 non-null  int64  \n",
      " 33  Bwd URG Flags                1352772 non-null  int64  \n",
      " 34  Fwd Header Length            1352772 non-null  int64  \n",
      " 35  Bwd Header Length            1352772 non-null  int64  \n",
      " 36  Fwd Packets/s                1352772 non-null  float64\n",
      " 37  Bwd Packets/s                1352772 non-null  float64\n",
      " 38  Min Packet Length            1352772 non-null  float64\n",
      " 39  Max Packet Length            1352772 non-null  float64\n",
      " 40  Packet Length Mean           1352772 non-null  float64\n",
      " 41  Packet Length Std            1352772 non-null  float64\n",
      " 42  Packet Length Variance       1352772 non-null  float64\n",
      " 43  FIN Flag Count               1352772 non-null  int64  \n",
      " 44  SYN Flag Count               1352772 non-null  int64  \n",
      " 45  RST Flag Count               1352772 non-null  int64  \n",
      " 46  PSH Flag Count               1352772 non-null  int64  \n",
      " 47  ACK Flag Count               1352772 non-null  int64  \n",
      " 48  URG Flag Count               1352772 non-null  int64  \n",
      " 49  CWE Flag Count               1352772 non-null  int64  \n",
      " 50  ECE Flag Count               1352772 non-null  int64  \n",
      " 51  Down/Up Ratio                1352772 non-null  float64\n",
      " 52  Average Packet Size          1352772 non-null  float64\n",
      " 53  Avg Fwd Segment Size         1352772 non-null  float64\n",
      " 54  Avg Bwd Segment Size         1352772 non-null  float64\n",
      " 55  Fwd Header Length.1          1352772 non-null  int64  \n",
      " 56  Fwd Avg Bytes/Bulk           1352772 non-null  int64  \n",
      " 57  Fwd Avg Packets/Bulk         1352772 non-null  int64  \n",
      " 58  Fwd Avg Bulk Rate            1352772 non-null  int64  \n",
      " 59  Bwd Avg Bytes/Bulk           1352772 non-null  int64  \n",
      " 60  Bwd Avg Packets/Bulk         1352772 non-null  int64  \n",
      " 61  Bwd Avg Bulk Rate            1352772 non-null  int64  \n",
      " 62  Subflow Fwd Packets          1352772 non-null  int64  \n",
      " 63  Subflow Fwd Bytes            1352772 non-null  int64  \n",
      " 64  Subflow Bwd Packets          1352772 non-null  int64  \n",
      " 65  Subflow Bwd Bytes            1352772 non-null  int64  \n",
      " 66  Init_Win_bytes_forward       1352772 non-null  int64  \n",
      " 67  Init_Win_bytes_backward      1352772 non-null  int64  \n",
      " 68  act_data_pkt_fwd             1352772 non-null  int64  \n",
      " 69  min_seg_size_forward         1352772 non-null  int64  \n",
      " 70  Active Mean                  1352772 non-null  float64\n",
      " 71  Active Std                   1352772 non-null  float64\n",
      " 72  Active Max                   1352772 non-null  float64\n",
      " 73  Active Min                   1352772 non-null  float64\n",
      " 74  Idle Mean                    1352772 non-null  float64\n",
      " 75  Idle Std                     1352772 non-null  float64\n",
      " 76  Idle Max                     1352772 non-null  float64\n",
      " 77  Idle Min                     1352772 non-null  float64\n",
      " 78  Inbound                      1352772 non-null  int64  \n",
      " 79  Label                        1352772 non-null  object \n",
      "dtypes: float64(45), int64(34), object(1)\n",
      "memory usage: 825.7+ MB\n"
     ]
    }
   ],
   "source": [
    "#df.describe()\n",
    "df.info()"
   ]
  },
  {
   "cell_type": "code",
   "execution_count": 13,
   "id": "11f50ed1",
   "metadata": {},
   "outputs": [
    {
     "name": "stdout",
     "output_type": "stream",
     "text": [
      "After dropping NaNs, the length of df: 1352772\n"
     ]
    }
   ],
   "source": [
    "df.replace([np.inf, -np.inf], np.nan, inplace=True)\n",
    "df.dropna(inplace=True)\n",
    "print(\"After dropping NaNs, the length of df:\", len(df))\n",
    "df.drop_duplicates(keep='first', inplace=True)"
   ]
  },
  {
   "cell_type": "code",
   "execution_count": 14,
   "id": "fb415b08",
   "metadata": {},
   "outputs": [
    {
     "name": "stdout",
     "output_type": "stream",
     "text": [
      "Removing column Bwd PSH Flags\n",
      "Removing column Fwd URG Flags\n",
      "Removing column Bwd URG Flags\n",
      "Removing column FIN Flag Count\n",
      "Removing column PSH Flag Count\n",
      "Removing column ECE Flag Count\n",
      "Removing column Fwd Avg Bytes/Bulk\n",
      "Removing column Fwd Avg Packets/Bulk\n",
      "Removing column Fwd Avg Bulk Rate\n",
      "Removing column Bwd Avg Bytes/Bulk\n",
      "Removing column Bwd Avg Packets/Bulk\n",
      "Removing column Bwd Avg Bulk Rate\n"
     ]
    }
   ],
   "source": [
    "for col in df.columns:\n",
    "    if len(df[col].unique()) == 1:\n",
    "        print('Removing column', str(col))\n",
    "        df.drop(col,inplace=True,axis=1)"
   ]
  },
  {
   "cell_type": "code",
   "execution_count": 15,
   "id": "b50753f6",
   "metadata": {},
   "outputs": [
    {
     "data": {
      "text/plain": [
       "NTP        112698\n",
       "MSSQL      112674\n",
       "UDP        111624\n",
       "SSDP       111555\n",
       "SNMP       108894\n",
       "TFTP       108600\n",
       "DNS        107416\n",
       "LDAP       105782\n",
       "NetBIOS    103143\n",
       "Syn        102138\n",
       "BENIGN      99812\n",
       "UDPLag      94523\n",
       "Name: Label, dtype: int64"
      ]
     },
     "execution_count": 15,
     "metadata": {},
     "output_type": "execute_result"
    }
   ],
   "source": [
    "df.Label.value_counts()"
   ]
  },
  {
   "cell_type": "code",
   "execution_count": 16,
   "id": "22f381d2",
   "metadata": {},
   "outputs": [
    {
     "name": "stderr",
     "output_type": "stream",
     "text": [
      "C:\\Users\\MAX\\AppData\\Local\\Temp\\ipykernel_8200\\2263113112.py:1: FutureWarning: The default value of numeric_only in DataFrame.corr is deprecated. In a future version, it will default to False. Select only valid columns or specify the value of numeric_only to silence this warning.\n",
      "  corr_mat=df.corr()\n"
     ]
    },
    {
     "data": {
      "image/png": "[encoded data removed]",
      "text/plain": [
       "<Figure size 480x480 with 1 Axes>"
      ]
     },
     "metadata": {},
     "output_type": "display_data"
    }
   ],
   "source": [
    "corr_mat=df.corr()\n",
    "plt.matshow(corr_mat)\n",
    "plt.show()"
   ]
  },
  {
   "cell_type": "markdown",
   "id": "f90ea19d",
   "metadata": {},
   "source": [
    "## Getting ready for learning"
   ]
  },
  {
   "cell_type": "code",
   "execution_count": 17,
   "id": "b7d12144",
   "metadata": {},
   "outputs": [
    {
     "name": "stdout",
     "output_type": "stream",
     "text": [
      "['Destination Port', 'Flow Duration', 'Total Fwd Packets', 'Total Backward Packets', 'Total Length of Fwd Packets', 'Total Length of Bwd Packets', 'Fwd Packet Length Max', 'Fwd Packet Length Min', 'Fwd Packet Length Mean', 'Fwd Packet Length Std', 'Bwd Packet Length Max', 'Bwd Packet Length Min', 'Bwd Packet Length Mean', 'Bwd Packet Length Std', 'Flow Bytes/s', 'Flow Packets/s', 'Flow IAT Mean', 'Flow IAT Std', 'Flow IAT Max', 'Flow IAT Min', 'Fwd IAT Total', 'Fwd IAT Mean', 'Fwd IAT Std', 'Fwd IAT Max', 'Fwd IAT Min', 'Bwd IAT Total', 'Bwd IAT Mean', 'Bwd IAT Std', 'Bwd IAT Max', 'Bwd IAT Min', 'Fwd PSH Flags', 'Fwd Header Length', 'Bwd Header Length', 'Fwd Packets/s', 'Bwd Packets/s', 'Min Packet Length', 'Max Packet Length', 'Packet Length Mean', 'Packet Length Std', 'Packet Length Variance', 'SYN Flag Count', 'RST Flag Count', 'ACK Flag Count', 'URG Flag Count', 'CWE Flag Count', 'Down/Up Ratio', 'Average Packet Size', 'Avg Fwd Segment Size', 'Avg Bwd Segment Size', 'Fwd Header Length.1', 'Subflow Fwd Packets', 'Subflow Fwd Bytes', 'Subflow Bwd Packets', 'Subflow Bwd Bytes', 'Init_Win_bytes_forward', 'Init_Win_bytes_backward', 'act_data_pkt_fwd', 'min_seg_size_forward', 'Active Mean', 'Active Std', 'Active Max', 'Active Min', 'Idle Mean', 'Idle Std', 'Idle Max', 'Idle Min', 'Inbound', 'Label']\n",
      "68\n"
     ]
    }
   ],
   "source": [
    "cols=df.columns.to_list()\n",
    "print(cols)\n",
    "print(len(cols))"
   ]
  },
  {
   "cell_type": "code",
   "execution_count": 18,
   "id": "a3f65585",
   "metadata": {},
   "outputs": [
    {
     "name": "stdout",
     "output_type": "stream",
     "text": [
      "0 Destination Port , Std: 20028.784104547056 , Avg: 31182.820517351796\n",
      "1 Flow Duration , Std: 11925671.803274622 , Avg: 2185013.2836880377\n",
      "2 Total Fwd Packets , Std: 228.33108707988004 , Avg: 9.187896398273773\n",
      "3 Total Backward Packets , Std: 32.75806122215755 , Avg: 0.8140271914261071\n",
      "4 Total Length of Fwd Packets , Std: 19995.159543505062 , Avg: 3843.2439197753624\n",
      "5 Total Length of Bwd Packets , Std: 61804.57507894262 , Avg: 551.51790619607\n",
      "6 Fwd Packet Length Max , Std: 536.3374140934376 , Avg: 594.347194647729\n",
      "7 Fwd Packet Length Min , Std: 538.982639083797 , Avg: 569.7901785888828\n",
      "8 Fwd Packet Length Mean , Std: 532.7087894322 , Avg: 581.0747766662979\n",
      "9 Fwd Packet Length Std , Std: 43.0225851637282 , Avg: 8.855157438398962\n",
      "10 Bwd Packet Length Max , Std: 287.9607399810314 , Avg: 26.960953474933515\n",
      "11 Bwd Packet Length Min , Std: 19.46802696118166 , Avg: 2.969249932948042\n",
      "12 Bwd Packet Length Mean , Std: 74.2106651340656 , Avg: 8.799390700745406\n",
      "13 Bwd Packet Length Std , Std: 75.42457375024327 , Avg: 7.126509118462332\n",
      "14 Flow Bytes/s , Std: 988142139.3005724 , Avg: 729070470.2363421\n",
      "15 Flow Packets/s , Std: 917203.6944577516 , Avg: 997167.4173551705\n",
      "16 Flow IAT Mean , Std: 1053493.9079030845 , Avg: 231954.9608247451\n",
      "17 Flow IAT Std , Std: 1799271.480576169 , Avg: 405934.6093462352\n",
      "18 Flow IAT Max , Std: 5313906.617092384 , Avg: 1045688.661312154\n",
      "19 Flow IAT Min , Std: 125060.45663538146 , Avg: 1351.2681061790236\n",
      "20 Fwd IAT Total , Std: 11908199.343016163 , Avg: 2159627.8189659687\n",
      "21 Fwd IAT Mean , Std: 1191470.8670012641 , Avg: 265078.67903430085\n",
      "22 Fwd IAT Std , Std: 1975299.484813923 , Avg: 435598.58780006145\n",
      "23 Fwd IAT Max , Std: 5298407.707410258 , Avg: 1031537.0554259695\n",
      "24 Fwd IAT Min , Std: 125368.53558440683 , Avg: 1242.027837314356\n",
      "25 Bwd IAT Total , Std: 8863928.140372109 , Avg: 878910.9932752555\n",
      "26 Bwd IAT Mean , Std: 747927.8407167825 , Avg: 67996.35930567422\n",
      "27 Bwd IAT Std , Std: 1477756.850135209 , Avg: 142622.05199906594\n",
      "28 Bwd IAT Max , Std: 4319371.5319850175 , Avg: 418465.38560701377\n",
      "29 Bwd IAT Min , Std: 3.2670006378676986 , Avg: 0.36446472988812684\n",
      "30 Fwd PSH Flags , Std: 0.0941606469511511 , Avg: 0.008946255998511173\n",
      "31 Fwd Header Length , Std: 2522934530.1784954 , Avg: -124477629.7367067\n",
      "32 Bwd Header Length , Std: 34666633.24791295 , Avg: -396071.99245264725\n",
      "33 Fwd Packets/s , Std: 918067.1179387043 , Avg: 995870.6865388756\n",
      "34 Bwd Packets/s , Std: 21573.86942326966 , Avg: 1296.7308162947986\n",
      "35 Min Packet Length , Std: 538.9179109740484 , Avg: 569.5976741767466\n",
      "36 Max Packet Length , Std: 583.6003946329733 , Avg: 611.1797578935598\n",
      "37 Packet Length Mean , Std: 531.3757441153031 , Avg: 583.4398898972287\n",
      "38 Packet Length Std , Std: 70.73792907416286 , Avg: 12.772016033862286\n",
      "39 Packet Length Variance , Std: 119360.26296131562 , Avg: 5166.975090594252\n",
      "40 SYN Flag Count , Std: 0.014689144717649988 , Avg: 0.00021581738096224838\n",
      "41 RST Flag Count , Std: 0.0941606469511511 , Avg: 0.008946255998511173\n",
      "42 ACK Flag Count , Std: 0.36335218463184554 , Avg: 0.15652468333100053\n",
      "43 URG Flag Count , Std: 0.18013320127065363 , Avg: 0.03357524168027906\n",
      "44 CWE Flag Count , Std: 0.13142951525093693 , Avg: 0.017582860972163467\n",
      "45 Down/Up Ratio , Std: 0.41358095962957503 , Avg: 0.10874224601773926\n",
      "46 Average Packet Size , Std: 809.9689709231998 , Avg: 839.8468734059875\n",
      "47 Avg Fwd Segment Size , Std: 532.7087894322 , Avg: 581.0747766662979\n",
      "48 Avg Bwd Segment Size , Std: 74.2106651340656 , Avg: 8.799390700745406\n",
      "49 Fwd Header Length.1 , Std: 2522934530.1784954 , Avg: -124477629.7367067\n",
      "50 Subflow Fwd Packets , Std: 228.33108707988004 , Avg: 9.187896398273773\n",
      "51 Subflow Fwd Bytes , Std: 19995.159543505062 , Avg: 3843.2439197753624\n",
      "52 Subflow Bwd Packets , Std: 32.75806122215755 , Avg: 0.8140271914261071\n",
      "53 Subflow Bwd Bytes , Std: 61804.57507894262 , Avg: 551.51790619607\n",
      "54 Init_Win_bytes_forward , Std: 4878.356194068359 , Avg: 1356.505258984767\n",
      "55 Init_Win_bytes_backward , Std: 3136.4991874633315 , Avg: 269.11657579138904\n",
      "56 act_data_pkt_fwd , Std: 31.959612776935383 , Avg: 7.237725190971014\n",
      "57 min_seg_size_forward , Std: 194752376.04488623 , Avg: -36971143.57814583\n",
      "58 Active Mean , Std: 181820.8123521343 , Avg: 9191.101410789955\n",
      "59 Active Std , Std: 98155.9018808884 , Avg: 4723.010285023347\n",
      "60 Active Max , Std: 257425.65596501267 , Avg: 15317.378772014741\n",
      "61 Active Min , Std: 164884.9266827616 , Avg: 6337.746177647418\n",
      "62 Idle Mean , Std: 4741619.234787463 , Avg: 755459.4803984959\n",
      "63 Idle Std , Std: 1025098.7228141421 , Avg: 112238.87293663899\n",
      "64 Idle Max , Std: 5241527.8247388275 , Avg: 864504.0624204858\n",
      "65 Idle Min , Std: 4441434.668546152 , Avg: 659410.8970981163\n",
      "66 Inbound , Std: 0.24318637894947154 , Avg: 0.9368757619096397\n"
     ]
    }
   ],
   "source": [
    "for i in range(len(df.columns)):\n",
    "    if cols[i] != 'Label':\n",
    "        print(i, cols[i], ', Std:', df.iloc[:,i].std(), ', Avg:', df.iloc[:,i].mean())"
   ]
  },
  {
   "cell_type": "code",
   "execution_count": 19,
   "id": "2adebac1",
   "metadata": {},
   "outputs": [
    {
     "data": {
      "text/plain": [
       "{'DNS': (0, tensor([1, 0, 0, 0, 0, 0, 0, 0, 0, 0, 0, 0])),\n",
       " 'BENIGN': (1, tensor([0, 1, 0, 0, 0, 0, 0, 0, 0, 0, 0, 0])),\n",
       " 'LDAP': (2, tensor([0, 0, 1, 0, 0, 0, 0, 0, 0, 0, 0, 0])),\n",
       " 'MSSQL': (3, tensor([0, 0, 0, 1, 0, 0, 0, 0, 0, 0, 0, 0])),\n",
       " 'NetBIOS': (4, tensor([0, 0, 0, 0, 1, 0, 0, 0, 0, 0, 0, 0])),\n",
       " 'NTP': (5, tensor([0, 0, 0, 0, 0, 1, 0, 0, 0, 0, 0, 0])),\n",
       " 'SNMP': (6, tensor([0, 0, 0, 0, 0, 0, 1, 0, 0, 0, 0, 0])),\n",
       " 'SSDP': (7, tensor([0, 0, 0, 0, 0, 0, 0, 1, 0, 0, 0, 0])),\n",
       " 'UDP': (8, tensor([0, 0, 0, 0, 0, 0, 0, 0, 1, 0, 0, 0])),\n",
       " 'Syn': (9, tensor([0, 0, 0, 0, 0, 0, 0, 0, 0, 1, 0, 0])),\n",
       " 'TFTP': (10, tensor([0, 0, 0, 0, 0, 0, 0, 0, 0, 0, 1, 0])),\n",
       " 'UDPLag': (11, tensor([0, 0, 0, 0, 0, 0, 0, 0, 0, 0, 0, 1]))}"
      ]
     },
     "execution_count": 19,
     "metadata": {},
     "output_type": "execute_result"
    }
   ],
   "source": [
    "%store -r classes_distribution_cut\n",
    "classes_ids={}\n",
    "classes_ids=classes_ids.fromkeys(classes_distribution_cut)\n",
    "\n",
    "one_hot_encoding=torch.nn.functional.one_hot(torch.arange(0,len(classes_distribution_cut)),num_classes=len(classes_distribution_cut))\n",
    "one_hot_encoding\n",
    "\n",
    "for idx,(k,_) in enumerate(classes_ids.items()):\n",
    "    classes_ids[k]=(idx,one_hot_encoding[idx])\n",
    "\n",
    "classes_ids"
   ]
  },
  {
   "cell_type": "code",
   "execution_count": 20,
   "id": "0a2f1b3e",
   "metadata": {},
   "outputs": [
    {
     "data": {
      "text/plain": [
       "{0: tensor([1, 0, 0, 0, 0, 0, 0, 0, 0, 0, 0, 0]),\n",
       " 1: tensor([0, 1, 0, 0, 0, 0, 0, 0, 0, 0, 0, 0]),\n",
       " 2: tensor([0, 0, 1, 0, 0, 0, 0, 0, 0, 0, 0, 0]),\n",
       " 3: tensor([0, 0, 0, 1, 0, 0, 0, 0, 0, 0, 0, 0]),\n",
       " 4: tensor([0, 0, 0, 0, 1, 0, 0, 0, 0, 0, 0, 0]),\n",
       " 5: tensor([0, 0, 0, 0, 0, 1, 0, 0, 0, 0, 0, 0]),\n",
       " 6: tensor([0, 0, 0, 0, 0, 0, 1, 0, 0, 0, 0, 0]),\n",
       " 7: tensor([0, 0, 0, 0, 0, 0, 0, 1, 0, 0, 0, 0]),\n",
       " 8: tensor([0, 0, 0, 0, 0, 0, 0, 0, 1, 0, 0, 0]),\n",
       " 9: tensor([0, 0, 0, 0, 0, 0, 0, 0, 0, 1, 0, 0]),\n",
       " 10: tensor([0, 0, 0, 0, 0, 0, 0, 0, 0, 0, 1, 0]),\n",
       " 11: tensor([0, 0, 0, 0, 0, 0, 0, 0, 0, 0, 0, 1])}"
      ]
     },
     "execution_count": 20,
     "metadata": {},
     "output_type": "execute_result"
    }
   ],
   "source": [
    "replacement_dict={}\n",
    "replacement_dict_cass_to_id={}\n",
    "replacement_dict.fromkeys(classes_ids)\n",
    "for k,(idx, tensor) in classes_ids.items():\n",
    "    replacement_dict[idx]=tensor\n",
    "    replacement_dict_cass_to_id[k]=idx\n",
    "\n",
    "replacement_dict"
   ]
  },
  {
   "cell_type": "code",
   "execution_count": 21,
   "id": "38e7c1af",
   "metadata": {},
   "outputs": [
    {
     "data": {
      "text/plain": [
       "{'DNS': 0,\n",
       " 'BENIGN': 1,\n",
       " 'LDAP': 2,\n",
       " 'MSSQL': 3,\n",
       " 'NetBIOS': 4,\n",
       " 'NTP': 5,\n",
       " 'SNMP': 6,\n",
       " 'SSDP': 7,\n",
       " 'UDP': 8,\n",
       " 'Syn': 9,\n",
       " 'TFTP': 10,\n",
       " 'UDPLag': 11}"
      ]
     },
     "execution_count": 21,
     "metadata": {},
     "output_type": "execute_result"
    }
   ],
   "source": [
    "replacement_dict_cass_to_id"
   ]
  },
  {
   "cell_type": "code",
   "execution_count": 22,
   "id": "9fb2f9bb",
   "metadata": {},
   "outputs": [],
   "source": [
    "df.replace({'Label':replacement_dict_cass_to_id}, inplace=True)"
   ]
  },
  {
   "cell_type": "code",
   "execution_count": 23,
   "id": "f1e2528e",
   "metadata": {},
   "outputs": [
    {
     "data": {
      "text/plain": [
       "[(0, 'Destination Port'),\n",
       " (1, 'Flow Duration'),\n",
       " (2, 'Total Fwd Packets'),\n",
       " (3, 'Total Backward Packets'),\n",
       " (4, 'Total Length of Fwd Packets'),\n",
       " (5, 'Total Length of Bwd Packets'),\n",
       " (6, 'Fwd Packet Length Max'),\n",
       " (7, 'Fwd Packet Length Min'),\n",
       " (8, 'Fwd Packet Length Mean'),\n",
       " (9, 'Fwd Packet Length Std'),\n",
       " (10, 'Bwd Packet Length Max'),\n",
       " (11, 'Bwd Packet Length Min'),\n",
       " (12, 'Bwd Packet Length Mean'),\n",
       " (13, 'Bwd Packet Length Std'),\n",
       " (14, 'Flow Bytes/s'),\n",
       " (15, 'Flow Packets/s'),\n",
       " (16, 'Flow IAT Mean'),\n",
       " (17, 'Flow IAT Std'),\n",
       " (18, 'Flow IAT Max'),\n",
       " (19, 'Flow IAT Min'),\n",
       " (20, 'Fwd IAT Total'),\n",
       " (21, 'Fwd IAT Mean'),\n",
       " (22, 'Fwd IAT Std'),\n",
       " (23, 'Fwd IAT Max'),\n",
       " (24, 'Fwd IAT Min'),\n",
       " (25, 'Bwd IAT Total'),\n",
       " (26, 'Bwd IAT Mean'),\n",
       " (27, 'Bwd IAT Std'),\n",
       " (28, 'Bwd IAT Max'),\n",
       " (29, 'Bwd IAT Min'),\n",
       " (30, 'Fwd PSH Flags'),\n",
       " (31, 'Fwd Header Length'),\n",
       " (32, 'Bwd Header Length'),\n",
       " (33, 'Fwd Packets/s'),\n",
       " (34, 'Bwd Packets/s'),\n",
       " (35, 'Min Packet Length'),\n",
       " (36, 'Max Packet Length'),\n",
       " (37, 'Packet Length Mean'),\n",
       " (38, 'Packet Length Std'),\n",
       " (39, 'Packet Length Variance'),\n",
       " (40, 'SYN Flag Count'),\n",
       " (41, 'RST Flag Count'),\n",
       " (42, 'ACK Flag Count'),\n",
       " (43, 'URG Flag Count'),\n",
       " (44, 'CWE Flag Count'),\n",
       " (45, 'Down/Up Ratio'),\n",
       " (46, 'Average Packet Size'),\n",
       " (47, 'Avg Fwd Segment Size'),\n",
       " (48, 'Avg Bwd Segment Size'),\n",
       " (49, 'Fwd Header Length.1'),\n",
       " (50, 'Subflow Fwd Packets'),\n",
       " (51, 'Subflow Fwd Bytes'),\n",
       " (52, 'Subflow Bwd Packets'),\n",
       " (53, 'Subflow Bwd Bytes'),\n",
       " (54, 'Init_Win_bytes_forward'),\n",
       " (55, 'Init_Win_bytes_backward'),\n",
       " (56, 'act_data_pkt_fwd'),\n",
       " (57, 'min_seg_size_forward'),\n",
       " (58, 'Active Mean'),\n",
       " (59, 'Active Std'),\n",
       " (60, 'Active Max'),\n",
       " (61, 'Active Min'),\n",
       " (62, 'Idle Mean'),\n",
       " (63, 'Idle Std'),\n",
       " (64, 'Idle Max'),\n",
       " (65, 'Idle Min'),\n",
       " (66, 'Inbound'),\n",
       " (67, 'Label')]"
      ]
     },
     "execution_count": 23,
     "metadata": {},
     "output_type": "execute_result"
    }
   ],
   "source": [
    "tot_col=df.columns.tolist()\n",
    "tot_col=[(idx,x) for idx,x in enumerate(tot_col)]\n",
    "tot_col"
   ]
  },
  {
   "cell_type": "code",
   "execution_count": 24,
   "id": "9303f372",
   "metadata": {},
   "outputs": [
    {
     "name": "stderr",
     "output_type": "stream",
     "text": [
      "f:\\miniconda\\envs\\dl\\lib\\site-packages\\scipy\\__init__.py:146: UserWarning: A NumPy version >=1.16.5 and <1.23.0 is required for this version of SciPy (detected version 1.24.0\n",
      "  warnings.warn(f\"A NumPy version >={np_minversion} and <{np_maxversion}\"\n"
     ]
    },
    {
     "name": "stdout",
     "output_type": "stream",
     "text": [
      "Remaining columns:\n",
      "Fwd Packet Length Max\n",
      "Fwd Packet Length Min\n",
      "Fwd Packet Length Mean\n",
      "Bwd Packet Length Min\n",
      "Flow Bytes/s\n",
      "Flow Packets/s\n",
      "Fwd Packets/s\n",
      "Min Packet Length\n",
      "Max Packet Length\n",
      "Packet Length Mean\n",
      "ACK Flag Count\n",
      "URG Flag Count\n",
      "CWE Flag Count\n",
      "Down/Up Ratio\n",
      "Average Packet Size\n",
      "Avg Fwd Segment Size\n",
      "Avg Bwd Segment Size\n",
      "Init_Win_bytes_forward\n",
      "act_data_pkt_fwd\n",
      "Inbound\n"
     ]
    }
   ],
   "source": [
    "from sklearn.feature_selection import SelectKBest, f_classif\n",
    "\n",
    "X=df.drop(['Label'], axis=1)\n",
    "Y=df['Label']\n",
    "\n",
    "fvalue_Best = SelectKBest(f_classif, k=20)\n",
    "X_kbest = fvalue_Best.fit_transform(X, Y)\n",
    "mask=fvalue_Best.get_support()\n",
    "\n",
    "print('Remaining columns:')\n",
    "for m,c in zip(mask, cols):\n",
    "    if m:\n",
    "        print(c)\n",
    "\n",
    "X=X_kbest"
   ]
  },
  {
   "cell_type": "code",
   "execution_count": 25,
   "id": "787933b7",
   "metadata": {},
   "outputs": [],
   "source": [
    "from sklearn.model_selection import train_test_split\n",
    "trainX, testX, trainY, testY = train_test_split(X, Y, shuffle=True, train_size=0.75)\n",
    "del df,X,Y"
   ]
  },
  {
   "cell_type": "code",
   "execution_count": 26,
   "id": "2390bdd6",
   "metadata": {},
   "outputs": [],
   "source": [
    "from sklearn.preprocessing import StandardScaler\n",
    "scalerX_train = StandardScaler()\n",
    "X_scaled_train=scalerX_train.fit_transform(trainX)"
   ]
  },
  {
   "cell_type": "code",
   "execution_count": 27,
   "id": "4c423603",
   "metadata": {},
   "outputs": [],
   "source": [
    "from torch import tensor\n",
    "from torch.utils.data import Dataset, DataLoader\n",
    "\n",
    "class NetMetrics(Dataset):\n",
    "    def __init__(self, X, y, one_hot):\n",
    "        self.x, self.y, self.one_hot = X, y, one_hot\n",
    "        self.len=self.x.shape[0]\n",
    "\n",
    "    def __getitem__(self,index):\n",
    "        tensor_label=one_hot_encoding[self.y.iloc[index]]\n",
    "        return tensor(self.x[index,:], dtype=torch.float32), tensor_label.float()\n",
    "        \n",
    "    def __len__(self):\n",
    "        return self.len\n",
    "\n",
    "ds=NetMetrics(X_scaled_train, trainY, replacement_dict)"
   ]
  },
  {
   "cell_type": "markdown",
   "id": "64da0fee",
   "metadata": {},
   "source": [
    "## The model"
   ]
  },
  {
   "cell_type": "code",
   "execution_count": 35,
   "id": "7a1a9ca2",
   "metadata": {},
   "outputs": [],
   "source": [
    "class AttackNet(torch.nn.Module):\n",
    "    def __init__(self):\n",
    "        super(AttackNet, self).__init__()\n",
    "        self.model=torch.nn.Sequential(\n",
    "            torch.nn.Linear(20, 512),\n",
    "            torch.nn.ReLU(),\n",
    "            torch.nn.Linear(512, 256),\n",
    "            torch.nn.ReLU(),\n",
    "            torch.nn.Linear(256, 128),\n",
    "            torch.nn.Tanh(),\n",
    "            torch.nn.Linear(128, 64),\n",
    "             torch.nn.Tanh(),\n",
    "            torch.nn.Linear(64, 12),\n",
    "            #torch.nn.Sigmoid(),\n",
    "            torch.nn.LogSoftmax(dim=1)\n",
    "            )\n",
    "\n",
    "    def forward(self, x):\n",
    "        return self.model(x)"
   ]
  },
  {
   "cell_type": "code",
   "execution_count": 33,
   "id": "807c0453",
   "metadata": {},
   "outputs": [
    {
     "data": {
      "text/plain": [
       "'cuda:0'"
      ]
     },
     "execution_count": 33,
     "metadata": {},
     "output_type": "execute_result"
    }
   ],
   "source": [
    "device = 'cuda:0' if torch.cuda.is_available() else 'cpu'\n",
    "device"
   ]
  },
  {
   "cell_type": "markdown",
   "id": "81d2b3fc",
   "metadata": {},
   "source": [
    "## Training"
   ]
  },
  {
   "cell_type": "code",
   "execution_count": 38,
   "id": "ec230f23",
   "metadata": {},
   "outputs": [
    {
     "name": "stdout",
     "output_type": "stream",
     "text": [
      "Epoch begin:  0\n",
      "Running loss: 2925.7627027332783\n",
      "Epoch begin:  1\n",
      "Running loss: 2691.88471069932\n",
      "Epoch begin:  2\n",
      "Running loss: 2640.773004233837\n",
      "Epoch begin:  3\n",
      "Running loss: 2612.3637484312057\n",
      "Epoch begin:  4\n",
      "Running loss: 2593.0276472866535\n",
      "Epoch begin:  5\n",
      "Running loss: 2626.3181869387627\n",
      "Epoch begin:  6\n",
      "Running loss: 2622.5349903702736\n",
      "Epoch begin:  7\n",
      "Running loss: 2671.849406391382\n",
      "Epoch begin:  8\n",
      "Running loss: 2626.8839697241783\n",
      "Epoch begin:  9\n",
      "Running loss: 2620.4435578882694\n"
     ]
    },
    {
     "data": {
      "image/png": "[encoded data removed]",
      "text/plain": [
       "<Figure size 640x480 with 1 Axes>"
      ]
     },
     "metadata": {},
     "output_type": "display_data"
    }
   ],
   "source": [
    "from matplotlib import pyplot as plt\n",
    "\n",
    "epochs=10\n",
    "learning_rate = .001\n",
    "model = AttackNet().to(device)\n",
    "criterion = torch.nn.CrossEntropyLoss().to(device)\n",
    "opt = torch.optim.Adam(model.parameters(), lr=learning_rate)\n",
    "loader = DataLoader(dataset=ds, batch_size=200, shuffle=True)\n",
    "\n",
    "out=[]\n",
    "for epoch in range(epochs):\n",
    "    print(\"Epoch begin: \", epoch)\n",
    "    cumulative_loss=0.0\n",
    "    for x,y in loader:\n",
    "        # reset optimizer\n",
    "        opt.zero_grad()\n",
    "        loss = criterion(model(x.to(device)), y.to(device))\n",
    "        loss.backward()\n",
    "        opt.step()\n",
    "        #out.append(loss.item())\n",
    "        #print(loss.item())\n",
    "        cumulative_loss+=loss.item()\n",
    "    print('Running loss:', cumulative_loss)\n",
    "    out.append(cumulative_loss)\n",
    "plt.plot(out)\n",
    "torch.save(model.state_dict(), '.\\\\models\\\\NN_anova_multi.model')\n",
    "#for p in model.parameters(): print(p)"
   ]
  },
  {
   "cell_type": "markdown",
   "id": "1dc60c67",
   "metadata": {},
   "source": [
    "## Test"
   ]
  },
  {
   "cell_type": "code",
   "execution_count": 39,
   "id": "77b2b1e2",
   "metadata": {},
   "outputs": [],
   "source": [
    "test_ds = NetMetrics(scalerX_train.transform(testX), testY, one_hot_encoding)\n",
    "test_loader=DataLoader(dataset=test_ds, batch_size=1)\n",
    "\n",
    "acc = tensor([0]*12).to(device)\n",
    "model.eval()\n",
    "with torch.no_grad():\n",
    "    for inputs, classes in test_loader:\n",
    "        inputs=inputs.to(device)\n",
    "        classes=classes.to(device)\n",
    "        output=torch.argmax(model(inputs))\n",
    "        if output==torch.argmax(classes):\n",
    "            acc[output]+=1\n",
    "        #else:\n",
    "            #print('Input', inputs, 'Ground truth',classes, 'Output predicted',output, 'argmax', torch.argmax(classes))"
   ]
  },
  {
   "cell_type": "code",
   "execution_count": 40,
   "id": "9fe5c0c3",
   "metadata": {},
   "outputs": [
    {
     "data": {
      "text/plain": [
       "tensor([20775, 25026,    22, 24958, 25525, 27476, 22508, 25578,   732, 10196,\n",
       "        27104, 19593], device='cuda:0')"
      ]
     },
     "execution_count": 40,
     "metadata": {},
     "output_type": "execute_result"
    }
   ],
   "source": [
    "acc"
   ]
  },
  {
   "cell_type": "markdown",
   "id": "6d88126a",
   "metadata": {},
   "source": [
    "___"
   ]
  }
 ],
 "metadata": {
  "kernelspec": {
   "display_name": "Python 3.9.12 ('dl')",
   "language": "python",
   "name": "python3"
  },
  "language_info": {
   "codemirror_mode": {
    "name": "ipython",
    "version": 3
   },
   "file_extension": ".py",
   "mimetype": "text/x-python",
   "name": "python",
   "nbconvert_exporter": "python",
   "pygments_lexer": "ipython3",
   "version": "3.9.15"
  },
  "vscode": {
   "interpreter": {
    "hash": "a41f043e3f504d40bb31377d42299aba33beec9c14fb34c08aef092f76f6f6b0"
   }
  }
 },
 "nbformat": 4,
 "nbformat_minor": 5
}
